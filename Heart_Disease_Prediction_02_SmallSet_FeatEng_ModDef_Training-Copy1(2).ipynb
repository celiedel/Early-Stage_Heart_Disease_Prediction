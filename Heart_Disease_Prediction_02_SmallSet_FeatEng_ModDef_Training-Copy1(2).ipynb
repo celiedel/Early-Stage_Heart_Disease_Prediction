{
 "cells": [
  {
   "cell_type": "markdown",
   "id": "e2a89451",
   "metadata": {},
   "source": [
    "# Heart Disease Prediction\n",
    "### Feature Engineering; Model Definition and Training"
   ]
  },
  {
   "cell_type": "markdown",
   "id": "ef1097ce",
   "metadata": {},
   "source": [
    "### Models Evaluated\n",
    "* Dummy Clsssifier\n",
    "* Logistic Regression\n",
    "* Decision Tree\n",
    "* Random Forest\n",
    "* XGBoost\n",
    "* Support Vector Machine\n",
    "* K-Nearest Neighbors\n",
    "* Stacked Classifiers"
   ]
  },
  {
   "cell_type": "markdown",
   "id": "67ee2732",
   "metadata": {},
   "source": [
    "**Neural Networks are evaluated in a separate notebook:** Heart_Disease_Prediction_03_Feat_Eng_NeuralNet_ModDef_Training"
   ]
  },
  {
   "cell_type": "markdown",
   "id": "2cf86637",
   "metadata": {},
   "source": [
    "### Imports"
   ]
  },
  {
   "cell_type": "code",
   "execution_count": 1,
   "id": "0b35a9e6",
   "metadata": {},
   "outputs": [
    {
     "name": "stdout",
     "output_type": "stream",
     "text": [
      "imb_learn version 0.8.1\n",
      "Python Version: 3.8.8\n",
      "tensorflow version 2.3.0\n",
      "keras version 2.4.0\n"
     ]
    }
   ],
   "source": [
    "from numpy.random import seed\n",
    "seed(42)\n",
    "import pandas as pd\n",
    "import numpy as np\n",
    "import os\n",
    "from collections import Counter\n",
    "import imblearn\n",
    "from imblearn.over_sampling import SMOTE\n",
    "import graphviz\n",
    "import joblib\n",
    "import pickle\n",
    "import seaborn as sns\n",
    "sns.set_style('darkgrid')\n",
    "import warnings\n",
    "warnings.filterwarnings(\"ignore\")\n",
    "from matplotlib import pyplot\n",
    "import matplotlib.pyplot as plt\n",
    "from matplotlib import rcParams\n",
    "from statsmodels.stats.proportion import proportion_confint\n",
    "from math import sqrt\n",
    "%matplotlib inline\n",
    "import plotly.express as px\n",
    "from platform import python_version\n",
    "\n",
    "import sklearn\n",
    "import scikitplot as skplt\n",
    "import sklearn.feature_selection\n",
    "from sklearn.feature_selection import VarianceThreshold\n",
    "from sklearn.preprocessing import LabelEncoder\n",
    "from sklearn.preprocessing import label_binarize,OneHotEncoder\n",
    "from sklearn.feature_selection import VarianceThreshold\n",
    "from sklearn.metrics import confusion_matrix, classification_report\n",
    "from sklearn.model_selection import learning_curve\n",
    "from sklearn.metrics import accuracy_score\n",
    "from sklearn.metrics import matthews_corrcoef\n",
    "from sklearn.metrics import f1_score\n",
    "from sklearn.metrics import precision_recall_curve\n",
    "from sklearn.neural_network import MLPClassifier\n",
    "from sklearn.linear_model import LogisticRegression\n",
    "from sklearn.tree import DecisionTreeClassifier\n",
    "from sklearn.ensemble import RandomForestClassifier\n",
    "from xgboost import XGBClassifier\n",
    "from sklearn.svm import SVC\n",
    "from sklearn.neighbors import KNeighborsClassifier\n",
    "from sklearn.ensemble import StackingClassifier\n",
    "from sklearn.model_selection import train_test_split\n",
    "from sklearn.metrics import auc, roc_curve, roc_auc_score\n",
    "from sklearn.metrics import jaccard_score\n",
    "from sklearn.model_selection import cross_val_score\n",
    "from sklearn.model_selection import StratifiedKFold\n",
    "from sklearn.preprocessing import StandardScaler,MinMaxScaler,RobustScaler\n",
    "from sklearn.pipeline import Pipeline\n",
    "from sklearn.model_selection import GridSearchCV\n",
    "\n",
    "import tensorflow as tf\n",
    "tf.random.set_seed(42)\n",
    "from tensorflow import keras\n",
    "from tensorflow.keras import regularizers\n",
    "from tensorflow.keras.models import Model\n",
    "from tensorflow.keras import models\n",
    "from tensorflow.keras.layers import Input\n",
    "from tensorflow.keras.layers import Dense, Dropout, Flatten\n",
    "from tensorflow.keras import regularizers\n",
    "from tensorflow.keras.models import Sequential, load_model\n",
    "from tensorflow.keras.utils import to_categorical\n",
    "from tensorflow.keras.utils import Sequence\n",
    "from tensorflow.keras.utils import plot_model\n",
    "from tensorflow.keras.optimizers import RMSprop, Adam\n",
    "from tensorflow.keras.callbacks import ReduceLROnPlateau\n",
    "from tensorflow.keras.layers import LeakyReLU\n",
    "from tensorflow.keras.layers import BatchNormalization\n",
    "from tensorflow.keras.layers import Activation\n",
    "from tensorflow.keras import backend as K\n",
    "from tensorflow.keras.callbacks import EarlyStopping\n",
    "from tensorflow.keras.wrappers.scikit_learn import KerasClassifier\n",
    "\n",
    "print('imb_learn version', imblearn.__version__)\n",
    "print('Python Version:',python_version())\n",
    "print('tensorflow version',tf.__version__)\n",
    "print('keras version',keras.__version__)"
   ]
  },
  {
   "cell_type": "markdown",
   "id": "bfe2815d",
   "metadata": {},
   "source": [
    "## Data\n",
    "**The dataset used in this project is the Cleveland Heart Disease dataset available from the UCI repository and Kaggle**\n",
    "### Dataset Features\n",
    "\n",
    "* **age:** The person’s age in years (Numeric)\n",
    "* **sex:** Gender of patient (1 = male, 0 = female) (Nominal)\n",
    "* **cp:** chest pain type — Value 0: asymptomatic — Value 1: atypical angina — Value 2: non-anginal pain — Value 3: typical angina (Nominal)\n",
    "* **trestbps:** The person’s resting blood pressure (mm Hg on admission to the hospital) (Numeric)\n",
    "* **chol:** The person’s cholesterol measurement in mg/dl (Numeric)\n",
    "* **fbs:** The person’s fasting blood sugar (> 120 mg/dl, 1 = true; 0 = false) (Nominal)\n",
    "* **restecg:** resting electrocardiographic results — Value 0: showing probable or definite left ventricular hypertrophy by Estes’ criteria — Value 1: normal — Value 2: having ST-T wave abnormality (T wave inversions and/or ST elevation or depression of > 0.05 mV) (Nominal)\n",
    "* **thalach:** The person’s maximum heart rate achieved (Numeric)\n",
    "* **exang:** Exercise induced angina (1 = yes; 0 = no) (Nominal)\n",
    "* **oldpeak:** ST depression induced by exercise relative to rest (‘ST’ relates to positions on the ECG plot. See more here) (Numeric)\n",
    "* **slope:** the slope of the peak exercise ST segment — 0: downsloping; 1: flat; 2: upsloping 0: downsloping; 1: flat; 2: upsloping (Nominal)\n",
    "* **ca:** The number of major vessels (0–3) (Numeric)\n",
    "* **thal:** A blood disorder called thalassemia Value 0: NULL (dropped from the dataset previously. Value 1: fixed defect (no blood flow in some part of the heart) Value 2: normal blood flow. Value 3: reversible defect (a blood flow is observed but it is not normal) (Nominal)\n",
    "* **target:** Heart disease (0 = no, 1 = yes)\n"
   ]
  },
  {
   "cell_type": "markdown",
   "id": "86b2b575",
   "metadata": {},
   "source": [
    "### Download Data"
   ]
  },
  {
   "cell_type": "code",
   "execution_count": 2,
   "id": "ffe266f0",
   "metadata": {},
   "outputs": [
    {
     "name": "stdout",
     "output_type": "stream",
     "text": [
      "Shape (303, 14)\n"
     ]
    },
    {
     "data": {
      "text/html": [
       "<div>\n",
       "<style scoped>\n",
       "    .dataframe tbody tr th:only-of-type {\n",
       "        vertical-align: middle;\n",
       "    }\n",
       "\n",
       "    .dataframe tbody tr th {\n",
       "        vertical-align: top;\n",
       "    }\n",
       "\n",
       "    .dataframe thead th {\n",
       "        text-align: right;\n",
       "    }\n",
       "</style>\n",
       "<table border=\"1\" class=\"dataframe\">\n",
       "  <thead>\n",
       "    <tr style=\"text-align: right;\">\n",
       "      <th></th>\n",
       "      <th>age</th>\n",
       "      <th>sex</th>\n",
       "      <th>cp</th>\n",
       "      <th>trestbps</th>\n",
       "      <th>chol</th>\n",
       "      <th>fbs</th>\n",
       "      <th>restecg</th>\n",
       "      <th>thalach</th>\n",
       "      <th>exang</th>\n",
       "      <th>oldpeak</th>\n",
       "      <th>slope</th>\n",
       "      <th>ca</th>\n",
       "      <th>thal</th>\n",
       "      <th>target</th>\n",
       "    </tr>\n",
       "  </thead>\n",
       "  <tbody>\n",
       "    <tr>\n",
       "      <th>0</th>\n",
       "      <td>63</td>\n",
       "      <td>1</td>\n",
       "      <td>3</td>\n",
       "      <td>145</td>\n",
       "      <td>233</td>\n",
       "      <td>1</td>\n",
       "      <td>0</td>\n",
       "      <td>150</td>\n",
       "      <td>0</td>\n",
       "      <td>2.3</td>\n",
       "      <td>0</td>\n",
       "      <td>0</td>\n",
       "      <td>1</td>\n",
       "      <td>1</td>\n",
       "    </tr>\n",
       "    <tr>\n",
       "      <th>1</th>\n",
       "      <td>37</td>\n",
       "      <td>1</td>\n",
       "      <td>2</td>\n",
       "      <td>130</td>\n",
       "      <td>250</td>\n",
       "      <td>0</td>\n",
       "      <td>1</td>\n",
       "      <td>187</td>\n",
       "      <td>0</td>\n",
       "      <td>3.5</td>\n",
       "      <td>0</td>\n",
       "      <td>0</td>\n",
       "      <td>2</td>\n",
       "      <td>1</td>\n",
       "    </tr>\n",
       "    <tr>\n",
       "      <th>2</th>\n",
       "      <td>41</td>\n",
       "      <td>0</td>\n",
       "      <td>1</td>\n",
       "      <td>130</td>\n",
       "      <td>204</td>\n",
       "      <td>0</td>\n",
       "      <td>0</td>\n",
       "      <td>172</td>\n",
       "      <td>0</td>\n",
       "      <td>1.4</td>\n",
       "      <td>2</td>\n",
       "      <td>0</td>\n",
       "      <td>2</td>\n",
       "      <td>1</td>\n",
       "    </tr>\n",
       "    <tr>\n",
       "      <th>3</th>\n",
       "      <td>56</td>\n",
       "      <td>1</td>\n",
       "      <td>1</td>\n",
       "      <td>120</td>\n",
       "      <td>236</td>\n",
       "      <td>0</td>\n",
       "      <td>1</td>\n",
       "      <td>178</td>\n",
       "      <td>0</td>\n",
       "      <td>0.8</td>\n",
       "      <td>2</td>\n",
       "      <td>0</td>\n",
       "      <td>2</td>\n",
       "      <td>1</td>\n",
       "    </tr>\n",
       "    <tr>\n",
       "      <th>4</th>\n",
       "      <td>57</td>\n",
       "      <td>0</td>\n",
       "      <td>0</td>\n",
       "      <td>120</td>\n",
       "      <td>354</td>\n",
       "      <td>0</td>\n",
       "      <td>1</td>\n",
       "      <td>163</td>\n",
       "      <td>1</td>\n",
       "      <td>0.6</td>\n",
       "      <td>2</td>\n",
       "      <td>0</td>\n",
       "      <td>2</td>\n",
       "      <td>1</td>\n",
       "    </tr>\n",
       "    <tr>\n",
       "      <th>...</th>\n",
       "      <td>...</td>\n",
       "      <td>...</td>\n",
       "      <td>...</td>\n",
       "      <td>...</td>\n",
       "      <td>...</td>\n",
       "      <td>...</td>\n",
       "      <td>...</td>\n",
       "      <td>...</td>\n",
       "      <td>...</td>\n",
       "      <td>...</td>\n",
       "      <td>...</td>\n",
       "      <td>...</td>\n",
       "      <td>...</td>\n",
       "      <td>...</td>\n",
       "    </tr>\n",
       "    <tr>\n",
       "      <th>298</th>\n",
       "      <td>57</td>\n",
       "      <td>0</td>\n",
       "      <td>0</td>\n",
       "      <td>140</td>\n",
       "      <td>241</td>\n",
       "      <td>0</td>\n",
       "      <td>1</td>\n",
       "      <td>123</td>\n",
       "      <td>1</td>\n",
       "      <td>0.2</td>\n",
       "      <td>1</td>\n",
       "      <td>0</td>\n",
       "      <td>3</td>\n",
       "      <td>0</td>\n",
       "    </tr>\n",
       "    <tr>\n",
       "      <th>299</th>\n",
       "      <td>45</td>\n",
       "      <td>1</td>\n",
       "      <td>3</td>\n",
       "      <td>110</td>\n",
       "      <td>264</td>\n",
       "      <td>0</td>\n",
       "      <td>1</td>\n",
       "      <td>132</td>\n",
       "      <td>0</td>\n",
       "      <td>1.2</td>\n",
       "      <td>1</td>\n",
       "      <td>0</td>\n",
       "      <td>3</td>\n",
       "      <td>0</td>\n",
       "    </tr>\n",
       "    <tr>\n",
       "      <th>300</th>\n",
       "      <td>68</td>\n",
       "      <td>1</td>\n",
       "      <td>0</td>\n",
       "      <td>144</td>\n",
       "      <td>193</td>\n",
       "      <td>1</td>\n",
       "      <td>1</td>\n",
       "      <td>141</td>\n",
       "      <td>0</td>\n",
       "      <td>3.4</td>\n",
       "      <td>1</td>\n",
       "      <td>2</td>\n",
       "      <td>3</td>\n",
       "      <td>0</td>\n",
       "    </tr>\n",
       "    <tr>\n",
       "      <th>301</th>\n",
       "      <td>57</td>\n",
       "      <td>1</td>\n",
       "      <td>0</td>\n",
       "      <td>130</td>\n",
       "      <td>131</td>\n",
       "      <td>0</td>\n",
       "      <td>1</td>\n",
       "      <td>115</td>\n",
       "      <td>1</td>\n",
       "      <td>1.2</td>\n",
       "      <td>1</td>\n",
       "      <td>1</td>\n",
       "      <td>3</td>\n",
       "      <td>0</td>\n",
       "    </tr>\n",
       "    <tr>\n",
       "      <th>302</th>\n",
       "      <td>57</td>\n",
       "      <td>0</td>\n",
       "      <td>1</td>\n",
       "      <td>130</td>\n",
       "      <td>236</td>\n",
       "      <td>0</td>\n",
       "      <td>0</td>\n",
       "      <td>174</td>\n",
       "      <td>0</td>\n",
       "      <td>0.0</td>\n",
       "      <td>1</td>\n",
       "      <td>1</td>\n",
       "      <td>2</td>\n",
       "      <td>0</td>\n",
       "    </tr>\n",
       "  </tbody>\n",
       "</table>\n",
       "<p>303 rows × 14 columns</p>\n",
       "</div>"
      ],
      "text/plain": [
       "     age  sex  cp  trestbps  chol  fbs  restecg  thalach  exang  oldpeak  \\\n",
       "0     63    1   3       145   233    1        0      150      0      2.3   \n",
       "1     37    1   2       130   250    0        1      187      0      3.5   \n",
       "2     41    0   1       130   204    0        0      172      0      1.4   \n",
       "3     56    1   1       120   236    0        1      178      0      0.8   \n",
       "4     57    0   0       120   354    0        1      163      1      0.6   \n",
       "..   ...  ...  ..       ...   ...  ...      ...      ...    ...      ...   \n",
       "298   57    0   0       140   241    0        1      123      1      0.2   \n",
       "299   45    1   3       110   264    0        1      132      0      1.2   \n",
       "300   68    1   0       144   193    1        1      141      0      3.4   \n",
       "301   57    1   0       130   131    0        1      115      1      1.2   \n",
       "302   57    0   1       130   236    0        0      174      0      0.0   \n",
       "\n",
       "     slope  ca  thal  target  \n",
       "0        0   0     1       1  \n",
       "1        0   0     2       1  \n",
       "2        2   0     2       1  \n",
       "3        2   0     2       1  \n",
       "4        2   0     2       1  \n",
       "..     ...  ..   ...     ...  \n",
       "298      1   0     3       0  \n",
       "299      1   0     3       0  \n",
       "300      1   2     3       0  \n",
       "301      1   1     3       0  \n",
       "302      1   1     2       0  \n",
       "\n",
       "[303 rows x 14 columns]"
      ]
     },
     "execution_count": 2,
     "metadata": {},
     "output_type": "execute_result"
    }
   ],
   "source": [
    "data=pd.read_csv('./Desktop/Hrt_Dis_Pred/heart.csv')\n",
    "print('Shape',data.shape)\n",
    "data"
   ]
  },
  {
   "cell_type": "code",
   "execution_count": 19,
   "id": "706dfbcc",
   "metadata": {},
   "outputs": [
    {
     "data": {
      "image/png": "[encoded data removed]",
      "text/plain": [
       "<Figure size 864x720 with 16 Axes>"
      ]
     },
     "metadata": {
      "needs_background": "light"
     },
     "output_type": "display_data"
    }
   ],
   "source": [
    "# A General overview of the dataset\n",
    "\n",
    "data.hist(bins=14, figsize=(12,10),density=True)\n",
    "plt.show()"
   ]
  },
  {
   "cell_type": "markdown",
   "id": "96be2f20",
   "metadata": {},
   "source": [
    "### Check for Types and Missing Values"
   ]
  },
  {
   "cell_type": "code",
   "execution_count": 31,
   "id": "6b40c65c",
   "metadata": {
    "scrolled": false
   },
   "outputs": [
    {
     "name": "stdout",
     "output_type": "stream",
     "text": [
      "Missing values: 0\n",
      "\n",
      "<class 'pandas.core.frame.DataFrame'>\n",
      "RangeIndex: 303 entries, 0 to 302\n",
      "Data columns (total 14 columns):\n",
      " #   Column    Non-Null Count  Dtype  \n",
      "---  ------    --------------  -----  \n",
      " 0   age       303 non-null    int64  \n",
      " 1   sex       303 non-null    int64  \n",
      " 2   cp        303 non-null    int64  \n",
      " 3   trestbps  303 non-null    int64  \n",
      " 4   chol      303 non-null    int64  \n",
      " 5   fbs       303 non-null    int64  \n",
      " 6   restecg   303 non-null    int64  \n",
      " 7   thalach   303 non-null    int64  \n",
      " 8   exang     303 non-null    int64  \n",
      " 9   oldpeak   303 non-null    float64\n",
      " 10  slope     303 non-null    int64  \n",
      " 11  ca        303 non-null    int64  \n",
      " 12  thal      303 non-null    int64  \n",
      " 13  target    303 non-null    int64  \n",
      "dtypes: float64(1), int64(13)\n",
      "memory usage: 33.3 KB\n"
     ]
    }
   ],
   "source": [
    "# Types and missing values\n",
    "print(\"Missing values:\",data.isna().sum().sum())\n",
    "print()\n",
    "data.info()"
   ]
  },
  {
   "cell_type": "markdown",
   "id": "0bb94567",
   "metadata": {},
   "source": [
    "### Unique Values"
   ]
  },
  {
   "cell_type": "code",
   "execution_count": 34,
   "id": "146535b6",
   "metadata": {},
   "outputs": [
    {
     "data": {
      "text/plain": [
       "{'age': 41,\n",
       " 'sex': 2,\n",
       " 'cp': 4,\n",
       " 'trestbps': 49,\n",
       " 'chol': 152,\n",
       " 'fbs': 2,\n",
       " 'restecg': 3,\n",
       " 'thalach': 91,\n",
       " 'exang': 2,\n",
       " 'oldpeak': 40,\n",
       " 'slope': 3,\n",
       " 'ca': 5,\n",
       " 'thal': 4,\n",
       " 'target': 2}"
      ]
     },
     "execution_count": 34,
     "metadata": {},
     "output_type": "execute_result"
    }
   ],
   "source": [
    "# Distinct values dictionary to map column names to unique values\n",
    "\n",
    "{column: len(data[column].unique())for column in data.columns}"
   ]
  },
  {
   "cell_type": "markdown",
   "id": "41a43dfa",
   "metadata": {},
   "source": [
    "# Feature selection"
   ]
  },
  {
   "cell_type": "markdown",
   "id": "64dafd7d",
   "metadata": {},
   "source": [
    "### Split dataset"
   ]
  },
  {
   "cell_type": "code",
   "execution_count": 3,
   "id": "9fbff726",
   "metadata": {},
   "outputs": [],
   "source": [
    " # Split df into X and y\n",
    "y = data['target'].copy()\n",
    "X = data.drop('target', axis=1).copy()"
   ]
  },
  {
   "cell_type": "code",
   "execution_count": 4,
   "id": "0966b8fe",
   "metadata": {},
   "outputs": [
    {
     "name": "stdout",
     "output_type": "stream",
     "text": [
      "X shape (303, 13)\n"
     ]
    }
   ],
   "source": [
    "columns = X.columns\n",
    "print('X shape',X.shape)"
   ]
  },
  {
   "cell_type": "code",
   "execution_count": 5,
   "id": "00cf3fa9",
   "metadata": {},
   "outputs": [
    {
     "data": {
      "text/plain": [
       "0      1\n",
       "1      1\n",
       "2      1\n",
       "3      1\n",
       "4      1\n",
       "      ..\n",
       "298    0\n",
       "299    0\n",
       "300    0\n",
       "301    0\n",
       "302    0\n",
       "Name: target, Length: 303, dtype: int64"
      ]
     },
     "execution_count": 5,
     "metadata": {},
     "output_type": "execute_result"
    }
   ],
   "source": [
    "y"
   ]
  },
  {
   "cell_type": "markdown",
   "id": "750d581b",
   "metadata": {},
   "source": [
    "### Low Variance Filtering"
   ]
  },
  {
   "cell_type": "code",
   "execution_count": 6,
   "id": "8d4f05aa",
   "metadata": {},
   "outputs": [
    {
     "name": "stdout",
     "output_type": "stream",
     "text": [
      "Varience\n",
      "\n",
      "age           82.484558\n",
      "sex            0.217166\n",
      "cp             1.065132\n",
      "trestbps     307.586453\n",
      "chol        2686.426748\n",
      "fbs            0.126877\n",
      "restecg        0.276528\n",
      "thalach      524.646406\n",
      "exang          0.220707\n",
      "oldpeak        1.348095\n",
      "slope          0.379735\n",
      "ca             1.045724\n",
      "thal           0.374883\n",
      "dtype: float64\n",
      "\n"
     ]
    },
    {
     "data": {
      "text/plain": [
       "[<matplotlib.lines.Line2D at 0x240751b8a90>]"
      ]
     },
     "execution_count": 6,
     "metadata": {},
     "output_type": "execute_result"
    },
    {
     "data": {
      "image/png": "[encoded data removed]",
      "text/plain": [
       "<Figure size 1080x288 with 1 Axes>"
      ]
     },
     "metadata": {
      "needs_background": "light"
     },
     "output_type": "display_data"
    }
   ],
   "source": [
    "# Dataset variences\n",
    "\n",
    "variance = X.var()\n",
    "\n",
    "print('Varience')\n",
    "print()\n",
    "print(X.var())\n",
    "\n",
    "print()\n",
    "\n",
    "plt.figure(figsize= (15,4))\n",
    "plt.xlabel('Variables')\n",
    "plt.ylabel('Varience')\n",
    "plt.plot(variance)      "
   ]
  },
  {
   "cell_type": "markdown",
   "id": "561b391c",
   "metadata": {},
   "source": [
    "###  Variables with variance more than the threshold value"
   ]
  },
  {
   "cell_type": "code",
   "execution_count": 7,
   "id": "3b4d455f",
   "metadata": {},
   "outputs": [
    {
     "data": {
      "text/plain": [
       "['age',\n",
       " 'sex',\n",
       " 'cp',\n",
       " 'trestbps',\n",
       " 'chol',\n",
       " 'fbs',\n",
       " 'restecg',\n",
       " 'thalach',\n",
       " 'exang',\n",
       " 'oldpeak',\n",
       " 'slope',\n",
       " 'ca',\n",
       " 'thal']"
      ]
     },
     "execution_count": 7,
     "metadata": {},
     "output_type": "execute_result"
    }
   ],
   "source": [
    "# Saving the names of variables having variance more than a threshold value\n",
    "# In this case all original variable are retained\n",
    "\n",
    "variable = [ ]\n",
    "\n",
    "for i in range(0,len(variance)):\n",
    "    if variance[i]>=0.006: #setting the threshold\n",
    "        variable.append(columns[i])\n",
    "        \n",
    "variable"
   ]
  },
  {
   "cell_type": "markdown",
   "id": "6390feeb",
   "metadata": {},
   "source": [
    "### New dataframe using the above variables"
   ]
  },
  {
   "cell_type": "code",
   "execution_count": 8,
   "id": "58c7625e",
   "metadata": {
    "scrolled": true
   },
   "outputs": [
    {
     "name": "stdout",
     "output_type": "stream",
     "text": [
      "new_data shape (303, 13)\n"
     ]
    },
    {
     "data": {
      "text/html": [
       "<div>\n",
       "<style scoped>\n",
       "    .dataframe tbody tr th:only-of-type {\n",
       "        vertical-align: middle;\n",
       "    }\n",
       "\n",
       "    .dataframe tbody tr th {\n",
       "        vertical-align: top;\n",
       "    }\n",
       "\n",
       "    .dataframe thead th {\n",
       "        text-align: right;\n",
       "    }\n",
       "</style>\n",
       "<table border=\"1\" class=\"dataframe\">\n",
       "  <thead>\n",
       "    <tr style=\"text-align: right;\">\n",
       "      <th></th>\n",
       "      <th>age</th>\n",
       "      <th>sex</th>\n",
       "      <th>cp</th>\n",
       "      <th>trestbps</th>\n",
       "      <th>chol</th>\n",
       "      <th>fbs</th>\n",
       "      <th>restecg</th>\n",
       "      <th>thalach</th>\n",
       "      <th>exang</th>\n",
       "      <th>oldpeak</th>\n",
       "      <th>slope</th>\n",
       "      <th>ca</th>\n",
       "      <th>thal</th>\n",
       "    </tr>\n",
       "  </thead>\n",
       "  <tbody>\n",
       "    <tr>\n",
       "      <th>0</th>\n",
       "      <td>63</td>\n",
       "      <td>1</td>\n",
       "      <td>3</td>\n",
       "      <td>145</td>\n",
       "      <td>233</td>\n",
       "      <td>1</td>\n",
       "      <td>0</td>\n",
       "      <td>150</td>\n",
       "      <td>0</td>\n",
       "      <td>2.3</td>\n",
       "      <td>0</td>\n",
       "      <td>0</td>\n",
       "      <td>1</td>\n",
       "    </tr>\n",
       "    <tr>\n",
       "      <th>1</th>\n",
       "      <td>37</td>\n",
       "      <td>1</td>\n",
       "      <td>2</td>\n",
       "      <td>130</td>\n",
       "      <td>250</td>\n",
       "      <td>0</td>\n",
       "      <td>1</td>\n",
       "      <td>187</td>\n",
       "      <td>0</td>\n",
       "      <td>3.5</td>\n",
       "      <td>0</td>\n",
       "      <td>0</td>\n",
       "      <td>2</td>\n",
       "    </tr>\n",
       "    <tr>\n",
       "      <th>2</th>\n",
       "      <td>41</td>\n",
       "      <td>0</td>\n",
       "      <td>1</td>\n",
       "      <td>130</td>\n",
       "      <td>204</td>\n",
       "      <td>0</td>\n",
       "      <td>0</td>\n",
       "      <td>172</td>\n",
       "      <td>0</td>\n",
       "      <td>1.4</td>\n",
       "      <td>2</td>\n",
       "      <td>0</td>\n",
       "      <td>2</td>\n",
       "    </tr>\n",
       "    <tr>\n",
       "      <th>3</th>\n",
       "      <td>56</td>\n",
       "      <td>1</td>\n",
       "      <td>1</td>\n",
       "      <td>120</td>\n",
       "      <td>236</td>\n",
       "      <td>0</td>\n",
       "      <td>1</td>\n",
       "      <td>178</td>\n",
       "      <td>0</td>\n",
       "      <td>0.8</td>\n",
       "      <td>2</td>\n",
       "      <td>0</td>\n",
       "      <td>2</td>\n",
       "    </tr>\n",
       "    <tr>\n",
       "      <th>4</th>\n",
       "      <td>57</td>\n",
       "      <td>0</td>\n",
       "      <td>0</td>\n",
       "      <td>120</td>\n",
       "      <td>354</td>\n",
       "      <td>0</td>\n",
       "      <td>1</td>\n",
       "      <td>163</td>\n",
       "      <td>1</td>\n",
       "      <td>0.6</td>\n",
       "      <td>2</td>\n",
       "      <td>0</td>\n",
       "      <td>2</td>\n",
       "    </tr>\n",
       "  </tbody>\n",
       "</table>\n",
       "</div>"
      ],
      "text/plain": [
       "   age  sex  cp  trestbps  chol  fbs  restecg  thalach  exang  oldpeak  slope  \\\n",
       "0   63    1   3       145   233    1        0      150      0      2.3      0   \n",
       "1   37    1   2       130   250    0        1      187      0      3.5      0   \n",
       "2   41    0   1       130   204    0        0      172      0      1.4      2   \n",
       "3   56    1   1       120   236    0        1      178      0      0.8      2   \n",
       "4   57    0   0       120   354    0        1      163      1      0.6      2   \n",
       "\n",
       "   ca  thal  \n",
       "0   0     1  \n",
       "1   0     2  \n",
       "2   0     2  \n",
       "3   0     2  \n",
       "4   0     2  "
      ]
     },
     "execution_count": 8,
     "metadata": {},
     "output_type": "execute_result"
    }
   ],
   "source": [
    "# creating a new dataframe using the above variables\n",
    "\n",
    "new_data = X[variable]\n",
    "print('new_data shape',new_data.shape)\n",
    "new_data.head()"
   ]
  },
  {
   "cell_type": "code",
   "execution_count": 9,
   "id": "8deae909",
   "metadata": {
    "scrolled": true
   },
   "outputs": [
    {
     "name": "stdout",
     "output_type": "stream",
     "text": [
      "age           82.484558\n",
      "sex            0.217166\n",
      "cp             1.065132\n",
      "trestbps     307.586453\n",
      "chol        2686.426748\n",
      "fbs            0.126877\n",
      "restecg        0.276528\n",
      "thalach      524.646406\n",
      "exang          0.220707\n",
      "oldpeak        1.348095\n",
      "slope          0.379735\n",
      "ca             1.045724\n",
      "thal           0.374883\n",
      "dtype: float64\n",
      "\n"
     ]
    },
    {
     "data": {
      "text/plain": [
       "[<matplotlib.lines.Line2D at 0x2407aac9460>]"
      ]
     },
     "execution_count": 9,
     "metadata": {},
     "output_type": "execute_result"
    },
    {
     "data": {
      "image/png": "[encoded data removed]",
      "text/plain": [
       "<Figure size 1080x288 with 1 Axes>"
      ]
     },
     "metadata": {
      "needs_background": "light"
     },
     "output_type": "display_data"
    }
   ],
   "source": [
    "# Data variences\n",
    "\n",
    "new_data_var = new_data.var()\n",
    "print(new_data_var)\n",
    "\n",
    "print()\n",
    "\n",
    "plt.figure(figsize= (15,4))\n",
    "plt.xlabel('Variables')\n",
    "plt.ylabel('Varience')\n",
    "plt.plot(new_data_var)"
   ]
  },
  {
   "cell_type": "markdown",
   "id": "7f9d6fe0",
   "metadata": {},
   "source": [
    "No change from the original dataset. All variables are within the threshold"
   ]
  },
  {
   "cell_type": "markdown",
   "id": "92eeba5a",
   "metadata": {},
   "source": [
    "## Variable encoding"
   ]
  },
  {
   "cell_type": "code",
   "execution_count": 10,
   "id": "ae2902c7",
   "metadata": {},
   "outputs": [],
   "source": [
    "# One Hot Encoding\n",
    "# Use for smaller dataset\n",
    "\n",
    "def onehot_encode(X, column_dict):\n",
    "    X = new_data.copy()\n",
    "    for column, prefix in column_dict.items():\n",
    "        dummies = pd.get_dummies(X[column], prefix=prefix)\n",
    "        X = pd.concat([X, dummies], axis=1)\n",
    "        X = X.drop(column, axis=1)\n",
    "        \n",
    "    return X\n",
    "\n",
    "\n",
    "# Encoding\n",
    "\n",
    "def preprocess_inputs(X): #, scaler\n",
    "    X = new_data.copy()\n",
    "    \n",
    "    # One-hot encode the nominal features\n",
    "    \n",
    "    nominal_features = ['cp', 'slope', 'thal','restecg']\n",
    "    X = onehot_encode(X, dict(zip(nominal_features, ['CP', 'SL', 'TH','RECG'])))\n",
    "    \n",
    "       \n",
    "    return X"
   ]
  },
  {
   "cell_type": "code",
   "execution_count": 11,
   "id": "189a969d",
   "metadata": {
    "scrolled": true
   },
   "outputs": [
    {
     "name": "stdout",
     "output_type": "stream",
     "text": [
      "(303, 23)\n"
     ]
    },
    {
     "data": {
      "text/html": [
       "<div>\n",
       "<style scoped>\n",
       "    .dataframe tbody tr th:only-of-type {\n",
       "        vertical-align: middle;\n",
       "    }\n",
       "\n",
       "    .dataframe tbody tr th {\n",
       "        vertical-align: top;\n",
       "    }\n",
       "\n",
       "    .dataframe thead th {\n",
       "        text-align: right;\n",
       "    }\n",
       "</style>\n",
       "<table border=\"1\" class=\"dataframe\">\n",
       "  <thead>\n",
       "    <tr style=\"text-align: right;\">\n",
       "      <th></th>\n",
       "      <th>age</th>\n",
       "      <th>sex</th>\n",
       "      <th>trestbps</th>\n",
       "      <th>chol</th>\n",
       "      <th>fbs</th>\n",
       "      <th>thalach</th>\n",
       "      <th>exang</th>\n",
       "      <th>oldpeak</th>\n",
       "      <th>ca</th>\n",
       "      <th>CP_0</th>\n",
       "      <th>...</th>\n",
       "      <th>SL_0</th>\n",
       "      <th>SL_1</th>\n",
       "      <th>SL_2</th>\n",
       "      <th>TH_0</th>\n",
       "      <th>TH_1</th>\n",
       "      <th>TH_2</th>\n",
       "      <th>TH_3</th>\n",
       "      <th>RECG_0</th>\n",
       "      <th>RECG_1</th>\n",
       "      <th>RECG_2</th>\n",
       "    </tr>\n",
       "  </thead>\n",
       "  <tbody>\n",
       "    <tr>\n",
       "      <th>0</th>\n",
       "      <td>63</td>\n",
       "      <td>1</td>\n",
       "      <td>145</td>\n",
       "      <td>233</td>\n",
       "      <td>1</td>\n",
       "      <td>150</td>\n",
       "      <td>0</td>\n",
       "      <td>2.3</td>\n",
       "      <td>0</td>\n",
       "      <td>0</td>\n",
       "      <td>...</td>\n",
       "      <td>1</td>\n",
       "      <td>0</td>\n",
       "      <td>0</td>\n",
       "      <td>0</td>\n",
       "      <td>1</td>\n",
       "      <td>0</td>\n",
       "      <td>0</td>\n",
       "      <td>1</td>\n",
       "      <td>0</td>\n",
       "      <td>0</td>\n",
       "    </tr>\n",
       "    <tr>\n",
       "      <th>1</th>\n",
       "      <td>37</td>\n",
       "      <td>1</td>\n",
       "      <td>130</td>\n",
       "      <td>250</td>\n",
       "      <td>0</td>\n",
       "      <td>187</td>\n",
       "      <td>0</td>\n",
       "      <td>3.5</td>\n",
       "      <td>0</td>\n",
       "      <td>0</td>\n",
       "      <td>...</td>\n",
       "      <td>1</td>\n",
       "      <td>0</td>\n",
       "      <td>0</td>\n",
       "      <td>0</td>\n",
       "      <td>0</td>\n",
       "      <td>1</td>\n",
       "      <td>0</td>\n",
       "      <td>0</td>\n",
       "      <td>1</td>\n",
       "      <td>0</td>\n",
       "    </tr>\n",
       "    <tr>\n",
       "      <th>2</th>\n",
       "      <td>41</td>\n",
       "      <td>0</td>\n",
       "      <td>130</td>\n",
       "      <td>204</td>\n",
       "      <td>0</td>\n",
       "      <td>172</td>\n",
       "      <td>0</td>\n",
       "      <td>1.4</td>\n",
       "      <td>0</td>\n",
       "      <td>0</td>\n",
       "      <td>...</td>\n",
       "      <td>0</td>\n",
       "      <td>0</td>\n",
       "      <td>1</td>\n",
       "      <td>0</td>\n",
       "      <td>0</td>\n",
       "      <td>1</td>\n",
       "      <td>0</td>\n",
       "      <td>1</td>\n",
       "      <td>0</td>\n",
       "      <td>0</td>\n",
       "    </tr>\n",
       "    <tr>\n",
       "      <th>3</th>\n",
       "      <td>56</td>\n",
       "      <td>1</td>\n",
       "      <td>120</td>\n",
       "      <td>236</td>\n",
       "      <td>0</td>\n",
       "      <td>178</td>\n",
       "      <td>0</td>\n",
       "      <td>0.8</td>\n",
       "      <td>0</td>\n",
       "      <td>0</td>\n",
       "      <td>...</td>\n",
       "      <td>0</td>\n",
       "      <td>0</td>\n",
       "      <td>1</td>\n",
       "      <td>0</td>\n",
       "      <td>0</td>\n",
       "      <td>1</td>\n",
       "      <td>0</td>\n",
       "      <td>0</td>\n",
       "      <td>1</td>\n",
       "      <td>0</td>\n",
       "    </tr>\n",
       "    <tr>\n",
       "      <th>4</th>\n",
       "      <td>57</td>\n",
       "      <td>0</td>\n",
       "      <td>120</td>\n",
       "      <td>354</td>\n",
       "      <td>0</td>\n",
       "      <td>163</td>\n",
       "      <td>1</td>\n",
       "      <td>0.6</td>\n",
       "      <td>0</td>\n",
       "      <td>1</td>\n",
       "      <td>...</td>\n",
       "      <td>0</td>\n",
       "      <td>0</td>\n",
       "      <td>1</td>\n",
       "      <td>0</td>\n",
       "      <td>0</td>\n",
       "      <td>1</td>\n",
       "      <td>0</td>\n",
       "      <td>0</td>\n",
       "      <td>1</td>\n",
       "      <td>0</td>\n",
       "    </tr>\n",
       "    <tr>\n",
       "      <th>...</th>\n",
       "      <td>...</td>\n",
       "      <td>...</td>\n",
       "      <td>...</td>\n",
       "      <td>...</td>\n",
       "      <td>...</td>\n",
       "      <td>...</td>\n",
       "      <td>...</td>\n",
       "      <td>...</td>\n",
       "      <td>...</td>\n",
       "      <td>...</td>\n",
       "      <td>...</td>\n",
       "      <td>...</td>\n",
       "      <td>...</td>\n",
       "      <td>...</td>\n",
       "      <td>...</td>\n",
       "      <td>...</td>\n",
       "      <td>...</td>\n",
       "      <td>...</td>\n",
       "      <td>...</td>\n",
       "      <td>...</td>\n",
       "      <td>...</td>\n",
       "    </tr>\n",
       "    <tr>\n",
       "      <th>298</th>\n",
       "      <td>57</td>\n",
       "      <td>0</td>\n",
       "      <td>140</td>\n",
       "      <td>241</td>\n",
       "      <td>0</td>\n",
       "      <td>123</td>\n",
       "      <td>1</td>\n",
       "      <td>0.2</td>\n",
       "      <td>0</td>\n",
       "      <td>1</td>\n",
       "      <td>...</td>\n",
       "      <td>0</td>\n",
       "      <td>1</td>\n",
       "      <td>0</td>\n",
       "      <td>0</td>\n",
       "      <td>0</td>\n",
       "      <td>0</td>\n",
       "      <td>1</td>\n",
       "      <td>0</td>\n",
       "      <td>1</td>\n",
       "      <td>0</td>\n",
       "    </tr>\n",
       "    <tr>\n",
       "      <th>299</th>\n",
       "      <td>45</td>\n",
       "      <td>1</td>\n",
       "      <td>110</td>\n",
       "      <td>264</td>\n",
       "      <td>0</td>\n",
       "      <td>132</td>\n",
       "      <td>0</td>\n",
       "      <td>1.2</td>\n",
       "      <td>0</td>\n",
       "      <td>0</td>\n",
       "      <td>...</td>\n",
       "      <td>0</td>\n",
       "      <td>1</td>\n",
       "      <td>0</td>\n",
       "      <td>0</td>\n",
       "      <td>0</td>\n",
       "      <td>0</td>\n",
       "      <td>1</td>\n",
       "      <td>0</td>\n",
       "      <td>1</td>\n",
       "      <td>0</td>\n",
       "    </tr>\n",
       "    <tr>\n",
       "      <th>300</th>\n",
       "      <td>68</td>\n",
       "      <td>1</td>\n",
       "      <td>144</td>\n",
       "      <td>193</td>\n",
       "      <td>1</td>\n",
       "      <td>141</td>\n",
       "      <td>0</td>\n",
       "      <td>3.4</td>\n",
       "      <td>2</td>\n",
       "      <td>1</td>\n",
       "      <td>...</td>\n",
       "      <td>0</td>\n",
       "      <td>1</td>\n",
       "      <td>0</td>\n",
       "      <td>0</td>\n",
       "      <td>0</td>\n",
       "      <td>0</td>\n",
       "      <td>1</td>\n",
       "      <td>0</td>\n",
       "      <td>1</td>\n",
       "      <td>0</td>\n",
       "    </tr>\n",
       "    <tr>\n",
       "      <th>301</th>\n",
       "      <td>57</td>\n",
       "      <td>1</td>\n",
       "      <td>130</td>\n",
       "      <td>131</td>\n",
       "      <td>0</td>\n",
       "      <td>115</td>\n",
       "      <td>1</td>\n",
       "      <td>1.2</td>\n",
       "      <td>1</td>\n",
       "      <td>1</td>\n",
       "      <td>...</td>\n",
       "      <td>0</td>\n",
       "      <td>1</td>\n",
       "      <td>0</td>\n",
       "      <td>0</td>\n",
       "      <td>0</td>\n",
       "      <td>0</td>\n",
       "      <td>1</td>\n",
       "      <td>0</td>\n",
       "      <td>1</td>\n",
       "      <td>0</td>\n",
       "    </tr>\n",
       "    <tr>\n",
       "      <th>302</th>\n",
       "      <td>57</td>\n",
       "      <td>0</td>\n",
       "      <td>130</td>\n",
       "      <td>236</td>\n",
       "      <td>0</td>\n",
       "      <td>174</td>\n",
       "      <td>0</td>\n",
       "      <td>0.0</td>\n",
       "      <td>1</td>\n",
       "      <td>0</td>\n",
       "      <td>...</td>\n",
       "      <td>0</td>\n",
       "      <td>1</td>\n",
       "      <td>0</td>\n",
       "      <td>0</td>\n",
       "      <td>0</td>\n",
       "      <td>1</td>\n",
       "      <td>0</td>\n",
       "      <td>1</td>\n",
       "      <td>0</td>\n",
       "      <td>0</td>\n",
       "    </tr>\n",
       "  </tbody>\n",
       "</table>\n",
       "<p>303 rows × 23 columns</p>\n",
       "</div>"
      ],
      "text/plain": [
       "     age  sex  trestbps  chol  fbs  thalach  exang  oldpeak  ca  CP_0  ...  \\\n",
       "0     63    1       145   233    1      150      0      2.3   0     0  ...   \n",
       "1     37    1       130   250    0      187      0      3.5   0     0  ...   \n",
       "2     41    0       130   204    0      172      0      1.4   0     0  ...   \n",
       "3     56    1       120   236    0      178      0      0.8   0     0  ...   \n",
       "4     57    0       120   354    0      163      1      0.6   0     1  ...   \n",
       "..   ...  ...       ...   ...  ...      ...    ...      ...  ..   ...  ...   \n",
       "298   57    0       140   241    0      123      1      0.2   0     1  ...   \n",
       "299   45    1       110   264    0      132      0      1.2   0     0  ...   \n",
       "300   68    1       144   193    1      141      0      3.4   2     1  ...   \n",
       "301   57    1       130   131    0      115      1      1.2   1     1  ...   \n",
       "302   57    0       130   236    0      174      0      0.0   1     0  ...   \n",
       "\n",
       "     SL_0  SL_1  SL_2  TH_0  TH_1  TH_2  TH_3  RECG_0  RECG_1  RECG_2  \n",
       "0       1     0     0     0     1     0     0       1       0       0  \n",
       "1       1     0     0     0     0     1     0       0       1       0  \n",
       "2       0     0     1     0     0     1     0       1       0       0  \n",
       "3       0     0     1     0     0     1     0       0       1       0  \n",
       "4       0     0     1     0     0     1     0       0       1       0  \n",
       "..    ...   ...   ...   ...   ...   ...   ...     ...     ...     ...  \n",
       "298     0     1     0     0     0     0     1       0       1       0  \n",
       "299     0     1     0     0     0     0     1       0       1       0  \n",
       "300     0     1     0     0     0     0     1       0       1       0  \n",
       "301     0     1     0     0     0     0     1       0       1       0  \n",
       "302     0     1     0     0     0     1     0       1       0       0  \n",
       "\n",
       "[303 rows x 23 columns]"
      ]
     },
     "execution_count": 11,
     "metadata": {},
     "output_type": "execute_result"
    }
   ],
   "source": [
    "# Check Encoded feature \n",
    "\n",
    "X = preprocess_inputs(new_data)\n",
    "print(X.shape)\n",
    "X"
   ]
  },
  {
   "cell_type": "code",
   "execution_count": 12,
   "id": "b5cfd91d",
   "metadata": {
    "scrolled": true
   },
   "outputs": [
    {
     "data": {
      "text/plain": [
       "0      1\n",
       "1      1\n",
       "2      1\n",
       "3      1\n",
       "4      1\n",
       "      ..\n",
       "298    0\n",
       "299    0\n",
       "300    0\n",
       "301    0\n",
       "302    0\n",
       "Name: target, Length: 303, dtype: int64"
      ]
     },
     "execution_count": 12,
     "metadata": {},
     "output_type": "execute_result"
    }
   ],
   "source": [
    "y"
   ]
  },
  {
   "cell_type": "markdown",
   "id": "c64a42f9",
   "metadata": {},
   "source": [
    "### Class distributions"
   ]
  },
  {
   "cell_type": "code",
   "execution_count": 13,
   "id": "a1f1755e",
   "metadata": {},
   "outputs": [
    {
     "name": "stdout",
     "output_type": "stream",
     "text": [
      "Class=1, n=165 (54.455%)\n",
      "Class=0, n=138 (45.545%)\n"
     ]
    }
   ],
   "source": [
    "#Class distributions\n",
    "\n",
    "# label encode the target variable\n",
    "y = LabelEncoder().fit_transform(y)\n",
    "\n",
    "# summarize distribution\n",
    "counter = Counter(y)\n",
    "for k,v in counter.items():\n",
    "    per = v / len(y) * 100\n",
    "    print('Class=%d, n=%d (%.3f%%)' % (k, v, per))"
   ]
  },
  {
   "cell_type": "markdown",
   "id": "50009786",
   "metadata": {},
   "source": [
    "### Synthetic Minority Oversampling Technique\n",
    "Optional: classes are fairly well distributed"
   ]
  },
  {
   "cell_type": "code",
   "execution_count": null,
   "id": "203bef57",
   "metadata": {},
   "outputs": [],
   "source": [
    "#SMOTE\n",
    "\n",
    "# label encode the target variable\n",
    "#y = LabelEncoder().fit_transform(y)\n",
    "\n",
    "# transform the dataset\n",
    "oversample = SMOTE()\n",
    "X, y = oversample.fit_resample(X, y)\n",
    "\n",
    "# summarize distribution\n",
    "counter = Counter(y)\n",
    "for k,v in counter.items():\n",
    "    per = v / len(y) * 100\n",
    "    print('Class=%d, n=%d (%.3f%%)' % (k, v, per))"
   ]
  },
  {
   "cell_type": "markdown",
   "id": "e876c88a",
   "metadata": {},
   "source": [
    "## Model Definition and Training"
   ]
  },
  {
   "cell_type": "code",
   "execution_count": 14,
   "id": "f89e17ad",
   "metadata": {},
   "outputs": [],
   "source": [
    "# Class label mapping\n",
    "\n",
    "class_label = {\n",
    "    0: 'No Heart Disease',\n",
    "    1: 'Heart Disease'\n",
    "}"
   ]
  },
  {
   "cell_type": "markdown",
   "id": "ed511ca8",
   "metadata": {},
   "source": [
    "### Train Test Split"
   ]
  },
  {
   "cell_type": "code",
   "execution_count": 15,
   "id": "500bdcbe",
   "metadata": {},
   "outputs": [],
   "source": [
    "# Using 80% for training and 20% for testing\n",
    "\n",
    "X_train,X_test,y_train,y_test = train_test_split(X,y,train_size=0.8,random_state=42)"
   ]
  },
  {
   "cell_type": "code",
   "execution_count": 16,
   "id": "1b7ad4f5",
   "metadata": {},
   "outputs": [
    {
     "data": {
      "text/plain": [
       "(242, 23)"
      ]
     },
     "execution_count": 16,
     "metadata": {},
     "output_type": "execute_result"
    }
   ],
   "source": [
    "X_train.shape"
   ]
  },
  {
   "cell_type": "code",
   "execution_count": 17,
   "id": "a4f181f8",
   "metadata": {},
   "outputs": [
    {
     "data": {
      "text/plain": [
       "(61, 23)"
      ]
     },
     "execution_count": 17,
     "metadata": {},
     "output_type": "execute_result"
    }
   ],
   "source": [
    "X_test.shape"
   ]
  },
  {
   "cell_type": "markdown",
   "id": "99903880",
   "metadata": {},
   "source": [
    "## Scaling"
   ]
  },
  {
   "cell_type": "code",
   "execution_count": 18,
   "id": "e1fdb0e9",
   "metadata": {},
   "outputs": [],
   "source": [
    "#StandardScaler, MinMaxScaler, RobustScaler\n",
    "#from sklearn.preprocessing import StandardScaler\n",
    "\n",
    "#scaler = StandardScaler()\n",
    "scaler = MinMaxScaler()\n",
    "#scaler = RobustScaler()\n",
    "\n",
    "\n",
    "# Fit on training set only.\n",
    "scaler.fit(X_train)\n",
    "\n",
    "# Apply transform to both the training set and the test set.\n",
    "X_train = scaler.transform(X_train)\n",
    "X_test = scaler.transform(X_test)"
   ]
  },
  {
   "cell_type": "markdown",
   "id": "26f43581",
   "metadata": {},
   "source": [
    "## Dummy Classifier"
   ]
  },
  {
   "cell_type": "code",
   "execution_count": 52,
   "id": "bce409e4",
   "metadata": {},
   "outputs": [
    {
     "name": "stdout",
     "output_type": "stream",
     "text": [
      "MCC on train: 0.079\n",
      "MCC on test: 0.04\n",
      "\n",
      "F1 on train 0.539\n",
      "F1 on test 0.516\n",
      "\n",
      "Accuracy on train: 0.545\n",
      "Accuracy on test: 0.525\n",
      "\n",
      "Confusion Matrix:\n",
      "[[12 17]\n",
      " [12 20]]\n",
      "\n"
     ]
    },
    {
     "data": {
      "text/plain": [
       "{'constant': None, 'random_state': 42, 'strategy': 'stratified'}"
      ]
     },
     "execution_count": 52,
     "metadata": {},
     "output_type": "execute_result"
    }
   ],
   "source": [
    "# Dummy Classifier for baseline \n",
    "from sklearn.dummy import DummyClassifier\n",
    "\n",
    "dummy= DummyClassifier(strategy='stratified',random_state=42)\n",
    "dummy.fit(X_train,y_train)\n",
    " \n",
    "pred_dum= dummy.predict(X_test)\n",
    "pred2_dum= dummy.predict(X_train)\n",
    "\n",
    "# Matthews correlation, f1 score and accuracy\n",
    "\n",
    "dummy_mcc_train = matthews_corrcoef(y_train, pred2_dum)\n",
    "print('MCC on train:',dummy_mcc_train.round(3))\n",
    "dummy_mcc_test = matthews_corrcoef(y_test,pred_dum)\n",
    "print('MCC on test:',dummy_mcc_test.round(3))\n",
    "\n",
    "print()\n",
    "dummy_f1_train = f1_score(y_train,pred2_dum,average='macro')\n",
    "print('F1 on train',dummy_f1_train.round(3))\n",
    "dummy_f1_test = f1_score(y_test, pred_dum, average='macro')\n",
    "print('F1 on test',dummy_f1_test.round(3))\n",
    "\n",
    "print()\n",
    "\n",
    "dum_acc_train = accuracy_score(y_train, pred2_dum)\n",
    "dum_acc_test = accuracy_score(y_test,pred_dum)\n",
    "\n",
    "print('Accuracy on train:',dum_acc_train.round(3))\n",
    "print('Accuracy on test:',dum_acc_test.round(3))\n",
    "\n",
    "\n",
    "#print('Accuracy on train:',dummy.score(X_train,y_train).round(3))\n",
    "#print('Accuracy on test:',dummy.score(X_test,y_test).round(3))\n",
    "print()\n",
    "print('Confusion Matrix:\\n{}'.format(confusion_matrix(y_test,pred_dum).round(3)))\n",
    "print()\n",
    "dummy.get_params()"
   ]
  },
  {
   "cell_type": "code",
   "execution_count": 53,
   "id": "766d6861",
   "metadata": {},
   "outputs": [
    {
     "name": "stdout",
     "output_type": "stream",
     "text": [
      "45.88% accuracy with a standard deviation of 11.25%\n"
     ]
    }
   ],
   "source": [
    "# Cross Validation\n",
    "\n",
    "scores=cross_val_score(dummy,X_train,y_train,cv=10,n_jobs=-1)\n",
    "print(\"%0.2f%% accuracy with a standard deviation of %0.2f%%\" % (scores.mean()*100, scores.std()*100))"
   ]
  },
  {
   "cell_type": "code",
   "execution_count": 54,
   "id": "c3c7d9cb",
   "metadata": {
    "scrolled": true
   },
   "outputs": [
    {
     "name": "stdout",
     "output_type": "stream",
     "text": [
      "dummy:               precision    recall  f1-score   support\n",
      "\n",
      "           0       0.50      0.41      0.45        29\n",
      "           1       0.54      0.62      0.58        32\n",
      "\n",
      "    accuracy                           0.52        61\n",
      "   macro avg       0.52      0.52      0.52        61\n",
      "weighted avg       0.52      0.52      0.52        61\n",
      "\n"
     ]
    }
   ],
   "source": [
    "print(\"dummy:\",classification_report(y_test, pred_dum))"
   ]
  },
  {
   "cell_type": "code",
   "execution_count": 55,
   "id": "2b053ac2",
   "metadata": {},
   "outputs": [
    {
     "data": {
      "text/plain": [
       "Text(0.5, 16.0, 'Predicted Class')"
      ]
     },
     "execution_count": 55,
     "metadata": {},
     "output_type": "execute_result"
    },
    {
     "data": {
      "image/png": "[encoded data removed]",
      "text/plain": [
       "<Figure size 432x288 with 2 Axes>"
      ]
     },
     "metadata": {
      "needs_background": "light"
     },
     "output_type": "display_data"
    }
   ],
   "source": [
    "cm = confusion_matrix(y_test,pred_dum)\n",
    "\n",
    "#plt.figure(figsize=(10, 10))\n",
    "sns.heatmap(cm, annot=True, fmt='g', vmin=0, cbar=True, cmap='icefire')\n",
    "plt.ylabel('True Class')\n",
    "plt.xlabel('Predicted Class')"
   ]
  },
  {
   "cell_type": "markdown",
   "id": "2ad90a08",
   "metadata": {},
   "source": [
    "### Performance Metrics"
   ]
  },
  {
   "cell_type": "code",
   "execution_count": 56,
   "id": "1fa9fca9",
   "metadata": {
    "scrolled": false
   },
   "outputs": [
    {
     "name": "stdout",
     "output_type": "stream",
     "text": [
      "Class: {0: 'No Heart Disease', 1: 'Heart Disease'}\n",
      "Specificity: [0.625     0.4137931]\n",
      "Specificity Mean: 0.5193965517241379\n",
      "Class: {0: 'No Heart Disease', 1: 'Heart Disease'}\n",
      "Recall/Sensitivity: [0.4137931 0.625    ]\n",
      "Recall/Sensitivity Mean: 0.5193965517241379\n",
      "Class: {0: 'No Heart Disease', 1: 'Heart Disease'}\n",
      "Precision: [0.5        0.54054054]\n",
      "Precision Mean: 0.5202702702702703\n",
      "Class: {0: 'No Heart Disease', 1: 'Heart Disease'}\n",
      "False Positive Rate: [0.375     0.5862069]\n",
      "False Positive Rate Mean: 0.48060344827586204\n",
      "Class: {0: 'No Heart Disease', 1: 'Heart Disease'}\n",
      "False Negative Rate: [0.5862069 0.375    ]\n",
      "False Negative Rate Mean: 0.48060344827586204\n",
      "Class: {0: 'No Heart Disease', 1: 'Heart Disease'}\n",
      "False Discovery Rate: [0.5        0.45945946]\n",
      "False Discovery Rate Mean: 0.4797297297297297\n"
     ]
    }
   ],
   "source": [
    "#Performance metrics from confusion matrix \n",
    "\n",
    "FP = cm.sum(axis=0) - np.diag(cm) \n",
    "FN = cm.sum(axis=1) - np.diag(cm)\n",
    "TP = np.diag(cm)\n",
    "TN = cm.sum() - (FP + FN + TP)\n",
    "\n",
    "FP = FP.astype(float)\n",
    "FN = FN.astype(float)\n",
    "TP = TP.astype(float)\n",
    "TN = TN.astype(float)\n",
    "\n",
    "# Sensitivity, hit rate, Recall, or true positive rate\n",
    "TPR = TP/(TP+FN)\n",
    "\n",
    "# Specificity or true negative rate\n",
    "TNR = TN/(TN+FP) \n",
    "\n",
    "# Precision or positive predictive value\n",
    "PPV = TP/(TP+FP)\n",
    "\n",
    "# Negative predictive value\n",
    "NPV = TN/(TN+FN)\n",
    "\n",
    "# Fall out or false positive rate\n",
    "FPR = FP/(FP+TN)\n",
    "\n",
    "# False negative rate\n",
    "FNR = FN/(TP+FN)\n",
    "\n",
    "# False discovery rate\n",
    "FDR = FP/(TP+FP)\n",
    "\n",
    "\n",
    "print('Class:',class_label)\n",
    "\n",
    "print('Specificity:',TNR)\n",
    "print('Specificity Mean:',TNR.mean())\n",
    "\n",
    "print('Class:',class_label)\n",
    "\n",
    "print('Recall/Sensitivity:',TPR)\n",
    "print('Recall/Sensitivity Mean:',TPR.mean())\n",
    "\n",
    "print('Class:',class_label)\n",
    "\n",
    "print('Precision:',PPV)\n",
    "print('Precision Mean:',PPV.mean())\n",
    "\n",
    "print('Class:',class_label)\n",
    "\n",
    "print('False Positive Rate:',FPR)\n",
    "print('False Positive Rate Mean:',FPR.mean())\n",
    "\n",
    "print('Class:',class_label)\n",
    "\n",
    "print('False Negative Rate:',FNR)\n",
    "print('False Negative Rate Mean:',FNR.mean())\n",
    "\n",
    "print('Class:',class_label)\n",
    "\n",
    "print('False Discovery Rate:',FDR)\n",
    "print('False Discovery Rate Mean:',FDR.mean())"
   ]
  },
  {
   "cell_type": "markdown",
   "id": "368e5b58",
   "metadata": {},
   "source": [
    "### ROC Plot"
   ]
  },
  {
   "cell_type": "code",
   "execution_count": 57,
   "id": "aea3139b",
   "metadata": {
    "scrolled": false
   },
   "outputs": [
    {
     "name": "stderr",
     "output_type": "stream",
     "text": [
      "WARNING:matplotlib.legend:No handles with labels found to put in legend.\n"
     ]
    },
    {
     "data": {
      "text/plain": [
       "<matplotlib.legend.Legend at 0x226f850f348>"
      ]
     },
     "execution_count": 57,
     "metadata": {},
     "output_type": "execute_result"
    },
    {
     "data": {
      "image/png": "[encoded data removed]",
      "text/plain": [
       "<Figure size 576x432 with 1 Axes>"
      ]
     },
     "metadata": {
      "needs_background": "light"
     },
     "output_type": "display_data"
    }
   ],
   "source": [
    "#ROC Plot\n",
    "#from sklearn.multiclass import OneVsRestClassifier\n",
    "from sklearn.metrics import roc_curve\n",
    "from sklearn.metrics import roc_auc_score\n",
    "\n",
    "prediction_cplx = dummy.predict_proba(X_test)\n",
    "\n",
    "# roc curve for classes\n",
    "fpr = {}\n",
    "tpr = {}\n",
    "thresh ={}\n",
    "\n",
    "n_class = 2\n",
    "\n",
    "for i in range(n_class):    \n",
    "    fpr[i], tpr[i], thresh[i] = roc_curve(y_test, prediction_cplx[:,i], pos_label=i)\n",
    "\n",
    "#y_score = classifier.fit(X_train, y_train).decision_function(X_test)\n",
    "# Compute micro-average ROC curve and ROC area\n",
    "#fpr[\"micro\"], tpr[\"micro\"], _ = roc_curve(y_test.ravel(), y_score.ravel())\n",
    "#roc_auc[\"micro\"] = auc(fpr[\"micro\"], tpr[\"micro\"])  \n",
    "\n",
    "\n",
    "\n",
    "    \n",
    "# plotting\n",
    "plt.figure(figsize=(8, 6))\n",
    "plt.plot(fpr[0], tpr[0], linestyle='--',color='steelblue')#, label='No Heart Disease 0'\n",
    "plt.plot(fpr[1], tpr[1], linestyle='--',color='red')#, label='Heart Disease 1'\n",
    "plt.plot([0,1],[0,1],color=\"black\",linestyle=\"--\")\n",
    "#plt.plot(fpr[2], tpr[2], linestyle='--',color='blue', label='Class 2 vs Rest')\n",
    "#plt.plot(fpr[3], tpr[3], linestyle='--',color='red', label='Class 3 vs Rest')\n",
    "#plt.plot(fpr[4], tpr[4], linestyle='--',color='black', label='Class 4 vs Rest')\n",
    "#plt.plot(fpr[5], tpr[5], linestyle='--',color='purple', label='Class 5 vs Rest')\n",
    "#plt.plot(fpr[6], tpr[6], linestyle='--',color='yellow', label='Class 6 vs Rest')\n",
    "plt.title('ROC: Dummy Clssifier')\n",
    "plt.text(0.6,0.5,\"Baseline\")\n",
    "plt.xlabel('False Positive Rate')\n",
    "plt.ylabel('True Positive rate')\n",
    "plt.legend(loc='best')\n",
    "#plt.savefig('Dummy ROC',dpi=300); "
   ]
  },
  {
   "cell_type": "markdown",
   "id": "0dd44900",
   "metadata": {},
   "source": [
    "### AUC Score"
   ]
  },
  {
   "cell_type": "code",
   "execution_count": 58,
   "id": "83af5788",
   "metadata": {},
   "outputs": [
    {
     "name": "stdout",
     "output_type": "stream",
     "text": [
      "Dummy AUC Score: 0.5194\n"
     ]
    }
   ],
   "source": [
    "# AUC score\n",
    "\n",
    "#from sklearn.metrics import roc_auc_score\n",
    "dummy_auc_score = roc_auc_score(y_test, prediction_cplx[:,i]).round(4)\n",
    "\n",
    "print('Dummy AUC Score:',dummy_auc_score)"
   ]
  },
  {
   "cell_type": "markdown",
   "id": "30045717",
   "metadata": {},
   "source": [
    "## Logistic Regression"
   ]
  },
  {
   "cell_type": "code",
   "execution_count": 60,
   "id": "b6d6151d",
   "metadata": {
    "scrolled": true
   },
   "outputs": [
    {
     "name": "stdout",
     "output_type": "stream",
     "text": [
      "MCC on train: 0.674\n",
      "MCC on test: 0.745\n",
      "\n",
      "F1 on train: 0.836\n",
      "F1 on test: 0.869\n",
      "\n",
      "Accuracy on train: 0.839\n",
      "Accuracy on test: 0.869\n",
      "\n",
      "Confusion Matrix:\n",
      "[[27  2]\n",
      " [ 6 26]]\n",
      "\n",
      "Logistic Regression Model Parameters\n"
     ]
    },
    {
     "data": {
      "text/plain": [
       "{'C': 1.0,\n",
       " 'class_weight': None,\n",
       " 'dual': False,\n",
       " 'fit_intercept': True,\n",
       " 'intercept_scaling': 1,\n",
       " 'l1_ratio': None,\n",
       " 'max_iter': 100,\n",
       " 'multi_class': 'auto',\n",
       " 'n_jobs': -1,\n",
       " 'penalty': 'l2',\n",
       " 'random_state': 42,\n",
       " 'solver': 'lbfgs',\n",
       " 'tol': 0.0001,\n",
       " 'verbose': 0,\n",
       " 'warm_start': False}"
      ]
     },
     "execution_count": 60,
     "metadata": {},
     "output_type": "execute_result"
    }
   ],
   "source": [
    "\n",
    "from sklearn.linear_model import LogisticRegression\n",
    "from sklearn.metrics import accuracy_score,f1_score\n",
    "\n",
    "lr = LogisticRegression(n_jobs=-1, solver='lbfgs',random_state=42,multi_class='auto').fit(X_train,y_train)\n",
    "\n",
    "pred_lr= lr.predict(X_test)\n",
    "pred2_lr= lr.predict(X_train)\n",
    "\n",
    "# Matthews correlation, f1 score and accuracy\n",
    "\n",
    "lr_mcc_train = matthews_corrcoef(y_train, pred2_lr)\n",
    "print('MCC on train:',lr_mcc_train.round(3))\n",
    "lr_mcc_test = matthews_corrcoef(y_test,pred_lr)\n",
    "print('MCC on test:',lr_mcc_test.round(3))\n",
    "\n",
    "print()\n",
    "lr_f1_train = f1_score(y_train,pred2_lr,average='macro')\n",
    "print('F1 on train:',lr_f1_train.round(3))\n",
    "lr_f1_test = f1_score(y_test, pred_lr, average='macro')\n",
    "print('F1 on test:',lr_f1_test.round(3))\n",
    "\n",
    "print()\n",
    "\n",
    "lr_acc_train = accuracy_score(y_train, pred2_lr)\n",
    "lr_acc_test = accuracy_score(y_test,pred_lr)\n",
    "\n",
    "print('Accuracy on train:',lr_acc_train.round(3))\n",
    "print('Accuracy on test:',lr_acc_test.round(3))\n",
    "\n",
    "#print(\"Accuracy on train: {:.3f}\".format(accuracy_score(y_train,pred2_lr)))\n",
    "#print(\"Accuracy on test: {:.3f}\".format(accuracy_score(y_test,pred_lr)))\n",
    "print()\n",
    "print('Confusion Matrix:\\n{}'.format(confusion_matrix(y_test,pred_lr)))\n",
    "print()\n",
    "print('Logistic Regression Model Parameters')\n",
    "lr.get_params()"
   ]
  },
  {
   "cell_type": "markdown",
   "id": "371947cc",
   "metadata": {},
   "source": [
    "### Cross validation"
   ]
  },
  {
   "cell_type": "code",
   "execution_count": 61,
   "id": "c97d1f35",
   "metadata": {},
   "outputs": [
    {
     "name": "stdout",
     "output_type": "stream",
     "text": [
      "82.25% accuracy with a standard deviation of 8.88%\n"
     ]
    }
   ],
   "source": [
    "# Cross Validation\n",
    "\n",
    "scores=cross_val_score(lr,X_train,y_train,cv=10,n_jobs=-1)\n",
    "print(\"%0.2f%% accuracy with a standard deviation of %0.2f%%\" % (scores.mean()*100, scores.std()*100))"
   ]
  },
  {
   "cell_type": "markdown",
   "id": "031f2a7f",
   "metadata": {},
   "source": [
    "### Classification report"
   ]
  },
  {
   "cell_type": "code",
   "execution_count": 64,
   "id": "9666f890",
   "metadata": {},
   "outputs": [
    {
     "name": "stdout",
     "output_type": "stream",
     "text": [
      "lr:               precision    recall  f1-score   support\n",
      "\n",
      "           0       0.82      0.93      0.87        29\n",
      "           1       0.93      0.81      0.87        32\n",
      "\n",
      "    accuracy                           0.87        61\n",
      "   macro avg       0.87      0.87      0.87        61\n",
      "weighted avg       0.88      0.87      0.87        61\n",
      "\n"
     ]
    }
   ],
   "source": [
    "print(\"lr:\",classification_report(y_test, pred_lr))"
   ]
  },
  {
   "cell_type": "markdown",
   "id": "63800e95",
   "metadata": {},
   "source": [
    "### Confusion matrix"
   ]
  },
  {
   "cell_type": "code",
   "execution_count": 65,
   "id": "f5072e62",
   "metadata": {
    "scrolled": false
   },
   "outputs": [
    {
     "data": {
      "text/plain": [
       "Text(0.5, 16.0, 'Predicted Class')"
      ]
     },
     "execution_count": 65,
     "metadata": {},
     "output_type": "execute_result"
    },
    {
     "data": {
      "image/png": "[encoded data removed]",
      "text/plain": [
       "<Figure size 432x288 with 2 Axes>"
      ]
     },
     "metadata": {
      "needs_background": "light"
     },
     "output_type": "display_data"
    }
   ],
   "source": [
    "cm = confusion_matrix(y_test,pred_lr)\n",
    "#sns.heatmap(cm, annot=True)\n",
    "sns.heatmap(cm, annot=True, fmt='g', vmin=0, cbar=True, cmap='icefire') #removed 'crest_r'\n",
    "plt.ylabel('True Class')\n",
    "plt.xlabel('Predicted Class')"
   ]
  },
  {
   "cell_type": "markdown",
   "id": "082ebf03",
   "metadata": {},
   "source": [
    "### Performance Metrics"
   ]
  },
  {
   "cell_type": "code",
   "execution_count": 66,
   "id": "e0538938",
   "metadata": {
    "scrolled": false
   },
   "outputs": [
    {
     "name": "stdout",
     "output_type": "stream",
     "text": [
      "Class: {0: 'No Heart Disease', 1: 'Heart Disease'}\n",
      "Specificity: [0.8125     0.93103448]\n",
      "Specificity Mean: 0.8717672413793103\n",
      "\n",
      "Class: {0: 'No Heart Disease', 1: 'Heart Disease'}\n",
      "Recall/Sensitivity: [0.93103448 0.8125    ]\n",
      "Recall/Sensitivity Mean: 0.8717672413793103\n",
      "\n",
      "Class: {0: 'No Heart Disease', 1: 'Heart Disease'}\n",
      "Precision: [0.81818182 0.92857143]\n",
      "Precision Mean: 0.8733766233766234\n",
      "\n",
      "Class: {0: 'No Heart Disease', 1: 'Heart Disease'}\n",
      "False Positive Rate: [0.1875     0.06896552]\n",
      "False Positive Rate Mean: 0.12823275862068967\n",
      "\n",
      "Class: {0: 'No Heart Disease', 1: 'Heart Disease'}\n",
      "False Negative Rate: [0.06896552 0.1875    ]\n",
      "False Negative Rate Mean: 0.12823275862068967\n",
      "\n",
      "Class: {0: 'No Heart Disease', 1: 'Heart Disease'}\n",
      "False Discovery Rate: [0.18181818 0.07142857]\n",
      "False Discovery Rate Mean: 0.12662337662337664\n"
     ]
    }
   ],
   "source": [
    "#Performance metrics from confusion matrix \n",
    "\n",
    "FP = cm.sum(axis=0) - np.diag(cm) \n",
    "FN = cm.sum(axis=1) - np.diag(cm)\n",
    "TP = np.diag(cm)\n",
    "TN = cm.sum() - (FP + FN + TP)\n",
    "\n",
    "FP = FP.astype(float)\n",
    "FN = FN.astype(float)\n",
    "TP = TP.astype(float)\n",
    "TN = TN.astype(float)\n",
    "\n",
    "# Sensitivity, hit rate, Recall, or true positive rate\n",
    "TPR = TP/(TP+FN)\n",
    "\n",
    "# Specificity or true negative rate\n",
    "TNR = TN/(TN+FP) \n",
    "\n",
    "# Precision or positive predictive value\n",
    "PPV = TP/(TP+FP)\n",
    "\n",
    "# Negative predictive value\n",
    "NPV = TN/(TN+FN)\n",
    "\n",
    "# Fall out or false positive rate\n",
    "FPR = FP/(FP+TN)\n",
    "\n",
    "# False negative rate\n",
    "FNR = FN/(TP+FN)\n",
    "\n",
    "# False discovery rate\n",
    "FDR = FP/(TP+FP)\n",
    "\n",
    "\n",
    "print('Class:',class_label)\n",
    "\n",
    "print('Specificity:',TNR)\n",
    "print('Specificity Mean:',TNR.mean())\n",
    "\n",
    "print()\n",
    "\n",
    "print('Class:',class_label)\n",
    "\n",
    "print('Recall/Sensitivity:',TPR)\n",
    "print('Recall/Sensitivity Mean:',TPR.mean())\n",
    "\n",
    "print()\n",
    "\n",
    "print('Class:',class_label)\n",
    "\n",
    "print('Precision:',PPV)\n",
    "print('Precision Mean:',PPV.mean())\n",
    "\n",
    "print()\n",
    "\n",
    "print('Class:',class_label)\n",
    "\n",
    "print('False Positive Rate:',FPR)\n",
    "print('False Positive Rate Mean:',FPR.mean())\n",
    "\n",
    "print()\n",
    "\n",
    "print('Class:',class_label)\n",
    "\n",
    "print('False Negative Rate:',FNR)\n",
    "print('False Negative Rate Mean:',FNR.mean())\n",
    "\n",
    "print()\n",
    "\n",
    "print('Class:',class_label)\n",
    "\n",
    "print('False Discovery Rate:',FDR)\n",
    "print('False Discovery Rate Mean:',FDR.mean())"
   ]
  },
  {
   "cell_type": "markdown",
   "id": "9665f297",
   "metadata": {},
   "source": [
    "### ROC Plot"
   ]
  },
  {
   "cell_type": "code",
   "execution_count": 67,
   "id": "d0479ea6",
   "metadata": {
    "scrolled": false
   },
   "outputs": [
    {
     "data": {
      "text/plain": [
       "<matplotlib.legend.Legend at 0x226f60ae048>"
      ]
     },
     "execution_count": 67,
     "metadata": {},
     "output_type": "execute_result"
    },
    {
     "data": {
      "image/png": "[encoded data removed]",
      "text/plain": [
       "<Figure size 576x432 with 1 Axes>"
      ]
     },
     "metadata": {
      "needs_background": "light"
     },
     "output_type": "display_data"
    }
   ],
   "source": [
    "#ROC Plot\n",
    "#from sklearn.multiclass import OneVsRestClassifier\n",
    "from sklearn.metrics import roc_curve\n",
    "from sklearn.metrics import roc_auc_score\n",
    "\n",
    "prediction_cplx = lr.predict_proba(X_test)\n",
    "\n",
    "# roc curve for classes\n",
    "fpr = {}\n",
    "tpr = {}\n",
    "thresh ={}\n",
    "\n",
    "n_class = 2\n",
    "\n",
    "for i in range(n_class):    \n",
    "    fpr[i], tpr[i], thresh[i] = roc_curve(y_test, prediction_cplx[:,i], pos_label=i)\n",
    "\n",
    "#y_score = classifier.fit(X_train, y_train).decision_function(X_test)\n",
    "# Compute micro-average ROC curve and ROC area\n",
    "#fpr[\"micro\"], tpr[\"micro\"], _ = roc_curve(y_test.ravel(), y_score.ravel())\n",
    "#roc_auc[\"micro\"] = auc(fpr[\"micro\"], tpr[\"micro\"])  \n",
    "\n",
    "\n",
    "\n",
    "    \n",
    "# plotting\n",
    "plt.figure(figsize=(8, 6))\n",
    "plt.plot(fpr[0], tpr[0], linestyle='--',color='steelblue', label='No Heart Disease 0')\n",
    "plt.plot(fpr[1], tpr[1], linestyle='--',color='red', label='Heart Disease 1')\n",
    "plt.plot([0,1],[0,1],color=\"black\",linestyle=\"--\")\n",
    "#plt.plot(fpr[2], tpr[2], linestyle='--',color='blue', label='Class 2 vs Rest')\n",
    "#plt.plot(fpr[3], tpr[3], linestyle='--',color='red', label='Class 3 vs Rest')\n",
    "#plt.plot(fpr[4], tpr[4], linestyle='--',color='black', label='Class 4 vs Rest')\n",
    "#plt.plot(fpr[5], tpr[5], linestyle='--',color='purple', label='Class 5 vs Rest')\n",
    "#plt.plot(fpr[6], tpr[6], linestyle='--',color='yellow', label='Class 6 vs Rest')\n",
    "plt.title('ROC: Logistic Regression')\n",
    "plt.text(0.6,0.5,\"Baseline\")\n",
    "plt.xlabel('False Positive Rate')\n",
    "plt.ylabel('True Positive rate')\n",
    "plt.legend(loc='best')\n",
    "#plt.savefig('LR ROC',dpi=300); "
   ]
  },
  {
   "cell_type": "markdown",
   "id": "95c08b4d",
   "metadata": {},
   "source": [
    "### AUC Score"
   ]
  },
  {
   "cell_type": "code",
   "execution_count": 68,
   "id": "c121ceb7",
   "metadata": {},
   "outputs": [
    {
     "name": "stdout",
     "output_type": "stream",
     "text": [
      "Logistic Regression AUC Score: 0.9483\n"
     ]
    }
   ],
   "source": [
    "# AUC score\n",
    "\n",
    "#from sklearn.metrics import roc_auc_score\n",
    "lr_auc_score = roc_auc_score(y_test, prediction_cplx[:,i]).round(4)\n",
    "\n",
    "print('Logistic Regression AUC Score:',lr_auc_score)"
   ]
  },
  {
   "cell_type": "markdown",
   "id": "54ddfa60",
   "metadata": {},
   "source": [
    "## Predictions and Confidence Interval \n",
    "\n",
    "### Index of  incorrect predictions"
   ]
  },
  {
   "cell_type": "code",
   "execution_count": 69,
   "id": "7a983e4c",
   "metadata": {},
   "outputs": [
    {
     "data": {
      "text/plain": [
       "(array([ 6, 10, 11, 20, 25, 26, 30, 33], dtype=int64),)"
      ]
     },
     "execution_count": 69,
     "metadata": {},
     "output_type": "execute_result"
    }
   ],
   "source": [
    "# Incorrect predictions\n",
    "\n",
    "prediction_cplx = lr.predict(X_test)\n",
    "\n",
    "incorrects = np.nonzero(prediction_cplx.reshape((-1,)) != y_test)\n",
    "incorrects"
   ]
  },
  {
   "cell_type": "markdown",
   "id": "79de3251",
   "metadata": {},
   "source": [
    "### Classes and probabilities "
   ]
  },
  {
   "cell_type": "code",
   "execution_count": 70,
   "id": "7366aefe",
   "metadata": {
    "scrolled": true
   },
   "outputs": [
    {
     "data": {
      "text/html": [
       "<div>\n",
       "<style scoped>\n",
       "    .dataframe tbody tr th:only-of-type {\n",
       "        vertical-align: middle;\n",
       "    }\n",
       "\n",
       "    .dataframe tbody tr th {\n",
       "        vertical-align: top;\n",
       "    }\n",
       "\n",
       "    .dataframe thead th {\n",
       "        text-align: right;\n",
       "    }\n",
       "</style>\n",
       "<table border=\"1\" class=\"dataframe\">\n",
       "  <thead>\n",
       "    <tr style=\"text-align: right;\">\n",
       "      <th></th>\n",
       "      <th>No heart disease</th>\n",
       "      <th>Heart disease</th>\n",
       "      <th>Predicted class</th>\n",
       "    </tr>\n",
       "  </thead>\n",
       "  <tbody>\n",
       "    <tr>\n",
       "      <th>0</th>\n",
       "      <td>0.938</td>\n",
       "      <td>0.062</td>\n",
       "      <td>0</td>\n",
       "    </tr>\n",
       "    <tr>\n",
       "      <th>1</th>\n",
       "      <td>0.599</td>\n",
       "      <td>0.401</td>\n",
       "      <td>0</td>\n",
       "    </tr>\n",
       "    <tr>\n",
       "      <th>2</th>\n",
       "      <td>0.234</td>\n",
       "      <td>0.766</td>\n",
       "      <td>1</td>\n",
       "    </tr>\n",
       "    <tr>\n",
       "      <th>3</th>\n",
       "      <td>0.952</td>\n",
       "      <td>0.048</td>\n",
       "      <td>0</td>\n",
       "    </tr>\n",
       "    <tr>\n",
       "      <th>4</th>\n",
       "      <td>0.048</td>\n",
       "      <td>0.952</td>\n",
       "      <td>1</td>\n",
       "    </tr>\n",
       "    <tr>\n",
       "      <th>...</th>\n",
       "      <td>...</td>\n",
       "      <td>...</td>\n",
       "      <td>...</td>\n",
       "    </tr>\n",
       "    <tr>\n",
       "      <th>56</th>\n",
       "      <td>0.905</td>\n",
       "      <td>0.095</td>\n",
       "      <td>0</td>\n",
       "    </tr>\n",
       "    <tr>\n",
       "      <th>57</th>\n",
       "      <td>0.050</td>\n",
       "      <td>0.950</td>\n",
       "      <td>1</td>\n",
       "    </tr>\n",
       "    <tr>\n",
       "      <th>58</th>\n",
       "      <td>0.950</td>\n",
       "      <td>0.050</td>\n",
       "      <td>0</td>\n",
       "    </tr>\n",
       "    <tr>\n",
       "      <th>59</th>\n",
       "      <td>0.988</td>\n",
       "      <td>0.012</td>\n",
       "      <td>0</td>\n",
       "    </tr>\n",
       "    <tr>\n",
       "      <th>60</th>\n",
       "      <td>0.921</td>\n",
       "      <td>0.079</td>\n",
       "      <td>0</td>\n",
       "    </tr>\n",
       "  </tbody>\n",
       "</table>\n",
       "<p>61 rows × 3 columns</p>\n",
       "</div>"
      ],
      "text/plain": [
       "    No heart disease  Heart disease  Predicted class\n",
       "0              0.938          0.062                0\n",
       "1              0.599          0.401                0\n",
       "2              0.234          0.766                1\n",
       "3              0.952          0.048                0\n",
       "4              0.048          0.952                1\n",
       "..               ...            ...              ...\n",
       "56             0.905          0.095                0\n",
       "57             0.050          0.950                1\n",
       "58             0.950          0.050                0\n",
       "59             0.988          0.012                0\n",
       "60             0.921          0.079                0\n",
       "\n",
       "[61 rows x 3 columns]"
      ]
     },
     "execution_count": 70,
     "metadata": {},
     "output_type": "execute_result"
    }
   ],
   "source": [
    "# Classes and Probabilities\n",
    "\n",
    "prediction_probability = lr.predict_proba(X_test)\n",
    "prediction_cplx = lr.predict(X_test)\n",
    "\n",
    "class_df = pd.DataFrame(prediction_cplx.round(3),columns=['Predicted class'])\n",
    "proba_df = pd.DataFrame(prediction_probability.round(3),columns=['No heart disease','Heart disease'])\n",
    "\n",
    "\n",
    "predictions_df = pd.concat([proba_df,class_df ], axis=1)\n",
    "predictions_df"
   ]
  },
  {
   "cell_type": "markdown",
   "id": "a642e962",
   "metadata": {},
   "source": [
    "### Jaccard similarity coefficient"
   ]
  },
  {
   "cell_type": "code",
   "execution_count": 71,
   "id": "e9b4a880",
   "metadata": {},
   "outputs": [
    {
     "data": {
      "text/html": [
       "<div>\n",
       "<style scoped>\n",
       "    .dataframe tbody tr th:only-of-type {\n",
       "        vertical-align: middle;\n",
       "    }\n",
       "\n",
       "    .dataframe tbody tr th {\n",
       "        vertical-align: top;\n",
       "    }\n",
       "\n",
       "    .dataframe thead th {\n",
       "        text-align: right;\n",
       "    }\n",
       "</style>\n",
       "<table border=\"1\" class=\"dataframe\">\n",
       "  <thead>\n",
       "    <tr style=\"text-align: right;\">\n",
       "      <th></th>\n",
       "      <th>Jaccard score</th>\n",
       "    </tr>\n",
       "  </thead>\n",
       "  <tbody>\n",
       "    <tr>\n",
       "      <th>0</th>\n",
       "      <td>0.771429</td>\n",
       "    </tr>\n",
       "    <tr>\n",
       "      <th>1</th>\n",
       "      <td>0.764706</td>\n",
       "    </tr>\n",
       "  </tbody>\n",
       "</table>\n",
       "</div>"
      ],
      "text/plain": [
       "   Jaccard score\n",
       "0       0.771429\n",
       "1       0.764706"
      ]
     },
     "execution_count": 71,
     "metadata": {},
     "output_type": "execute_result"
    }
   ],
   "source": [
    "# Jaccard similarity coefficient\n",
    "# Predicted class compared with actual class\n",
    "\n",
    "\n",
    "jaccard = jaccard_score(y_test, prediction_cplx, average = None)\n",
    "\n",
    "jaccard_df = pd.DataFrame(jaccard,columns=['Jaccard score'])\n",
    "jaccard_df"
   ]
  },
  {
   "cell_type": "markdown",
   "id": "68cf8fd3",
   "metadata": {},
   "source": [
    "### Confidence interval\n",
    "\n",
    "The confidence interval is a likelihood over a range. The true model skill may lie outside of this range.\n",
    " \n",
    "**Commonly used number of standard deviations from the Gaussian distribution and their corresponding significance level are as follows:**\n",
    "\n",
    "* 1.64 (90%)\n",
    "* 1.96 (95%)\n",
    "* 2.33 (98%)\n",
    "* 2.58 (99%)\n",
    "\n",
    "#### Using model error"
   ]
  },
  {
   "cell_type": "code",
   "execution_count": 72,
   "id": "7d705b21",
   "metadata": {},
   "outputs": [
    {
     "name": "stdout",
     "output_type": "stream",
     "text": [
      "Confidence interval radius:0.084\n"
     ]
    }
   ],
   "source": [
    "# 95% confidence interval (z = 1.96) See above\n",
    "\n",
    "# calculated radius of the confidence interval (error)\n",
    "\n",
    "# where: interval = z * sqrt( (error * (1 - error)) / n)\n",
    "\n",
    "interval = 1.96 * sqrt( (0.13 * (1 - 0.13)) / 61)\n",
    "print('Confidence interval radius:%.3f' % interval)"
   ]
  },
  {
   "cell_type": "markdown",
   "id": "7330ac81",
   "metadata": {},
   "source": [
    "* **The classification error of the model is 13%, +/- 8%**\n",
    "* **The true classification error of the model is likely between 5% and 21%**.\n",
    "\n",
    "* **The true model skill may lie outside of this range**.\n"
   ]
  },
  {
   "cell_type": "markdown",
   "id": "994e1668",
   "metadata": {},
   "source": [
    "### Upper and lower bounds of model classification accuracy"
   ]
  },
  {
   "cell_type": "code",
   "execution_count": 74,
   "id": "75bdaa18",
   "metadata": {},
   "outputs": [
    {
     "name": "stdout",
     "output_type": "stream",
     "text": [
      "Lower Bounds of Accuracy:0.791 \n",
      "Upper Bounds of Accuracy:0.955 \n"
     ]
    }
   ],
   "source": [
    "# Upper and lower bounds of model accuracy (95% confidence) using 53 correct predictions,\n",
    "# out of a dataset of 61 instances and 95% conficence interval\n",
    "\n",
    "# from statsmodels.stats.proportion import proportion_confint\n",
    "\n",
    "lower, upper = proportion_confint(55,63,0.05)\n",
    "\n",
    "print('Lower Bounds of Accuracy:%.3f ' % lower)\n",
    "print('Upper Bounds of Accuracy:%.3f ' %upper)"
   ]
  },
  {
   "cell_type": "markdown",
   "id": "fb0223a3",
   "metadata": {},
   "source": [
    "* **Using 95% confidence interval**\n",
    "* **The true classification accuracy of the logistic regression model is likely between 80% and 96%** \n"
   ]
  },
  {
   "cell_type": "markdown",
   "id": "de9e3fc7",
   "metadata": {},
   "source": [
    "## Decision Tree"
   ]
  },
  {
   "cell_type": "code",
   "execution_count": 76,
   "id": "8c4e104e",
   "metadata": {
    "scrolled": false
   },
   "outputs": [
    {
     "name": "stdout",
     "output_type": "stream",
     "text": [
      "MCC on train 0.918\n",
      "MCC on test 0.548\n",
      "\n",
      "F1 on train 0.958\n",
      "F1 on test 0.77\n",
      "\n",
      "Accuracy on train: 0.959\n",
      "Accuracy on test: 0.77\n",
      "\n",
      "Confusion Matrix:\n",
      "[[24  5]\n",
      " [ 9 23]]\n",
      "\n",
      "Decision Tree Model Parameters\n"
     ]
    },
    {
     "data": {
      "text/plain": [
       "{'ccp_alpha': 0.0,\n",
       " 'class_weight': None,\n",
       " 'criterion': 'gini',\n",
       " 'max_depth': 6,\n",
       " 'max_features': None,\n",
       " 'max_leaf_nodes': None,\n",
       " 'min_impurity_decrease': 0.0,\n",
       " 'min_impurity_split': None,\n",
       " 'min_samples_leaf': 1,\n",
       " 'min_samples_split': 2,\n",
       " 'min_weight_fraction_leaf': 0.0,\n",
       " 'random_state': 42,\n",
       " 'splitter': 'best'}"
      ]
     },
     "execution_count": 76,
     "metadata": {},
     "output_type": "execute_result"
    }
   ],
   "source": [
    "# Decision tree\n",
    "\n",
    "dt = DecisionTreeClassifier(max_depth=6,random_state=42).fit(X_train,y_train)\n",
    "pred_dt = dt.predict(X_test)\n",
    "pred2_dt = dt.predict(X_train)\n",
    "\n",
    "# Matthews correlation, f1 score and accuracy\n",
    "dt_mcc_train = matthews_corrcoef(y_train, pred2_dt)\n",
    "print('MCC on train',dt_mcc_train.round(3))\n",
    "dt_mcc_test = matthews_corrcoef(y_test,pred_dt)\n",
    "print('MCC on test',dt_mcc_test.round(3))\n",
    "\n",
    "print()\n",
    "\n",
    "dt_f1_train = f1_score(y_train,pred2_dt,average='macro')\n",
    "print('F1 on train',dt_f1_train.round(3))\n",
    "dt_f1_test = f1_score(y_test, pred_dt, average='macro')\n",
    "print('F1 on test',dt_f1_test.round(3))\n",
    "print()\n",
    "\n",
    "dt_acc_train = accuracy_score(y_train, pred2_dt)\n",
    "dt_acc_test = accuracy_score(y_test,pred_dt)\n",
    "\n",
    "print('Accuracy on train:',dt_acc_train.round(3))\n",
    "print('Accuracy on test:',dt_acc_test.round(3))\n",
    "\n",
    "\n",
    "#print(\"Accuracy on train: {:.3f}\".format(accuracy_score(y_train,pred2_dt)))\n",
    "#print(\"Accuracy on test: {:.3f}\".format(accuracy_score(y_test,pred_dt)))\n",
    "print()\n",
    "print('Confusion Matrix:\\n{}'.format(confusion_matrix(y_test,pred_dt)))\n",
    "print()\n",
    "print('Decision Tree Model Parameters')\n",
    "dt.get_params()"
   ]
  },
  {
   "cell_type": "markdown",
   "id": "5cebbd04",
   "metadata": {},
   "source": [
    "### Cross validation"
   ]
  },
  {
   "cell_type": "code",
   "execution_count": 80,
   "id": "d6b96d6c",
   "metadata": {},
   "outputs": [
    {
     "name": "stdout",
     "output_type": "stream",
     "text": [
      "76.16% accuracy with a standard deviation of 5.30%\n"
     ]
    }
   ],
   "source": [
    "# Cross Validation\n",
    "\n",
    "scores=cross_val_score(dt,X_train,y_train,cv=10,n_jobs=-1,scoring='f1')\n",
    "print(\"%0.2f%% accuracy with a standard deviation of %0.2f%%\" % (scores.mean()*100, scores.std()*100))"
   ]
  },
  {
   "cell_type": "markdown",
   "id": "3e8da3d7",
   "metadata": {},
   "source": [
    "### Classification report"
   ]
  },
  {
   "cell_type": "code",
   "execution_count": 81,
   "id": "d059805c",
   "metadata": {},
   "outputs": [
    {
     "name": "stdout",
     "output_type": "stream",
     "text": [
      "dt:               precision    recall  f1-score   support\n",
      "\n",
      "           0       0.73      0.83      0.77        29\n",
      "           1       0.82      0.72      0.77        32\n",
      "\n",
      "    accuracy                           0.77        61\n",
      "   macro avg       0.77      0.77      0.77        61\n",
      "weighted avg       0.78      0.77      0.77        61\n",
      "\n"
     ]
    }
   ],
   "source": [
    "print(\"dt:\",classification_report(y_test, pred_dt))"
   ]
  },
  {
   "cell_type": "markdown",
   "id": "ec35debe",
   "metadata": {},
   "source": [
    "### Confusion matrix"
   ]
  },
  {
   "cell_type": "code",
   "execution_count": 82,
   "id": "da849eff",
   "metadata": {
    "scrolled": true
   },
   "outputs": [
    {
     "data": {
      "text/plain": [
       "Text(0.5, 16.0, 'Predicted Class')"
      ]
     },
     "execution_count": 82,
     "metadata": {},
     "output_type": "execute_result"
    },
    {
     "data": {
      "image/png": "[encoded data removed]",
      "text/plain": [
       "<Figure size 432x288 with 2 Axes>"
      ]
     },
     "metadata": {
      "needs_background": "light"
     },
     "output_type": "display_data"
    }
   ],
   "source": [
    "cm = confusion_matrix(y_test,pred_dt)\n",
    "#sns.heatmap(cm, annot=True)\n",
    "sns.heatmap(cm, annot=True, fmt='g', vmin=0, cbar=True, cmap='twilight_r')\n",
    "plt.ylabel('True Class')\n",
    "plt.xlabel('Predicted Class')"
   ]
  },
  {
   "cell_type": "markdown",
   "id": "d6c8a88d",
   "metadata": {},
   "source": [
    "### Performance Metrics"
   ]
  },
  {
   "cell_type": "code",
   "execution_count": 83,
   "id": "019cd909",
   "metadata": {
    "scrolled": false
   },
   "outputs": [
    {
     "name": "stdout",
     "output_type": "stream",
     "text": [
      "Class: {0: 'No Heart Disease', 1: 'Heart Disease'}\n",
      "Specificity: [0.71875    0.82758621]\n",
      "Specificity Mean: 0.7731681034482758\n",
      "\n",
      "Class: {0: 'No Heart Disease', 1: 'Heart Disease'}\n",
      "Recall/Sensitivity: [0.82758621 0.71875   ]\n",
      "Recall/Sensitivity Mean: 0.7731681034482758\n",
      "\n",
      "Class: {0: 'No Heart Disease', 1: 'Heart Disease'}\n",
      "Precision: [0.72727273 0.82142857]\n",
      "Precision Mean: 0.7743506493506493\n",
      "\n",
      "Class: {0: 'No Heart Disease', 1: 'Heart Disease'}\n",
      "False Positive Rate: [0.28125    0.17241379]\n",
      "False Positive Rate Mean: 0.22683189655172414\n",
      "\n",
      "Class: {0: 'No Heart Disease', 1: 'Heart Disease'}\n",
      "False Negative Rate: [0.17241379 0.28125   ]\n",
      "False Negative Rate Mean: 0.22683189655172414\n",
      "\n",
      "Class: {0: 'No Heart Disease', 1: 'Heart Disease'}\n",
      "False Discovery Rate: [0.27272727 0.17857143]\n",
      "False Discovery Rate Mean: 0.22564935064935066\n"
     ]
    }
   ],
   "source": [
    "#Performance metrics from confusion matrix \n",
    "\n",
    "FP = cm.sum(axis=0) - np.diag(cm) \n",
    "FN = cm.sum(axis=1) - np.diag(cm)\n",
    "TP = np.diag(cm)\n",
    "TN = cm.sum() - (FP + FN + TP)\n",
    "\n",
    "FP = FP.astype(float)\n",
    "FN = FN.astype(float)\n",
    "TP = TP.astype(float)\n",
    "TN = TN.astype(float)\n",
    "\n",
    "# Sensitivity, hit rate, Recall, or true positive rate\n",
    "TPR = TP/(TP+FN)\n",
    "\n",
    "# Specificity or true negative rate\n",
    "TNR = TN/(TN+FP) \n",
    "\n",
    "# Precision or positive predictive value\n",
    "PPV = TP/(TP+FP)\n",
    "\n",
    "# Negative predictive value\n",
    "NPV = TN/(TN+FN)\n",
    "\n",
    "# Fall out or false positive rate\n",
    "FPR = FP/(FP+TN)\n",
    "\n",
    "# False negative rate\n",
    "FNR = FN/(TP+FN)\n",
    "\n",
    "# False discovery rate\n",
    "FDR = FP/(TP+FP)\n",
    "\n",
    "\n",
    "print('Class:',class_label)\n",
    "\n",
    "print('Specificity:',TNR)\n",
    "print('Specificity Mean:',TNR.mean())\n",
    "\n",
    "print()\n",
    "\n",
    "print('Class:',class_label)\n",
    "\n",
    "print('Recall/Sensitivity:',TPR)\n",
    "print('Recall/Sensitivity Mean:',TPR.mean())\n",
    "\n",
    "print()\n",
    "\n",
    "print('Class:',class_label)\n",
    "\n",
    "print('Precision:',PPV)\n",
    "print('Precision Mean:',PPV.mean())\n",
    "\n",
    "print()\n",
    "\n",
    "print('Class:',class_label)\n",
    "\n",
    "print('False Positive Rate:',FPR)\n",
    "print('False Positive Rate Mean:',FPR.mean())\n",
    "\n",
    "print()\n",
    "\n",
    "print('Class:',class_label)\n",
    "\n",
    "print('False Negative Rate:',FNR)\n",
    "print('False Negative Rate Mean:',FNR.mean())\n",
    "\n",
    "print()\n",
    "\n",
    "print('Class:',class_label)\n",
    "\n",
    "print('False Discovery Rate:',FDR)\n",
    "print('False Discovery Rate Mean:',FDR.mean())"
   ]
  },
  {
   "cell_type": "markdown",
   "id": "23d3fa01",
   "metadata": {},
   "source": [
    "### ROC Plot"
   ]
  },
  {
   "cell_type": "code",
   "execution_count": 84,
   "id": "58aebd24",
   "metadata": {},
   "outputs": [
    {
     "data": {
      "text/plain": [
       "<matplotlib.legend.Legend at 0x226f6219808>"
      ]
     },
     "execution_count": 84,
     "metadata": {},
     "output_type": "execute_result"
    },
    {
     "data": {
      "image/png": "[encoded data removed]",
      "text/plain": [
       "<Figure size 576x432 with 1 Axes>"
      ]
     },
     "metadata": {
      "needs_background": "light"
     },
     "output_type": "display_data"
    }
   ],
   "source": [
    "#ROC Plot\n",
    "#from sklearn.multiclass import OneVsRestClassifier\n",
    "from sklearn.metrics import roc_curve\n",
    "from sklearn.metrics import roc_auc_score\n",
    "\n",
    "prediction_cplx = dt.predict_proba(X_test)\n",
    "\n",
    "# roc curve for classes\n",
    "fpr = {}\n",
    "tpr = {}\n",
    "thresh ={}\n",
    "\n",
    "n_class = 2\n",
    "\n",
    "for i in range(n_class):    \n",
    "    fpr[i], tpr[i], thresh[i] = roc_curve(y_test, prediction_cplx[:,i], pos_label=i)\n",
    "\n",
    "#y_score = classifier.fit(X_train, y_train).decision_function(X_test)\n",
    "# Compute micro-average ROC curve and ROC area\n",
    "#fpr[\"micro\"], tpr[\"micro\"], _ = roc_curve(y_test.ravel(), y_score.ravel())\n",
    "#roc_auc[\"micro\"] = auc(fpr[\"micro\"], tpr[\"micro\"])  \n",
    "\n",
    "\n",
    "\n",
    "    \n",
    "# plotting\n",
    "plt.figure(figsize=(8, 6))\n",
    "plt.plot(fpr[0], tpr[0], linestyle='--',color='steelblue', label='No Heart Disease 0')\n",
    "plt.plot(fpr[1], tpr[1], linestyle='--',color='red', label='Heart Disease 1')\n",
    "plt.plot([0,1],[0,1],color=\"black\",linestyle=\"--\")\n",
    "#plt.plot(fpr[2], tpr[2], linestyle='--',color='blue', label='Class 2 vs Rest')\n",
    "#plt.plot(fpr[3], tpr[3], linestyle='--',color='red', label='Class 3 vs Rest')\n",
    "#plt.plot(fpr[4], tpr[4], linestyle='--',color='black', label='Class 4 vs Rest')\n",
    "#plt.plot(fpr[5], tpr[5], linestyle='--',color='purple', label='Class 5 vs Rest')\n",
    "#plt.plot(fpr[6], tpr[6], linestyle='--',color='yellow', label='Class 6 vs Rest')\n",
    "plt.title('ROC: Decision Tree')\n",
    "plt.text(0.6,0.5,\"Baseline\")\n",
    "plt.xlabel('False Positive Rate')\n",
    "plt.ylabel('True Positive rate')\n",
    "plt.legend(loc='best')\n",
    "#plt.savefig('DT ROC',dpi=300); "
   ]
  },
  {
   "cell_type": "markdown",
   "id": "6c314df8",
   "metadata": {},
   "source": [
    "###  AUC Score"
   ]
  },
  {
   "cell_type": "code",
   "execution_count": 85,
   "id": "b9346cc1",
   "metadata": {},
   "outputs": [
    {
     "name": "stdout",
     "output_type": "stream",
     "text": [
      "Logistic Regression AUC Score: 0.8443\n"
     ]
    }
   ],
   "source": [
    "# AUC score\n",
    "\n",
    "#from sklearn.metrics import roc_auc_score\n",
    "dt_auc_score = roc_auc_score(y_test, prediction_cplx[:,i]).round(4)\n",
    "\n",
    "print('Logistic Regression AUC Score:',dt_auc_score)"
   ]
  },
  {
   "cell_type": "markdown",
   "id": "218005a9",
   "metadata": {},
   "source": [
    "## Predictions and Confidence Interval "
   ]
  },
  {
   "cell_type": "markdown",
   "id": "6aa9c64e",
   "metadata": {},
   "source": [
    "### Index of  incorrect predictions"
   ]
  },
  {
   "cell_type": "code",
   "execution_count": 86,
   "id": "9674e977",
   "metadata": {},
   "outputs": [
    {
     "data": {
      "text/plain": [
       "(array([ 1, 11, 22, 23, 25, 26, 30, 34, 38, 41, 44, 52, 53, 56],\n",
       "       dtype=int64),)"
      ]
     },
     "execution_count": 86,
     "metadata": {},
     "output_type": "execute_result"
    }
   ],
   "source": [
    "# Incorrect predictions\n",
    "\n",
    "prediction_cplx = dt.predict(X_test)\n",
    "\n",
    "incorrects = np.nonzero(prediction_cplx.reshape((-1,)) != y_test)\n",
    "incorrects"
   ]
  },
  {
   "cell_type": "markdown",
   "id": "8d176bb3",
   "metadata": {},
   "source": [
    "### Classes and probabilities "
   ]
  },
  {
   "cell_type": "code",
   "execution_count": 87,
   "id": "b8d18b7a",
   "metadata": {
    "scrolled": true
   },
   "outputs": [
    {
     "data": {
      "text/html": [
       "<div>\n",
       "<style scoped>\n",
       "    .dataframe tbody tr th:only-of-type {\n",
       "        vertical-align: middle;\n",
       "    }\n",
       "\n",
       "    .dataframe tbody tr th {\n",
       "        vertical-align: top;\n",
       "    }\n",
       "\n",
       "    .dataframe thead th {\n",
       "        text-align: right;\n",
       "    }\n",
       "</style>\n",
       "<table border=\"1\" class=\"dataframe\">\n",
       "  <thead>\n",
       "    <tr style=\"text-align: right;\">\n",
       "      <th></th>\n",
       "      <th>No heart disease</th>\n",
       "      <th>Heart disease</th>\n",
       "      <th>Predicted class</th>\n",
       "    </tr>\n",
       "  </thead>\n",
       "  <tbody>\n",
       "    <tr>\n",
       "      <th>0</th>\n",
       "      <td>1.000</td>\n",
       "      <td>0.000</td>\n",
       "      <td>0</td>\n",
       "    </tr>\n",
       "    <tr>\n",
       "      <th>1</th>\n",
       "      <td>0.118</td>\n",
       "      <td>0.882</td>\n",
       "      <td>1</td>\n",
       "    </tr>\n",
       "    <tr>\n",
       "      <th>2</th>\n",
       "      <td>0.118</td>\n",
       "      <td>0.882</td>\n",
       "      <td>1</td>\n",
       "    </tr>\n",
       "    <tr>\n",
       "      <th>3</th>\n",
       "      <td>1.000</td>\n",
       "      <td>0.000</td>\n",
       "      <td>0</td>\n",
       "    </tr>\n",
       "    <tr>\n",
       "      <th>4</th>\n",
       "      <td>0.000</td>\n",
       "      <td>1.000</td>\n",
       "      <td>1</td>\n",
       "    </tr>\n",
       "    <tr>\n",
       "      <th>...</th>\n",
       "      <td>...</td>\n",
       "      <td>...</td>\n",
       "      <td>...</td>\n",
       "    </tr>\n",
       "    <tr>\n",
       "      <th>56</th>\n",
       "      <td>0.118</td>\n",
       "      <td>0.882</td>\n",
       "      <td>1</td>\n",
       "    </tr>\n",
       "    <tr>\n",
       "      <th>57</th>\n",
       "      <td>0.000</td>\n",
       "      <td>1.000</td>\n",
       "      <td>1</td>\n",
       "    </tr>\n",
       "    <tr>\n",
       "      <th>58</th>\n",
       "      <td>1.000</td>\n",
       "      <td>0.000</td>\n",
       "      <td>0</td>\n",
       "    </tr>\n",
       "    <tr>\n",
       "      <th>59</th>\n",
       "      <td>1.000</td>\n",
       "      <td>0.000</td>\n",
       "      <td>0</td>\n",
       "    </tr>\n",
       "    <tr>\n",
       "      <th>60</th>\n",
       "      <td>1.000</td>\n",
       "      <td>0.000</td>\n",
       "      <td>0</td>\n",
       "    </tr>\n",
       "  </tbody>\n",
       "</table>\n",
       "<p>61 rows × 3 columns</p>\n",
       "</div>"
      ],
      "text/plain": [
       "    No heart disease  Heart disease  Predicted class\n",
       "0              1.000          0.000                0\n",
       "1              0.118          0.882                1\n",
       "2              0.118          0.882                1\n",
       "3              1.000          0.000                0\n",
       "4              0.000          1.000                1\n",
       "..               ...            ...              ...\n",
       "56             0.118          0.882                1\n",
       "57             0.000          1.000                1\n",
       "58             1.000          0.000                0\n",
       "59             1.000          0.000                0\n",
       "60             1.000          0.000                0\n",
       "\n",
       "[61 rows x 3 columns]"
      ]
     },
     "execution_count": 87,
     "metadata": {},
     "output_type": "execute_result"
    }
   ],
   "source": [
    "# Classes and Probabilities\n",
    "\n",
    "prediction_probability = dt.predict_proba(X_test)\n",
    "prediction_cplx = dt.predict(X_test)\n",
    "\n",
    "class_df = pd.DataFrame(prediction_cplx.round(3),columns=['Predicted class'])\n",
    "proba_df = pd.DataFrame(prediction_probability.round(3),columns=['No heart disease','Heart disease'])\n",
    "\n",
    "\n",
    "predictions_df = pd.concat([proba_df,class_df ], axis=1)\n",
    "predictions_df"
   ]
  },
  {
   "cell_type": "markdown",
   "id": "93ed7b59",
   "metadata": {},
   "source": [
    "### Jaccard similarity coefficient"
   ]
  },
  {
   "cell_type": "code",
   "execution_count": 88,
   "id": "046cec79",
   "metadata": {},
   "outputs": [
    {
     "data": {
      "text/html": [
       "<div>\n",
       "<style scoped>\n",
       "    .dataframe tbody tr th:only-of-type {\n",
       "        vertical-align: middle;\n",
       "    }\n",
       "\n",
       "    .dataframe tbody tr th {\n",
       "        vertical-align: top;\n",
       "    }\n",
       "\n",
       "    .dataframe thead th {\n",
       "        text-align: right;\n",
       "    }\n",
       "</style>\n",
       "<table border=\"1\" class=\"dataframe\">\n",
       "  <thead>\n",
       "    <tr style=\"text-align: right;\">\n",
       "      <th></th>\n",
       "      <th>Jaccard score</th>\n",
       "    </tr>\n",
       "  </thead>\n",
       "  <tbody>\n",
       "    <tr>\n",
       "      <th>0</th>\n",
       "      <td>0.631579</td>\n",
       "    </tr>\n",
       "    <tr>\n",
       "      <th>1</th>\n",
       "      <td>0.621622</td>\n",
       "    </tr>\n",
       "  </tbody>\n",
       "</table>\n",
       "</div>"
      ],
      "text/plain": [
       "   Jaccard score\n",
       "0       0.631579\n",
       "1       0.621622"
      ]
     },
     "execution_count": 88,
     "metadata": {},
     "output_type": "execute_result"
    }
   ],
   "source": [
    "# Jaccard similarity coefficient\n",
    "# Predicted class compared with actual class\n",
    "\n",
    "\n",
    "jaccard = jaccard_score(y_test, prediction_cplx, average = None)\n",
    "\n",
    "jaccard_df = pd.DataFrame(jaccard,columns=['Jaccard score'])\n",
    "jaccard_df"
   ]
  },
  {
   "cell_type": "markdown",
   "id": "1bab0815",
   "metadata": {},
   "source": [
    "### Confidence interval\n",
    "\n",
    "The confidence interval is a likelihood over a range. The true model skill may lie outside of this range.\n",
    " \n",
    "**Commonly used number of standard deviations from the Gaussian distribution and their corresponding significance level are as follows:**\n",
    "\n",
    "* 1.64 (90%)\n",
    "* 1.96 (95%)\n",
    "* 2.33 (98%)\n",
    "* 2.58 (99%)\n",
    "\n",
    "#### Using model error"
   ]
  },
  {
   "cell_type": "code",
   "execution_count": 89,
   "id": "9848fdbf",
   "metadata": {},
   "outputs": [
    {
     "data": {
      "text/plain": [
       "(61, 23)"
      ]
     },
     "execution_count": 89,
     "metadata": {},
     "output_type": "execute_result"
    }
   ],
   "source": [
    "X_test.shape"
   ]
  },
  {
   "cell_type": "code",
   "execution_count": 100,
   "id": "7d13d53a",
   "metadata": {},
   "outputs": [
    {
     "name": "stdout",
     "output_type": "stream",
     "text": [
      "Confidence interval radius:0.106\n"
     ]
    }
   ],
   "source": [
    "# 95% confidence interval (z = 1.96) See above\n",
    "\n",
    "# calculated radius of the confidence interval (error)\n",
    "\n",
    "# where: interval = z * sqrt( (error * (1 - error)) / n)\n",
    "\n",
    "interval = 1.96 * sqrt( (0.23 * (1 - 0.23)) / 61)\n",
    "print('Confidence interval radius:%.3f' % interval)"
   ]
  },
  {
   "cell_type": "markdown",
   "id": "197f7661",
   "metadata": {},
   "source": [
    "* **The classification error of the model is 23%, +/- 11%**\n",
    "* **The true classification error of the model is likely between 12% and 34%**. \n",
    "\n",
    "* **True model skill may lie outside of this range**."
   ]
  },
  {
   "cell_type": "markdown",
   "id": "278b19f8",
   "metadata": {},
   "source": [
    "### Upper and lower bounds of model classification accuracy"
   ]
  },
  {
   "cell_type": "code",
   "execution_count": 91,
   "id": "ab6f63f2",
   "metadata": {},
   "outputs": [
    {
     "name": "stdout",
     "output_type": "stream",
     "text": [
      "Lower Bounds of Accuracy:0.665 \n",
      "Upper Bounds of Accuracy:0.876 \n"
     ]
    }
   ],
   "source": [
    "# Upper and lower bounds of model accuracy (95% confidence) using 26 correct predictions,\n",
    "# out of a dataset of 33 instances and 95% conficence interval\n",
    "\n",
    "# from statsmodels.stats.proportion import proportion_confint\n",
    "\n",
    "lower, upper = proportion_confint(47, 61, 0.05)\n",
    "\n",
    "print('Lower Bounds of Accuracy:%.3f ' % lower)\n",
    "print('Upper Bounds of Accuracy:%.3f ' %upper)"
   ]
  },
  {
   "cell_type": "markdown",
   "id": "7951613d",
   "metadata": {},
   "source": [
    " \n",
    "  \n",
    "* **The true classification accuracy of the model is likely between 67% and 88%**.\n",
    "\n",
    "* **True model skill may lie outside of this range**. "
   ]
  },
  {
   "cell_type": "markdown",
   "id": "d0c9d6c1",
   "metadata": {},
   "source": [
    "## Feature Importances"
   ]
  },
  {
   "cell_type": "code",
   "execution_count": 92,
   "id": "f4003385",
   "metadata": {},
   "outputs": [
    {
     "data": {
      "text/html": [
       "<div>\n",
       "<style scoped>\n",
       "    .dataframe tbody tr th:only-of-type {\n",
       "        vertical-align: middle;\n",
       "    }\n",
       "\n",
       "    .dataframe tbody tr th {\n",
       "        vertical-align: top;\n",
       "    }\n",
       "\n",
       "    .dataframe thead th {\n",
       "        text-align: right;\n",
       "    }\n",
       "</style>\n",
       "<table border=\"1\" class=\"dataframe\">\n",
       "  <thead>\n",
       "    <tr style=\"text-align: right;\">\n",
       "      <th></th>\n",
       "      <th>Features</th>\n",
       "      <th>Importances</th>\n",
       "    </tr>\n",
       "  </thead>\n",
       "  <tbody>\n",
       "    <tr>\n",
       "      <th>18</th>\n",
       "      <td>TH_2</td>\n",
       "      <td>0.284557</td>\n",
       "    </tr>\n",
       "    <tr>\n",
       "      <th>9</th>\n",
       "      <td>CP_0</td>\n",
       "      <td>0.123664</td>\n",
       "    </tr>\n",
       "    <tr>\n",
       "      <th>7</th>\n",
       "      <td>oldpeak</td>\n",
       "      <td>0.110912</td>\n",
       "    </tr>\n",
       "    <tr>\n",
       "      <th>8</th>\n",
       "      <td>ca</td>\n",
       "      <td>0.104623</td>\n",
       "    </tr>\n",
       "    <tr>\n",
       "      <th>0</th>\n",
       "      <td>age</td>\n",
       "      <td>0.096547</td>\n",
       "    </tr>\n",
       "    <tr>\n",
       "      <th>3</th>\n",
       "      <td>chol</td>\n",
       "      <td>0.083658</td>\n",
       "    </tr>\n",
       "    <tr>\n",
       "      <th>5</th>\n",
       "      <td>thalach</td>\n",
       "      <td>0.063995</td>\n",
       "    </tr>\n",
       "    <tr>\n",
       "      <th>2</th>\n",
       "      <td>trestbps</td>\n",
       "      <td>0.059377</td>\n",
       "    </tr>\n",
       "    <tr>\n",
       "      <th>1</th>\n",
       "      <td>sex</td>\n",
       "      <td>0.037554</td>\n",
       "    </tr>\n",
       "    <tr>\n",
       "      <th>6</th>\n",
       "      <td>exang</td>\n",
       "      <td>0.015950</td>\n",
       "    </tr>\n",
       "    <tr>\n",
       "      <th>10</th>\n",
       "      <td>CP_1</td>\n",
       "      <td>0.012371</td>\n",
       "    </tr>\n",
       "    <tr>\n",
       "      <th>19</th>\n",
       "      <td>TH_3</td>\n",
       "      <td>0.006792</td>\n",
       "    </tr>\n",
       "    <tr>\n",
       "      <th>16</th>\n",
       "      <td>TH_0</td>\n",
       "      <td>0.000000</td>\n",
       "    </tr>\n",
       "    <tr>\n",
       "      <th>21</th>\n",
       "      <td>RECG_1</td>\n",
       "      <td>0.000000</td>\n",
       "    </tr>\n",
       "    <tr>\n",
       "      <th>20</th>\n",
       "      <td>RECG_0</td>\n",
       "      <td>0.000000</td>\n",
       "    </tr>\n",
       "    <tr>\n",
       "      <th>17</th>\n",
       "      <td>TH_1</td>\n",
       "      <td>0.000000</td>\n",
       "    </tr>\n",
       "    <tr>\n",
       "      <th>11</th>\n",
       "      <td>CP_2</td>\n",
       "      <td>0.000000</td>\n",
       "    </tr>\n",
       "    <tr>\n",
       "      <th>15</th>\n",
       "      <td>SL_2</td>\n",
       "      <td>0.000000</td>\n",
       "    </tr>\n",
       "    <tr>\n",
       "      <th>14</th>\n",
       "      <td>SL_1</td>\n",
       "      <td>0.000000</td>\n",
       "    </tr>\n",
       "    <tr>\n",
       "      <th>13</th>\n",
       "      <td>SL_0</td>\n",
       "      <td>0.000000</td>\n",
       "    </tr>\n",
       "    <tr>\n",
       "      <th>12</th>\n",
       "      <td>CP_3</td>\n",
       "      <td>0.000000</td>\n",
       "    </tr>\n",
       "    <tr>\n",
       "      <th>4</th>\n",
       "      <td>fbs</td>\n",
       "      <td>0.000000</td>\n",
       "    </tr>\n",
       "    <tr>\n",
       "      <th>22</th>\n",
       "      <td>RECG_2</td>\n",
       "      <td>0.000000</td>\n",
       "    </tr>\n",
       "  </tbody>\n",
       "</table>\n",
       "</div>"
      ],
      "text/plain": [
       "    Features  Importances\n",
       "18      TH_2     0.284557\n",
       "9       CP_0     0.123664\n",
       "7    oldpeak     0.110912\n",
       "8         ca     0.104623\n",
       "0        age     0.096547\n",
       "3       chol     0.083658\n",
       "5    thalach     0.063995\n",
       "2   trestbps     0.059377\n",
       "1        sex     0.037554\n",
       "6      exang     0.015950\n",
       "10      CP_1     0.012371\n",
       "19      TH_3     0.006792\n",
       "16      TH_0     0.000000\n",
       "21    RECG_1     0.000000\n",
       "20    RECG_0     0.000000\n",
       "17      TH_1     0.000000\n",
       "11      CP_2     0.000000\n",
       "15      SL_2     0.000000\n",
       "14      SL_1     0.000000\n",
       "13      SL_0     0.000000\n",
       "12      CP_3     0.000000\n",
       "4        fbs     0.000000\n",
       "22    RECG_2     0.000000"
      ]
     },
     "execution_count": 92,
     "metadata": {},
     "output_type": "execute_result"
    }
   ],
   "source": [
    "ft_1=pd.DataFrame({'Features':X.columns,'Importances':dt.feature_importances_})\n",
    "ft_1=ft_1.sort_values(by='Importances',ascending=False)\n",
    "ft_1"
   ]
  },
  {
   "cell_type": "code",
   "execution_count": 93,
   "id": "40fb10ba",
   "metadata": {},
   "outputs": [
    {
     "data": {
      "image/png": "[encoded data removed]",
      "text/plain": [
       "<Figure size 1152x288 with 1 Axes>"
      ]
     },
     "metadata": {
      "needs_background": "light"
     },
     "output_type": "display_data"
    },
    {
     "name": "stdout",
     "output_type": "stream",
     "text": [
      "    Features  Importances\n",
      "18      TH_2     0.284557\n",
      "9       CP_0     0.123664\n",
      "7    oldpeak     0.110912\n",
      "8         ca     0.104623\n",
      "0        age     0.096547\n",
      "3       chol     0.083658\n",
      "5    thalach     0.063995\n",
      "2   trestbps     0.059377\n",
      "1        sex     0.037554\n",
      "6      exang     0.015950\n",
      "10      CP_1     0.012371\n",
      "19      TH_3     0.006792\n",
      "16      TH_0     0.000000\n",
      "21    RECG_1     0.000000\n",
      "20    RECG_0     0.000000\n",
      "17      TH_1     0.000000\n",
      "11      CP_2     0.000000\n",
      "15      SL_2     0.000000\n",
      "14      SL_1     0.000000\n",
      "13      SL_0     0.000000\n",
      "12      CP_3     0.000000\n",
      "4        fbs     0.000000\n",
      "22    RECG_2     0.000000\n"
     ]
    }
   ],
   "source": [
    "# Features Plot and list\n",
    "ft_1=pd.DataFrame({'Features':X.columns,'Importances':dt.feature_importances_})\n",
    "ft_1=ft_1.sort_values(by='Importances',ascending=False)\n",
    "\n",
    "# Features plot\n",
    "\n",
    "plt.figure(figsize=(16,4))\n",
    "plt.bar(ft_1['Features'],ft_1['Importances'])\n",
    "plt.show()\n",
    "print(ft_1)"
   ]
  },
  {
   "cell_type": "code",
   "execution_count": 94,
   "id": "a7cc3aba",
   "metadata": {},
   "outputs": [
    {
     "data": {
      "image/png": "[encoded data removed]",
      "text/plain": [
       "<Figure size 1440x576 with 1 Axes>"
      ]
     },
     "metadata": {
      "needs_background": "light"
     },
     "output_type": "display_data"
    }
   ],
   "source": [
    "# Tree plot\n",
    "\n",
    "from sklearn import tree\n",
    "plt.figure(figsize=(20,8))\n",
    "tree.plot_tree(dt)\n",
    "#plt.savefig('dt.png')\n",
    "plt.show()"
   ]
  },
  {
   "cell_type": "markdown",
   "id": "5f4c544e",
   "metadata": {},
   "source": [
    "## Random Forest Classifier"
   ]
  },
  {
   "cell_type": "code",
   "execution_count": 95,
   "id": "666ae86f",
   "metadata": {
    "scrolled": true
   },
   "outputs": [
    {
     "name": "stdout",
     "output_type": "stream",
     "text": [
      "MCC on train 0.967\n",
      "MCC on test 0.745\n",
      "\n",
      "F1 on train 0.983\n",
      "F1 on test 0.869\n",
      "\n",
      "Accuracy on train: 0.983\n",
      "Accuracy on test: 0.869\n",
      "\n",
      "Confusion Matrix:\n",
      "[[27  2]\n",
      " [ 6 26]]\n",
      "\n",
      "Random Forest Model Parameters\n"
     ]
    },
    {
     "data": {
      "text/plain": [
       "{'bootstrap': True,\n",
       " 'ccp_alpha': 0.0,\n",
       " 'class_weight': None,\n",
       " 'criterion': 'entropy',\n",
       " 'max_depth': None,\n",
       " 'max_features': 'auto',\n",
       " 'max_leaf_nodes': None,\n",
       " 'max_samples': None,\n",
       " 'min_impurity_decrease': 0.0,\n",
       " 'min_impurity_split': None,\n",
       " 'min_samples_leaf': 1,\n",
       " 'min_samples_split': 2,\n",
       " 'min_weight_fraction_leaf': 0.0,\n",
       " 'n_estimators': 10,\n",
       " 'n_jobs': -1,\n",
       " 'oob_score': False,\n",
       " 'random_state': 42,\n",
       " 'verbose': 0,\n",
       " 'warm_start': False}"
      ]
     },
     "execution_count": 95,
     "metadata": {},
     "output_type": "execute_result"
    }
   ],
   "source": [
    "# Random forest\n",
    "\n",
    "rf = RandomForestClassifier(n_estimators=10,n_jobs=-1,criterion='entropy',random_state=42)# removed , oob_score=True for too few estimators\n",
    "rf.fit(X_train,y_train)\n",
    "pred_rf= rf.predict(X_test)\n",
    "pred2_rf= rf.predict(X_train)\n",
    "\n",
    "# Matthews correlation, f1 score and accuracy\n",
    "\n",
    "rf_mcc_train = matthews_corrcoef(y_train, pred2_rf)\n",
    "print('MCC on train',rf_mcc_train.round(3))\n",
    "rf_mcc_test = matthews_corrcoef(y_test,pred_rf)\n",
    "print('MCC on test',rf_mcc_test.round(3)) \n",
    "\n",
    "print()\n",
    "\n",
    "rf_f1_train = f1_score(y_train,pred2_rf,average='macro')\n",
    "print('F1 on train',rf_f1_train.round(3))\n",
    "rf_f1_test = f1_score(y_test, pred_rf, average='macro')\n",
    "print('F1 on test',rf_f1_test.round(3))\n",
    "\n",
    "print()\n",
    "\n",
    "rf_acc_train = accuracy_score(y_train, pred2_rf)\n",
    "rf_acc_test = accuracy_score(y_test,pred_rf)\n",
    "\n",
    "print('Accuracy on train:',rf_acc_train.round(3))\n",
    "print('Accuracy on test:',rf_acc_test.round(3))\n",
    "\n",
    "\n",
    "#print(\"Accuracy on train: {:.3f}\".format(accuracy_score(y_train,pred2_rf)))\n",
    "#print(\"Accuracy on test: {:.3f}\".format(accuracy_score(y_test,pred_rf)))\n",
    "print()\n",
    "print('Confusion Matrix:\\n{}'.format(confusion_matrix(y_test,pred_rf)))\n",
    "print()\n",
    "print('Random Forest Model Parameters')\n",
    "rf.get_params()"
   ]
  },
  {
   "cell_type": "markdown",
   "id": "d79bacbb",
   "metadata": {},
   "source": [
    "### Cross validation"
   ]
  },
  {
   "cell_type": "code",
   "execution_count": 96,
   "id": "3023ab6a",
   "metadata": {},
   "outputs": [
    {
     "name": "stdout",
     "output_type": "stream",
     "text": [
      "82.09% accuracy with a standard deviation of 7.08%\n"
     ]
    }
   ],
   "source": [
    "# Cross Validation\n",
    "\n",
    "scores=cross_val_score(rf,X_train,y_train,cv=10,n_jobs=-1,scoring='f1')\n",
    "print(\"%0.2f%% accuracy with a standard deviation of %0.2f%%\" % (scores.mean()*100, scores.std()*100))"
   ]
  },
  {
   "cell_type": "markdown",
   "id": "c71a9194",
   "metadata": {},
   "source": [
    "### Classification report"
   ]
  },
  {
   "cell_type": "code",
   "execution_count": 98,
   "id": "cef653d1",
   "metadata": {},
   "outputs": [
    {
     "name": "stdout",
     "output_type": "stream",
     "text": [
      "rf:               precision    recall  f1-score   support\n",
      "\n",
      "           0       0.82      0.93      0.87        29\n",
      "           1       0.93      0.81      0.87        32\n",
      "\n",
      "    accuracy                           0.87        61\n",
      "   macro avg       0.87      0.87      0.87        61\n",
      "weighted avg       0.88      0.87      0.87        61\n",
      "\n"
     ]
    }
   ],
   "source": [
    "print(\"rf:\",classification_report(y_test, pred_rf))"
   ]
  },
  {
   "cell_type": "markdown",
   "id": "ddcaefbc",
   "metadata": {},
   "source": [
    "### Confusion matrix"
   ]
  },
  {
   "cell_type": "code",
   "execution_count": 99,
   "id": "0891a2af",
   "metadata": {
    "scrolled": true
   },
   "outputs": [
    {
     "data": {
      "text/plain": [
       "Text(0.5, 16.0, 'Predicted Class')"
      ]
     },
     "execution_count": 99,
     "metadata": {},
     "output_type": "execute_result"
    },
    {
     "data": {
      "image/png": "[encoded data removed]",
      "text/plain": [
       "<Figure size 432x288 with 2 Axes>"
      ]
     },
     "metadata": {
      "needs_background": "light"
     },
     "output_type": "display_data"
    }
   ],
   "source": [
    "cm = confusion_matrix(y_test,pred_rf)\n",
    "#sns.heatmap(cm, annot=True)\n",
    "sns.heatmap(cm, annot=True, fmt='g', vmin=0, cbar=True, cmap='icefire')\n",
    "plt.ylabel('True Class')\n",
    "plt.xlabel('Predicted Class')"
   ]
  },
  {
   "cell_type": "markdown",
   "id": "dbbf5081",
   "metadata": {},
   "source": [
    "### Performance Metrics"
   ]
  },
  {
   "cell_type": "code",
   "execution_count": 101,
   "id": "ab762daa",
   "metadata": {
    "scrolled": false
   },
   "outputs": [
    {
     "name": "stdout",
     "output_type": "stream",
     "text": [
      "Class: {0: 'No Heart Disease', 1: 'Heart Disease'}\n",
      "Specificity: [0.8125     0.93103448]\n",
      "Specificity Mean: 0.8717672413793103\n",
      "\n",
      "Class: {0: 'No Heart Disease', 1: 'Heart Disease'}\n",
      "Recall/Sensitivity: [0.93103448 0.8125    ]\n",
      "Recall/Sensitivity Mean: 0.8717672413793103\n",
      "\n",
      "Class: {0: 'No Heart Disease', 1: 'Heart Disease'}\n",
      "Precision: [0.81818182 0.92857143]\n",
      "Precision Mean: 0.8733766233766234\n",
      "\n",
      "Class: {0: 'No Heart Disease', 1: 'Heart Disease'}\n",
      "False Positive Rate: [0.1875     0.06896552]\n",
      "False Positive Rate Mean: 0.12823275862068967\n",
      "\n",
      "Class: {0: 'No Heart Disease', 1: 'Heart Disease'}\n",
      "False Negative Rate: [0.06896552 0.1875    ]\n",
      "False Negative Rate Mean: 0.12823275862068967\n",
      "\n",
      "Class: {0: 'No Heart Disease', 1: 'Heart Disease'}\n",
      "False Discovery Rate: [0.18181818 0.07142857]\n",
      "False Discovery Rate Mean: 0.12662337662337664\n"
     ]
    }
   ],
   "source": [
    "#Performance metrics from confusion matrix \n",
    "\n",
    "FP = cm.sum(axis=0) - np.diag(cm) \n",
    "FN = cm.sum(axis=1) - np.diag(cm)\n",
    "TP = np.diag(cm)\n",
    "TN = cm.sum() - (FP + FN + TP)\n",
    "\n",
    "FP = FP.astype(float)\n",
    "FN = FN.astype(float)\n",
    "TP = TP.astype(float)\n",
    "TN = TN.astype(float)\n",
    "\n",
    "# Sensitivity, hit rate, Recall, or true positive rate\n",
    "TPR = TP/(TP+FN)\n",
    "\n",
    "# Specificity or true negative rate\n",
    "TNR = TN/(TN+FP) \n",
    "\n",
    "# Precision or positive predictive value\n",
    "PPV = TP/(TP+FP)\n",
    "\n",
    "# Negative predictive value\n",
    "NPV = TN/(TN+FN)\n",
    "\n",
    "# Fall out or false positive rate\n",
    "FPR = FP/(FP+TN)\n",
    "\n",
    "# False negative rate\n",
    "FNR = FN/(TP+FN)\n",
    "\n",
    "# False discovery rate\n",
    "FDR = FP/(TP+FP)\n",
    "\n",
    "\n",
    "print('Class:',class_label)\n",
    "\n",
    "print('Specificity:',TNR)\n",
    "print('Specificity Mean:',TNR.mean())\n",
    "\n",
    "print()\n",
    "\n",
    "print('Class:',class_label)\n",
    "\n",
    "print('Recall/Sensitivity:',TPR)\n",
    "print('Recall/Sensitivity Mean:',TPR.mean())\n",
    "\n",
    "print()\n",
    "\n",
    "print('Class:',class_label)\n",
    "\n",
    "print('Precision:',PPV)\n",
    "print('Precision Mean:',PPV.mean())\n",
    "\n",
    "print()\n",
    "\n",
    "print('Class:',class_label)\n",
    "\n",
    "print('False Positive Rate:',FPR)\n",
    "print('False Positive Rate Mean:',FPR.mean())\n",
    "\n",
    "print()\n",
    "\n",
    "print('Class:',class_label)\n",
    "\n",
    "print('False Negative Rate:',FNR)\n",
    "print('False Negative Rate Mean:',FNR.mean())\n",
    "\n",
    "print()\n",
    "\n",
    "print('Class:',class_label)\n",
    "\n",
    "print('False Discovery Rate:',FDR)\n",
    "print('False Discovery Rate Mean:',FDR.mean())"
   ]
  },
  {
   "cell_type": "markdown",
   "id": "eeeaa782",
   "metadata": {},
   "source": [
    "### ROC Plot"
   ]
  },
  {
   "cell_type": "code",
   "execution_count": 102,
   "id": "a545b2eb",
   "metadata": {
    "scrolled": false
   },
   "outputs": [
    {
     "data": {
      "text/plain": [
       "<matplotlib.legend.Legend at 0x226f82fdc08>"
      ]
     },
     "execution_count": 102,
     "metadata": {},
     "output_type": "execute_result"
    },
    {
     "data": {
      "image/png": "[encoded data removed]",
      "text/plain": [
       "<Figure size 576x432 with 1 Axes>"
      ]
     },
     "metadata": {
      "needs_background": "light"
     },
     "output_type": "display_data"
    }
   ],
   "source": [
    "#ROC Plot\n",
    "from sklearn.multiclass import OneVsRestClassifier\n",
    "from sklearn.metrics import roc_curve\n",
    "from sklearn.metrics import roc_auc_score\n",
    "\n",
    "prediction_cplx = rf.predict_proba(X_test)\n",
    "\n",
    "# roc curve for classes\n",
    "fpr = {}\n",
    "tpr = {}\n",
    "thresh ={}\n",
    "\n",
    "n_class = 2\n",
    "\n",
    "for i in range(n_class):    \n",
    "    fpr[i], tpr[i], thresh[i] = roc_curve(y_test, prediction_cplx[:,i], pos_label=i)\n",
    "\n",
    "#y_score = classifier.fit(X_train, y_train).decision_function(X_test)\n",
    "# Compute micro-average ROC curve and ROC area\n",
    "#fpr[\"micro\"], tpr[\"micro\"], _ = roc_curve(y_test.ravel(), y_score.ravel())\n",
    "#roc_auc[\"micro\"] = auc(fpr[\"micro\"], tpr[\"micro\"])  \n",
    "\n",
    "\n",
    "\n",
    "    \n",
    "# plotting\n",
    "plt.figure(figsize=(8, 6))\n",
    "plt.plot(fpr[0], tpr[0], linestyle='--',color='steelblue', label='No Heart Disease 0')\n",
    "plt.plot(fpr[1], tpr[1], linestyle='--',color='red', label='Heart Disease 1')\n",
    "plt.plot([0,1],[0,1],color=\"black\",linestyle=\"--\")\n",
    "#plt.plot(fpr[2], tpr[2], linestyle='--',color='blue', label='Class 2 vs Rest')\n",
    "#plt.plot(fpr[3], tpr[3], linestyle='--',color='red', label='Class 3 vs Rest')\n",
    "#plt.plot(fpr[4], tpr[4], linestyle='--',color='black', label='Class 4 vs Rest')\n",
    "#plt.plot(fpr[5], tpr[5], linestyle='--',color='purple', label='Class 5 vs Rest')\n",
    "#plt.plot(fpr[6], tpr[6], linestyle='--',color='yellow', label='Class 6 vs Rest')\n",
    "plt.title('ROC: Random Forest')\n",
    "plt.text(0.6,0.5,\"Baseline\")\n",
    "plt.xlabel('False Positive Rate')\n",
    "plt.ylabel('True Positive rate')\n",
    "plt.legend(loc='best')\n",
    "#plt.savefig('RF ROC',dpi=300); "
   ]
  },
  {
   "cell_type": "markdown",
   "id": "785bc5ab",
   "metadata": {},
   "source": [
    "### AUC Score"
   ]
  },
  {
   "cell_type": "code",
   "execution_count": 103,
   "id": "ade09c76",
   "metadata": {},
   "outputs": [
    {
     "name": "stdout",
     "output_type": "stream",
     "text": [
      "Random Forest AUC Score: 0.9121767241379309\n"
     ]
    }
   ],
   "source": [
    "# AUC score\n",
    "\n",
    "#from sklearn.metrics import roc_auc_score\n",
    "rf_auc_score = roc_auc_score(y_test, prediction_cplx[:,i])\n",
    "\n",
    "print('Random Forest AUC Score:',rf_auc_score)"
   ]
  },
  {
   "cell_type": "markdown",
   "id": "12d63bb7",
   "metadata": {},
   "source": [
    "## Predictions and Confidences\n",
    " **Classes and Probabilities**"
   ]
  },
  {
   "cell_type": "code",
   "execution_count": 104,
   "id": "1cc23d00",
   "metadata": {},
   "outputs": [
    {
     "data": {
      "text/html": [
       "<div>\n",
       "<style scoped>\n",
       "    .dataframe tbody tr th:only-of-type {\n",
       "        vertical-align: middle;\n",
       "    }\n",
       "\n",
       "    .dataframe tbody tr th {\n",
       "        vertical-align: top;\n",
       "    }\n",
       "\n",
       "    .dataframe thead th {\n",
       "        text-align: right;\n",
       "    }\n",
       "</style>\n",
       "<table border=\"1\" class=\"dataframe\">\n",
       "  <thead>\n",
       "    <tr style=\"text-align: right;\">\n",
       "      <th></th>\n",
       "      <th>No heart disease</th>\n",
       "      <th>Heart disease</th>\n",
       "      <th>Predicted class</th>\n",
       "    </tr>\n",
       "  </thead>\n",
       "  <tbody>\n",
       "    <tr>\n",
       "      <th>0</th>\n",
       "      <td>1.0</td>\n",
       "      <td>0.0</td>\n",
       "      <td>0</td>\n",
       "    </tr>\n",
       "    <tr>\n",
       "      <th>1</th>\n",
       "      <td>0.6</td>\n",
       "      <td>0.4</td>\n",
       "      <td>0</td>\n",
       "    </tr>\n",
       "    <tr>\n",
       "      <th>2</th>\n",
       "      <td>0.4</td>\n",
       "      <td>0.6</td>\n",
       "      <td>1</td>\n",
       "    </tr>\n",
       "    <tr>\n",
       "      <th>3</th>\n",
       "      <td>0.8</td>\n",
       "      <td>0.2</td>\n",
       "      <td>0</td>\n",
       "    </tr>\n",
       "    <tr>\n",
       "      <th>4</th>\n",
       "      <td>0.1</td>\n",
       "      <td>0.9</td>\n",
       "      <td>1</td>\n",
       "    </tr>\n",
       "    <tr>\n",
       "      <th>...</th>\n",
       "      <td>...</td>\n",
       "      <td>...</td>\n",
       "      <td>...</td>\n",
       "    </tr>\n",
       "    <tr>\n",
       "      <th>56</th>\n",
       "      <td>0.6</td>\n",
       "      <td>0.4</td>\n",
       "      <td>0</td>\n",
       "    </tr>\n",
       "    <tr>\n",
       "      <th>57</th>\n",
       "      <td>0.2</td>\n",
       "      <td>0.8</td>\n",
       "      <td>1</td>\n",
       "    </tr>\n",
       "    <tr>\n",
       "      <th>58</th>\n",
       "      <td>0.8</td>\n",
       "      <td>0.2</td>\n",
       "      <td>0</td>\n",
       "    </tr>\n",
       "    <tr>\n",
       "      <th>59</th>\n",
       "      <td>1.0</td>\n",
       "      <td>0.0</td>\n",
       "      <td>0</td>\n",
       "    </tr>\n",
       "    <tr>\n",
       "      <th>60</th>\n",
       "      <td>0.8</td>\n",
       "      <td>0.2</td>\n",
       "      <td>0</td>\n",
       "    </tr>\n",
       "  </tbody>\n",
       "</table>\n",
       "<p>61 rows × 3 columns</p>\n",
       "</div>"
      ],
      "text/plain": [
       "    No heart disease  Heart disease  Predicted class\n",
       "0                1.0            0.0                0\n",
       "1                0.6            0.4                0\n",
       "2                0.4            0.6                1\n",
       "3                0.8            0.2                0\n",
       "4                0.1            0.9                1\n",
       "..               ...            ...              ...\n",
       "56               0.6            0.4                0\n",
       "57               0.2            0.8                1\n",
       "58               0.8            0.2                0\n",
       "59               1.0            0.0                0\n",
       "60               0.8            0.2                0\n",
       "\n",
       "[61 rows x 3 columns]"
      ]
     },
     "execution_count": 104,
     "metadata": {},
     "output_type": "execute_result"
    }
   ],
   "source": [
    "# Classes and Probabilities\n",
    "\n",
    "prediction_probability = rf.predict_proba(X_test)\n",
    "prediction_cplx = rf.predict(X_test)\n",
    "\n",
    "class_df = pd.DataFrame(prediction_cplx.round(3),columns=['Predicted class'])\n",
    "proba_df = pd.DataFrame(prediction_probability.round(3),columns=['No heart disease','Heart disease'])\n",
    "\n",
    "#pred_list = pd.concat(['frame','target_rs'],axis= 1)\n",
    "\n",
    "\n",
    "predictions_df = pd.concat([proba_df,class_df ], axis=1)\n",
    "predictions_df"
   ]
  },
  {
   "cell_type": "code",
   "execution_count": 105,
   "id": "e0111c59",
   "metadata": {},
   "outputs": [
    {
     "data": {
      "text/plain": [
       "(array([11, 22, 26, 29, 30, 33, 34, 38], dtype=int64),)"
      ]
     },
     "execution_count": 105,
     "metadata": {},
     "output_type": "execute_result"
    }
   ],
   "source": [
    "# Incorrect predictions\n",
    "\n",
    "prediction_cplx = rf.predict(X_test)\n",
    "\n",
    "incorrects = np.nonzero(prediction_cplx.reshape((-1,)) != y_test)\n",
    "incorrects"
   ]
  },
  {
   "cell_type": "markdown",
   "id": "6db48c0a",
   "metadata": {},
   "source": [
    "### Jaccard similarity coefficient"
   ]
  },
  {
   "cell_type": "code",
   "execution_count": 106,
   "id": "f6a127f9",
   "metadata": {},
   "outputs": [
    {
     "data": {
      "text/html": [
       "<div>\n",
       "<style scoped>\n",
       "    .dataframe tbody tr th:only-of-type {\n",
       "        vertical-align: middle;\n",
       "    }\n",
       "\n",
       "    .dataframe tbody tr th {\n",
       "        vertical-align: top;\n",
       "    }\n",
       "\n",
       "    .dataframe thead th {\n",
       "        text-align: right;\n",
       "    }\n",
       "</style>\n",
       "<table border=\"1\" class=\"dataframe\">\n",
       "  <thead>\n",
       "    <tr style=\"text-align: right;\">\n",
       "      <th></th>\n",
       "      <th>Jaccard score</th>\n",
       "    </tr>\n",
       "  </thead>\n",
       "  <tbody>\n",
       "    <tr>\n",
       "      <th>0</th>\n",
       "      <td>0.771429</td>\n",
       "    </tr>\n",
       "    <tr>\n",
       "      <th>1</th>\n",
       "      <td>0.764706</td>\n",
       "    </tr>\n",
       "  </tbody>\n",
       "</table>\n",
       "</div>"
      ],
      "text/plain": [
       "   Jaccard score\n",
       "0       0.771429\n",
       "1       0.764706"
      ]
     },
     "execution_count": 106,
     "metadata": {},
     "output_type": "execute_result"
    }
   ],
   "source": [
    "# Jaccard similarity coefficient\n",
    "# Predicted class compared with actual class\n",
    "\n",
    "\n",
    "jaccard = jaccard_score(y_test, prediction_cplx, average = None) #prediction_probability\n",
    "\n",
    "jaccard_df = pd.DataFrame(jaccard,columns=['Jaccard score'])\n",
    "jaccard_df"
   ]
  },
  {
   "cell_type": "markdown",
   "id": "1b4f5df4",
   "metadata": {},
   "source": [
    "## Confidence interval\n",
    "\n",
    "The confidence interval is a likelihood over a range. The true model skill may lie outside of this range.\n",
    " \n",
    "**Commonly used number of standard deviations from the Gaussian distribution and their corresponding significance level are as follows:**\n",
    "\n",
    "* 1.64 (90%)\n",
    "* 1.96 (95%)\n",
    "* 2.33 (98%)\n",
    "* 2.58 (99%)\n",
    "\n",
    "### Using model error"
   ]
  },
  {
   "cell_type": "code",
   "execution_count": 107,
   "id": "6f978741",
   "metadata": {},
   "outputs": [
    {
     "name": "stdout",
     "output_type": "stream",
     "text": [
      "Classification error interval: 0.084\n"
     ]
    }
   ],
   "source": [
    "# 95% confidence interval\n",
    "# Calculated radius of the confidence interval using model error\n",
    "\n",
    "# where: interval = z * sqrt( (error * (1 - error)) / n)\n",
    "\n",
    "interval = 1.96 * sqrt( (0.13 * (1 - .13)) / 61)\n",
    "print('Classification error interval: %.3f' % interval)"
   ]
  },
  {
   "cell_type": "markdown",
   "id": "c26bd032",
   "metadata": {},
   "source": [
    "* The classification error of the model is 13% +/- 8%\n",
    "* The true classification error of the model on unseen data is likely between 5% and 21%.\n",
    " \n",
    " **The true model skill may lie outside of this range.**"
   ]
  },
  {
   "cell_type": "markdown",
   "id": "196a90a5",
   "metadata": {},
   "source": [
    "### Upper and lower bounds of model classification accuracy"
   ]
  },
  {
   "cell_type": "code",
   "execution_count": 108,
   "id": "fa0d42e9",
   "metadata": {},
   "outputs": [
    {
     "name": "stdout",
     "output_type": "stream",
     "text": [
      "Lower Bounds of Accuracy:0.784 \n",
      "Upper Bounds of Accuracy:0.954 \n"
     ]
    }
   ],
   "source": [
    "# Upper and lower bounds of model accuracy\n",
    "\n",
    "# 218 correct predictions of 238 instances and with 95% confidence interval,\n",
    "# (provided to the function as a significance of 0.05)\n",
    "\n",
    "lower, upper = proportion_confint(53, 61, 0.05)\n",
    "\n",
    "print('Lower Bounds of Accuracy:%.3f ' % lower)\n",
    "print('Upper Bounds of Accuracy:%.3f ' %upper)"
   ]
  },
  {
   "cell_type": "markdown",
   "id": "c095ebd7",
   "metadata": {},
   "source": [
    " **The true classification accuracy of the model on unseen data is likely between 78% and 95%**.\n",
    "\n",
    " **True model skill may lie outside of this range.**"
   ]
  },
  {
   "cell_type": "markdown",
   "id": "720f00e4",
   "metadata": {},
   "source": [
    "### Feature Importances"
   ]
  },
  {
   "cell_type": "code",
   "execution_count": 109,
   "id": "a3942c63",
   "metadata": {},
   "outputs": [
    {
     "data": {
      "image/png": "[encoded data removed]",
      "text/plain": [
       "<Figure size 1152x288 with 1 Axes>"
      ]
     },
     "metadata": {
      "needs_background": "light"
     },
     "output_type": "display_data"
    },
    {
     "name": "stdout",
     "output_type": "stream",
     "text": [
      "    Features  Importances\n",
      "7    oldpeak     0.141051\n",
      "5    thalach     0.106749\n",
      "8         ca     0.101990\n",
      "3       chol     0.084011\n",
      "0        age     0.083392\n",
      "2   trestbps     0.073600\n",
      "9       CP_0     0.072681\n",
      "6      exang     0.069955\n",
      "18      TH_2     0.046381\n",
      "19      TH_3     0.045379\n",
      "1        sex     0.041186\n",
      "15      SL_2     0.027972\n",
      "14      SL_1     0.023154\n",
      "11      CP_2     0.018608\n",
      "21    RECG_1     0.015322\n",
      "10      CP_1     0.014360\n",
      "20    RECG_0     0.010653\n",
      "4        fbs     0.010349\n",
      "17      TH_1     0.009075\n",
      "13      SL_0     0.003785\n",
      "12      CP_3     0.000347\n",
      "16      TH_0     0.000000\n",
      "22    RECG_2     0.000000\n"
     ]
    }
   ],
   "source": [
    "# Features Plot and list\n",
    "ft_1=pd.DataFrame({'Features':X.columns,'Importances':rf.feature_importances_})\n",
    "ft_1=ft_1.sort_values(by='Importances',ascending=False)\n",
    "\n",
    "# Features plot\n",
    "\n",
    "plt.figure(figsize=(16,4))\n",
    "plt.bar(ft_1['Features'],ft_1['Importances'])\n",
    "plt.show()\n",
    "print(ft_1)"
   ]
  },
  {
   "cell_type": "markdown",
   "id": "7a11cf82",
   "metadata": {},
   "source": [
    "## XGBoost"
   ]
  },
  {
   "cell_type": "code",
   "execution_count": 19,
   "id": "8a0bec2a",
   "metadata": {
    "scrolled": true
   },
   "outputs": [
    {
     "name": "stdout",
     "output_type": "stream",
     "text": [
      "MCC on train 1.0\n",
      "MCC on test 0.775\n",
      "\n",
      "F1 on train 1.0\n",
      "F1 on test 0.885\n",
      "\n",
      "Accuracy on train: 1.0\n",
      "Accuracy on test: 0.885\n",
      "\n",
      "[[27  2]\n",
      " [ 5 27]]\n",
      "\n",
      "XGBoost model parameters\n"
     ]
    },
    {
     "data": {
      "text/plain": [
       "{'objective': 'binary:logistic',\n",
       " 'use_label_encoder': True,\n",
       " 'base_score': 0.5,\n",
       " 'booster': 'gbtree',\n",
       " 'colsample_bylevel': 1,\n",
       " 'colsample_bynode': 1,\n",
       " 'colsample_bytree': 1,\n",
       " 'enable_categorical': False,\n",
       " 'gamma': 0,\n",
       " 'gpu_id': -1,\n",
       " 'importance_type': None,\n",
       " 'interaction_constraints': '',\n",
       " 'learning_rate': 0.300000012,\n",
       " 'max_delta_step': 0,\n",
       " 'max_depth': 10,\n",
       " 'min_child_weight': 1,\n",
       " 'missing': nan,\n",
       " 'monotone_constraints': '()',\n",
       " 'n_estimators': 100,\n",
       " 'n_jobs': -1,\n",
       " 'num_parallel_tree': 1,\n",
       " 'predictor': 'auto',\n",
       " 'random_state': 0,\n",
       " 'reg_alpha': 0,\n",
       " 'reg_lambda': 1,\n",
       " 'scale_pos_weight': 1,\n",
       " 'subsample': 1,\n",
       " 'tree_method': 'exact',\n",
       " 'validate_parameters': 1,\n",
       " 'verbosity': None,\n",
       " 'eval_metric': ['logloss', 'error']}"
      ]
     },
     "execution_count": 19,
     "metadata": {},
     "output_type": "execute_result"
    }
   ],
   "source": [
    "#XGBoost\n",
    "\n",
    "evalset=[(X_train, y_train), (X_test,y_test)]\n",
    "\n",
    "xgb = XGBClassifier(max_depth=10,n_jobs=-1,booster = \"gbtree\",\n",
    "                    eval_metric =[\"logloss\",'error'],objective =\"binary:logistic\")#remove-,num_class = 2 for 'binary:logistic'\n",
    "\n",
    "xgb.fit(X_train, y_train,eval_set=evalset,verbose=False)\n",
    "pred_xgb = xgb.predict(X_test)\n",
    "pred2_xgb = xgb.predict(X_train)\n",
    "\n",
    "# Matthews correlation, f1 score and accuracy\n",
    "\n",
    "xgb_mcc_train = matthews_corrcoef(y_train, pred2_xgb)\n",
    "print('MCC on train',xgb_mcc_train.round(3))\n",
    "xgb_mcc_test = matthews_corrcoef(y_test,pred_xgb)\n",
    "print('MCC on test',xgb_mcc_test.round(3)) \n",
    "\n",
    "print()\n",
    "\n",
    "xgb_f1_train = f1_score(y_train,pred2_xgb,average='macro')\n",
    "print('F1 on train',xgb_f1_train.round(3))\n",
    "xgb_f1_test = f1_score(y_test, pred_xgb, average='macro')\n",
    "print('F1 on test',xgb_f1_test.round(3))\n",
    "\n",
    "print()\n",
    "\n",
    "xgb_acc_train = accuracy_score(y_train, pred2_xgb)\n",
    "xgb_acc_test = accuracy_score(y_test,pred_xgb)\n",
    "\n",
    "print('Accuracy on train:',xgb_acc_train.round(3))\n",
    "print('Accuracy on test:',xgb_acc_test.round(3))\n",
    "\n",
    "#print(\"Accuracy on train: {:.3f}\".format(accuracy_score(y_train,pred2_xgb)))\n",
    "#print(\"Accuracy on test: {:.3f}\".format(accuracy_score(y_test,pred_xgb)))\n",
    "print('\\n{}'.format(confusion_matrix(y_test,pred_xgb)))\n",
    "print()\n",
    "print('XGBoost model parameters')\n",
    "xgb.get_params()"
   ]
  },
  {
   "cell_type": "markdown",
   "id": "3c7b577f",
   "metadata": {},
   "source": [
    "### Learning curves"
   ]
  },
  {
   "cell_type": "code",
   "execution_count": 20,
   "id": "5cd48c31",
   "metadata": {},
   "outputs": [
    {
     "data": {
      "image/png": "[encoded data removed]",
      "text/plain": [
       "<Figure size 432x288 with 1 Axes>"
      ]
     },
     "metadata": {
      "needs_background": "light"
     },
     "output_type": "display_data"
    }
   ],
   "source": [
    "# retrieve performance metrics\n",
    "results = xgb.evals_result()\n",
    "\n",
    "# plot learning curves\n",
    "plt.plot(results['validation_0']['logloss'], label='train')\n",
    "plt.plot(results['validation_1']['logloss'], label='test')\n",
    "plt.ylabel('Logloss')\n",
    "plt.xlabel('Estimators')\n",
    "plt.legend()\n",
    "plt.show()"
   ]
  },
  {
   "cell_type": "markdown",
   "id": "6f5a4208",
   "metadata": {},
   "source": [
    "### Cross validation"
   ]
  },
  {
   "cell_type": "code",
   "execution_count": 111,
   "id": "af2af609",
   "metadata": {},
   "outputs": [
    {
     "name": "stdout",
     "output_type": "stream",
     "text": [
      "81.01% accuracy with a standard deviation of 7.04%\n"
     ]
    }
   ],
   "source": [
    "# Cross Validation\n",
    "\n",
    "scores=cross_val_score(xgb,X_train,y_train,cv=10,n_jobs=-1,scoring='f1')\n",
    "print(\"%0.2f%% accuracy with a standard deviation of %0.2f%%\" % (scores.mean()*100, scores.std()*100))"
   ]
  },
  {
   "cell_type": "markdown",
   "id": "37e45c16",
   "metadata": {},
   "source": [
    "### Classification report"
   ]
  },
  {
   "cell_type": "code",
   "execution_count": 112,
   "id": "4f3b7b04",
   "metadata": {},
   "outputs": [
    {
     "name": "stdout",
     "output_type": "stream",
     "text": [
      "xgb:               precision    recall  f1-score   support\n",
      "\n",
      "           0       0.84      0.93      0.89        29\n",
      "           1       0.93      0.84      0.89        32\n",
      "\n",
      "    accuracy                           0.89        61\n",
      "   macro avg       0.89      0.89      0.89        61\n",
      "weighted avg       0.89      0.89      0.89        61\n",
      "\n"
     ]
    }
   ],
   "source": [
    "print(\"xgb:\",classification_report(y_test, pred_xgb))"
   ]
  },
  {
   "cell_type": "markdown",
   "id": "6be4f935",
   "metadata": {},
   "source": [
    "### Confusion matrix"
   ]
  },
  {
   "cell_type": "code",
   "execution_count": 113,
   "id": "51644f40",
   "metadata": {
    "scrolled": true
   },
   "outputs": [
    {
     "data": {
      "text/plain": [
       "Text(0.5, 16.0, 'Predicted Class')"
      ]
     },
     "execution_count": 113,
     "metadata": {},
     "output_type": "execute_result"
    },
    {
     "data": {
      "image/png": "[encoded data removed]",
      "text/plain": [
       "<Figure size 432x288 with 2 Axes>"
      ]
     },
     "metadata": {
      "needs_background": "light"
     },
     "output_type": "display_data"
    }
   ],
   "source": [
    "cm = confusion_matrix(y_test,pred_xgb)\n",
    "#sns.heatmap(cm, annot=True)\n",
    "sns.heatmap(cm, annot=True, fmt='g', vmin=0, cbar=True, cmap='Greys')\n",
    "plt.title('Confusion Matrix')\n",
    "plt.ylabel('True Class')\n",
    "plt.xlabel('Predicted Class')"
   ]
  },
  {
   "cell_type": "markdown",
   "id": "4bbdcab5",
   "metadata": {},
   "source": [
    "### Performance Metrics"
   ]
  },
  {
   "cell_type": "code",
   "execution_count": 114,
   "id": "289109b7",
   "metadata": {
    "scrolled": false
   },
   "outputs": [
    {
     "name": "stdout",
     "output_type": "stream",
     "text": [
      "Class: {0: 'No Heart Disease', 1: 'Heart Disease'}\n",
      "Specificity: [0.84375    0.93103448]\n",
      "Specificity Mean: 0.8873922413793103\n",
      "\n",
      "Class: {0: 'No Heart Disease', 1: 'Heart Disease'}\n",
      "Recall/Sensitivity: [0.93103448 0.84375   ]\n",
      "Recall/Sensitivity Mean: 0.8873922413793103\n",
      "\n",
      "Class: {0: 'No Heart Disease', 1: 'Heart Disease'}\n",
      "Precision: [0.84375    0.93103448]\n",
      "Precision Mean: 0.8873922413793103\n",
      "\n",
      "Class: {0: 'No Heart Disease', 1: 'Heart Disease'}\n",
      "False Positive Rate: [0.15625    0.06896552]\n",
      "False Positive Rate Mean: 0.11260775862068965\n",
      "\n",
      "Class: {0: 'No Heart Disease', 1: 'Heart Disease'}\n",
      "False Negative Rate: [0.06896552 0.15625   ]\n",
      "False Negative Rate Mean: 0.11260775862068965\n",
      "\n",
      "Class: {0: 'No Heart Disease', 1: 'Heart Disease'}\n",
      "False Discovery Rate: [0.15625    0.06896552]\n",
      "False Discovery Rate Mean: 0.11260775862068965\n"
     ]
    }
   ],
   "source": [
    "#Performance metrics from confusion matrix \n",
    "\n",
    "FP = cm.sum(axis=0) - np.diag(cm) \n",
    "FN = cm.sum(axis=1) - np.diag(cm)\n",
    "TP = np.diag(cm)\n",
    "TN = cm.sum() - (FP + FN + TP)\n",
    "\n",
    "FP = FP.astype(float)\n",
    "FN = FN.astype(float)\n",
    "TP = TP.astype(float)\n",
    "TN = TN.astype(float)\n",
    "\n",
    "# Sensitivity, hit rate, Recall, or true positive rate\n",
    "TPR = TP/(TP+FN)\n",
    "\n",
    "# Specificity or true negative rate\n",
    "TNR = TN/(TN+FP) \n",
    "\n",
    "# Precision or positive predictive value\n",
    "PPV = TP/(TP+FP)\n",
    "\n",
    "# Negative predictive value\n",
    "NPV = TN/(TN+FN)\n",
    "\n",
    "# Fall out or false positive rate\n",
    "FPR = FP/(FP+TN)\n",
    "\n",
    "# False negative rate\n",
    "FNR = FN/(TP+FN)\n",
    "\n",
    "# False discovery rate\n",
    "FDR = FP/(TP+FP)\n",
    "\n",
    "\n",
    "print('Class:',class_label)\n",
    "\n",
    "print('Specificity:',TNR)\n",
    "print('Specificity Mean:',TNR.mean())\n",
    "\n",
    "print()\n",
    "\n",
    "print('Class:',class_label)\n",
    "\n",
    "print('Recall/Sensitivity:',TPR)\n",
    "print('Recall/Sensitivity Mean:',TPR.mean())\n",
    "\n",
    "print()\n",
    "\n",
    "print('Class:',class_label)\n",
    "\n",
    "print('Precision:',PPV)\n",
    "print('Precision Mean:',PPV.mean())\n",
    "\n",
    "print()\n",
    "\n",
    "print('Class:',class_label)\n",
    "\n",
    "print('False Positive Rate:',FPR)\n",
    "print('False Positive Rate Mean:',FPR.mean())\n",
    "\n",
    "print()\n",
    "\n",
    "print('Class:',class_label)\n",
    "\n",
    "print('False Negative Rate:',FNR)\n",
    "print('False Negative Rate Mean:',FNR.mean())\n",
    "\n",
    "print()\n",
    "\n",
    "print('Class:',class_label)\n",
    "\n",
    "print('False Discovery Rate:',FDR)\n",
    "print('False Discovery Rate Mean:',FDR.mean())"
   ]
  },
  {
   "cell_type": "markdown",
   "id": "331338ae",
   "metadata": {},
   "source": [
    "### ROC Plot"
   ]
  },
  {
   "cell_type": "code",
   "execution_count": 115,
   "id": "ee52971c",
   "metadata": {
    "scrolled": false
   },
   "outputs": [
    {
     "data": {
      "text/plain": [
       "<matplotlib.legend.Legend at 0x226f81f2d48>"
      ]
     },
     "execution_count": 115,
     "metadata": {},
     "output_type": "execute_result"
    },
    {
     "data": {
      "image/png": "[encoded data removed]",
      "text/plain": [
       "<Figure size 576x432 with 1 Axes>"
      ]
     },
     "metadata": {
      "needs_background": "light"
     },
     "output_type": "display_data"
    }
   ],
   "source": [
    "#ROC Plot\n",
    "from sklearn.multiclass import OneVsRestClassifier\n",
    "from sklearn.metrics import roc_curve\n",
    "from sklearn.metrics import roc_auc_score\n",
    "\n",
    "prediction_cplx = xgb.predict_proba(X_test)\n",
    "\n",
    "# roc curve for classes\n",
    "fpr = {}\n",
    "tpr = {}\n",
    "thresh ={}\n",
    "\n",
    "n_class = 2\n",
    "\n",
    "for i in range(n_class):    \n",
    "    fpr[i], tpr[i], thresh[i] = roc_curve(y_test, prediction_cplx[:,i], pos_label=i)\n",
    "\n",
    "#y_score = classifier.fit(X_train, y_train).decision_function(X_test)\n",
    "# Compute micro-average ROC curve and ROC area\n",
    "#fpr[\"micro\"], tpr[\"micro\"], _ = roc_curve(y_test.ravel(), y_score.ravel())\n",
    "#roc_auc[\"micro\"] = auc(fpr[\"micro\"], tpr[\"micro\"])  \n",
    "\n",
    "\n",
    "\n",
    "    \n",
    "# plotting\n",
    "plt.figure(figsize=(8, 6))\n",
    "plt.plot(fpr[0], tpr[0], linestyle='--',color='steelblue', label='No Heart Disease 0')\n",
    "plt.plot(fpr[1], tpr[1], linestyle='--',color='red', label='Heart Disease 1')\n",
    "plt.plot([0,1],[0,1],color=\"black\",linestyle=\"--\")\n",
    "#plt.plot(fpr[2], tpr[2], linestyle='--',color='blue', label='Class 2 vs Rest')\n",
    "#plt.plot(fpr[3], tpr[3], linestyle='--',color='red', label='Class 3 vs Rest')\n",
    "#plt.plot(fpr[4], tpr[4], linestyle='--',color='black', label='Class 4 vs Rest')\n",
    "#plt.plot(fpr[5], tpr[5], linestyle='--',color='purple', label='Class 5 vs Rest')\n",
    "#plt.plot(fpr[6], tpr[6], linestyle='--',color='yellow', label='Class 6 vs Rest')\n",
    "plt.title('ROC: XGBoost')\n",
    "plt.text(0.6,0.5,\"Baseline\")\n",
    "plt.xlabel('False Positive Rate')\n",
    "plt.ylabel('True Positive rate')\n",
    "plt.legend(loc='best')\n",
    "#plt.savefig('XGB ROC',dpi=300); "
   ]
  },
  {
   "cell_type": "markdown",
   "id": "50447a1b",
   "metadata": {},
   "source": [
    "### ROC AUC Score"
   ]
  },
  {
   "cell_type": "code",
   "execution_count": 116,
   "id": "15fc9dd6",
   "metadata": {},
   "outputs": [
    {
     "name": "stdout",
     "output_type": "stream",
     "text": [
      "XGB AUC Score: 0.922\n"
     ]
    }
   ],
   "source": [
    "# AUC score\n",
    "\n",
    "#from sklearn.metrics import roc_auc_score\n",
    "xgb_auc_score = roc_auc_score(y_test, prediction_cplx[:,i])\n",
    "\n",
    "print('XGB AUC Score:',xgb_auc_score.round(3))"
   ]
  },
  {
   "cell_type": "markdown",
   "id": "d20ec51a",
   "metadata": {},
   "source": [
    "## Predictions and Confidences\n",
    " ### Classes and Probabilities"
   ]
  },
  {
   "cell_type": "code",
   "execution_count": 117,
   "id": "c6b1acbe",
   "metadata": {},
   "outputs": [
    {
     "data": {
      "text/html": [
       "<div>\n",
       "<style scoped>\n",
       "    .dataframe tbody tr th:only-of-type {\n",
       "        vertical-align: middle;\n",
       "    }\n",
       "\n",
       "    .dataframe tbody tr th {\n",
       "        vertical-align: top;\n",
       "    }\n",
       "\n",
       "    .dataframe thead th {\n",
       "        text-align: right;\n",
       "    }\n",
       "</style>\n",
       "<table border=\"1\" class=\"dataframe\">\n",
       "  <thead>\n",
       "    <tr style=\"text-align: right;\">\n",
       "      <th></th>\n",
       "      <th>No heart disease</th>\n",
       "      <th>Heart disease</th>\n",
       "      <th>Predicted class</th>\n",
       "    </tr>\n",
       "  </thead>\n",
       "  <tbody>\n",
       "    <tr>\n",
       "      <th>0</th>\n",
       "      <td>1.000</td>\n",
       "      <td>0.000</td>\n",
       "      <td>0</td>\n",
       "    </tr>\n",
       "    <tr>\n",
       "      <th>1</th>\n",
       "      <td>0.937</td>\n",
       "      <td>0.063</td>\n",
       "      <td>0</td>\n",
       "    </tr>\n",
       "    <tr>\n",
       "      <th>2</th>\n",
       "      <td>0.726</td>\n",
       "      <td>0.274</td>\n",
       "      <td>0</td>\n",
       "    </tr>\n",
       "    <tr>\n",
       "      <th>3</th>\n",
       "      <td>0.995</td>\n",
       "      <td>0.005</td>\n",
       "      <td>0</td>\n",
       "    </tr>\n",
       "    <tr>\n",
       "      <th>4</th>\n",
       "      <td>0.029</td>\n",
       "      <td>0.971</td>\n",
       "      <td>1</td>\n",
       "    </tr>\n",
       "  </tbody>\n",
       "</table>\n",
       "</div>"
      ],
      "text/plain": [
       "   No heart disease  Heart disease  Predicted class\n",
       "0             1.000          0.000                0\n",
       "1             0.937          0.063                0\n",
       "2             0.726          0.274                0\n",
       "3             0.995          0.005                0\n",
       "4             0.029          0.971                1"
      ]
     },
     "execution_count": 117,
     "metadata": {},
     "output_type": "execute_result"
    }
   ],
   "source": [
    "# Classes and Probabilities\n",
    "\n",
    "prediction_probability = xgb.predict_proba(X_test)\n",
    "prediction_cplx = xgb.predict(X_test)\n",
    "\n",
    "class_df = pd.DataFrame(prediction_cplx.round(3),columns=['Predicted class'])\n",
    "proba_df = pd.DataFrame(prediction_probability.round(3),columns=['No heart disease','Heart disease'])\n",
    "\n",
    "#pred_list = pd.concat(['frame','target_rs'],axis= 1)\n",
    "\n",
    "\n",
    "predictions_df = pd.concat([proba_df,class_df ], axis=1)\n",
    "predictions_df.head()"
   ]
  },
  {
   "cell_type": "markdown",
   "id": "3dd68516",
   "metadata": {},
   "source": [
    "### Index of  incorrect predictions"
   ]
  },
  {
   "cell_type": "code",
   "execution_count": 118,
   "id": "82bcc33c",
   "metadata": {},
   "outputs": [
    {
     "data": {
      "text/plain": [
       "(array([ 2, 11, 22, 25, 30, 33, 53], dtype=int64),)"
      ]
     },
     "execution_count": 118,
     "metadata": {},
     "output_type": "execute_result"
    }
   ],
   "source": [
    "# Incorrect predictions\n",
    "\n",
    "incorrects = np.nonzero(prediction_cplx.reshape((-1,)) != y_test)\n",
    "incorrects"
   ]
  },
  {
   "cell_type": "markdown",
   "id": "0ddadc7c",
   "metadata": {},
   "source": [
    "### Jaccard similarity coefficient"
   ]
  },
  {
   "cell_type": "code",
   "execution_count": 119,
   "id": "98851949",
   "metadata": {},
   "outputs": [
    {
     "data": {
      "text/html": [
       "<div>\n",
       "<style scoped>\n",
       "    .dataframe tbody tr th:only-of-type {\n",
       "        vertical-align: middle;\n",
       "    }\n",
       "\n",
       "    .dataframe tbody tr th {\n",
       "        vertical-align: top;\n",
       "    }\n",
       "\n",
       "    .dataframe thead th {\n",
       "        text-align: right;\n",
       "    }\n",
       "</style>\n",
       "<table border=\"1\" class=\"dataframe\">\n",
       "  <thead>\n",
       "    <tr style=\"text-align: right;\">\n",
       "      <th></th>\n",
       "      <th>Jaccard score</th>\n",
       "    </tr>\n",
       "  </thead>\n",
       "  <tbody>\n",
       "    <tr>\n",
       "      <th>0</th>\n",
       "      <td>0.794118</td>\n",
       "    </tr>\n",
       "    <tr>\n",
       "      <th>1</th>\n",
       "      <td>0.794118</td>\n",
       "    </tr>\n",
       "  </tbody>\n",
       "</table>\n",
       "</div>"
      ],
      "text/plain": [
       "   Jaccard score\n",
       "0       0.794118\n",
       "1       0.794118"
      ]
     },
     "execution_count": 119,
     "metadata": {},
     "output_type": "execute_result"
    }
   ],
   "source": [
    "# Jaccard similarity coefficient\n",
    "# Predicted class compared with actual class\n",
    "\n",
    "jaccard = jaccard_score(y_test, prediction_cplx, average = None)#prediction_probability\n",
    "\n",
    "jaccard_df = pd.DataFrame(jaccard,columns=['Jaccard score'])\n",
    "jaccard_df"
   ]
  },
  {
   "cell_type": "markdown",
   "id": "e5095906",
   "metadata": {},
   "source": [
    "## Confidence interval\n",
    "\n",
    "The confidence interval is a likelihood over a range. The true model skill may lie outside of this range.\n",
    " \n",
    "**Commonly used number of standard deviations from the Gaussian distribution and their corresponding significance level are as follows:**\n",
    "\n",
    "* 1.64 (90%)\n",
    "* 1.96 (95%)\n",
    "* 2.33 (98%)\n",
    "* 2.58 (99%)\n",
    "\n",
    "### Using model error"
   ]
  },
  {
   "cell_type": "code",
   "execution_count": 120,
   "id": "50d4c20f",
   "metadata": {},
   "outputs": [
    {
     "name": "stdout",
     "output_type": "stream",
     "text": [
      "Classification error interval: 0.079\n"
     ]
    }
   ],
   "source": [
    "# 95% confidence interval\n",
    "# Calculated radius of the confidence interval using model error\n",
    "\n",
    "# where: interval = z * sqrt( (error * (1 - error)) / n)\n",
    "\n",
    "interval = 1.96 * sqrt( (0.11 * (1 - .11)) / 61)\n",
    "print('Classification error interval: %.3f' % interval)"
   ]
  },
  {
   "cell_type": "markdown",
   "id": "7c304403",
   "metadata": {},
   "source": [
    "* The classification error of the model is 11% +/- 8%\n",
    "* The true classification error of the model on unseen data is likely between 3% and 19%.\n",
    " \n",
    " **The true model skill may lie outside of this range.**"
   ]
  },
  {
   "cell_type": "markdown",
   "id": "e6d03efa",
   "metadata": {},
   "source": [
    "### Upper and lower bounds of model classification accuracy"
   ]
  },
  {
   "cell_type": "code",
   "execution_count": 121,
   "id": "e2c5a44d",
   "metadata": {},
   "outputs": [
    {
     "name": "stdout",
     "output_type": "stream",
     "text": [
      "Lower Bounds of Accuracy:0.805 \n",
      "Upper Bounds of Accuracy:0.965 \n"
     ]
    }
   ],
   "source": [
    "# Upper and lower bounds of model accuracy\n",
    "\n",
    "# 218 correct predictions of 238 instances and with 95% confidence interval,\n",
    "# (provided to the function as a significance of 0.05)\n",
    "\n",
    "lower, upper = proportion_confint(54, 61, 0.05)\n",
    "\n",
    "print('Lower Bounds of Accuracy:%.3f ' % lower)\n",
    "print('Upper Bounds of Accuracy:%.3f ' %upper)"
   ]
  },
  {
   "cell_type": "markdown",
   "id": "18cfa0bb",
   "metadata": {},
   "source": [
    " **The true classification accuracy of the model on unseen data is likely between 81% and 97%**.\n",
    "\n",
    " **True model skill may lie outside of this range.**"
   ]
  },
  {
   "cell_type": "markdown",
   "id": "aab5deb5",
   "metadata": {},
   "source": [
    "### Feature Importances"
   ]
  },
  {
   "cell_type": "code",
   "execution_count": 122,
   "id": "f63003f2",
   "metadata": {
    "scrolled": false
   },
   "outputs": [
    {
     "data": {
      "image/png": "[encoded data removed]",
      "text/plain": [
       "<Figure size 1152x288 with 1 Axes>"
      ]
     },
     "metadata": {
      "needs_background": "light"
     },
     "output_type": "display_data"
    },
    {
     "name": "stdout",
     "output_type": "stream",
     "text": [
      "    Features  Importances\n",
      "18      TH_2     0.356404\n",
      "9       CP_0     0.128567\n",
      "8         ca     0.082592\n",
      "6      exang     0.078384\n",
      "7    oldpeak     0.056481\n",
      "14      SL_1     0.042297\n",
      "1        sex     0.034699\n",
      "15      SL_2     0.028182\n",
      "0        age     0.027856\n",
      "19      TH_3     0.025138\n",
      "3       chol     0.023335\n",
      "10      CP_1     0.020962\n",
      "2   trestbps     0.020370\n",
      "5    thalach     0.020176\n",
      "20    RECG_0     0.015066\n",
      "4        fbs     0.012143\n",
      "21    RECG_1     0.012126\n",
      "11      CP_2     0.007613\n",
      "17      TH_1     0.005795\n",
      "13      SL_0     0.001814\n",
      "16      TH_0     0.000000\n",
      "12      CP_3     0.000000\n",
      "22    RECG_2     0.000000\n"
     ]
    }
   ],
   "source": [
    "# Features Plot and list\n",
    "ft_1=pd.DataFrame({'Features':X.columns,'Importances':xgb.feature_importances_})\n",
    "ft_1=ft_1.sort_values(by='Importances',ascending=False)\n",
    "\n",
    "# Features plot\n",
    "\n",
    "plt.figure(figsize=(16,4))\n",
    "plt.bar(ft_1['Features'],ft_1['Importances'])\n",
    "plt.show()\n",
    "print(ft_1)"
   ]
  },
  {
   "cell_type": "markdown",
   "id": "8ccf3c8c",
   "metadata": {},
   "source": [
    "## SVM"
   ]
  },
  {
   "cell_type": "code",
   "execution_count": 123,
   "id": "40bfc40e",
   "metadata": {
    "scrolled": true
   },
   "outputs": [
    {
     "name": "stdout",
     "output_type": "stream",
     "text": [
      "svm_mcc_train 0.833\n",
      "svm_mcc_test 0.836\n",
      "\n",
      "svm_f1_train 0.916\n",
      "svm_f1_test 0.918\n",
      "\n",
      "Accuracy on train: 0.917\n",
      "Accuracy on test: 0.918\n",
      "\n",
      "Confusion Matrix:\n",
      "[[26  3]\n",
      " [ 2 30]]\n",
      "\n",
      "SVM Model Parameters\n"
     ]
    },
    {
     "data": {
      "text/plain": [
       "{'C': 1.0,\n",
       " 'break_ties': False,\n",
       " 'cache_size': 200,\n",
       " 'class_weight': None,\n",
       " 'coef0': 0.0,\n",
       " 'decision_function_shape': 'ovr',\n",
       " 'degree': 3,\n",
       " 'gamma': 'scale',\n",
       " 'kernel': 'poly',\n",
       " 'max_iter': -1,\n",
       " 'probability': True,\n",
       " 'random_state': 42,\n",
       " 'shrinking': True,\n",
       " 'tol': 0.001,\n",
       " 'verbose': False}"
      ]
     },
     "execution_count": 123,
     "metadata": {},
     "output_type": "execute_result"
    }
   ],
   "source": [
    "# SVM \n",
    "\n",
    "svm = SVC(C=1.0,kernel='poly',decision_function_shape='ovr',probability=True,degree=3,random_state=42)#kernel='linear','rbf','poly','sigmoid'\n",
    "svm.fit(X_train,y_train)\n",
    "\n",
    "pred_svm = svm.predict(X_test)\n",
    "pred2_svm = svm.predict(X_train)\n",
    "\n",
    "# Matthews correlation, f1 score and accuracy\n",
    "\n",
    "svm_mcc_train = matthews_corrcoef(y_train, pred2_svm)\n",
    "print('svm_mcc_train',svm_mcc_train.round(3))\n",
    "svm_mcc_test = matthews_corrcoef(y_test,pred_svm)\n",
    "print('svm_mcc_test',svm_mcc_test.round(3))\n",
    "\n",
    "print()\n",
    "\n",
    "svm_f1_train = f1_score(y_train,pred2_svm,average='macro')\n",
    "print('svm_f1_train',svm_f1_train.round(3))\n",
    "svm_f1_test = f1_score(y_test, pred_svm, average='macro')\n",
    "print('svm_f1_test',svm_f1_test.round(3))\n",
    "\n",
    "print()\n",
    "\n",
    "svm_acc_train = accuracy_score(y_train, pred2_svm)#variable for downstream results list\n",
    "svm_acc_test = accuracy_score(y_test,pred_svm)#variable for downstream results list\n",
    "\n",
    "\n",
    "print(\"Accuracy on train: {:.3f}\".format(accuracy_score(y_train,pred2_svm)))\n",
    "print(\"Accuracy on test: {:.3f}\".format(accuracy_score(y_test,pred_svm)))\n",
    "print()\n",
    "print('Confusion Matrix:\\n{}'.format(confusion_matrix(y_test,pred_svm)))\n",
    "print()\n",
    "print('SVM Model Parameters')\n",
    "svm.get_params()"
   ]
  },
  {
   "cell_type": "markdown",
   "id": "e8dfcc8d",
   "metadata": {},
   "source": [
    "### Cross validation"
   ]
  },
  {
   "cell_type": "code",
   "execution_count": 124,
   "id": "c3076d4d",
   "metadata": {},
   "outputs": [
    {
     "name": "stdout",
     "output_type": "stream",
     "text": [
      "81.83% accuracy with a standard deviation of 8.09%\n"
     ]
    }
   ],
   "source": [
    "# Cross Validation\n",
    "\n",
    "scores=cross_val_score(svm,X_train,y_train,cv=10,n_jobs=-1,scoring='f1')\n",
    "print(\"%0.2f%% accuracy with a standard deviation of %0.2f%%\" % (scores.mean()*100, scores.std()*100))"
   ]
  },
  {
   "cell_type": "markdown",
   "id": "3da7097d",
   "metadata": {},
   "source": [
    "### Classification report"
   ]
  },
  {
   "cell_type": "code",
   "execution_count": 125,
   "id": "c0d7d3ee",
   "metadata": {},
   "outputs": [
    {
     "name": "stdout",
     "output_type": "stream",
     "text": [
      "svm:               precision    recall  f1-score   support\n",
      "\n",
      "           0       0.93      0.90      0.91        29\n",
      "           1       0.91      0.94      0.92        32\n",
      "\n",
      "    accuracy                           0.92        61\n",
      "   macro avg       0.92      0.92      0.92        61\n",
      "weighted avg       0.92      0.92      0.92        61\n",
      "\n"
     ]
    }
   ],
   "source": [
    "# Classification report\n",
    "print(\"svm:\",classification_report(y_test, pred_svm))"
   ]
  },
  {
   "cell_type": "markdown",
   "id": "65e51daf",
   "metadata": {},
   "source": [
    "### Confusion matrix"
   ]
  },
  {
   "cell_type": "code",
   "execution_count": 126,
   "id": "aab288a8",
   "metadata": {},
   "outputs": [
    {
     "data": {
      "text/plain": [
       "Text(0.5, 16.0, 'Predicted Class')"
      ]
     },
     "execution_count": 126,
     "metadata": {},
     "output_type": "execute_result"
    },
    {
     "data": {
      "image/png": "[encoded data removed]",
      "text/plain": [
       "<Figure size 432x288 with 2 Axes>"
      ]
     },
     "metadata": {
      "needs_background": "light"
     },
     "output_type": "display_data"
    }
   ],
   "source": [
    "#Confusion matrix\n",
    "cm = confusion_matrix(y_test,pred_svm)\n",
    "#sns.heatmap(cm, annot=True)\n",
    "sns.heatmap(cm, annot=True, fmt='g', vmin=0, cbar=True, cmap='Greys')\n",
    "plt.title('Confusion Matrix')\n",
    "plt.ylabel('True Class')\n",
    "plt.xlabel('Predicted Class')"
   ]
  },
  {
   "cell_type": "markdown",
   "id": "e87d9f7d",
   "metadata": {},
   "source": [
    "### Performance Metrics"
   ]
  },
  {
   "cell_type": "code",
   "execution_count": 127,
   "id": "b4db4e1d",
   "metadata": {},
   "outputs": [
    {
     "name": "stdout",
     "output_type": "stream",
     "text": [
      "Class: {0: 'No Heart Disease', 1: 'Heart Disease'}\n",
      "Specificity: [0.9375     0.89655172]\n",
      "Specificity Mean: 0.9170258620689655\n",
      "\n",
      "Class: {0: 'No Heart Disease', 1: 'Heart Disease'}\n",
      "Recall/Sensitivity: [0.89655172 0.9375    ]\n",
      "Recall/Sensitivity Mean: 0.9170258620689655\n",
      "\n",
      "Class: {0: 'No Heart Disease', 1: 'Heart Disease'}\n",
      "Precision: [0.92857143 0.90909091]\n",
      "Precision Mean: 0.9188311688311688\n",
      "\n",
      "Class: {0: 'No Heart Disease', 1: 'Heart Disease'}\n",
      "False Positive Rate: [0.0625     0.10344828]\n",
      "False Positive Rate Mean: 0.08297413793103448\n",
      "\n",
      "Class: {0: 'No Heart Disease', 1: 'Heart Disease'}\n",
      "False Negative Rate: [0.10344828 0.0625    ]\n",
      "False Negative Rate Mean: 0.08297413793103448\n",
      "\n",
      "Class: {0: 'No Heart Disease', 1: 'Heart Disease'}\n",
      "False Discovery Rate: [0.07142857 0.09090909]\n",
      "False Discovery Rate Mean: 0.08116883116883117\n"
     ]
    }
   ],
   "source": [
    "#Performance metrics from confusion matrix \n",
    "\n",
    "FP = cm.sum(axis=0) - np.diag(cm) \n",
    "FN = cm.sum(axis=1) - np.diag(cm)\n",
    "TP = np.diag(cm)\n",
    "TN = cm.sum() - (FP + FN + TP)\n",
    "\n",
    "FP = FP.astype(float)\n",
    "FN = FN.astype(float)\n",
    "TP = TP.astype(float)\n",
    "TN = TN.astype(float)\n",
    "\n",
    "# Sensitivity, hit rate, Recall, or true positive rate\n",
    "TPR = TP/(TP+FN)\n",
    "\n",
    "# Specificity or true negative rate\n",
    "TNR = TN/(TN+FP) \n",
    "\n",
    "# Precision or positive predictive value\n",
    "PPV = TP/(TP+FP)\n",
    "\n",
    "# Negative predictive value\n",
    "NPV = TN/(TN+FN)\n",
    "\n",
    "# Fall out or false positive rate\n",
    "FPR = FP/(FP+TN)\n",
    "\n",
    "# False negative rate\n",
    "FNR = FN/(TP+FN)\n",
    "\n",
    "# False discovery rate\n",
    "FDR = FP/(TP+FP)\n",
    "\n",
    "\n",
    "print('Class:',class_label)\n",
    "\n",
    "print('Specificity:',TNR)\n",
    "print('Specificity Mean:',TNR.mean())\n",
    "\n",
    "print()\n",
    "\n",
    "print('Class:',class_label)\n",
    "\n",
    "print('Recall/Sensitivity:',TPR)\n",
    "print('Recall/Sensitivity Mean:',TPR.mean())\n",
    "\n",
    "print()\n",
    "\n",
    "print('Class:',class_label)\n",
    "\n",
    "print('Precision:',PPV)\n",
    "print('Precision Mean:',PPV.mean())\n",
    "\n",
    "print()\n",
    "\n",
    "print('Class:',class_label)\n",
    "\n",
    "print('False Positive Rate:',FPR)\n",
    "print('False Positive Rate Mean:',FPR.mean())\n",
    "\n",
    "print()\n",
    "\n",
    "print('Class:',class_label)\n",
    "\n",
    "print('False Negative Rate:',FNR)\n",
    "print('False Negative Rate Mean:',FNR.mean())\n",
    "\n",
    "print()\n",
    "\n",
    "print('Class:',class_label)\n",
    "\n",
    "print('False Discovery Rate:',FDR)\n",
    "print('False Discovery Rate Mean:',FDR.mean())"
   ]
  },
  {
   "cell_type": "markdown",
   "id": "09687c92",
   "metadata": {},
   "source": [
    "### ROC Plot"
   ]
  },
  {
   "cell_type": "code",
   "execution_count": 128,
   "id": "842fdcad",
   "metadata": {},
   "outputs": [
    {
     "data": {
      "text/plain": [
       "<matplotlib.legend.Legend at 0x226f813ae48>"
      ]
     },
     "execution_count": 128,
     "metadata": {},
     "output_type": "execute_result"
    },
    {
     "data": {
      "image/png": "[encoded data removed]",
      "text/plain": [
       "<Figure size 576x432 with 1 Axes>"
      ]
     },
     "metadata": {
      "needs_background": "light"
     },
     "output_type": "display_data"
    }
   ],
   "source": [
    "#ROC Plot\n",
    "from sklearn.multiclass import OneVsRestClassifier\n",
    "from sklearn.metrics import roc_curve\n",
    "from sklearn.metrics import roc_auc_score\n",
    "\n",
    "prediction_cplx = svm.predict_proba(X_test)\n",
    "\n",
    "# roc curve for classes\n",
    "fpr = {}\n",
    "tpr = {}\n",
    "thresh ={}\n",
    "\n",
    "n_class = 2\n",
    "\n",
    "for i in range(n_class):    \n",
    "    fpr[i], tpr[i], thresh[i] = roc_curve(y_test, prediction_cplx[:,i], pos_label=i)\n",
    "\n",
    "#y_score = classifier.fit(X_train, y_train).decision_function(X_test)\n",
    "# Compute micro-average ROC curve and ROC area\n",
    "#fpr[\"micro\"], tpr[\"micro\"], _ = roc_curve(y_test.ravel(), y_score.ravel())\n",
    "#roc_auc[\"micro\"] = auc(fpr[\"micro\"], tpr[\"micro\"])  \n",
    "\n",
    "\n",
    "\n",
    "    \n",
    "# plotting\n",
    "plt.figure(figsize=(8, 6))\n",
    "plt.plot(fpr[0], tpr[0], linestyle='--',color='steelblue', label='No Heart Disease 0')\n",
    "plt.plot(fpr[1], tpr[1], linestyle='--',color='red', label='Heart Disease 1')\n",
    "plt.plot([0,1],[0,1],color=\"black\",linestyle=\"--\")\n",
    "#plt.plot(fpr[2], tpr[2], linestyle='--',color='blue', label='Class 2 vs Rest')\n",
    "#plt.plot(fpr[3], tpr[3], linestyle='--',color='red', label='Class 3 vs Rest')\n",
    "#plt.plot(fpr[4], tpr[4], linestyle='--',color='black', label='Class 4 vs Rest')\n",
    "#plt.plot(fpr[5], tpr[5], linestyle='--',color='purple', label='Class 5 vs Rest')\n",
    "#plt.plot(fpr[6], tpr[6], linestyle='--',color='yellow', label='Class 6 vs Rest')\n",
    "plt.title('ROC: SVM')\n",
    "plt.text(0.6,0.5,\"Baseline\")\n",
    "plt.xlabel('False Positive Rate')\n",
    "plt.ylabel('True Positive rate')\n",
    "plt.legend(loc='best')\n",
    "#plt.savefig('SVM ROC',dpi=300); "
   ]
  },
  {
   "cell_type": "markdown",
   "id": "937c3fda",
   "metadata": {},
   "source": [
    "### ROC AUC Score"
   ]
  },
  {
   "cell_type": "code",
   "execution_count": 129,
   "id": "fb829609",
   "metadata": {},
   "outputs": [
    {
     "name": "stdout",
     "output_type": "stream",
     "text": [
      "SVM AUC Score: 0.9192\n"
     ]
    }
   ],
   "source": [
    "# AUC score\n",
    "\n",
    "#from sklearn.metrics import roc_auc_score\n",
    "svm_auc_score = roc_auc_score(y_test, prediction_cplx[:,i]).round(4)\n",
    "\n",
    "print('SVM AUC Score:',svm_auc_score)"
   ]
  },
  {
   "cell_type": "markdown",
   "id": "08d36ce7",
   "metadata": {},
   "source": [
    "## Predictions and Confidences\n",
    " ### Classes and Probabilities"
   ]
  },
  {
   "cell_type": "code",
   "execution_count": 130,
   "id": "f5e90f3f",
   "metadata": {},
   "outputs": [
    {
     "data": {
      "text/html": [
       "<div>\n",
       "<style scoped>\n",
       "    .dataframe tbody tr th:only-of-type {\n",
       "        vertical-align: middle;\n",
       "    }\n",
       "\n",
       "    .dataframe tbody tr th {\n",
       "        vertical-align: top;\n",
       "    }\n",
       "\n",
       "    .dataframe thead th {\n",
       "        text-align: right;\n",
       "    }\n",
       "</style>\n",
       "<table border=\"1\" class=\"dataframe\">\n",
       "  <thead>\n",
       "    <tr style=\"text-align: right;\">\n",
       "      <th></th>\n",
       "      <th>No heart disease</th>\n",
       "      <th>Heart disease</th>\n",
       "      <th>Predicted class</th>\n",
       "    </tr>\n",
       "  </thead>\n",
       "  <tbody>\n",
       "    <tr>\n",
       "      <th>0</th>\n",
       "      <td>0.807</td>\n",
       "      <td>0.193</td>\n",
       "      <td>0</td>\n",
       "    </tr>\n",
       "    <tr>\n",
       "      <th>1</th>\n",
       "      <td>0.168</td>\n",
       "      <td>0.832</td>\n",
       "      <td>1</td>\n",
       "    </tr>\n",
       "    <tr>\n",
       "      <th>2</th>\n",
       "      <td>0.051</td>\n",
       "      <td>0.949</td>\n",
       "      <td>1</td>\n",
       "    </tr>\n",
       "    <tr>\n",
       "      <th>3</th>\n",
       "      <td>0.914</td>\n",
       "      <td>0.086</td>\n",
       "      <td>0</td>\n",
       "    </tr>\n",
       "    <tr>\n",
       "      <th>4</th>\n",
       "      <td>0.106</td>\n",
       "      <td>0.894</td>\n",
       "      <td>1</td>\n",
       "    </tr>\n",
       "  </tbody>\n",
       "</table>\n",
       "</div>"
      ],
      "text/plain": [
       "   No heart disease  Heart disease  Predicted class\n",
       "0             0.807          0.193                0\n",
       "1             0.168          0.832                1\n",
       "2             0.051          0.949                1\n",
       "3             0.914          0.086                0\n",
       "4             0.106          0.894                1"
      ]
     },
     "execution_count": 130,
     "metadata": {},
     "output_type": "execute_result"
    }
   ],
   "source": [
    "# Classes and Probabilities\n",
    "\n",
    "prediction_probability = svm.predict_proba(X_test)\n",
    "prediction_cplx = svm.predict(X_test)\n",
    "\n",
    "class_df = pd.DataFrame(prediction_cplx.round(3),columns=['Predicted class'])\n",
    "proba_df = pd.DataFrame(prediction_probability.round(3),columns=['No heart disease','Heart disease'])\n",
    "\n",
    "#pred_list = pd.concat(['frame','target_rs'],axis= 1)\n",
    "\n",
    "\n",
    "predictions_df = pd.concat([proba_df,class_df ], axis=1)\n",
    "predictions_df.head()"
   ]
  },
  {
   "cell_type": "markdown",
   "id": "e5053c17",
   "metadata": {},
   "source": [
    "### Index of  incorrect predictions"
   ]
  },
  {
   "cell_type": "code",
   "execution_count": 131,
   "id": "c4653c93",
   "metadata": {},
   "outputs": [
    {
     "data": {
      "text/plain": [
       "(array([ 1, 22, 26, 30, 33], dtype=int64),)"
      ]
     },
     "execution_count": 131,
     "metadata": {},
     "output_type": "execute_result"
    }
   ],
   "source": [
    "# Incorrect predictions\n",
    "\n",
    "incorrects = np.nonzero(prediction_cplx.reshape((-1,)) != y_test)\n",
    "incorrects"
   ]
  },
  {
   "cell_type": "markdown",
   "id": "c19552ca",
   "metadata": {},
   "source": [
    "### Jaccard similarity coefficient"
   ]
  },
  {
   "cell_type": "code",
   "execution_count": 132,
   "id": "09419132",
   "metadata": {},
   "outputs": [
    {
     "data": {
      "text/html": [
       "<div>\n",
       "<style scoped>\n",
       "    .dataframe tbody tr th:only-of-type {\n",
       "        vertical-align: middle;\n",
       "    }\n",
       "\n",
       "    .dataframe tbody tr th {\n",
       "        vertical-align: top;\n",
       "    }\n",
       "\n",
       "    .dataframe thead th {\n",
       "        text-align: right;\n",
       "    }\n",
       "</style>\n",
       "<table border=\"1\" class=\"dataframe\">\n",
       "  <thead>\n",
       "    <tr style=\"text-align: right;\">\n",
       "      <th></th>\n",
       "      <th>Jaccard score</th>\n",
       "    </tr>\n",
       "  </thead>\n",
       "  <tbody>\n",
       "    <tr>\n",
       "      <th>0</th>\n",
       "      <td>0.838710</td>\n",
       "    </tr>\n",
       "    <tr>\n",
       "      <th>1</th>\n",
       "      <td>0.857143</td>\n",
       "    </tr>\n",
       "  </tbody>\n",
       "</table>\n",
       "</div>"
      ],
      "text/plain": [
       "   Jaccard score\n",
       "0       0.838710\n",
       "1       0.857143"
      ]
     },
     "execution_count": 132,
     "metadata": {},
     "output_type": "execute_result"
    }
   ],
   "source": [
    "# Jaccard similarity coefficient\n",
    "# Predicted class compared with actual class\n",
    "\n",
    "jaccard = jaccard_score(y_test, prediction_cplx, average = None)#prediction_probability\n",
    "\n",
    "jaccard_df = pd.DataFrame(jaccard,columns=['Jaccard score'])\n",
    "jaccard_df"
   ]
  },
  {
   "cell_type": "markdown",
   "id": "87b33476",
   "metadata": {},
   "source": [
    "## Confidence interval\n",
    "\n",
    "The confidence interval is a likelihood over a range. The true model skill may lie outside of this range.\n",
    " \n",
    "**Commonly used number of standard deviations from the Gaussian distribution and their corresponding significance level are as follows:**\n",
    "\n",
    "* 1.64 (90%)\n",
    "* 1.96 (95%)\n",
    "* 2.33 (98%)\n",
    "* 2.58 (99%)\n",
    "\n",
    "### Using model error"
   ]
  },
  {
   "cell_type": "code",
   "execution_count": 133,
   "id": "6b98ff71",
   "metadata": {},
   "outputs": [
    {
     "name": "stdout",
     "output_type": "stream",
     "text": [
      "Classification error interval: 0.068\n"
     ]
    }
   ],
   "source": [
    "# 95% confidence interval\n",
    "# Calculated radius of the confidence interval using model error\n",
    "\n",
    "# where: interval = z * sqrt( (error * (1 - error)) / n)\n",
    "\n",
    "interval = 1.96 * sqrt( (0.08 * (1 - .08)) / 61)\n",
    "print('Classification error interval: %.3f' % interval)"
   ]
  },
  {
   "cell_type": "markdown",
   "id": "2ea761fb",
   "metadata": {},
   "source": [
    "* The classification error of the model is 8% +/- 7%\n",
    "* The true classification error of the model on unseen data is likely between 1% and 15%.\n",
    " \n",
    " **The true model skill may lie outside of this range.**"
   ]
  },
  {
   "cell_type": "markdown",
   "id": "28581fe0",
   "metadata": {},
   "source": [
    "### Upper and lower bounds of model classification accuracy"
   ]
  },
  {
   "cell_type": "code",
   "execution_count": 134,
   "id": "c3f52005",
   "metadata": {},
   "outputs": [
    {
     "name": "stdout",
     "output_type": "stream",
     "text": [
      "Lower Bounds of Accuracy:0.849 \n",
      "Upper Bounds of Accuracy:0.987 \n"
     ]
    }
   ],
   "source": [
    "# Upper and lower bounds of model accuracy\n",
    "\n",
    "# 218 correct predictions of 238 instances and with 95% confidence interval,\n",
    "# (provided to the function as a significance of 0.05)\n",
    "\n",
    "lower, upper = proportion_confint(56, 61, 0.05)\n",
    "\n",
    "print('Lower Bounds of Accuracy:%.3f ' % lower)\n",
    "print('Upper Bounds of Accuracy:%.3f ' %upper)"
   ]
  },
  {
   "cell_type": "markdown",
   "id": "509f31c0",
   "metadata": {},
   "source": [
    " **The true classification accuracy of the model on unseen data is likely between 85% and 99%**.\n",
    "\n",
    " **True model skill may lie outside of this range.**"
   ]
  },
  {
   "cell_type": "markdown",
   "id": "dec110c8",
   "metadata": {},
   "source": [
    "### KNN"
   ]
  },
  {
   "cell_type": "code",
   "execution_count": 142,
   "id": "3ad34649",
   "metadata": {
    "scrolled": true
   },
   "outputs": [
    {
     "name": "stdout",
     "output_type": "stream",
     "text": [
      "knn_mcc_train 0.766\n",
      "knn_mcc_test 0.775\n",
      "\n",
      "knn_f1_train 0.883\n",
      "knn_f1_test 0.885\n",
      "\n",
      "knn_Acc on train: 0.884\n",
      "knn_Acc on test: 0.885\n",
      "\n",
      "Confusion Matrix:\n",
      "[[27  2]\n",
      " [ 5 27]]\n",
      "\n",
      "KNN Model Parameters\n"
     ]
    },
    {
     "data": {
      "text/plain": [
       "{'algorithm': 'auto',\n",
       " 'leaf_size': 30,\n",
       " 'metric': 'minkowski',\n",
       " 'metric_params': None,\n",
       " 'n_jobs': -1,\n",
       " 'n_neighbors': 3,\n",
       " 'p': 2,\n",
       " 'weights': 'uniform'}"
      ]
     },
     "execution_count": 142,
     "metadata": {},
     "output_type": "execute_result"
    }
   ],
   "source": [
    "#KNN\n",
    "\n",
    "\n",
    "knn= KNeighborsClassifier(n_neighbors=3, n_jobs=-1).fit(X_train,y_train)\n",
    "\n",
    "pred_knn = knn.predict(X_test)\n",
    "pred2_knn = knn.predict(X_train)\n",
    "\n",
    "# Matthews correlation, f1 score and accuracy\n",
    "\n",
    "knn_mcc_train = matthews_corrcoef(y_train, pred2_knn)\n",
    "print('knn_mcc_train',knn_mcc_train.round(3))\n",
    "knn_mcc_test = matthews_corrcoef(y_test,pred_knn)\n",
    "print('knn_mcc_test',knn_mcc_test.round(3))\n",
    "\n",
    "print()\n",
    "knn_f1_train = f1_score(y_train,pred2_knn,average='macro')\n",
    "print('knn_f1_train',knn_f1_train.round(3))\n",
    "knn_f1_test = f1_score(y_test, pred_knn, average='macro')\n",
    "print('knn_f1_test',knn_f1_test.round(3))\n",
    "\n",
    "knn_acc_train = accuracy_score(y_train, pred2_knn) #variable for downstream results list\n",
    "knn_acc_test = accuracy_score(y_test,pred_knn) #variable for downstream results list\n",
    "\n",
    "print()\n",
    "\n",
    "#print('knn acc on train',knn_acc_train.round(3)) \n",
    "\n",
    "print(\"knn_Acc on train: {:.3f}\".format(accuracy_score(y_train, pred2_knn)))\n",
    "print(\"knn_Acc on test: {:.3f}\".format(accuracy_score(y_test, pred_knn)))\n",
    "print()\n",
    "print('Confusion Matrix:\\n{}'.format(confusion_matrix(y_test,pred_knn))) \n",
    "print()\n",
    "print('KNN Model Parameters')\n",
    "knn.get_params()"
   ]
  },
  {
   "cell_type": "markdown",
   "id": "862b6208",
   "metadata": {},
   "source": [
    "### Cross validation"
   ]
  },
  {
   "cell_type": "code",
   "execution_count": 143,
   "id": "d122fc90",
   "metadata": {},
   "outputs": [
    {
     "name": "stdout",
     "output_type": "stream",
     "text": [
      "81.20% accuracy with a standard deviation of 8.67%\n"
     ]
    }
   ],
   "source": [
    "# Cross Validation\n",
    "\n",
    "scores=cross_val_score(knn,X_train,y_train,cv=10,n_jobs=-1,scoring='f1')\n",
    "print(\"%0.2f%% accuracy with a standard deviation of %0.2f%%\" % (scores.mean()*100, scores.std()*100))"
   ]
  },
  {
   "cell_type": "markdown",
   "id": "e5d0fb04",
   "metadata": {},
   "source": [
    "### Classification report"
   ]
  },
  {
   "cell_type": "code",
   "execution_count": 144,
   "id": "ff99e80e",
   "metadata": {
    "scrolled": true
   },
   "outputs": [
    {
     "name": "stdout",
     "output_type": "stream",
     "text": [
      "knn:               precision    recall  f1-score   support\n",
      "\n",
      "           0       0.84      0.93      0.89        29\n",
      "           1       0.93      0.84      0.89        32\n",
      "\n",
      "    accuracy                           0.89        61\n",
      "   macro avg       0.89      0.89      0.89        61\n",
      "weighted avg       0.89      0.89      0.89        61\n",
      "\n"
     ]
    }
   ],
   "source": [
    "# Classification report\n",
    "print('knn:',classification_report(y_test, pred_knn))"
   ]
  },
  {
   "cell_type": "markdown",
   "id": "8c266601",
   "metadata": {},
   "source": [
    "### Confusion matrix"
   ]
  },
  {
   "cell_type": "code",
   "execution_count": 145,
   "id": "dd0722da",
   "metadata": {},
   "outputs": [
    {
     "data": {
      "text/plain": [
       "Text(0.5, 16.0, 'Predicted Class')"
      ]
     },
     "execution_count": 145,
     "metadata": {},
     "output_type": "execute_result"
    },
    {
     "data": {
      "image/png": "[encoded data removed]",
      "text/plain": [
       "<Figure size 432x288 with 2 Axes>"
      ]
     },
     "metadata": {
      "needs_background": "light"
     },
     "output_type": "display_data"
    }
   ],
   "source": [
    "#Confusion matrix\n",
    "cm = confusion_matrix(y_test,pred_knn)\n",
    "#sns.heatmap(cm, annot=True)\n",
    "sns.heatmap(cm, annot=True, fmt='g', vmin=0, cbar=True, cmap='Greys')\n",
    "plt.title('Confusion Matrix')\n",
    "plt.ylabel('True Class')\n",
    "plt.xlabel('Predicted Class')"
   ]
  },
  {
   "cell_type": "markdown",
   "id": "95d71d0b",
   "metadata": {},
   "source": [
    "### Performance Metrics"
   ]
  },
  {
   "cell_type": "code",
   "execution_count": 140,
   "id": "c82375f1",
   "metadata": {},
   "outputs": [
    {
     "name": "stdout",
     "output_type": "stream",
     "text": [
      "Class: {0: 'No Heart Disease', 1: 'Heart Disease'}\n",
      "Specificity: [0.84375    0.93103448]\n",
      "Specificity Mean: 0.8873922413793103\n",
      "\n",
      "Class: {0: 'No Heart Disease', 1: 'Heart Disease'}\n",
      "Recall/Sensitivity: [0.93103448 0.84375   ]\n",
      "Recall/Sensitivity Mean: 0.8873922413793103\n",
      "\n",
      "Class: {0: 'No Heart Disease', 1: 'Heart Disease'}\n",
      "Precision: [0.84375    0.93103448]\n",
      "Precision Mean: 0.8873922413793103\n",
      "\n",
      "Class: {0: 'No Heart Disease', 1: 'Heart Disease'}\n",
      "False Positive Rate: [0.15625    0.06896552]\n",
      "False Positive Rate Mean: 0.11260775862068965\n",
      "\n",
      "Class: {0: 'No Heart Disease', 1: 'Heart Disease'}\n",
      "False Negative Rate: [0.06896552 0.15625   ]\n",
      "False Negative Rate Mean: 0.11260775862068965\n",
      "\n",
      "Class: {0: 'No Heart Disease', 1: 'Heart Disease'}\n",
      "False Discovery Rate: [0.15625    0.06896552]\n",
      "False Discovery Rate Mean: 0.11260775862068965\n"
     ]
    }
   ],
   "source": [
    "#Performance metrics from confusion matrix \n",
    "\n",
    "FP = cm.sum(axis=0) - np.diag(cm) \n",
    "FN = cm.sum(axis=1) - np.diag(cm)\n",
    "TP = np.diag(cm)\n",
    "TN = cm.sum() - (FP + FN + TP)\n",
    "\n",
    "FP = FP.astype(float)\n",
    "FN = FN.astype(float)\n",
    "TP = TP.astype(float)\n",
    "TN = TN.astype(float)\n",
    "\n",
    "# Sensitivity, hit rate, Recall, or true positive rate\n",
    "TPR = TP/(TP+FN)\n",
    "\n",
    "# Specificity or true negative rate\n",
    "TNR = TN/(TN+FP) \n",
    "\n",
    "# Precision or positive predictive value\n",
    "PPV = TP/(TP+FP)\n",
    "\n",
    "# Negative predictive value\n",
    "NPV = TN/(TN+FN)\n",
    "\n",
    "# Fall out or false positive rate\n",
    "FPR = FP/(FP+TN)\n",
    "\n",
    "# False negative rate\n",
    "FNR = FN/(TP+FN)\n",
    "\n",
    "# False discovery rate\n",
    "FDR = FP/(TP+FP)\n",
    "\n",
    "\n",
    "print('Class:',class_label)\n",
    "\n",
    "print('Specificity:',TNR)\n",
    "print('Specificity Mean:',TNR.mean())\n",
    "\n",
    "print()\n",
    "\n",
    "print('Class:',class_label)\n",
    "\n",
    "print('Recall/Sensitivity:',TPR)\n",
    "print('Recall/Sensitivity Mean:',TPR.mean())\n",
    "\n",
    "print()\n",
    "\n",
    "print('Class:',class_label)\n",
    "\n",
    "print('Precision:',PPV)\n",
    "print('Precision Mean:',PPV.mean())\n",
    "\n",
    "print()\n",
    "\n",
    "print('Class:',class_label)\n",
    "\n",
    "print('False Positive Rate:',FPR)\n",
    "print('False Positive Rate Mean:',FPR.mean())\n",
    "\n",
    "print()\n",
    "\n",
    "print('Class:',class_label)\n",
    "\n",
    "print('False Negative Rate:',FNR)\n",
    "print('False Negative Rate Mean:',FNR.mean())\n",
    "\n",
    "print()\n",
    "\n",
    "print('Class:',class_label)\n",
    "\n",
    "print('False Discovery Rate:',FDR)\n",
    "print('False Discovery Rate Mean:',FDR.mean())"
   ]
  },
  {
   "cell_type": "markdown",
   "id": "a053f06f",
   "metadata": {},
   "source": [
    "### ROC Plot"
   ]
  },
  {
   "cell_type": "code",
   "execution_count": 146,
   "id": "9c243781",
   "metadata": {
    "scrolled": false
   },
   "outputs": [
    {
     "data": {
      "text/plain": [
       "<matplotlib.legend.Legend at 0x226f6b95a88>"
      ]
     },
     "execution_count": 146,
     "metadata": {},
     "output_type": "execute_result"
    },
    {
     "data": {
      "image/png": "[encoded data removed]",
      "text/plain": [
       "<Figure size 576x432 with 1 Axes>"
      ]
     },
     "metadata": {
      "needs_background": "light"
     },
     "output_type": "display_data"
    }
   ],
   "source": [
    "#ROC Plot\n",
    "from sklearn.multiclass import OneVsRestClassifier\n",
    "from sklearn.metrics import roc_curve\n",
    "from sklearn.metrics import roc_auc_score\n",
    "\n",
    "prediction_cplx = knn.predict_proba(X_test)\n",
    "\n",
    "# roc curve for classes\n",
    "fpr = {}\n",
    "tpr = {}\n",
    "thresh ={}\n",
    "\n",
    "n_class = 2\n",
    "\n",
    "for i in range(n_class):    \n",
    "    fpr[i], tpr[i], thresh[i] = roc_curve(y_test, prediction_cplx[:,i], pos_label=i)\n",
    "\n",
    "#y_score = classifier.fit(X_train, y_train).decision_function(X_test)\n",
    "# Compute micro-average ROC curve and ROC area\n",
    "#fpr[\"micro\"], tpr[\"micro\"], _ = roc_curve(y_test.ravel(), y_score.ravel())\n",
    "#roc_auc[\"micro\"] = auc(fpr[\"micro\"], tpr[\"micro\"])  \n",
    "\n",
    "\n",
    "\n",
    "    \n",
    "# plotting\n",
    "plt.figure(figsize=(8, 6))\n",
    "plt.plot(fpr[0], tpr[0], linestyle='--',color='steelblue', label='No Heart Disease 0')\n",
    "plt.plot(fpr[1], tpr[1], linestyle='--',color='red', label='Heart Disease 1')\n",
    "plt.plot([0,1],[0,1],color=\"black\",linestyle=\"--\")\n",
    "#plt.plot(fpr[2], tpr[2], linestyle='--',color='blue', label='Class 2 vs Rest')\n",
    "#plt.plot(fpr[3], tpr[3], linestyle='--',color='red', label='Class 3 vs Rest')\n",
    "#plt.plot(fpr[4], tpr[4], linestyle='--',color='black', label='Class 4 vs Rest')\n",
    "#plt.plot(fpr[5], tpr[5], linestyle='--',color='purple', label='Class 5 vs Rest')\n",
    "#plt.plot(fpr[6], tpr[6], linestyle='--',color='yellow', label='Class 6 vs Rest')\n",
    "plt.title('ROC: KNN')\n",
    "plt.text(0.6,0.5,\"Baseline\")\n",
    "plt.xlabel('False Positive Rate')\n",
    "plt.ylabel('True Positive rate')\n",
    "plt.legend(loc='best')\n",
    "#plt.savefig('KNN ROC',dpi=300); "
   ]
  },
  {
   "cell_type": "markdown",
   "id": "8ec1f1f7",
   "metadata": {},
   "source": [
    "### AUC Score"
   ]
  },
  {
   "cell_type": "code",
   "execution_count": 147,
   "id": "569e016c",
   "metadata": {},
   "outputs": [
    {
     "name": "stdout",
     "output_type": "stream",
     "text": [
      "KNN AUC Score: 0.9003\n"
     ]
    }
   ],
   "source": [
    "# AUC score\n",
    "\n",
    "#from sklearn.metrics import roc_auc_score\n",
    "knn_auc_score = roc_auc_score(y_test, prediction_cplx[:,i]).round(4)\n",
    "\n",
    "print('KNN AUC Score:',knn_auc_score)"
   ]
  },
  {
   "cell_type": "markdown",
   "id": "0e56c2c5",
   "metadata": {},
   "source": [
    "## Predictions and Confidences\n",
    " ### Classes and Probabilities"
   ]
  },
  {
   "cell_type": "code",
   "execution_count": 148,
   "id": "0829e074",
   "metadata": {},
   "outputs": [
    {
     "data": {
      "text/html": [
       "<div>\n",
       "<style scoped>\n",
       "    .dataframe tbody tr th:only-of-type {\n",
       "        vertical-align: middle;\n",
       "    }\n",
       "\n",
       "    .dataframe tbody tr th {\n",
       "        vertical-align: top;\n",
       "    }\n",
       "\n",
       "    .dataframe thead th {\n",
       "        text-align: right;\n",
       "    }\n",
       "</style>\n",
       "<table border=\"1\" class=\"dataframe\">\n",
       "  <thead>\n",
       "    <tr style=\"text-align: right;\">\n",
       "      <th></th>\n",
       "      <th>No heart disease</th>\n",
       "      <th>Heart disease</th>\n",
       "      <th>Predicted class</th>\n",
       "    </tr>\n",
       "  </thead>\n",
       "  <tbody>\n",
       "    <tr>\n",
       "      <th>0</th>\n",
       "      <td>1.000</td>\n",
       "      <td>0.000</td>\n",
       "      <td>0</td>\n",
       "    </tr>\n",
       "    <tr>\n",
       "      <th>1</th>\n",
       "      <td>0.667</td>\n",
       "      <td>0.333</td>\n",
       "      <td>0</td>\n",
       "    </tr>\n",
       "    <tr>\n",
       "      <th>2</th>\n",
       "      <td>0.000</td>\n",
       "      <td>1.000</td>\n",
       "      <td>1</td>\n",
       "    </tr>\n",
       "    <tr>\n",
       "      <th>3</th>\n",
       "      <td>1.000</td>\n",
       "      <td>0.000</td>\n",
       "      <td>0</td>\n",
       "    </tr>\n",
       "    <tr>\n",
       "      <th>4</th>\n",
       "      <td>0.000</td>\n",
       "      <td>1.000</td>\n",
       "      <td>1</td>\n",
       "    </tr>\n",
       "  </tbody>\n",
       "</table>\n",
       "</div>"
      ],
      "text/plain": [
       "   No heart disease  Heart disease  Predicted class\n",
       "0             1.000          0.000                0\n",
       "1             0.667          0.333                0\n",
       "2             0.000          1.000                1\n",
       "3             1.000          0.000                0\n",
       "4             0.000          1.000                1"
      ]
     },
     "execution_count": 148,
     "metadata": {},
     "output_type": "execute_result"
    }
   ],
   "source": [
    "# Classes and Probabilities\n",
    "\n",
    "prediction_probability = knn.predict_proba(X_test)\n",
    "prediction_cplx = knn.predict(X_test)\n",
    "\n",
    "class_df = pd.DataFrame(prediction_cplx.round(3),columns=['Predicted class'])\n",
    "proba_df = pd.DataFrame(prediction_probability.round(3),columns=['No heart disease','Heart disease'])\n",
    "\n",
    "#pred_list = pd.concat(['frame','target_rs'],axis= 1)\n",
    "\n",
    "\n",
    "predictions_df = pd.concat([proba_df,class_df ], axis=1)\n",
    "predictions_df.head()"
   ]
  },
  {
   "cell_type": "markdown",
   "id": "49aa230c",
   "metadata": {},
   "source": [
    "### Index of  incorrect predictions"
   ]
  },
  {
   "cell_type": "code",
   "execution_count": 149,
   "id": "ec372cd2",
   "metadata": {},
   "outputs": [
    {
     "data": {
      "text/plain": [
       "(array([20, 22, 26, 27, 30, 33, 38], dtype=int64),)"
      ]
     },
     "execution_count": 149,
     "metadata": {},
     "output_type": "execute_result"
    }
   ],
   "source": [
    "# Incorrect predictions\n",
    "\n",
    "incorrects = np.nonzero(prediction_cplx.reshape((-1,)) != y_test)\n",
    "incorrects"
   ]
  },
  {
   "cell_type": "markdown",
   "id": "e7396bf4",
   "metadata": {},
   "source": [
    "### Jaccard similarity coefficient"
   ]
  },
  {
   "cell_type": "code",
   "execution_count": 150,
   "id": "4284ca78",
   "metadata": {},
   "outputs": [
    {
     "data": {
      "text/html": [
       "<div>\n",
       "<style scoped>\n",
       "    .dataframe tbody tr th:only-of-type {\n",
       "        vertical-align: middle;\n",
       "    }\n",
       "\n",
       "    .dataframe tbody tr th {\n",
       "        vertical-align: top;\n",
       "    }\n",
       "\n",
       "    .dataframe thead th {\n",
       "        text-align: right;\n",
       "    }\n",
       "</style>\n",
       "<table border=\"1\" class=\"dataframe\">\n",
       "  <thead>\n",
       "    <tr style=\"text-align: right;\">\n",
       "      <th></th>\n",
       "      <th>Jaccard score</th>\n",
       "    </tr>\n",
       "  </thead>\n",
       "  <tbody>\n",
       "    <tr>\n",
       "      <th>0</th>\n",
       "      <td>0.794118</td>\n",
       "    </tr>\n",
       "    <tr>\n",
       "      <th>1</th>\n",
       "      <td>0.794118</td>\n",
       "    </tr>\n",
       "  </tbody>\n",
       "</table>\n",
       "</div>"
      ],
      "text/plain": [
       "   Jaccard score\n",
       "0       0.794118\n",
       "1       0.794118"
      ]
     },
     "execution_count": 150,
     "metadata": {},
     "output_type": "execute_result"
    }
   ],
   "source": [
    "# Jaccard similarity coefficient\n",
    "# Predicted class compared with actual class\n",
    "\n",
    "jaccard = jaccard_score(y_test, prediction_cplx, average = None)#prediction_probability\n",
    "\n",
    "jaccard_df = pd.DataFrame(jaccard,columns=['Jaccard score'])\n",
    "jaccard_df"
   ]
  },
  {
   "cell_type": "markdown",
   "id": "760d1f25",
   "metadata": {},
   "source": [
    "## Confidence interval\n",
    "\n",
    "The confidence interval is a likelihood over a range. The true model skill may lie outside of this range.\n",
    " \n",
    "**Commonly used number of standard deviations from the Gaussian distribution and their corresponding significance level are as follows:**\n",
    "\n",
    "* 1.64 (90%)\n",
    "* 1.96 (95%)\n",
    "* 2.33 (98%)\n",
    "* 2.58 (99%)\n",
    "\n",
    "### Using model error"
   ]
  },
  {
   "cell_type": "code",
   "execution_count": 151,
   "id": "bb6a966d",
   "metadata": {},
   "outputs": [
    {
     "name": "stdout",
     "output_type": "stream",
     "text": [
      "Classification error interval: 0.079\n"
     ]
    }
   ],
   "source": [
    "# 95% confidence interval\n",
    "# Calculated radius of the confidence interval using model error\n",
    "\n",
    "# where: interval = z * sqrt( (error * (1 - error)) / n)\n",
    "\n",
    "interval = 1.96 * sqrt( (0.11 * (1 - .11)) / 61)\n",
    "print('Classification error interval: %.3f' % interval)"
   ]
  },
  {
   "cell_type": "markdown",
   "id": "7adc4e0f",
   "metadata": {},
   "source": [
    "* The classification error of the model is 11% +/- 8%\n",
    "* The true classification error of the model on unseen data is likely between 3% and 19%.\n",
    " \n",
    " **The true model skill may lie outside of this range.**"
   ]
  },
  {
   "cell_type": "markdown",
   "id": "f080250e",
   "metadata": {},
   "source": [
    "### Upper and lower bounds of model classification accuracy"
   ]
  },
  {
   "cell_type": "code",
   "execution_count": 152,
   "id": "d000bfd0",
   "metadata": {},
   "outputs": [
    {
     "name": "stdout",
     "output_type": "stream",
     "text": [
      "Lower Bounds of Accuracy:0.805 \n",
      "Upper Bounds of Accuracy:0.965 \n"
     ]
    }
   ],
   "source": [
    "# Upper and lower bounds of model accuracy\n",
    "\n",
    "# 218 correct predictions of 238 instances and with 95% confidence interval,\n",
    "# (provided to the function as a significance of 0.05)\n",
    "\n",
    "lower, upper = proportion_confint(54, 61, 0.05)\n",
    "\n",
    "print('Lower Bounds of Accuracy:%.3f ' % lower)\n",
    "print('Upper Bounds of Accuracy:%.3f ' %upper)"
   ]
  },
  {
   "cell_type": "markdown",
   "id": "557170e3",
   "metadata": {},
   "source": [
    " **The true classification accuracy of the model on unseen data is likely between 81% and 97%**.\n",
    "\n",
    " **True model skill may lie outside of this range.**"
   ]
  },
  {
   "cell_type": "markdown",
   "id": "909dcc16",
   "metadata": {},
   "source": [
    "# Stacking the Models"
   ]
  },
  {
   "cell_type": "code",
   "execution_count": 181,
   "id": "b25491d5",
   "metadata": {
    "scrolled": true
   },
   "outputs": [
    {
     "name": "stdout",
     "output_type": "stream",
     "text": [
      "\n",
      "Model performance for Training set\n",
      "\n",
      "- Accuracy: 0.9462809917355371\n",
      "- MCC: 0.8918272724036694\n",
      "- F1 score: 0.9461460497505687\n",
      "\n",
      "----------------------------------\n",
      "\n",
      "Model performance for Test set\n",
      "\n",
      "- Accuracy: 0.9016393442622951\n",
      "- MCC: 0.802801724137931\n",
      "- F1 score: 0.9016393442622951\n",
      "\n",
      "Stack Model Parameters\n"
     ]
    },
    {
     "data": {
      "text/plain": [
       "{'cv': 10,\n",
       " 'estimators': [('lr', LogisticRegression(n_jobs=-1, random_state=42)),\n",
       "  ('dt', DecisionTreeClassifier(max_depth=6, random_state=42)),\n",
       "  ('rf',\n",
       "   RandomForestClassifier(criterion='entropy', n_estimators=10, n_jobs=-1,\n",
       "                          random_state=42)),\n",
       "  ('xgb',\n",
       "   XGBClassifier(base_score=0.5, booster='gbtree', colsample_bylevel=1,\n",
       "                 colsample_bynode=1, colsample_bytree=1, enable_categorical=False,\n",
       "                 eval_metric=['logloss', 'error'], gamma=0, gpu_id=-1,\n",
       "                 importance_type=None, interaction_constraints='',\n",
       "                 learning_rate=0.300000012, max_delta_step=0, max_depth=10,\n",
       "                 min_child_weight=1, missing=nan, monotone_constraints='()',\n",
       "                 n_estimators=100, n_jobs=-1, num_parallel_tree=1,\n",
       "                 predictor='auto', random_state=0, reg_alpha=0, reg_lambda=1,\n",
       "                 scale_pos_weight=1, subsample=1, tree_method='exact',\n",
       "                 validate_parameters=1, verbosity=None)),\n",
       "  ('svm', SVC(kernel='poly', probability=True, random_state=42)),\n",
       "  ('knn', KNeighborsClassifier(n_jobs=-1, n_neighbors=3))],\n",
       " 'final_estimator__activation': 'relu',\n",
       " 'final_estimator__alpha': 0.0001,\n",
       " 'final_estimator__batch_size': 'auto',\n",
       " 'final_estimator__beta_1': 0.9,\n",
       " 'final_estimator__beta_2': 0.999,\n",
       " 'final_estimator__early_stopping': False,\n",
       " 'final_estimator__epsilon': 1e-08,\n",
       " 'final_estimator__hidden_layer_sizes': (100,),\n",
       " 'final_estimator__learning_rate': 'constant',\n",
       " 'final_estimator__learning_rate_init': 0.001,\n",
       " 'final_estimator__max_fun': 15000,\n",
       " 'final_estimator__max_iter': 200,\n",
       " 'final_estimator__momentum': 0.9,\n",
       " 'final_estimator__n_iter_no_change': 10,\n",
       " 'final_estimator__nesterovs_momentum': True,\n",
       " 'final_estimator__power_t': 0.5,\n",
       " 'final_estimator__random_state': 1,\n",
       " 'final_estimator__shuffle': True,\n",
       " 'final_estimator__solver': 'adam',\n",
       " 'final_estimator__tol': 0.0001,\n",
       " 'final_estimator__validation_fraction': 0.1,\n",
       " 'final_estimator__verbose': False,\n",
       " 'final_estimator__warm_start': False,\n",
       " 'final_estimator': MLPClassifier(random_state=1),\n",
       " 'n_jobs': None,\n",
       " 'passthrough': False,\n",
       " 'stack_method': 'auto',\n",
       " 'verbose': 0,\n",
       " 'lr': LogisticRegression(n_jobs=-1, random_state=42),\n",
       " 'dt': DecisionTreeClassifier(max_depth=6, random_state=42),\n",
       " 'rf': RandomForestClassifier(criterion='entropy', n_estimators=10, n_jobs=-1,\n",
       "                        random_state=42),\n",
       " 'xgb': XGBClassifier(base_score=0.5, booster='gbtree', colsample_bylevel=1,\n",
       "               colsample_bynode=1, colsample_bytree=1, enable_categorical=False,\n",
       "               eval_metric=['logloss', 'error'], gamma=0, gpu_id=-1,\n",
       "               importance_type=None, interaction_constraints='',\n",
       "               learning_rate=0.300000012, max_delta_step=0, max_depth=10,\n",
       "               min_child_weight=1, missing=nan, monotone_constraints='()',\n",
       "               n_estimators=100, n_jobs=-1, num_parallel_tree=1,\n",
       "               predictor='auto', random_state=0, reg_alpha=0, reg_lambda=1,\n",
       "               scale_pos_weight=1, subsample=1, tree_method='exact',\n",
       "               validate_parameters=1, verbosity=None),\n",
       " 'svm': SVC(kernel='poly', probability=True, random_state=42),\n",
       " 'knn': KNeighborsClassifier(n_jobs=-1, n_neighbors=3),\n",
       " 'lr__C': 1.0,\n",
       " 'lr__class_weight': None,\n",
       " 'lr__dual': False,\n",
       " 'lr__fit_intercept': True,\n",
       " 'lr__intercept_scaling': 1,\n",
       " 'lr__l1_ratio': None,\n",
       " 'lr__max_iter': 100,\n",
       " 'lr__multi_class': 'auto',\n",
       " 'lr__n_jobs': -1,\n",
       " 'lr__penalty': 'l2',\n",
       " 'lr__random_state': 42,\n",
       " 'lr__solver': 'lbfgs',\n",
       " 'lr__tol': 0.0001,\n",
       " 'lr__verbose': 0,\n",
       " 'lr__warm_start': False,\n",
       " 'dt__ccp_alpha': 0.0,\n",
       " 'dt__class_weight': None,\n",
       " 'dt__criterion': 'gini',\n",
       " 'dt__max_depth': 6,\n",
       " 'dt__max_features': None,\n",
       " 'dt__max_leaf_nodes': None,\n",
       " 'dt__min_impurity_decrease': 0.0,\n",
       " 'dt__min_impurity_split': None,\n",
       " 'dt__min_samples_leaf': 1,\n",
       " 'dt__min_samples_split': 2,\n",
       " 'dt__min_weight_fraction_leaf': 0.0,\n",
       " 'dt__random_state': 42,\n",
       " 'dt__splitter': 'best',\n",
       " 'rf__bootstrap': True,\n",
       " 'rf__ccp_alpha': 0.0,\n",
       " 'rf__class_weight': None,\n",
       " 'rf__criterion': 'entropy',\n",
       " 'rf__max_depth': None,\n",
       " 'rf__max_features': 'auto',\n",
       " 'rf__max_leaf_nodes': None,\n",
       " 'rf__max_samples': None,\n",
       " 'rf__min_impurity_decrease': 0.0,\n",
       " 'rf__min_impurity_split': None,\n",
       " 'rf__min_samples_leaf': 1,\n",
       " 'rf__min_samples_split': 2,\n",
       " 'rf__min_weight_fraction_leaf': 0.0,\n",
       " 'rf__n_estimators': 10,\n",
       " 'rf__n_jobs': -1,\n",
       " 'rf__oob_score': False,\n",
       " 'rf__random_state': 42,\n",
       " 'rf__verbose': 0,\n",
       " 'rf__warm_start': False,\n",
       " 'xgb__objective': 'binary:logistic',\n",
       " 'xgb__use_label_encoder': True,\n",
       " 'xgb__base_score': 0.5,\n",
       " 'xgb__booster': 'gbtree',\n",
       " 'xgb__colsample_bylevel': 1,\n",
       " 'xgb__colsample_bynode': 1,\n",
       " 'xgb__colsample_bytree': 1,\n",
       " 'xgb__enable_categorical': False,\n",
       " 'xgb__gamma': 0,\n",
       " 'xgb__gpu_id': -1,\n",
       " 'xgb__importance_type': None,\n",
       " 'xgb__interaction_constraints': '',\n",
       " 'xgb__learning_rate': 0.300000012,\n",
       " 'xgb__max_delta_step': 0,\n",
       " 'xgb__max_depth': 10,\n",
       " 'xgb__min_child_weight': 1,\n",
       " 'xgb__missing': nan,\n",
       " 'xgb__monotone_constraints': '()',\n",
       " 'xgb__n_estimators': 100,\n",
       " 'xgb__n_jobs': -1,\n",
       " 'xgb__num_parallel_tree': 1,\n",
       " 'xgb__predictor': 'auto',\n",
       " 'xgb__random_state': 0,\n",
       " 'xgb__reg_alpha': 0,\n",
       " 'xgb__reg_lambda': 1,\n",
       " 'xgb__scale_pos_weight': 1,\n",
       " 'xgb__subsample': 1,\n",
       " 'xgb__tree_method': 'exact',\n",
       " 'xgb__validate_parameters': 1,\n",
       " 'xgb__verbosity': None,\n",
       " 'xgb__eval_metric': ['logloss', 'error'],\n",
       " 'svm__C': 1.0,\n",
       " 'svm__break_ties': False,\n",
       " 'svm__cache_size': 200,\n",
       " 'svm__class_weight': None,\n",
       " 'svm__coef0': 0.0,\n",
       " 'svm__decision_function_shape': 'ovr',\n",
       " 'svm__degree': 3,\n",
       " 'svm__gamma': 'scale',\n",
       " 'svm__kernel': 'poly',\n",
       " 'svm__max_iter': -1,\n",
       " 'svm__probability': True,\n",
       " 'svm__random_state': 42,\n",
       " 'svm__shrinking': True,\n",
       " 'svm__tol': 0.001,\n",
       " 'svm__verbose': False,\n",
       " 'knn__algorithm': 'auto',\n",
       " 'knn__leaf_size': 30,\n",
       " 'knn__metric': 'minkowski',\n",
       " 'knn__metric_params': None,\n",
       " 'knn__n_jobs': -1,\n",
       " 'knn__n_neighbors': 3,\n",
       " 'knn__p': 2,\n",
       " 'knn__weights': 'uniform'}"
      ]
     },
     "execution_count": 181,
     "metadata": {},
     "output_type": "execute_result"
    }
   ],
   "source": [
    "# Stacking classifier\n",
    "\n",
    "base_models= [('lr',lr),\n",
    "              ('dt',dt),\n",
    "              ('rf',rf),\n",
    "              ('xgb',xgb),\n",
    "              ('svm',svm),\n",
    "              ('knn',knn)]\n",
    "\n",
    "# Initialize Stacking Classifier with the Meta Learner\n",
    "\n",
    "stack = StackingClassifier(estimators=base_models,\n",
    "                           final_estimator= MLPClassifier(random_state=1, max_iter=200),cv=10)\n",
    "\n",
    "\n",
    "# Train stacked model\n",
    "\n",
    "stack.fit(X_train, y_train)\n",
    "\n",
    "# Make predictions\n",
    "stack_train_pred = stack.predict(X_train)\n",
    "stack_test_pred = stack.predict(X_test)\n",
    "\n",
    "# Training set model performance\n",
    "stack_train_accuracy = accuracy_score(y_train, stack_train_pred) # Calculate Accuracy\n",
    "stack_train_mcc = matthews_corrcoef(y_train, stack_train_pred) # Calculate MCC\n",
    "stack_train_f1 = f1_score(y_train, stack_train_pred, average='weighted') # Calculate F1-score\n",
    "\n",
    "# Test set model performance\n",
    "stack_test_accuracy = accuracy_score(y_test, stack_test_pred) # Calculate Accuracy\n",
    "stack_test_mcc = matthews_corrcoef(y_test, stack_test_pred) # Calculate MCC\n",
    "stack_test_f1 = f1_score(y_test, stack_test_pred, average='weighted') # Calculate F1-score\n",
    "\n",
    "\n",
    "print()\n",
    "print('Model performance for Training set')\n",
    "print()\n",
    "print('- Accuracy: %s' % stack_train_accuracy)\n",
    "print('- MCC: %s' % stack_train_mcc)\n",
    "print('- F1 score: %s' % stack_train_f1)\n",
    "print()\n",
    "print('----------------------------------')\n",
    "print()\n",
    "print('Model performance for Test set')\n",
    "print()\n",
    "print('- Accuracy: %s' % stack_test_accuracy)\n",
    "print('- MCC: %s' % stack_test_mcc)\n",
    "print('- F1 score: %s' % stack_test_f1)\n",
    "\n",
    "print()\n",
    "print('Stack Model Parameters')\n",
    "stack.get_params()"
   ]
  },
  {
   "cell_type": "markdown",
   "id": "7e3af579",
   "metadata": {},
   "source": [
    "### Classification report"
   ]
  },
  {
   "cell_type": "code",
   "execution_count": 182,
   "id": "5a17d1db",
   "metadata": {
    "scrolled": true
   },
   "outputs": [
    {
     "name": "stdout",
     "output_type": "stream",
     "text": [
      "stacked:               precision    recall  f1-score   support\n",
      "\n",
      "           0       0.90      0.90      0.90        29\n",
      "           1       0.91      0.91      0.91        32\n",
      "\n",
      "    accuracy                           0.90        61\n",
      "   macro avg       0.90      0.90      0.90        61\n",
      "weighted avg       0.90      0.90      0.90        61\n",
      "\n"
     ]
    }
   ],
   "source": [
    "# Classification report\n",
    "print(\"stacked:\",classification_report(y_test, stack_test_pred))"
   ]
  },
  {
   "cell_type": "markdown",
   "id": "1617636f",
   "metadata": {},
   "source": [
    "### Confusion matrix"
   ]
  },
  {
   "cell_type": "code",
   "execution_count": 183,
   "id": "02d55734",
   "metadata": {},
   "outputs": [
    {
     "data": {
      "text/plain": [
       "Text(0.5, 16.0, 'Predicted Class')"
      ]
     },
     "execution_count": 183,
     "metadata": {},
     "output_type": "execute_result"
    },
    {
     "data": {
      "image/png": "[encoded data removed]",
      "text/plain": [
       "<Figure size 432x288 with 2 Axes>"
      ]
     },
     "metadata": {
      "needs_background": "light"
     },
     "output_type": "display_data"
    }
   ],
   "source": [
    "#Confusion matrix\n",
    "cm = confusion_matrix(y_test,stack_test_pred)\n",
    "#sns.heatmap(cm, annot=True)\n",
    "sns.heatmap(cm, annot=True, fmt='g', vmin=0, cbar=True, cmap='Greys')\n",
    "plt.title('Confusion Matrix')\n",
    "plt.ylabel('True Class')\n",
    "plt.xlabel('Predicted Class')"
   ]
  },
  {
   "cell_type": "markdown",
   "id": "a2f23247",
   "metadata": {},
   "source": [
    "### Performance Metrics"
   ]
  },
  {
   "cell_type": "code",
   "execution_count": 184,
   "id": "a8e4478e",
   "metadata": {
    "scrolled": false
   },
   "outputs": [
    {
     "name": "stdout",
     "output_type": "stream",
     "text": [
      "Class: {0: 'No Heart Disease', 1: 'Heart Disease'}\n",
      "Specificity: [0.90625    0.89655172]\n",
      "Specificity Mean: 0.9014008620689655\n",
      "\n",
      "Class: {0: 'No Heart Disease', 1: 'Heart Disease'}\n",
      "Recall/Sensitivity: [0.89655172 0.90625   ]\n",
      "Recall/Sensitivity Mean: 0.9014008620689655\n",
      "\n",
      "Class: {0: 'No Heart Disease', 1: 'Heart Disease'}\n",
      "Precision: [0.89655172 0.90625   ]\n",
      "Precision Mean: 0.9014008620689655\n",
      "\n",
      "Class: {0: 'No Heart Disease', 1: 'Heart Disease'}\n",
      "False Positive Rate: [0.09375    0.10344828]\n",
      "False Positive Rate Mean: 0.09859913793103448\n",
      "\n",
      "Class: {0: 'No Heart Disease', 1: 'Heart Disease'}\n",
      "False Negative Rate: [0.10344828 0.09375   ]\n",
      "False Negative Rate Mean: 0.09859913793103448\n",
      "\n",
      "Class: {0: 'No Heart Disease', 1: 'Heart Disease'}\n",
      "False Discovery Rate: [0.10344828 0.09375   ]\n",
      "False Discovery Rate Mean: 0.09859913793103448\n"
     ]
    }
   ],
   "source": [
    "#Performance metrics from confusion matrix \n",
    "\n",
    "FP = cm.sum(axis=0) - np.diag(cm) \n",
    "FN = cm.sum(axis=1) - np.diag(cm)\n",
    "TP = np.diag(cm)\n",
    "TN = cm.sum() - (FP + FN + TP)\n",
    "\n",
    "FP = FP.astype(float)\n",
    "FN = FN.astype(float)\n",
    "TP = TP.astype(float)\n",
    "TN = TN.astype(float)\n",
    "\n",
    "# Sensitivity, hit rate, Recall, or true positive rate\n",
    "TPR = TP/(TP+FN)\n",
    "\n",
    "# Specificity or true negative rate\n",
    "TNR = TN/(TN+FP) \n",
    "\n",
    "# Precision or positive predictive value\n",
    "PPV = TP/(TP+FP)\n",
    "\n",
    "# Negative predictive value\n",
    "NPV = TN/(TN+FN)\n",
    "\n",
    "# Fall out or false positive rate\n",
    "FPR = FP/(FP+TN)\n",
    "\n",
    "# False negative rate\n",
    "FNR = FN/(TP+FN)\n",
    "\n",
    "# False discovery rate\n",
    "FDR = FP/(TP+FP)\n",
    "\n",
    "\n",
    "print('Class:',class_label)\n",
    "\n",
    "print('Specificity:',TNR)\n",
    "print('Specificity Mean:',TNR.mean())\n",
    "\n",
    "print()\n",
    "\n",
    "print('Class:',class_label)\n",
    "\n",
    "print('Recall/Sensitivity:',TPR)\n",
    "print('Recall/Sensitivity Mean:',TPR.mean())\n",
    "\n",
    "print()\n",
    "\n",
    "print('Class:',class_label)\n",
    "\n",
    "print('Precision:',PPV)\n",
    "print('Precision Mean:',PPV.mean())\n",
    "\n",
    "print()\n",
    "\n",
    "print('Class:',class_label)\n",
    "\n",
    "print('False Positive Rate:',FPR)\n",
    "print('False Positive Rate Mean:',FPR.mean())\n",
    "\n",
    "print()\n",
    "\n",
    "print('Class:',class_label)\n",
    "\n",
    "print('False Negative Rate:',FNR)\n",
    "print('False Negative Rate Mean:',FNR.mean())\n",
    "\n",
    "print()\n",
    "\n",
    "print('Class:',class_label)\n",
    "\n",
    "print('False Discovery Rate:',FDR)\n",
    "print('False Discovery Rate Mean:',FDR.mean())"
   ]
  },
  {
   "cell_type": "markdown",
   "id": "8e75d520",
   "metadata": {},
   "source": [
    "### ROC plot"
   ]
  },
  {
   "cell_type": "code",
   "execution_count": 185,
   "id": "bbc9e01a",
   "metadata": {},
   "outputs": [
    {
     "data": {
      "text/plain": [
       "<matplotlib.legend.Legend at 0x226f6b65a48>"
      ]
     },
     "execution_count": 185,
     "metadata": {},
     "output_type": "execute_result"
    },
    {
     "data": {
      "image/png": "[encoded data removed]",
      "text/plain": [
       "<Figure size 576x432 with 1 Axes>"
      ]
     },
     "metadata": {
      "needs_background": "light"
     },
     "output_type": "display_data"
    }
   ],
   "source": [
    "#ROC Plot\n",
    "from sklearn.multiclass import OneVsRestClassifier\n",
    "from sklearn.metrics import roc_curve\n",
    "from sklearn.metrics import roc_auc_score\n",
    "\n",
    "prediction_cplx = stack.predict_proba(X_test)\n",
    "\n",
    "# roc curve for classes\n",
    "fpr = {}\n",
    "tpr = {}\n",
    "thresh ={}\n",
    "\n",
    "n_class = 2\n",
    "\n",
    "for i in range(n_class):    \n",
    "    fpr[i], tpr[i], thresh[i] = roc_curve(y_test, prediction_cplx[:,i], pos_label=i)\n",
    "\n",
    "#y_score = classifier.fit(X_train, y_train).decision_function(X_test)\n",
    "# Compute micro-average ROC curve and ROC area\n",
    "#fpr[\"micro\"], tpr[\"micro\"], _ = roc_curve(y_test.ravel(), y_score.ravel())\n",
    "#roc_auc[\"micro\"] = auc(fpr[\"micro\"], tpr[\"micro\"])  \n",
    "\n",
    "\n",
    "\n",
    "    \n",
    "# plotting\n",
    "plt.figure(figsize=(8, 6))\n",
    "plt.plot(fpr[0], tpr[0], linestyle='--',color='steelblue', label='No Heart Disease 0')\n",
    "plt.plot(fpr[1], tpr[1], linestyle='--',color='red', label='Heart Disease 1')\n",
    "plt.plot([0,1],[0,1],color=\"black\",linestyle=\"--\")\n",
    "#plt.plot(fpr[2], tpr[2], linestyle='--',color='blue', label='Class 2 vs Rest')\n",
    "#plt.plot(fpr[3], tpr[3], linestyle='--',color='red', label='Class 3 vs Rest')\n",
    "#plt.plot(fpr[4], tpr[4], linestyle='--',color='black', label='Class 4 vs Rest')\n",
    "#plt.plot(fpr[5], tpr[5], linestyle='--',color='purple', label='Class 5 vs Rest')\n",
    "#plt.plot(fpr[6], tpr[6], linestyle='--',color='yellow', label='Class 6 vs Rest')\n",
    "plt.title('ROC: Stack Model')\n",
    "plt.text(0.6,0.5,\"Baseline\")\n",
    "plt.xlabel('False Positive Rate')\n",
    "plt.ylabel('True Positive rate')\n",
    "plt.legend(loc='best')\n",
    "#plt.savefig('ROC',dpi=300); "
   ]
  },
  {
   "cell_type": "markdown",
   "id": "bc939f96",
   "metadata": {},
   "source": [
    "### AUC SCORE"
   ]
  },
  {
   "cell_type": "code",
   "execution_count": 186,
   "id": "a43c74cc",
   "metadata": {},
   "outputs": [
    {
     "name": "stdout",
     "output_type": "stream",
     "text": [
      "Stack AUC Score: 0.9429\n"
     ]
    }
   ],
   "source": [
    "# AUC score\n",
    "\n",
    "#from sklearn.metrics import roc_auc_score\n",
    "stack_auc_score = roc_auc_score(y_test, prediction_cplx[:,i]).round(4)\n",
    "\n",
    "print('Stack AUC Score:',stack_auc_score)"
   ]
  },
  {
   "cell_type": "markdown",
   "id": "24a186dd",
   "metadata": {},
   "source": [
    "## Predictions and Confidences\n",
    " ### Classes and Probabilities"
   ]
  },
  {
   "cell_type": "code",
   "execution_count": 187,
   "id": "ca5a46ff",
   "metadata": {},
   "outputs": [
    {
     "data": {
      "text/html": [
       "<div>\n",
       "<style scoped>\n",
       "    .dataframe tbody tr th:only-of-type {\n",
       "        vertical-align: middle;\n",
       "    }\n",
       "\n",
       "    .dataframe tbody tr th {\n",
       "        vertical-align: top;\n",
       "    }\n",
       "\n",
       "    .dataframe thead th {\n",
       "        text-align: right;\n",
       "    }\n",
       "</style>\n",
       "<table border=\"1\" class=\"dataframe\">\n",
       "  <thead>\n",
       "    <tr style=\"text-align: right;\">\n",
       "      <th></th>\n",
       "      <th>No heart disease</th>\n",
       "      <th>Heart disease</th>\n",
       "      <th>Predicted class</th>\n",
       "    </tr>\n",
       "  </thead>\n",
       "  <tbody>\n",
       "    <tr>\n",
       "      <th>0</th>\n",
       "      <td>0.926</td>\n",
       "      <td>0.074</td>\n",
       "      <td>0</td>\n",
       "    </tr>\n",
       "    <tr>\n",
       "      <th>1</th>\n",
       "      <td>0.601</td>\n",
       "      <td>0.399</td>\n",
       "      <td>0</td>\n",
       "    </tr>\n",
       "    <tr>\n",
       "      <th>2</th>\n",
       "      <td>0.208</td>\n",
       "      <td>0.792</td>\n",
       "      <td>1</td>\n",
       "    </tr>\n",
       "    <tr>\n",
       "      <th>3</th>\n",
       "      <td>0.926</td>\n",
       "      <td>0.074</td>\n",
       "      <td>0</td>\n",
       "    </tr>\n",
       "    <tr>\n",
       "      <th>4</th>\n",
       "      <td>0.067</td>\n",
       "      <td>0.933</td>\n",
       "      <td>1</td>\n",
       "    </tr>\n",
       "  </tbody>\n",
       "</table>\n",
       "</div>"
      ],
      "text/plain": [
       "   No heart disease  Heart disease  Predicted class\n",
       "0             0.926          0.074                0\n",
       "1             0.601          0.399                0\n",
       "2             0.208          0.792                1\n",
       "3             0.926          0.074                0\n",
       "4             0.067          0.933                1"
      ]
     },
     "execution_count": 187,
     "metadata": {},
     "output_type": "execute_result"
    }
   ],
   "source": [
    "# Classes and Probabilities\n",
    "\n",
    "prediction_probability = stack.predict_proba(X_test)\n",
    "prediction_cplx = stack.predict(X_test)\n",
    "\n",
    "class_df = pd.DataFrame(prediction_cplx.round(3),columns=['Predicted class'])\n",
    "proba_df = pd.DataFrame(prediction_probability.round(3),columns=['No heart disease','Heart disease'])\n",
    "\n",
    "#pred_list = pd.concat(['frame','target_rs'],axis= 1)\n",
    "\n",
    "\n",
    "predictions_df = pd.concat([proba_df,class_df ], axis=1)\n",
    "predictions_df.head()"
   ]
  },
  {
   "cell_type": "markdown",
   "id": "05e58c4c",
   "metadata": {},
   "source": [
    "### Index of  incorrect predictions"
   ]
  },
  {
   "cell_type": "code",
   "execution_count": 188,
   "id": "fa96dc1c",
   "metadata": {},
   "outputs": [
    {
     "data": {
      "text/plain": [
       "(array([11, 22, 25, 26, 30, 33], dtype=int64),)"
      ]
     },
     "execution_count": 188,
     "metadata": {},
     "output_type": "execute_result"
    }
   ],
   "source": [
    "# Incorrect predictions\n",
    "\n",
    "incorrects = np.nonzero(prediction_cplx.reshape((-1,)) != y_test)\n",
    "incorrects"
   ]
  },
  {
   "cell_type": "markdown",
   "id": "882248dd",
   "metadata": {},
   "source": [
    "### Jaccard similarity coefficient"
   ]
  },
  {
   "cell_type": "code",
   "execution_count": 189,
   "id": "dc815e33",
   "metadata": {},
   "outputs": [
    {
     "data": {
      "text/html": [
       "<div>\n",
       "<style scoped>\n",
       "    .dataframe tbody tr th:only-of-type {\n",
       "        vertical-align: middle;\n",
       "    }\n",
       "\n",
       "    .dataframe tbody tr th {\n",
       "        vertical-align: top;\n",
       "    }\n",
       "\n",
       "    .dataframe thead th {\n",
       "        text-align: right;\n",
       "    }\n",
       "</style>\n",
       "<table border=\"1\" class=\"dataframe\">\n",
       "  <thead>\n",
       "    <tr style=\"text-align: right;\">\n",
       "      <th></th>\n",
       "      <th>Jaccard score</th>\n",
       "    </tr>\n",
       "  </thead>\n",
       "  <tbody>\n",
       "    <tr>\n",
       "      <th>0</th>\n",
       "      <td>0.812500</td>\n",
       "    </tr>\n",
       "    <tr>\n",
       "      <th>1</th>\n",
       "      <td>0.828571</td>\n",
       "    </tr>\n",
       "  </tbody>\n",
       "</table>\n",
       "</div>"
      ],
      "text/plain": [
       "   Jaccard score\n",
       "0       0.812500\n",
       "1       0.828571"
      ]
     },
     "execution_count": 189,
     "metadata": {},
     "output_type": "execute_result"
    }
   ],
   "source": [
    "# Jaccard similarity coefficient\n",
    "# Predicted class compared with actual class\n",
    "\n",
    "jaccard = jaccard_score(y_test, prediction_cplx, average = None)#prediction_probability\n",
    "\n",
    "jaccard_df = pd.DataFrame(jaccard,columns=['Jaccard score'])\n",
    "jaccard_df"
   ]
  },
  {
   "cell_type": "markdown",
   "id": "65d2c1af",
   "metadata": {},
   "source": [
    "## Confidence interval\n",
    "\n",
    "The confidence interval is a likelihood over a range. The true model skill may lie outside of this range.\n",
    " \n",
    "**Commonly used number of standard deviations from the Gaussian distribution and their corresponding significance level are as follows:**\n",
    "\n",
    "* 1.64 (90%)\n",
    "* 1.96 (95%)\n",
    "* 2.33 (98%)\n",
    "* 2.58 (99%)\n",
    "\n",
    "### Using model error"
   ]
  },
  {
   "cell_type": "code",
   "execution_count": 190,
   "id": "5d4b2840",
   "metadata": {},
   "outputs": [
    {
     "name": "stdout",
     "output_type": "stream",
     "text": [
      "Classification error interval: 0.075\n"
     ]
    }
   ],
   "source": [
    "# 95% confidence interval\n",
    "# Calculated radius of the confidence interval using model error\n",
    "\n",
    "# where: interval = z * sqrt( (error * (1 - error)) / n)\n",
    "\n",
    "interval = 1.96 * sqrt( (0.10 * (1 - .10)) / 61)\n",
    "print('Classification error interval: %.3f' % interval)"
   ]
  },
  {
   "cell_type": "markdown",
   "id": "366958f5",
   "metadata": {},
   "source": [
    "* The classification error of the model is 10% +/- 8%\n",
    "* The true classification error of the model on unseen data is likely between 2% and 18%.\n",
    " \n",
    " **The true model skill may lie outside of this range.**"
   ]
  },
  {
   "cell_type": "markdown",
   "id": "12649dbd",
   "metadata": {},
   "source": [
    "### Upper and lower bounds of model classification accuracy"
   ]
  },
  {
   "cell_type": "code",
   "execution_count": 191,
   "id": "a4e87fc2",
   "metadata": {},
   "outputs": [
    {
     "name": "stdout",
     "output_type": "stream",
     "text": [
      "Lower Bounds of Accuracy:0.827 \n",
      "Upper Bounds of Accuracy:0.976 \n"
     ]
    }
   ],
   "source": [
    "# Upper and lower bounds of model accuracy\n",
    "\n",
    "# 218 correct predictions of 238 instances and with 95% confidence interval,\n",
    "# (provided to the function as a significance of 0.05)\n",
    "\n",
    "lower, upper = proportion_confint(55, 61, 0.05)\n",
    "\n",
    "print('Lower Bounds of Accuracy:%.3f ' % lower)\n",
    "print('Upper Bounds of Accuracy:%.3f ' %upper)"
   ]
  },
  {
   "cell_type": "markdown",
   "id": "876a953a",
   "metadata": {},
   "source": [
    "* The true classification accuracy of the model on unseen data is likely between 83% and 98%**.\n",
    "\n",
    " **True model skill may lie outside of this range.**"
   ]
  },
  {
   "cell_type": "markdown",
   "id": "6f55de23",
   "metadata": {},
   "source": [
    "# All Models Train and Test Results"
   ]
  },
  {
   "cell_type": "code",
   "execution_count": 192,
   "id": "5482d6ec",
   "metadata": {},
   "outputs": [],
   "source": [
    "# Train set results lists\n",
    "\n",
    "acc_train_list = {'knn':knn_acc_train,\n",
    "'svm': svm_acc_train,\n",
    "'dt': dt_acc_train,\n",
    "'rf': rf_acc_train,\n",
    "'lr': lr_acc_train,\n",
    "'xgb': xgb_acc_train,\n",
    "'stack': stack_train_accuracy}\n",
    "\n",
    "mcc_train_list = {'knn':knn_mcc_train,\n",
    "'svm': svm_mcc_train,\n",
    "'dt': dt_mcc_train,\n",
    "'rf': rf_mcc_train,\n",
    "'lr': lr_mcc_train,\n",
    "'xgb': xgb_mcc_train,\n",
    "'stack': stack_train_mcc}\n",
    "\n",
    "f1_train_list = {'knn':knn_f1_train,\n",
    "'svm': svm_f1_train,\n",
    "'dt': dt_f1_train,\n",
    "'rf': rf_f1_train,\n",
    "'lr': lr_f1_train,\n",
    "'xgb': xgb_f1_train,\n",
    "'stack': stack_train_f1}\n",
    "\n",
    "# Test results lists\n",
    "\n",
    "acc_test_list = {'knn':knn_acc_test,\n",
    "'svm': svm_acc_test,\n",
    "'dt': dt_acc_test,\n",
    "'rf': rf_acc_test,\n",
    "'lr': lr_acc_test,\n",
    "'xgb': xgb_acc_test,\n",
    "'stack': stack_test_accuracy}\n",
    "\n",
    "mcc_test_list = {'knn':knn_mcc_test,\n",
    "'svm': svm_mcc_test,\n",
    "'dt': dt_mcc_test,\n",
    "'rf': rf_mcc_test,\n",
    "'lr': lr_mcc_test,\n",
    "'xgb': xgb_mcc_test,\n",
    "'stack': stack_test_mcc}\n",
    "\n",
    "f1_test_list = {'knn':knn_f1_test,\n",
    "'svm': svm_f1_test,\n",
    "'dt': dt_f1_test,\n",
    "'rf': rf_f1_test,\n",
    "'lr': lr_f1_test,\n",
    "'xgb': xgb_f1_test,\n",
    "'stack': stack_test_f1}\n",
    "\n",
    "auc_list = {'knn':knn_auc_score,\n",
    "'svm':svm_auc_score,\n",
    "'dt':dt_auc_score,\n",
    "'rf':rf_auc_score,\n",
    "'lr':lr_auc_score,\n",
    "'xgb':xgb_auc_score,\n",
    "'stack':stack_auc_score}\n"
   ]
  },
  {
   "cell_type": "markdown",
   "id": "9e223740",
   "metadata": {},
   "source": [
    "# All Models Training Results"
   ]
  },
  {
   "cell_type": "code",
   "execution_count": 193,
   "id": "d2683c05",
   "metadata": {},
   "outputs": [
    {
     "name": "stdout",
     "output_type": "stream",
     "text": [
      "All Models Training Results\n"
     ]
    },
    {
     "data": {
      "text/html": [
       "<div>\n",
       "<style scoped>\n",
       "    .dataframe tbody tr th:only-of-type {\n",
       "        vertical-align: middle;\n",
       "    }\n",
       "\n",
       "    .dataframe tbody tr th {\n",
       "        vertical-align: top;\n",
       "    }\n",
       "\n",
       "    .dataframe thead th {\n",
       "        text-align: right;\n",
       "    }\n",
       "</style>\n",
       "<table border=\"1\" class=\"dataframe\">\n",
       "  <thead>\n",
       "    <tr style=\"text-align: right;\">\n",
       "      <th></th>\n",
       "      <th>Accuracy</th>\n",
       "      <th>MCC</th>\n",
       "      <th>F1</th>\n",
       "    </tr>\n",
       "  </thead>\n",
       "  <tbody>\n",
       "    <tr>\n",
       "      <th>knn</th>\n",
       "      <td>0.884298</td>\n",
       "      <td>0.765950</td>\n",
       "      <td>0.882728</td>\n",
       "    </tr>\n",
       "    <tr>\n",
       "      <th>svm</th>\n",
       "      <td>0.917355</td>\n",
       "      <td>0.832909</td>\n",
       "      <td>0.916390</td>\n",
       "    </tr>\n",
       "    <tr>\n",
       "      <th>dt</th>\n",
       "      <td>0.958678</td>\n",
       "      <td>0.918088</td>\n",
       "      <td>0.958448</td>\n",
       "    </tr>\n",
       "    <tr>\n",
       "      <th>rf</th>\n",
       "      <td>0.983471</td>\n",
       "      <td>0.966803</td>\n",
       "      <td>0.983333</td>\n",
       "    </tr>\n",
       "    <tr>\n",
       "      <th>lr</th>\n",
       "      <td>0.838843</td>\n",
       "      <td>0.673752</td>\n",
       "      <td>0.836154</td>\n",
       "    </tr>\n",
       "    <tr>\n",
       "      <th>xgb</th>\n",
       "      <td>1.000000</td>\n",
       "      <td>1.000000</td>\n",
       "      <td>1.000000</td>\n",
       "    </tr>\n",
       "    <tr>\n",
       "      <th>stack</th>\n",
       "      <td>0.946281</td>\n",
       "      <td>0.891827</td>\n",
       "      <td>0.946146</td>\n",
       "    </tr>\n",
       "  </tbody>\n",
       "</table>\n",
       "</div>"
      ],
      "text/plain": [
       "       Accuracy       MCC        F1\n",
       "knn    0.884298  0.765950  0.882728\n",
       "svm    0.917355  0.832909  0.916390\n",
       "dt     0.958678  0.918088  0.958448\n",
       "rf     0.983471  0.966803  0.983333\n",
       "lr     0.838843  0.673752  0.836154\n",
       "xgb    1.000000  1.000000  1.000000\n",
       "stack  0.946281  0.891827  0.946146"
      ]
     },
     "execution_count": 193,
     "metadata": {},
     "output_type": "execute_result"
    }
   ],
   "source": [
    "# Training results dataframe\n",
    "\n",
    "acc_df = pd.DataFrame.from_dict(acc_train_list, orient='index', columns=['Accuracy'])\n",
    "mcc_df = pd.DataFrame.from_dict(mcc_train_list, orient='index', columns=['MCC'])\n",
    "f1_df = pd.DataFrame.from_dict(f1_train_list, orient='index', columns=['F1'])\n",
    "\n",
    "print('All Models Training Results')\n",
    "\n",
    "train_results_df = pd.concat([acc_df, mcc_df,f1_df], axis=1)\n",
    "train_results_df\n",
    "\n"
   ]
  },
  {
   "cell_type": "markdown",
   "id": "8ef66194",
   "metadata": {},
   "source": [
    "# All Models Test Results "
   ]
  },
  {
   "cell_type": "code",
   "execution_count": 194,
   "id": "84885fe2",
   "metadata": {
    "scrolled": true
   },
   "outputs": [
    {
     "name": "stdout",
     "output_type": "stream",
     "text": [
      "All Models Test Results\n"
     ]
    },
    {
     "data": {
      "text/html": [
       "<div>\n",
       "<style scoped>\n",
       "    .dataframe tbody tr th:only-of-type {\n",
       "        vertical-align: middle;\n",
       "    }\n",
       "\n",
       "    .dataframe tbody tr th {\n",
       "        vertical-align: top;\n",
       "    }\n",
       "\n",
       "    .dataframe thead th {\n",
       "        text-align: right;\n",
       "    }\n",
       "</style>\n",
       "<table border=\"1\" class=\"dataframe\">\n",
       "  <thead>\n",
       "    <tr style=\"text-align: right;\">\n",
       "      <th></th>\n",
       "      <th>Accuracy</th>\n",
       "      <th>MCC</th>\n",
       "      <th>F1</th>\n",
       "      <th>AUC</th>\n",
       "    </tr>\n",
       "  </thead>\n",
       "  <tbody>\n",
       "    <tr>\n",
       "      <th>knn</th>\n",
       "      <td>0.885246</td>\n",
       "      <td>0.774784</td>\n",
       "      <td>0.885246</td>\n",
       "      <td>0.900300</td>\n",
       "    </tr>\n",
       "    <tr>\n",
       "      <th>svm</th>\n",
       "      <td>0.918033</td>\n",
       "      <td>0.835855</td>\n",
       "      <td>0.917679</td>\n",
       "      <td>0.919200</td>\n",
       "    </tr>\n",
       "    <tr>\n",
       "      <th>dt</th>\n",
       "      <td>0.770492</td>\n",
       "      <td>0.547517</td>\n",
       "      <td>0.770430</td>\n",
       "      <td>0.844300</td>\n",
       "    </tr>\n",
       "    <tr>\n",
       "      <th>rf</th>\n",
       "      <td>0.868852</td>\n",
       "      <td>0.745142</td>\n",
       "      <td>0.868817</td>\n",
       "      <td>0.912177</td>\n",
       "    </tr>\n",
       "    <tr>\n",
       "      <th>lr</th>\n",
       "      <td>0.868852</td>\n",
       "      <td>0.745142</td>\n",
       "      <td>0.868817</td>\n",
       "      <td>0.948300</td>\n",
       "    </tr>\n",
       "    <tr>\n",
       "      <th>xgb</th>\n",
       "      <td>0.885246</td>\n",
       "      <td>0.774784</td>\n",
       "      <td>0.885246</td>\n",
       "      <td>0.922414</td>\n",
       "    </tr>\n",
       "    <tr>\n",
       "      <th>stack</th>\n",
       "      <td>0.901639</td>\n",
       "      <td>0.802802</td>\n",
       "      <td>0.901639</td>\n",
       "      <td>0.942900</td>\n",
       "    </tr>\n",
       "  </tbody>\n",
       "</table>\n",
       "</div>"
      ],
      "text/plain": [
       "       Accuracy       MCC        F1       AUC\n",
       "knn    0.885246  0.774784  0.885246  0.900300\n",
       "svm    0.918033  0.835855  0.917679  0.919200\n",
       "dt     0.770492  0.547517  0.770430  0.844300\n",
       "rf     0.868852  0.745142  0.868817  0.912177\n",
       "lr     0.868852  0.745142  0.868817  0.948300\n",
       "xgb    0.885246  0.774784  0.885246  0.922414\n",
       "stack  0.901639  0.802802  0.901639  0.942900"
      ]
     },
     "execution_count": 194,
     "metadata": {},
     "output_type": "execute_result"
    }
   ],
   "source": [
    "# Test results dataframe\n",
    "\n",
    "test_acc_df = pd.DataFrame.from_dict(acc_test_list, orient='index', columns=['Accuracy'])\n",
    "test_mcc_df = pd.DataFrame.from_dict(mcc_test_list, orient='index', columns=['MCC'])\n",
    "test_f1_df = pd.DataFrame.from_dict(f1_test_list, orient='index', columns=['F1'])\n",
    "auc_df = pd.DataFrame.from_dict(auc_list, orient='index',columns=['AUC'])\n",
    "\n",
    "print('All Models Test Results')\n",
    "\n",
    "\n",
    "test_results_df = pd.concat([test_acc_df, test_mcc_df, test_f1_df,auc_df], axis=1)\n",
    "test_results_df"
   ]
  },
  {
   "cell_type": "markdown",
   "id": "37ca4a93",
   "metadata": {},
   "source": [
    "*_____*"
   ]
  },
  {
   "cell_type": "markdown",
   "id": "689d9070",
   "metadata": {},
   "source": [
    "## Stacking the Best Performers"
   ]
  },
  {
   "cell_type": "code",
   "execution_count": 195,
   "id": "1a66b593",
   "metadata": {
    "scrolled": true
   },
   "outputs": [
    {
     "name": "stdout",
     "output_type": "stream",
     "text": [
      "\n",
      "Model performance for Training set\n",
      "\n",
      "- Accuracy: 0.987603305785124\n",
      "- MCC: 0.9752052933993693\n",
      "- F1 score: 0.9875859437685007\n",
      "\n",
      "----------------------------------\n",
      "\n",
      "Model performance for Test set\n",
      "\n",
      "- Accuracy: 0.9016393442622951\n",
      "- MCC: 0.802801724137931\n",
      "- F1 score: 0.9016393442622951\n",
      "\n",
      "Stack Model Parameters\n"
     ]
    },
    {
     "data": {
      "text/plain": [
       "{'cv': 10,\n",
       " 'estimators': [('svm', SVC(kernel='poly', probability=True, random_state=42)),\n",
       "  ('xgb',\n",
       "   XGBClassifier(base_score=0.5, booster='gbtree', colsample_bylevel=1,\n",
       "                 colsample_bynode=1, colsample_bytree=1, enable_categorical=False,\n",
       "                 eval_metric=['logloss', 'error'], gamma=0, gpu_id=-1,\n",
       "                 importance_type=None, interaction_constraints='',\n",
       "                 learning_rate=0.300000012, max_delta_step=0, max_depth=10,\n",
       "                 min_child_weight=1, missing=nan, monotone_constraints='()',\n",
       "                 n_estimators=100, n_jobs=-1, num_parallel_tree=1,\n",
       "                 predictor='auto', random_state=0, reg_alpha=0, reg_lambda=1,\n",
       "                 scale_pos_weight=1, subsample=1, tree_method='exact',\n",
       "                 validate_parameters=1, verbosity=None))],\n",
       " 'final_estimator__activation': 'relu',\n",
       " 'final_estimator__alpha': 0.0001,\n",
       " 'final_estimator__batch_size': 'auto',\n",
       " 'final_estimator__beta_1': 0.9,\n",
       " 'final_estimator__beta_2': 0.999,\n",
       " 'final_estimator__early_stopping': False,\n",
       " 'final_estimator__epsilon': 1e-08,\n",
       " 'final_estimator__hidden_layer_sizes': (100,),\n",
       " 'final_estimator__learning_rate': 'constant',\n",
       " 'final_estimator__learning_rate_init': 0.001,\n",
       " 'final_estimator__max_fun': 15000,\n",
       " 'final_estimator__max_iter': 200,\n",
       " 'final_estimator__momentum': 0.9,\n",
       " 'final_estimator__n_iter_no_change': 10,\n",
       " 'final_estimator__nesterovs_momentum': True,\n",
       " 'final_estimator__power_t': 0.5,\n",
       " 'final_estimator__random_state': 1,\n",
       " 'final_estimator__shuffle': True,\n",
       " 'final_estimator__solver': 'adam',\n",
       " 'final_estimator__tol': 0.0001,\n",
       " 'final_estimator__validation_fraction': 0.1,\n",
       " 'final_estimator__verbose': False,\n",
       " 'final_estimator__warm_start': False,\n",
       " 'final_estimator': MLPClassifier(random_state=1),\n",
       " 'n_jobs': None,\n",
       " 'passthrough': False,\n",
       " 'stack_method': 'auto',\n",
       " 'verbose': 0,\n",
       " 'svm': SVC(kernel='poly', probability=True, random_state=42),\n",
       " 'xgb': XGBClassifier(base_score=0.5, booster='gbtree', colsample_bylevel=1,\n",
       "               colsample_bynode=1, colsample_bytree=1, enable_categorical=False,\n",
       "               eval_metric=['logloss', 'error'], gamma=0, gpu_id=-1,\n",
       "               importance_type=None, interaction_constraints='',\n",
       "               learning_rate=0.300000012, max_delta_step=0, max_depth=10,\n",
       "               min_child_weight=1, missing=nan, monotone_constraints='()',\n",
       "               n_estimators=100, n_jobs=-1, num_parallel_tree=1,\n",
       "               predictor='auto', random_state=0, reg_alpha=0, reg_lambda=1,\n",
       "               scale_pos_weight=1, subsample=1, tree_method='exact',\n",
       "               validate_parameters=1, verbosity=None),\n",
       " 'svm__C': 1.0,\n",
       " 'svm__break_ties': False,\n",
       " 'svm__cache_size': 200,\n",
       " 'svm__class_weight': None,\n",
       " 'svm__coef0': 0.0,\n",
       " 'svm__decision_function_shape': 'ovr',\n",
       " 'svm__degree': 3,\n",
       " 'svm__gamma': 'scale',\n",
       " 'svm__kernel': 'poly',\n",
       " 'svm__max_iter': -1,\n",
       " 'svm__probability': True,\n",
       " 'svm__random_state': 42,\n",
       " 'svm__shrinking': True,\n",
       " 'svm__tol': 0.001,\n",
       " 'svm__verbose': False,\n",
       " 'xgb__objective': 'binary:logistic',\n",
       " 'xgb__use_label_encoder': True,\n",
       " 'xgb__base_score': 0.5,\n",
       " 'xgb__booster': 'gbtree',\n",
       " 'xgb__colsample_bylevel': 1,\n",
       " 'xgb__colsample_bynode': 1,\n",
       " 'xgb__colsample_bytree': 1,\n",
       " 'xgb__enable_categorical': False,\n",
       " 'xgb__gamma': 0,\n",
       " 'xgb__gpu_id': -1,\n",
       " 'xgb__importance_type': None,\n",
       " 'xgb__interaction_constraints': '',\n",
       " 'xgb__learning_rate': 0.300000012,\n",
       " 'xgb__max_delta_step': 0,\n",
       " 'xgb__max_depth': 10,\n",
       " 'xgb__min_child_weight': 1,\n",
       " 'xgb__missing': nan,\n",
       " 'xgb__monotone_constraints': '()',\n",
       " 'xgb__n_estimators': 100,\n",
       " 'xgb__n_jobs': -1,\n",
       " 'xgb__num_parallel_tree': 1,\n",
       " 'xgb__predictor': 'auto',\n",
       " 'xgb__random_state': 0,\n",
       " 'xgb__reg_alpha': 0,\n",
       " 'xgb__reg_lambda': 1,\n",
       " 'xgb__scale_pos_weight': 1,\n",
       " 'xgb__subsample': 1,\n",
       " 'xgb__tree_method': 'exact',\n",
       " 'xgb__validate_parameters': 1,\n",
       " 'xgb__verbosity': None,\n",
       " 'xgb__eval_metric': ['logloss', 'error']}"
      ]
     },
     "execution_count": 195,
     "metadata": {},
     "output_type": "execute_result"
    }
   ],
   "source": [
    "# Stacking classifier of the best performing models: random forest and xgboost\n",
    "\n",
    "base_models= [('svm',svm),\n",
    "              ('xgb',xgb)]\n",
    "\n",
    "# Initialize Stacking Classifier with the Meta Learner\n",
    "\n",
    "stack2 = StackingClassifier(estimators=base_models,\n",
    "                           final_estimator= MLPClassifier(random_state=1, max_iter=200),cv=10)\n",
    "\n",
    "\n",
    "# Train stacked model\n",
    "\n",
    "stack2.fit(X_train, y_train)\n",
    "\n",
    "# Make predictions\n",
    "stack_train_pred2 = stack2.predict(X_train)\n",
    "stack_test_pred2 = stack2.predict(X_test)\n",
    "\n",
    "# Training set model performance\n",
    "stack2_train_accuracy = accuracy_score(y_train, stack_train_pred2) # Calculate Accuracy\n",
    "stack2_train_mcc = matthews_corrcoef(y_train, stack_train_pred2) # Calculate MCC\n",
    "stack2_train_f1 = f1_score(y_train, stack_train_pred2, average='weighted') # Calculate F1-score\n",
    "\n",
    "# Test set model performance\n",
    "stack2_test_accuracy = accuracy_score(y_test, stack_test_pred2) # Calculate Accuracy\n",
    "stack2_test_mcc = matthews_corrcoef(y_test, stack_test_pred2) # Calculate MCC\n",
    "stack2_test_f1 = f1_score(y_test, stack_test_pred2, average='weighted') # Calculate F1-score\n",
    "\n",
    "\n",
    "print()\n",
    "print('Model performance for Training set')\n",
    "print()\n",
    "print('- Accuracy: %s' % stack2_train_accuracy)\n",
    "print('- MCC: %s' % stack2_train_mcc)\n",
    "print('- F1 score: %s' % stack2_train_f1)\n",
    "print()\n",
    "print('----------------------------------')\n",
    "print()\n",
    "print('Model performance for Test set')\n",
    "print()\n",
    "print('- Accuracy: %s' % stack2_test_accuracy)\n",
    "print('- MCC: %s' % stack2_test_mcc)\n",
    "print('- F1 score: %s' % stack2_test_f1)\n",
    "\n",
    "print()\n",
    "print('Stack Model Parameters')\n",
    "stack2.get_params()"
   ]
  },
  {
   "cell_type": "markdown",
   "id": "f2a9618d",
   "metadata": {},
   "source": [
    "### Classification report"
   ]
  },
  {
   "cell_type": "code",
   "execution_count": 196,
   "id": "eeff0920",
   "metadata": {},
   "outputs": [
    {
     "name": "stdout",
     "output_type": "stream",
     "text": [
      "stacked best performers:               precision    recall  f1-score   support\n",
      "\n",
      "           0       0.90      0.90      0.90        29\n",
      "           1       0.91      0.91      0.91        32\n",
      "\n",
      "    accuracy                           0.90        61\n",
      "   macro avg       0.90      0.90      0.90        61\n",
      "weighted avg       0.90      0.90      0.90        61\n",
      "\n"
     ]
    }
   ],
   "source": [
    "# Classification report\n",
    "print(\"stacked best performers:\",classification_report(y_test, stack_test_pred2))"
   ]
  },
  {
   "cell_type": "markdown",
   "id": "6e30b534",
   "metadata": {},
   "source": [
    "### Confusion matrix"
   ]
  },
  {
   "cell_type": "code",
   "execution_count": 197,
   "id": "9b128cde",
   "metadata": {},
   "outputs": [
    {
     "data": {
      "text/plain": [
       "Text(0.5, 16.0, 'Predicted Class')"
      ]
     },
     "execution_count": 197,
     "metadata": {},
     "output_type": "execute_result"
    },
    {
     "data": {
      "image/png": "[encoded data removed]",
      "text/plain": [
       "<Figure size 432x288 with 2 Axes>"
      ]
     },
     "metadata": {
      "needs_background": "light"
     },
     "output_type": "display_data"
    }
   ],
   "source": [
    "#Confusion matrix\n",
    "cm = confusion_matrix(y_test,stack_test_pred2)\n",
    "#sns.heatmap(cm, annot=True)\n",
    "sns.heatmap(cm, annot=True, fmt='g', vmin=0, cbar=True, cmap='Greys')\n",
    "plt.title('Confusion Matrix')\n",
    "plt.ylabel('True Class')\n",
    "plt.xlabel('Predicted Class')"
   ]
  },
  {
   "cell_type": "markdown",
   "id": "bd325916",
   "metadata": {},
   "source": [
    "### Performance metrics"
   ]
  },
  {
   "cell_type": "code",
   "execution_count": 198,
   "id": "48c7769d",
   "metadata": {},
   "outputs": [
    {
     "name": "stdout",
     "output_type": "stream",
     "text": [
      "Class: {0: 'No Heart Disease', 1: 'Heart Disease'}\n",
      "Specificity: [0.90625    0.89655172]\n",
      "Specificity Mean: 0.9014008620689655\n",
      "\n",
      "Class: {0: 'No Heart Disease', 1: 'Heart Disease'}\n",
      "Recall/Sensitivity: [0.89655172 0.90625   ]\n",
      "Recall/Sensitivity Mean: 0.9014008620689655\n",
      "\n",
      "Class: {0: 'No Heart Disease', 1: 'Heart Disease'}\n",
      "Precision: [0.89655172 0.90625   ]\n",
      "Precision Mean: 0.9014008620689655\n",
      "\n",
      "Class: {0: 'No Heart Disease', 1: 'Heart Disease'}\n",
      "False Positive Rate: [0.09375    0.10344828]\n",
      "False Positive Rate Mean: 0.09859913793103448\n",
      "\n",
      "Class: {0: 'No Heart Disease', 1: 'Heart Disease'}\n",
      "False Negative Rate: [0.10344828 0.09375   ]\n",
      "False Negative Rate Mean: 0.09859913793103448\n",
      "\n",
      "Class: {0: 'No Heart Disease', 1: 'Heart Disease'}\n",
      "False Discovery Rate: [0.10344828 0.09375   ]\n",
      "False Discovery Rate Mean: 0.09859913793103448\n"
     ]
    }
   ],
   "source": [
    "#Performance metrics from confusion matrix \n",
    "\n",
    "FP = cm.sum(axis=0) - np.diag(cm) \n",
    "FN = cm.sum(axis=1) - np.diag(cm)\n",
    "TP = np.diag(cm)\n",
    "TN = cm.sum() - (FP + FN + TP)\n",
    "\n",
    "FP = FP.astype(float)\n",
    "FN = FN.astype(float)\n",
    "TP = TP.astype(float)\n",
    "TN = TN.astype(float)\n",
    "\n",
    "# Sensitivity, hit rate, Recall, or true positive rate\n",
    "TPR = TP/(TP+FN)\n",
    "\n",
    "# Specificity or true negative rate\n",
    "TNR = TN/(TN+FP) \n",
    "\n",
    "# Precision or positive predictive value\n",
    "PPV = TP/(TP+FP)\n",
    "\n",
    "# Negative predictive value\n",
    "NPV = TN/(TN+FN)\n",
    "\n",
    "# Fall out or false positive rate\n",
    "FPR = FP/(FP+TN)\n",
    "\n",
    "# False negative rate\n",
    "FNR = FN/(TP+FN)\n",
    "\n",
    "# False discovery rate\n",
    "FDR = FP/(TP+FP)\n",
    "\n",
    "\n",
    "print('Class:',class_label)\n",
    "\n",
    "print('Specificity:',TNR)\n",
    "print('Specificity Mean:',TNR.mean())\n",
    "\n",
    "print()\n",
    "\n",
    "print('Class:',class_label)\n",
    "\n",
    "print('Recall/Sensitivity:',TPR)\n",
    "print('Recall/Sensitivity Mean:',TPR.mean())\n",
    "\n",
    "print()\n",
    "\n",
    "print('Class:',class_label)\n",
    "\n",
    "print('Precision:',PPV)\n",
    "print('Precision Mean:',PPV.mean())\n",
    "\n",
    "print()\n",
    "\n",
    "print('Class:',class_label)\n",
    "\n",
    "print('False Positive Rate:',FPR)\n",
    "print('False Positive Rate Mean:',FPR.mean())\n",
    "\n",
    "print()\n",
    "\n",
    "print('Class:',class_label)\n",
    "\n",
    "print('False Negative Rate:',FNR)\n",
    "print('False Negative Rate Mean:',FNR.mean())\n",
    "\n",
    "print()\n",
    "\n",
    "print('Class:',class_label)\n",
    "\n",
    "print('False Discovery Rate:',FDR)\n",
    "print('False Discovery Rate Mean:',FDR.mean())"
   ]
  },
  {
   "cell_type": "markdown",
   "id": "df895068",
   "metadata": {},
   "source": [
    "### ROC plot"
   ]
  },
  {
   "cell_type": "code",
   "execution_count": 260,
   "id": "21bdf052",
   "metadata": {},
   "outputs": [
    {
     "data": {
      "text/plain": [
       "<matplotlib.legend.Legend at 0x226f8ca4648>"
      ]
     },
     "execution_count": 260,
     "metadata": {},
     "output_type": "execute_result"
    },
    {
     "data": {
      "image/png": "[encoded data removed]",
      "text/plain": [
       "<Figure size 576x432 with 1 Axes>"
      ]
     },
     "metadata": {
      "needs_background": "light"
     },
     "output_type": "display_data"
    }
   ],
   "source": [
    "#ROC Plot\n",
    "from sklearn.multiclass import OneVsRestClassifier\n",
    "from sklearn.metrics import roc_curve\n",
    "from sklearn.metrics import roc_auc_score\n",
    "\n",
    "prediction_cplx = stack2.predict_proba(X_test)\n",
    "\n",
    "# roc curve for classes\n",
    "fpr = {}\n",
    "tpr = {}\n",
    "thresh ={}\n",
    "\n",
    "n_class = 2\n",
    "\n",
    "for i in range(n_class):    \n",
    "    fpr[i], tpr[i], thresh[i] = roc_curve(y_test, prediction_cplx[:,i], pos_label=i)\n",
    "\n",
    "#y_score = classifier.fit(X_train, y_train).decision_function(X_test)\n",
    "# Compute micro-average ROC curve and ROC area\n",
    "#fpr[\"micro\"], tpr[\"micro\"], _ = roc_curve(y_test.ravel(), y_score.ravel())\n",
    "#roc_auc[\"micro\"] = auc(fpr[\"micro\"], tpr[\"micro\"])  \n",
    "\n",
    "\n",
    "\n",
    "    \n",
    "# plotting\n",
    "plt.figure(figsize=(8, 6))\n",
    "#plt.plot(fpr[0], tpr[0], linestyle='--',color='steelblue', label='No Heart Disease 0')\n",
    "plt.plot(fpr[1], tpr[1], linestyle='--',color='red', label='Heart Disease 1')\n",
    "plt.plot([0,1],[0,1],color=\"black\",linestyle=\"--\")\n",
    "#plt.plot(fpr[2], tpr[2], linestyle='--',color='blue', label='Class 2 vs Rest')\n",
    "#plt.plot(fpr[3], tpr[3], linestyle='--',color='red', label='Class 3 vs Rest')\n",
    "#plt.plot(fpr[4], tpr[4], linestyle='--',color='black', label='Class 4 vs Rest')\n",
    "#plt.plot(fpr[5], tpr[5], linestyle='--',color='purple', label='Class 5 vs Rest')\n",
    "#plt.plot(fpr[6], tpr[6], linestyle='--',color='yellow', label='Class 6 vs Rest')\n",
    "plt.title('ROC: Stack Model')\n",
    "plt.text(0.6,0.5,\"Baseline\")\n",
    "plt.xlabel('False Positive Rate')\n",
    "plt.ylabel('True Positive rate')\n",
    "plt.legend(loc='best')\n",
    "#plt.savefig('ROC',dpi=300); "
   ]
  },
  {
   "cell_type": "markdown",
   "id": "b9e2870b",
   "metadata": {},
   "source": [
    "### AUC score"
   ]
  },
  {
   "cell_type": "code",
   "execution_count": 261,
   "id": "15ee1f17",
   "metadata": {},
   "outputs": [
    {
     "name": "stdout",
     "output_type": "stream",
     "text": [
      "Stack AUC Score: 0.9429\n"
     ]
    }
   ],
   "source": [
    "# AUC score\n",
    "\n",
    "#from sklearn.metrics import roc_auc_score\n",
    "stack_auc_score = roc_auc_score(y_test, prediction_cplx[:,i]).round(4)\n",
    "\n",
    "print('Stack AUC Score:',stack_auc_score)"
   ]
  },
  {
   "cell_type": "markdown",
   "id": "65e327b7",
   "metadata": {},
   "source": [
    "## Predictions and Confidences\n",
    " ### Classes and Probabilities"
   ]
  },
  {
   "cell_type": "code",
   "execution_count": 262,
   "id": "7db11f86",
   "metadata": {},
   "outputs": [
    {
     "data": {
      "text/html": [
       "<div>\n",
       "<style scoped>\n",
       "    .dataframe tbody tr th:only-of-type {\n",
       "        vertical-align: middle;\n",
       "    }\n",
       "\n",
       "    .dataframe tbody tr th {\n",
       "        vertical-align: top;\n",
       "    }\n",
       "\n",
       "    .dataframe thead th {\n",
       "        text-align: right;\n",
       "    }\n",
       "</style>\n",
       "<table border=\"1\" class=\"dataframe\">\n",
       "  <thead>\n",
       "    <tr style=\"text-align: right;\">\n",
       "      <th></th>\n",
       "      <th>No heart disease</th>\n",
       "      <th>Heart disease</th>\n",
       "      <th>Predicted class</th>\n",
       "    </tr>\n",
       "  </thead>\n",
       "  <tbody>\n",
       "    <tr>\n",
       "      <th>0</th>\n",
       "      <td>0.882</td>\n",
       "      <td>0.118</td>\n",
       "      <td>0</td>\n",
       "    </tr>\n",
       "    <tr>\n",
       "      <th>1</th>\n",
       "      <td>0.530</td>\n",
       "      <td>0.470</td>\n",
       "      <td>0</td>\n",
       "    </tr>\n",
       "    <tr>\n",
       "      <th>2</th>\n",
       "      <td>0.325</td>\n",
       "      <td>0.675</td>\n",
       "      <td>1</td>\n",
       "    </tr>\n",
       "    <tr>\n",
       "      <th>3</th>\n",
       "      <td>0.907</td>\n",
       "      <td>0.093</td>\n",
       "      <td>0</td>\n",
       "    </tr>\n",
       "    <tr>\n",
       "      <th>4</th>\n",
       "      <td>0.089</td>\n",
       "      <td>0.911</td>\n",
       "      <td>1</td>\n",
       "    </tr>\n",
       "  </tbody>\n",
       "</table>\n",
       "</div>"
      ],
      "text/plain": [
       "   No heart disease  Heart disease  Predicted class\n",
       "0             0.882          0.118                0\n",
       "1             0.530          0.470                0\n",
       "2             0.325          0.675                1\n",
       "3             0.907          0.093                0\n",
       "4             0.089          0.911                1"
      ]
     },
     "execution_count": 262,
     "metadata": {},
     "output_type": "execute_result"
    }
   ],
   "source": [
    "# Classes and Probabilities\n",
    "\n",
    "prediction_probability = stack2.predict_proba(X_test)\n",
    "prediction_cplx = stack2.predict(X_test)\n",
    "\n",
    "class_df = pd.DataFrame(prediction_cplx.round(3),columns=['Predicted class'])\n",
    "proba_df = pd.DataFrame(prediction_probability.round(3),columns=['No heart disease','Heart disease'])\n",
    "\n",
    "#pred_list = pd.concat(['frame','target_rs'],axis= 1)\n",
    "\n",
    "\n",
    "predictions_df = pd.concat([proba_df,class_df ], axis=1)\n",
    "predictions_df.head()"
   ]
  },
  {
   "cell_type": "markdown",
   "id": "88e8d473",
   "metadata": {},
   "source": [
    "### Index of incorrect predictions"
   ]
  },
  {
   "cell_type": "code",
   "execution_count": 263,
   "id": "b6af4933",
   "metadata": {},
   "outputs": [
    {
     "data": {
      "text/plain": [
       "(array([11, 22, 25, 26, 30, 33], dtype=int64),)"
      ]
     },
     "execution_count": 263,
     "metadata": {},
     "output_type": "execute_result"
    }
   ],
   "source": [
    "# Incorrect predictions\n",
    "\n",
    "incorrects = np.nonzero(prediction_cplx.reshape((-1,)) != y_test)\n",
    "incorrects"
   ]
  },
  {
   "cell_type": "markdown",
   "id": "70479546",
   "metadata": {},
   "source": [
    "### Jaccard similarity coefficient"
   ]
  },
  {
   "cell_type": "code",
   "execution_count": 264,
   "id": "9b7a24ef",
   "metadata": {},
   "outputs": [
    {
     "data": {
      "text/html": [
       "<div>\n",
       "<style scoped>\n",
       "    .dataframe tbody tr th:only-of-type {\n",
       "        vertical-align: middle;\n",
       "    }\n",
       "\n",
       "    .dataframe tbody tr th {\n",
       "        vertical-align: top;\n",
       "    }\n",
       "\n",
       "    .dataframe thead th {\n",
       "        text-align: right;\n",
       "    }\n",
       "</style>\n",
       "<table border=\"1\" class=\"dataframe\">\n",
       "  <thead>\n",
       "    <tr style=\"text-align: right;\">\n",
       "      <th></th>\n",
       "      <th>Jaccard score</th>\n",
       "    </tr>\n",
       "  </thead>\n",
       "  <tbody>\n",
       "    <tr>\n",
       "      <th>0</th>\n",
       "      <td>0.812500</td>\n",
       "    </tr>\n",
       "    <tr>\n",
       "      <th>1</th>\n",
       "      <td>0.828571</td>\n",
       "    </tr>\n",
       "  </tbody>\n",
       "</table>\n",
       "</div>"
      ],
      "text/plain": [
       "   Jaccard score\n",
       "0       0.812500\n",
       "1       0.828571"
      ]
     },
     "execution_count": 264,
     "metadata": {},
     "output_type": "execute_result"
    }
   ],
   "source": [
    "# Jaccard similarity coefficient\n",
    "# Predicted class compared with actual class\n",
    "\n",
    "jaccard = jaccard_score(y_test, prediction_cplx, average = None)#prediction_probability\n",
    "\n",
    "jaccard_df = pd.DataFrame(jaccard,columns=['Jaccard score'])\n",
    "jaccard_df"
   ]
  },
  {
   "cell_type": "markdown",
   "id": "8fba2f7b",
   "metadata": {},
   "source": [
    "## Confidence interval\n",
    "\n",
    "The confidence interval is a likelihood over a range. The true model skill may lie outside of this range.\n",
    " \n",
    "**Commonly used number of standard deviations from the Gaussian distribution and their corresponding significance level are as follows:**\n",
    "\n",
    "* 1.64 (90%)\n",
    "* 1.96 (95%)\n",
    "* 2.33 (98%)\n",
    "* 2.58 (99%)\n",
    "\n",
    "### Using model error"
   ]
  },
  {
   "cell_type": "code",
   "execution_count": 204,
   "id": "ae138975",
   "metadata": {},
   "outputs": [
    {
     "name": "stdout",
     "output_type": "stream",
     "text": [
      "Classification error interval: 0.075\n"
     ]
    }
   ],
   "source": [
    "# 95% confidence interval\n",
    "# Calculated radius of the confidence interval using model error\n",
    "\n",
    "# where: interval = z * sqrt( (error * (1 - error)) / n)\n",
    "\n",
    "interval = 1.96 * sqrt( (0.10 * (1 - .10)) / 61)\n",
    "print('Classification error interval: %.3f' % interval)"
   ]
  },
  {
   "cell_type": "markdown",
   "id": "26c5e5a9",
   "metadata": {},
   "source": [
    "**The classification error of the model is 10% +/- 8%**\n",
    "\n",
    "**The true classification error of the model on unseen data is likely between 2% and 18%.**\n",
    " \n",
    "**The true model skill may lie outside of this range.**"
   ]
  },
  {
   "cell_type": "markdown",
   "id": "e858f8e4",
   "metadata": {},
   "source": [
    "### Upper and lower bounds of model accuracy"
   ]
  },
  {
   "cell_type": "code",
   "execution_count": 205,
   "id": "8695834e",
   "metadata": {},
   "outputs": [
    {
     "name": "stdout",
     "output_type": "stream",
     "text": [
      "Lower Bounds of Accuracy:0.827 \n",
      "Upper Bounds of Accuracy:0.976 \n"
     ]
    }
   ],
   "source": [
    "# Upper and lower bounds of model accuracy\n",
    "\n",
    "# 218 correct predictions of 238 instances and with 95% confidence interval,\n",
    "# (provided to the function as a significance of 0.05)\n",
    "\n",
    "lower, upper = proportion_confint(55, 61, 0.05)\n",
    "\n",
    "print('Lower Bounds of Accuracy:%.3f ' % lower)\n",
    "print('Upper Bounds of Accuracy:%.3f ' %upper)"
   ]
  },
  {
   "cell_type": "markdown",
   "id": "670ac0c6",
   "metadata": {},
   "source": [
    "* The true classification accuracy of the model on unseen data is likely between 83% and 98%**.\n",
    "\n",
    " **True model skill may lie outside of this range.**"
   ]
  },
  {
   "cell_type": "markdown",
   "id": "19d6fc5a",
   "metadata": {},
   "source": [
    "**________________**"
   ]
  },
  {
   "cell_type": "markdown",
   "id": "96544286",
   "metadata": {},
   "source": [
    "### Save the best model\n",
    "#### Joblib"
   ]
  },
  {
   "cell_type": "code",
   "execution_count": 265,
   "id": "45fe0299",
   "metadata": {},
   "outputs": [
    {
     "data": {
      "text/plain": [
       "['./HrtDis_Small_Stacked.joblib']"
      ]
     },
     "execution_count": 265,
     "metadata": {},
     "output_type": "execute_result"
    }
   ],
   "source": [
    "# Best performer, stacked random forest and xgboost models\n",
    "\n",
    "joblib.dump(stack2,'./HrtDis_Small_Stacked.joblib')"
   ]
  },
  {
   "cell_type": "code",
   "execution_count": 266,
   "id": "f88dd65c",
   "metadata": {
    "scrolled": true
   },
   "outputs": [
    {
     "name": "stdout",
     "output_type": "stream",
     "text": [
      "Class: {0: 'No Heart Disease', 1: 'Heart Disease'}\n",
      "\n",
      "The class probabilites are: [[0.88227857 0.11772143]]\n",
      "\n",
      "The sample prediction is class: [0]\n",
      "\n"
     ]
    },
    {
     "data": {
      "text/html": [
       "<div>\n",
       "<style scoped>\n",
       "    .dataframe tbody tr th:only-of-type {\n",
       "        vertical-align: middle;\n",
       "    }\n",
       "\n",
       "    .dataframe tbody tr th {\n",
       "        vertical-align: top;\n",
       "    }\n",
       "\n",
       "    .dataframe thead th {\n",
       "        text-align: right;\n",
       "    }\n",
       "</style>\n",
       "<table border=\"1\" class=\"dataframe\">\n",
       "  <thead>\n",
       "    <tr style=\"text-align: right;\">\n",
       "      <th></th>\n",
       "      <th>No heart disease</th>\n",
       "      <th>Heart disease</th>\n",
       "      <th>Predicted class</th>\n",
       "    </tr>\n",
       "  </thead>\n",
       "  <tbody>\n",
       "    <tr>\n",
       "      <th>0</th>\n",
       "      <td>0.882</td>\n",
       "      <td>0.118</td>\n",
       "      <td>0</td>\n",
       "    </tr>\n",
       "    <tr>\n",
       "      <th>1</th>\n",
       "      <td>0.530</td>\n",
       "      <td>0.470</td>\n",
       "      <td>0</td>\n",
       "    </tr>\n",
       "    <tr>\n",
       "      <th>2</th>\n",
       "      <td>0.325</td>\n",
       "      <td>0.675</td>\n",
       "      <td>1</td>\n",
       "    </tr>\n",
       "    <tr>\n",
       "      <th>3</th>\n",
       "      <td>0.907</td>\n",
       "      <td>0.093</td>\n",
       "      <td>0</td>\n",
       "    </tr>\n",
       "    <tr>\n",
       "      <th>4</th>\n",
       "      <td>0.089</td>\n",
       "      <td>0.911</td>\n",
       "      <td>1</td>\n",
       "    </tr>\n",
       "  </tbody>\n",
       "</table>\n",
       "</div>"
      ],
      "text/plain": [
       "   No heart disease  Heart disease  Predicted class\n",
       "0             0.882          0.118                0\n",
       "1             0.530          0.470                0\n",
       "2             0.325          0.675                1\n",
       "3             0.907          0.093                0\n",
       "4             0.089          0.911                1"
      ]
     },
     "execution_count": 266,
     "metadata": {},
     "output_type": "execute_result"
    }
   ],
   "source": [
    "# Sanity Check\n",
    "# Load the model\n",
    "stack2=joblib.load('./HrtDis_Small_Stacked.joblib')\n",
    "\n",
    "# Make a prediction\n",
    "print('Class:',class_label)\n",
    "print()\n",
    "print('The class probabilites are:', stack2.predict_proba(X_test[0:1]))\n",
    "print()\n",
    "print('The sample prediction is class:',stack2.predict(X_test[0:1]))\n",
    "print()\n",
    "predictions_df.head()"
   ]
  },
  {
   "cell_type": "code",
   "execution_count": 267,
   "id": "64fe5455",
   "metadata": {},
   "outputs": [
    {
     "data": {
      "text/plain": [
       "(array([11, 22, 25, 26, 30, 33], dtype=int64),)"
      ]
     },
     "execution_count": 267,
     "metadata": {},
     "output_type": "execute_result"
    }
   ],
   "source": [
    "# Incorrect predictions\n",
    "\n",
    "prediction_cplx = stack2.predict(X_test)\n",
    "\n",
    "incorrects = np.nonzero(prediction_cplx.reshape((-1,)) != y_test)\n",
    "incorrects"
   ]
  },
  {
   "cell_type": "markdown",
   "id": "2b2f3dcb",
   "metadata": {},
   "source": [
    "**________________________________________**"
   ]
  },
  {
   "cell_type": "markdown",
   "id": "41452e18",
   "metadata": {},
   "source": [
    "### Save the best model\n",
    "#### Pickle"
   ]
  },
  {
   "cell_type": "code",
   "execution_count": 268,
   "id": "3044b309",
   "metadata": {},
   "outputs": [],
   "source": [
    "# Best performer, stacked random forest and xgboost models\n",
    "\n",
    "filename = 'HrtDis_Small_Stacked.pkl'\n",
    "pickle.dump(stack2, open(filename,'wb'))"
   ]
  },
  {
   "cell_type": "markdown",
   "id": "7d08ba75",
   "metadata": {},
   "source": [
    "### Test saved model"
   ]
  },
  {
   "cell_type": "code",
   "execution_count": 269,
   "id": "307ad54d",
   "metadata": {},
   "outputs": [
    {
     "name": "stdout",
     "output_type": "stream",
     "text": [
      "Class: {0: 'No Heart Disease', 1: 'Heart Disease'}\n",
      "\n",
      "The class probabilites are: [[0.32479586 0.67520414]]\n",
      "\n",
      "The sample prediction is class: [1]\n"
     ]
    },
    {
     "data": {
      "text/html": [
       "<div>\n",
       "<style scoped>\n",
       "    .dataframe tbody tr th:only-of-type {\n",
       "        vertical-align: middle;\n",
       "    }\n",
       "\n",
       "    .dataframe tbody tr th {\n",
       "        vertical-align: top;\n",
       "    }\n",
       "\n",
       "    .dataframe thead th {\n",
       "        text-align: right;\n",
       "    }\n",
       "</style>\n",
       "<table border=\"1\" class=\"dataframe\">\n",
       "  <thead>\n",
       "    <tr style=\"text-align: right;\">\n",
       "      <th></th>\n",
       "      <th>No heart disease</th>\n",
       "      <th>Heart disease</th>\n",
       "      <th>Predicted class</th>\n",
       "    </tr>\n",
       "  </thead>\n",
       "  <tbody>\n",
       "    <tr>\n",
       "      <th>0</th>\n",
       "      <td>0.882</td>\n",
       "      <td>0.118</td>\n",
       "      <td>0</td>\n",
       "    </tr>\n",
       "    <tr>\n",
       "      <th>1</th>\n",
       "      <td>0.530</td>\n",
       "      <td>0.470</td>\n",
       "      <td>0</td>\n",
       "    </tr>\n",
       "    <tr>\n",
       "      <th>2</th>\n",
       "      <td>0.325</td>\n",
       "      <td>0.675</td>\n",
       "      <td>1</td>\n",
       "    </tr>\n",
       "    <tr>\n",
       "      <th>3</th>\n",
       "      <td>0.907</td>\n",
       "      <td>0.093</td>\n",
       "      <td>0</td>\n",
       "    </tr>\n",
       "    <tr>\n",
       "      <th>4</th>\n",
       "      <td>0.089</td>\n",
       "      <td>0.911</td>\n",
       "      <td>1</td>\n",
       "    </tr>\n",
       "  </tbody>\n",
       "</table>\n",
       "</div>"
      ],
      "text/plain": [
       "   No heart disease  Heart disease  Predicted class\n",
       "0             0.882          0.118                0\n",
       "1             0.530          0.470                0\n",
       "2             0.325          0.675                1\n",
       "3             0.907          0.093                0\n",
       "4             0.089          0.911                1"
      ]
     },
     "execution_count": 269,
     "metadata": {},
     "output_type": "execute_result"
    }
   ],
   "source": [
    "# Sanity Check\n",
    "# Load model\n",
    "Hrt_prd = pickle.load(open(filename,'rb'))\n",
    "\n",
    "# Make a prediction\n",
    "print('Class:',class_label)\n",
    "print()\n",
    "print('The class probabilites are:', Hrt_prd.predict_proba(X_test[2:3]))\n",
    "print()\n",
    "print('The sample prediction is class:', Hrt_prd.predict(X_test[2:3]))\n",
    "predictions_df.head()"
   ]
  },
  {
   "cell_type": "code",
   "execution_count": 270,
   "id": "82e76025",
   "metadata": {
    "scrolled": true
   },
   "outputs": [
    {
     "data": {
      "text/plain": [
       "(array([11, 22, 25, 26, 30, 33], dtype=int64),)"
      ]
     },
     "execution_count": 270,
     "metadata": {},
     "output_type": "execute_result"
    }
   ],
   "source": [
    "# Incorrect predictions\n",
    "\n",
    "prediction_cplx = stack2.predict(X_test)\n",
    "\n",
    "incorrects = np.nonzero(prediction_cplx.reshape((-1,)) != y_test)\n",
    "incorrects"
   ]
  },
  {
   "cell_type": "markdown",
   "id": "f2a989a1",
   "metadata": {},
   "source": [
    "**________________**"
   ]
  },
  {
   "cell_type": "markdown",
   "id": "7253570f",
   "metadata": {},
   "source": [
    "# Testing a saved model on unseen data"
   ]
  },
  {
   "cell_type": "markdown",
   "id": "c0077e53",
   "metadata": {},
   "source": [
    "Use a saved model to predict on unseen data. The data is ceated using Faker, a Python package to generate fake data. \n",
    "\n",
    "Fake data can be created using pandas as well."
   ]
  },
  {
   "cell_type": "markdown",
   "id": "47a0e8fb",
   "metadata": {},
   "source": [
    "# Unseen data"
   ]
  },
  {
   "cell_type": "markdown",
   "id": "6583b3fa",
   "metadata": {},
   "source": [
    "### Data created using FAKER"
   ]
  },
  {
   "cell_type": "code",
   "execution_count": 215,
   "id": "d351b486",
   "metadata": {},
   "outputs": [
    {
     "name": "stdout",
     "output_type": "stream",
     "text": [
      "ERROR! Session/line number was not unique in database. History logging moved to new session 3287\n"
     ]
    }
   ],
   "source": [
    "# Can create a patient with test results in line with known target from dataset\n",
    "# For creating fake data, ie a fake patient/patients for testing a model use faker or pandas\n",
    "\n",
    "import faker\n",
    "from faker import Faker\n",
    "import csv\n",
    "\n",
    "output = open('patient.csv','w')\n",
    "fake=Faker()\n",
    "header=['age','sex','chest_pain_type','rest_bp',\n",
    "        'cholesterol','fbs', 'restecg','thalach',\n",
    "        'exang','oldpeak','slope','ca','thal']\n",
    "\n",
    "mywriter=csv.writer(output)\n",
    "mywriter.writerow(header)\n",
    "for r in range(10): \n",
    "    mywriter.writerow([fake.random_int(min=29,max=79),\n",
    "                       fake.random_int(min=0,max=1,step=1),\n",
    "                       fake.random_int(min=0,max=3),\n",
    "                       fake.random_int(min=120,max=180,step=1),\n",
    "                       fake.random_int(min=121,max=245),\n",
    "                       fake.random_int(min=0,max=1,step=1),\n",
    "                       fake.random_int(min=0,max=1,step=1),\n",
    "                       fake.random_int(min=71,max=202,step=1),\n",
    "                       fake.random_int(min=0,max=1),\n",
    "                       fake.pydecimal(left_digits=1,right_digits=1,min_value=0,max_value=6),\n",
    "                       fake.random_int(min=0,max=2,step=1),\n",
    "                       fake.random_int(min=0,max=3,step=1),\n",
    "                       fake.random_int(min=0,max=3,step=1)])\n",
    "    #output.close()\n",
    "    "
   ]
  },
  {
   "cell_type": "code",
   "execution_count": 271,
   "id": "3a35e14e",
   "metadata": {},
   "outputs": [
    {
     "name": "stdout",
     "output_type": "stream",
     "text": [
      "Fake dataset shape: (10, 13)\n"
     ]
    },
    {
     "data": {
      "text/html": [
       "<div>\n",
       "<style scoped>\n",
       "    .dataframe tbody tr th:only-of-type {\n",
       "        vertical-align: middle;\n",
       "    }\n",
       "\n",
       "    .dataframe tbody tr th {\n",
       "        vertical-align: top;\n",
       "    }\n",
       "\n",
       "    .dataframe thead th {\n",
       "        text-align: right;\n",
       "    }\n",
       "</style>\n",
       "<table border=\"1\" class=\"dataframe\">\n",
       "  <thead>\n",
       "    <tr style=\"text-align: right;\">\n",
       "      <th></th>\n",
       "      <th>age</th>\n",
       "      <th>sex</th>\n",
       "      <th>chest_pain_type</th>\n",
       "      <th>rest_bp</th>\n",
       "      <th>cholesterol</th>\n",
       "      <th>fbs</th>\n",
       "      <th>restecg</th>\n",
       "      <th>thalach</th>\n",
       "      <th>exang</th>\n",
       "      <th>oldpeak</th>\n",
       "      <th>slope</th>\n",
       "      <th>ca</th>\n",
       "      <th>thal</th>\n",
       "    </tr>\n",
       "  </thead>\n",
       "  <tbody>\n",
       "    <tr>\n",
       "      <th>0</th>\n",
       "      <td>38</td>\n",
       "      <td>0</td>\n",
       "      <td>3</td>\n",
       "      <td>171</td>\n",
       "      <td>162</td>\n",
       "      <td>0</td>\n",
       "      <td>0</td>\n",
       "      <td>160</td>\n",
       "      <td>1</td>\n",
       "      <td>3.4</td>\n",
       "      <td>1</td>\n",
       "      <td>2</td>\n",
       "      <td>2</td>\n",
       "    </tr>\n",
       "    <tr>\n",
       "      <th>1</th>\n",
       "      <td>68</td>\n",
       "      <td>0</td>\n",
       "      <td>1</td>\n",
       "      <td>127</td>\n",
       "      <td>177</td>\n",
       "      <td>1</td>\n",
       "      <td>0</td>\n",
       "      <td>132</td>\n",
       "      <td>0</td>\n",
       "      <td>5.7</td>\n",
       "      <td>1</td>\n",
       "      <td>3</td>\n",
       "      <td>2</td>\n",
       "    </tr>\n",
       "    <tr>\n",
       "      <th>2</th>\n",
       "      <td>36</td>\n",
       "      <td>1</td>\n",
       "      <td>3</td>\n",
       "      <td>180</td>\n",
       "      <td>130</td>\n",
       "      <td>1</td>\n",
       "      <td>1</td>\n",
       "      <td>142</td>\n",
       "      <td>0</td>\n",
       "      <td>0.5</td>\n",
       "      <td>2</td>\n",
       "      <td>3</td>\n",
       "      <td>1</td>\n",
       "    </tr>\n",
       "    <tr>\n",
       "      <th>3</th>\n",
       "      <td>58</td>\n",
       "      <td>0</td>\n",
       "      <td>1</td>\n",
       "      <td>160</td>\n",
       "      <td>180</td>\n",
       "      <td>0</td>\n",
       "      <td>1</td>\n",
       "      <td>98</td>\n",
       "      <td>1</td>\n",
       "      <td>1.7</td>\n",
       "      <td>1</td>\n",
       "      <td>2</td>\n",
       "      <td>0</td>\n",
       "    </tr>\n",
       "    <tr>\n",
       "      <th>4</th>\n",
       "      <td>55</td>\n",
       "      <td>0</td>\n",
       "      <td>1</td>\n",
       "      <td>150</td>\n",
       "      <td>137</td>\n",
       "      <td>1</td>\n",
       "      <td>0</td>\n",
       "      <td>185</td>\n",
       "      <td>1</td>\n",
       "      <td>0.1</td>\n",
       "      <td>1</td>\n",
       "      <td>1</td>\n",
       "      <td>0</td>\n",
       "    </tr>\n",
       "    <tr>\n",
       "      <th>5</th>\n",
       "      <td>34</td>\n",
       "      <td>1</td>\n",
       "      <td>1</td>\n",
       "      <td>171</td>\n",
       "      <td>148</td>\n",
       "      <td>0</td>\n",
       "      <td>0</td>\n",
       "      <td>96</td>\n",
       "      <td>1</td>\n",
       "      <td>3.1</td>\n",
       "      <td>2</td>\n",
       "      <td>2</td>\n",
       "      <td>0</td>\n",
       "    </tr>\n",
       "    <tr>\n",
       "      <th>6</th>\n",
       "      <td>40</td>\n",
       "      <td>0</td>\n",
       "      <td>2</td>\n",
       "      <td>126</td>\n",
       "      <td>197</td>\n",
       "      <td>1</td>\n",
       "      <td>1</td>\n",
       "      <td>105</td>\n",
       "      <td>1</td>\n",
       "      <td>4.3</td>\n",
       "      <td>2</td>\n",
       "      <td>0</td>\n",
       "      <td>2</td>\n",
       "    </tr>\n",
       "    <tr>\n",
       "      <th>7</th>\n",
       "      <td>43</td>\n",
       "      <td>1</td>\n",
       "      <td>1</td>\n",
       "      <td>155</td>\n",
       "      <td>215</td>\n",
       "      <td>1</td>\n",
       "      <td>0</td>\n",
       "      <td>199</td>\n",
       "      <td>0</td>\n",
       "      <td>1.4</td>\n",
       "      <td>0</td>\n",
       "      <td>1</td>\n",
       "      <td>0</td>\n",
       "    </tr>\n",
       "    <tr>\n",
       "      <th>8</th>\n",
       "      <td>31</td>\n",
       "      <td>0</td>\n",
       "      <td>2</td>\n",
       "      <td>120</td>\n",
       "      <td>162</td>\n",
       "      <td>0</td>\n",
       "      <td>1</td>\n",
       "      <td>170</td>\n",
       "      <td>1</td>\n",
       "      <td>1.9</td>\n",
       "      <td>1</td>\n",
       "      <td>1</td>\n",
       "      <td>1</td>\n",
       "    </tr>\n",
       "    <tr>\n",
       "      <th>9</th>\n",
       "      <td>32</td>\n",
       "      <td>0</td>\n",
       "      <td>2</td>\n",
       "      <td>131</td>\n",
       "      <td>171</td>\n",
       "      <td>1</td>\n",
       "      <td>0</td>\n",
       "      <td>144</td>\n",
       "      <td>1</td>\n",
       "      <td>1.0</td>\n",
       "      <td>2</td>\n",
       "      <td>3</td>\n",
       "      <td>1</td>\n",
       "    </tr>\n",
       "  </tbody>\n",
       "</table>\n",
       "</div>"
      ],
      "text/plain": [
       "   age  sex  chest_pain_type  rest_bp  cholesterol  fbs  restecg  thalach  \\\n",
       "0   38    0                3      171          162    0        0      160   \n",
       "1   68    0                1      127          177    1        0      132   \n",
       "2   36    1                3      180          130    1        1      142   \n",
       "3   58    0                1      160          180    0        1       98   \n",
       "4   55    0                1      150          137    1        0      185   \n",
       "5   34    1                1      171          148    0        0       96   \n",
       "6   40    0                2      126          197    1        1      105   \n",
       "7   43    1                1      155          215    1        0      199   \n",
       "8   31    0                2      120          162    0        1      170   \n",
       "9   32    0                2      131          171    1        0      144   \n",
       "\n",
       "   exang  oldpeak  slope  ca  thal  \n",
       "0      1      3.4      1   2     2  \n",
       "1      0      5.7      1   3     2  \n",
       "2      0      0.5      2   3     1  \n",
       "3      1      1.7      1   2     0  \n",
       "4      1      0.1      1   1     0  \n",
       "5      1      3.1      2   2     0  \n",
       "6      1      4.3      2   0     2  \n",
       "7      0      1.4      0   1     0  \n",
       "8      1      1.9      1   1     1  \n",
       "9      1      1.0      2   3     1  "
      ]
     },
     "execution_count": 271,
     "metadata": {},
     "output_type": "execute_result"
    }
   ],
   "source": [
    "# Faker dataset\n",
    "\n",
    "new_patients = pd.read_csv('patient.csv')\n",
    "print('Fake dataset shape:',new_patients.shape)\n",
    "new_patients "
   ]
  },
  {
   "cell_type": "markdown",
   "id": "9478b309",
   "metadata": {},
   "source": [
    "### Encoding the Faker dataset"
   ]
  },
  {
   "cell_type": "code",
   "execution_count": 254,
   "id": "30f4d7e3",
   "metadata": {},
   "outputs": [],
   "source": [
    "# Encoding for Faker dataset\n",
    "\n",
    "def onehot_encode(df, column_dict):\n",
    "    df = new_patients.copy()\n",
    "    for column, prefix in column_dict.items():\n",
    "        dummies = pd.get_dummies(df[column], prefix=prefix)\n",
    "        df = pd.concat([df, dummies], axis=1)\n",
    "        df = df.drop(column, axis=1)\n",
    "        \n",
    "    return df\n",
    "\n",
    "\n",
    "# Encoding the data\n",
    "def preprocess_inputs(df): #, scaler\n",
    "    df = new_patients.copy()\n",
    "    \n",
    "    # One-hot encode the nominal features\n",
    "    nominal_features = ['chest_pain_type', 'slope', 'thal','restecg','ca']\n",
    "    df = onehot_encode(df, dict(zip(nominal_features, ['CP', 'SL', 'TH','RECG','CA'])))\n",
    "    \n",
    "    return df"
   ]
  },
  {
   "cell_type": "code",
   "execution_count": 272,
   "id": "1bf5c3eb",
   "metadata": {
    "scrolled": false
   },
   "outputs": [
    {
     "name": "stdout",
     "output_type": "stream",
     "text": [
      "(10, 23)\n"
     ]
    },
    {
     "data": {
      "text/html": [
       "<div>\n",
       "<style scoped>\n",
       "    .dataframe tbody tr th:only-of-type {\n",
       "        vertical-align: middle;\n",
       "    }\n",
       "\n",
       "    .dataframe tbody tr th {\n",
       "        vertical-align: top;\n",
       "    }\n",
       "\n",
       "    .dataframe thead th {\n",
       "        text-align: right;\n",
       "    }\n",
       "</style>\n",
       "<table border=\"1\" class=\"dataframe\">\n",
       "  <thead>\n",
       "    <tr style=\"text-align: right;\">\n",
       "      <th></th>\n",
       "      <th>age</th>\n",
       "      <th>sex</th>\n",
       "      <th>rest_bp</th>\n",
       "      <th>cholesterol</th>\n",
       "      <th>fbs</th>\n",
       "      <th>thalach</th>\n",
       "      <th>exang</th>\n",
       "      <th>oldpeak</th>\n",
       "      <th>CP_1</th>\n",
       "      <th>CP_2</th>\n",
       "      <th>...</th>\n",
       "      <th>SL_2</th>\n",
       "      <th>TH_0</th>\n",
       "      <th>TH_1</th>\n",
       "      <th>TH_2</th>\n",
       "      <th>RECG_0</th>\n",
       "      <th>RECG_1</th>\n",
       "      <th>CA_0</th>\n",
       "      <th>CA_1</th>\n",
       "      <th>CA_2</th>\n",
       "      <th>CA_3</th>\n",
       "    </tr>\n",
       "  </thead>\n",
       "  <tbody>\n",
       "    <tr>\n",
       "      <th>0</th>\n",
       "      <td>38</td>\n",
       "      <td>0</td>\n",
       "      <td>171</td>\n",
       "      <td>162</td>\n",
       "      <td>0</td>\n",
       "      <td>160</td>\n",
       "      <td>1</td>\n",
       "      <td>3.4</td>\n",
       "      <td>0</td>\n",
       "      <td>0</td>\n",
       "      <td>...</td>\n",
       "      <td>0</td>\n",
       "      <td>0</td>\n",
       "      <td>0</td>\n",
       "      <td>1</td>\n",
       "      <td>1</td>\n",
       "      <td>0</td>\n",
       "      <td>0</td>\n",
       "      <td>0</td>\n",
       "      <td>1</td>\n",
       "      <td>0</td>\n",
       "    </tr>\n",
       "    <tr>\n",
       "      <th>1</th>\n",
       "      <td>68</td>\n",
       "      <td>0</td>\n",
       "      <td>127</td>\n",
       "      <td>177</td>\n",
       "      <td>1</td>\n",
       "      <td>132</td>\n",
       "      <td>0</td>\n",
       "      <td>5.7</td>\n",
       "      <td>1</td>\n",
       "      <td>0</td>\n",
       "      <td>...</td>\n",
       "      <td>0</td>\n",
       "      <td>0</td>\n",
       "      <td>0</td>\n",
       "      <td>1</td>\n",
       "      <td>1</td>\n",
       "      <td>0</td>\n",
       "      <td>0</td>\n",
       "      <td>0</td>\n",
       "      <td>0</td>\n",
       "      <td>1</td>\n",
       "    </tr>\n",
       "    <tr>\n",
       "      <th>2</th>\n",
       "      <td>36</td>\n",
       "      <td>1</td>\n",
       "      <td>180</td>\n",
       "      <td>130</td>\n",
       "      <td>1</td>\n",
       "      <td>142</td>\n",
       "      <td>0</td>\n",
       "      <td>0.5</td>\n",
       "      <td>0</td>\n",
       "      <td>0</td>\n",
       "      <td>...</td>\n",
       "      <td>1</td>\n",
       "      <td>0</td>\n",
       "      <td>1</td>\n",
       "      <td>0</td>\n",
       "      <td>0</td>\n",
       "      <td>1</td>\n",
       "      <td>0</td>\n",
       "      <td>0</td>\n",
       "      <td>0</td>\n",
       "      <td>1</td>\n",
       "    </tr>\n",
       "    <tr>\n",
       "      <th>3</th>\n",
       "      <td>58</td>\n",
       "      <td>0</td>\n",
       "      <td>160</td>\n",
       "      <td>180</td>\n",
       "      <td>0</td>\n",
       "      <td>98</td>\n",
       "      <td>1</td>\n",
       "      <td>1.7</td>\n",
       "      <td>1</td>\n",
       "      <td>0</td>\n",
       "      <td>...</td>\n",
       "      <td>0</td>\n",
       "      <td>1</td>\n",
       "      <td>0</td>\n",
       "      <td>0</td>\n",
       "      <td>0</td>\n",
       "      <td>1</td>\n",
       "      <td>0</td>\n",
       "      <td>0</td>\n",
       "      <td>1</td>\n",
       "      <td>0</td>\n",
       "    </tr>\n",
       "    <tr>\n",
       "      <th>4</th>\n",
       "      <td>55</td>\n",
       "      <td>0</td>\n",
       "      <td>150</td>\n",
       "      <td>137</td>\n",
       "      <td>1</td>\n",
       "      <td>185</td>\n",
       "      <td>1</td>\n",
       "      <td>0.1</td>\n",
       "      <td>1</td>\n",
       "      <td>0</td>\n",
       "      <td>...</td>\n",
       "      <td>0</td>\n",
       "      <td>1</td>\n",
       "      <td>0</td>\n",
       "      <td>0</td>\n",
       "      <td>1</td>\n",
       "      <td>0</td>\n",
       "      <td>0</td>\n",
       "      <td>1</td>\n",
       "      <td>0</td>\n",
       "      <td>0</td>\n",
       "    </tr>\n",
       "    <tr>\n",
       "      <th>5</th>\n",
       "      <td>34</td>\n",
       "      <td>1</td>\n",
       "      <td>171</td>\n",
       "      <td>148</td>\n",
       "      <td>0</td>\n",
       "      <td>96</td>\n",
       "      <td>1</td>\n",
       "      <td>3.1</td>\n",
       "      <td>1</td>\n",
       "      <td>0</td>\n",
       "      <td>...</td>\n",
       "      <td>1</td>\n",
       "      <td>1</td>\n",
       "      <td>0</td>\n",
       "      <td>0</td>\n",
       "      <td>1</td>\n",
       "      <td>0</td>\n",
       "      <td>0</td>\n",
       "      <td>0</td>\n",
       "      <td>1</td>\n",
       "      <td>0</td>\n",
       "    </tr>\n",
       "    <tr>\n",
       "      <th>6</th>\n",
       "      <td>40</td>\n",
       "      <td>0</td>\n",
       "      <td>126</td>\n",
       "      <td>197</td>\n",
       "      <td>1</td>\n",
       "      <td>105</td>\n",
       "      <td>1</td>\n",
       "      <td>4.3</td>\n",
       "      <td>0</td>\n",
       "      <td>1</td>\n",
       "      <td>...</td>\n",
       "      <td>1</td>\n",
       "      <td>0</td>\n",
       "      <td>0</td>\n",
       "      <td>1</td>\n",
       "      <td>0</td>\n",
       "      <td>1</td>\n",
       "      <td>1</td>\n",
       "      <td>0</td>\n",
       "      <td>0</td>\n",
       "      <td>0</td>\n",
       "    </tr>\n",
       "    <tr>\n",
       "      <th>7</th>\n",
       "      <td>43</td>\n",
       "      <td>1</td>\n",
       "      <td>155</td>\n",
       "      <td>215</td>\n",
       "      <td>1</td>\n",
       "      <td>199</td>\n",
       "      <td>0</td>\n",
       "      <td>1.4</td>\n",
       "      <td>1</td>\n",
       "      <td>0</td>\n",
       "      <td>...</td>\n",
       "      <td>0</td>\n",
       "      <td>1</td>\n",
       "      <td>0</td>\n",
       "      <td>0</td>\n",
       "      <td>1</td>\n",
       "      <td>0</td>\n",
       "      <td>0</td>\n",
       "      <td>1</td>\n",
       "      <td>0</td>\n",
       "      <td>0</td>\n",
       "    </tr>\n",
       "    <tr>\n",
       "      <th>8</th>\n",
       "      <td>31</td>\n",
       "      <td>0</td>\n",
       "      <td>120</td>\n",
       "      <td>162</td>\n",
       "      <td>0</td>\n",
       "      <td>170</td>\n",
       "      <td>1</td>\n",
       "      <td>1.9</td>\n",
       "      <td>0</td>\n",
       "      <td>1</td>\n",
       "      <td>...</td>\n",
       "      <td>0</td>\n",
       "      <td>0</td>\n",
       "      <td>1</td>\n",
       "      <td>0</td>\n",
       "      <td>0</td>\n",
       "      <td>1</td>\n",
       "      <td>0</td>\n",
       "      <td>1</td>\n",
       "      <td>0</td>\n",
       "      <td>0</td>\n",
       "    </tr>\n",
       "    <tr>\n",
       "      <th>9</th>\n",
       "      <td>32</td>\n",
       "      <td>0</td>\n",
       "      <td>131</td>\n",
       "      <td>171</td>\n",
       "      <td>1</td>\n",
       "      <td>144</td>\n",
       "      <td>1</td>\n",
       "      <td>1.0</td>\n",
       "      <td>0</td>\n",
       "      <td>1</td>\n",
       "      <td>...</td>\n",
       "      <td>1</td>\n",
       "      <td>0</td>\n",
       "      <td>1</td>\n",
       "      <td>0</td>\n",
       "      <td>1</td>\n",
       "      <td>0</td>\n",
       "      <td>0</td>\n",
       "      <td>0</td>\n",
       "      <td>0</td>\n",
       "      <td>1</td>\n",
       "    </tr>\n",
       "  </tbody>\n",
       "</table>\n",
       "<p>10 rows × 23 columns</p>\n",
       "</div>"
      ],
      "text/plain": [
       "   age  sex  rest_bp  cholesterol  fbs  thalach  exang  oldpeak  CP_1  CP_2  \\\n",
       "0   38    0      171          162    0      160      1      3.4     0     0   \n",
       "1   68    0      127          177    1      132      0      5.7     1     0   \n",
       "2   36    1      180          130    1      142      0      0.5     0     0   \n",
       "3   58    0      160          180    0       98      1      1.7     1     0   \n",
       "4   55    0      150          137    1      185      1      0.1     1     0   \n",
       "5   34    1      171          148    0       96      1      3.1     1     0   \n",
       "6   40    0      126          197    1      105      1      4.3     0     1   \n",
       "7   43    1      155          215    1      199      0      1.4     1     0   \n",
       "8   31    0      120          162    0      170      1      1.9     0     1   \n",
       "9   32    0      131          171    1      144      1      1.0     0     1   \n",
       "\n",
       "   ...  SL_2  TH_0  TH_1  TH_2  RECG_0  RECG_1  CA_0  CA_1  CA_2  CA_3  \n",
       "0  ...     0     0     0     1       1       0     0     0     1     0  \n",
       "1  ...     0     0     0     1       1       0     0     0     0     1  \n",
       "2  ...     1     0     1     0       0       1     0     0     0     1  \n",
       "3  ...     0     1     0     0       0       1     0     0     1     0  \n",
       "4  ...     0     1     0     0       1       0     0     1     0     0  \n",
       "5  ...     1     1     0     0       1       0     0     0     1     0  \n",
       "6  ...     1     0     0     1       0       1     1     0     0     0  \n",
       "7  ...     0     1     0     0       1       0     0     1     0     0  \n",
       "8  ...     0     0     1     0       0       1     0     1     0     0  \n",
       "9  ...     1     0     1     0       1       0     0     0     0     1  \n",
       "\n",
       "[10 rows x 23 columns]"
      ]
     },
     "execution_count": 272,
     "metadata": {},
     "output_type": "execute_result"
    }
   ],
   "source": [
    "# Check Encoded features \n",
    "patient = preprocess_inputs(new_patients)\n",
    "print(patient.shape)\n",
    "patient"
   ]
  },
  {
   "cell_type": "markdown",
   "id": "e816ea56",
   "metadata": {},
   "source": [
    "### Classes and Probabilities"
   ]
  },
  {
   "cell_type": "code",
   "execution_count": 273,
   "id": "05dfc229",
   "metadata": {},
   "outputs": [
    {
     "data": {
      "text/html": [
       "<div>\n",
       "<style scoped>\n",
       "    .dataframe tbody tr th:only-of-type {\n",
       "        vertical-align: middle;\n",
       "    }\n",
       "\n",
       "    .dataframe tbody tr th {\n",
       "        vertical-align: top;\n",
       "    }\n",
       "\n",
       "    .dataframe thead th {\n",
       "        text-align: right;\n",
       "    }\n",
       "</style>\n",
       "<table border=\"1\" class=\"dataframe\">\n",
       "  <thead>\n",
       "    <tr style=\"text-align: right;\">\n",
       "      <th></th>\n",
       "      <th>No heart disease</th>\n",
       "      <th>Heart disease</th>\n",
       "      <th>Predicted class</th>\n",
       "    </tr>\n",
       "  </thead>\n",
       "  <tbody>\n",
       "    <tr>\n",
       "      <th>0</th>\n",
       "      <td>0.360</td>\n",
       "      <td>0.640</td>\n",
       "      <td>1</td>\n",
       "    </tr>\n",
       "    <tr>\n",
       "      <th>1</th>\n",
       "      <td>0.388</td>\n",
       "      <td>0.612</td>\n",
       "      <td>1</td>\n",
       "    </tr>\n",
       "    <tr>\n",
       "      <th>2</th>\n",
       "      <td>0.855</td>\n",
       "      <td>0.145</td>\n",
       "      <td>0</td>\n",
       "    </tr>\n",
       "    <tr>\n",
       "      <th>3</th>\n",
       "      <td>0.385</td>\n",
       "      <td>0.615</td>\n",
       "      <td>1</td>\n",
       "    </tr>\n",
       "    <tr>\n",
       "      <th>4</th>\n",
       "      <td>0.268</td>\n",
       "      <td>0.732</td>\n",
       "      <td>1</td>\n",
       "    </tr>\n",
       "  </tbody>\n",
       "</table>\n",
       "</div>"
      ],
      "text/plain": [
       "   No heart disease  Heart disease  Predicted class\n",
       "0             0.360          0.640                1\n",
       "1             0.388          0.612                1\n",
       "2             0.855          0.145                0\n",
       "3             0.385          0.615                1\n",
       "4             0.268          0.732                1"
      ]
     },
     "execution_count": 273,
     "metadata": {},
     "output_type": "execute_result"
    }
   ],
   "source": [
    "# Classes and Probabilities\n",
    "\n",
    "prediction_probability = Hrt_prd.predict_proba(patient)\n",
    "prediction_cplx = Hrt_prd.predict(patient)\n",
    "\n",
    "class_df = pd.DataFrame(prediction_cplx.round(3),columns=['Predicted class'])\n",
    "proba_df = pd.DataFrame(prediction_probability.round(3),columns=['No heart disease','Heart disease'])\n",
    "\n",
    "#pred_list = pd.concat(['frame','target_rs'],axis= 1)\n",
    "\n",
    "\n",
    "patient_df = pd.concat([proba_df,class_df ], axis=1)\n",
    "patient_df.head()"
   ]
  },
  {
   "cell_type": "markdown",
   "id": "53ce89c9",
   "metadata": {},
   "source": [
    "### Load model and test on fake data"
   ]
  },
  {
   "cell_type": "code",
   "execution_count": 274,
   "id": "3978d112",
   "metadata": {},
   "outputs": [
    {
     "name": "stdout",
     "output_type": "stream",
     "text": [
      "Class: {0: 'No Heart Disease', 1: 'Heart Disease'}\n",
      "\n",
      "The class probabilites are: [[0.38825964 0.61174036]]\n",
      "\n",
      "The sample prediction is class: [1]\n"
     ]
    },
    {
     "data": {
      "text/html": [
       "<div>\n",
       "<style scoped>\n",
       "    .dataframe tbody tr th:only-of-type {\n",
       "        vertical-align: middle;\n",
       "    }\n",
       "\n",
       "    .dataframe tbody tr th {\n",
       "        vertical-align: top;\n",
       "    }\n",
       "\n",
       "    .dataframe thead th {\n",
       "        text-align: right;\n",
       "    }\n",
       "</style>\n",
       "<table border=\"1\" class=\"dataframe\">\n",
       "  <thead>\n",
       "    <tr style=\"text-align: right;\">\n",
       "      <th></th>\n",
       "      <th>No heart disease</th>\n",
       "      <th>Heart disease</th>\n",
       "      <th>Predicted class</th>\n",
       "    </tr>\n",
       "  </thead>\n",
       "  <tbody>\n",
       "    <tr>\n",
       "      <th>0</th>\n",
       "      <td>0.360</td>\n",
       "      <td>0.640</td>\n",
       "      <td>1</td>\n",
       "    </tr>\n",
       "    <tr>\n",
       "      <th>1</th>\n",
       "      <td>0.388</td>\n",
       "      <td>0.612</td>\n",
       "      <td>1</td>\n",
       "    </tr>\n",
       "    <tr>\n",
       "      <th>2</th>\n",
       "      <td>0.855</td>\n",
       "      <td>0.145</td>\n",
       "      <td>0</td>\n",
       "    </tr>\n",
       "    <tr>\n",
       "      <th>3</th>\n",
       "      <td>0.385</td>\n",
       "      <td>0.615</td>\n",
       "      <td>1</td>\n",
       "    </tr>\n",
       "    <tr>\n",
       "      <th>4</th>\n",
       "      <td>0.268</td>\n",
       "      <td>0.732</td>\n",
       "      <td>1</td>\n",
       "    </tr>\n",
       "  </tbody>\n",
       "</table>\n",
       "</div>"
      ],
      "text/plain": [
       "   No heart disease  Heart disease  Predicted class\n",
       "0             0.360          0.640                1\n",
       "1             0.388          0.612                1\n",
       "2             0.855          0.145                0\n",
       "3             0.385          0.615                1\n",
       "4             0.268          0.732                1"
      ]
     },
     "execution_count": 274,
     "metadata": {},
     "output_type": "execute_result"
    }
   ],
   "source": [
    "# Make a prediction\n",
    "\n",
    "Hrt_prd = pickle.load(open(filename,'rb'))\n",
    "\n",
    "print('Class:',class_label)\n",
    "print()\n",
    "print('The class probabilites are:', Hrt_prd.predict_proba(patient[1:2]))\n",
    "print()\n",
    "print('The sample prediction is class:', Hrt_prd.predict(patient[1:2]))\n",
    "patient_df.head()"
   ]
  },
  {
   "cell_type": "code",
   "execution_count": 275,
   "id": "552e4322",
   "metadata": {},
   "outputs": [
    {
     "data": {
      "text/plain": [
       "(array([11, 22, 25, 26, 30, 33], dtype=int64),)"
      ]
     },
     "execution_count": 275,
     "metadata": {},
     "output_type": "execute_result"
    }
   ],
   "source": [
    "# Incorrect predictions\n",
    "\n",
    "prediction_cplx = stack2.predict(X_test)\n",
    "\n",
    "incorrects = np.nonzero(prediction_cplx.reshape((-1,)) != y_test)\n",
    "incorrects"
   ]
  },
  {
   "cell_type": "code",
   "execution_count": null,
   "id": "20141085",
   "metadata": {},
   "outputs": [],
   "source": []
  }
 ],
 "metadata": {
  "kernelspec": {
   "display_name": "Python 3",
   "language": "python",
   "name": "python3"
  },
  "language_info": {
   "codemirror_mode": {
    "name": "ipython",
    "version": 3
   },
   "file_extension": ".py",
   "mimetype": "text/x-python",
   "name": "python",
   "nbconvert_exporter": "python",
   "pygments_lexer": "ipython3",
   "version": "3.8.8"
  }
 },
 "nbformat": 4,
 "nbformat_minor": 5
}
