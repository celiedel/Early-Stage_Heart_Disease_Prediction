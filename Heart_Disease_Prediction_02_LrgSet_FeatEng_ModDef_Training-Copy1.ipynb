{
 "cells": [
  {
   "cell_type": "markdown",
   "id": "e2a89451",
   "metadata": {},
   "source": [
    "# Heart Disease Prediction\n",
    "### Feature Engineering; Model Definition and Training"
   ]
  },
  {
   "cell_type": "markdown",
   "id": "ef1097ce",
   "metadata": {},
   "source": [
    "### Models Evaluated\n",
    "* Dummy Classifier\n",
    "* Logistic Regression\n",
    "* Decision Tree\n",
    "* Random Forest\n",
    "* XGBoost\n",
    "* Support Vector Machine\n",
    "* K-Nearest Neighbors\n",
    "* Stacked Classifiers"
   ]
  },
  {
   "cell_type": "markdown",
   "id": "67ee2732",
   "metadata": {},
   "source": [
    "**Neural Networks are evaluated in a separate notebook:** Heart_Disease_Prediction_03_Feat_Eng_NeuralNet_ModDef_Training"
   ]
  },
  {
   "cell_type": "markdown",
   "id": "2cf86637",
   "metadata": {},
   "source": [
    "### Imports"
   ]
  },
  {
   "cell_type": "code",
   "execution_count": 1,
   "id": "0b35a9e6",
   "metadata": {},
   "outputs": [
    {
     "name": "stdout",
     "output_type": "stream",
     "text": [
      "imb_learn version 0.8.1\n",
      "Python Version: 3.8.8\n",
      "tensorflow version 2.3.0\n",
      "keras version 2.4.0\n"
     ]
    }
   ],
   "source": [
    "from numpy.random import seed\n",
    "seed(42)\n",
    "import pandas as pd\n",
    "import numpy as np\n",
    "import os\n",
    "from collections import Counter\n",
    "import imblearn\n",
    "from imblearn.over_sampling import SMOTE\n",
    "import graphviz\n",
    "import joblib\n",
    "import pickle\n",
    "import seaborn as sns\n",
    "sns.set_style('darkgrid')\n",
    "import warnings\n",
    "warnings.filterwarnings(\"ignore\")\n",
    "from matplotlib import pyplot\n",
    "import matplotlib.pyplot as plt\n",
    "from matplotlib import rcParams\n",
    "from statsmodels.stats.proportion import proportion_confint\n",
    "from math import sqrt\n",
    "%matplotlib inline\n",
    "import plotly.express as px\n",
    "from platform import python_version\n",
    "\n",
    "import sklearn\n",
    "import scikitplot as skplt\n",
    "import sklearn.feature_selection\n",
    "from sklearn.feature_selection import VarianceThreshold\n",
    "from sklearn.preprocessing import LabelEncoder\n",
    "from sklearn.preprocessing import label_binarize,OneHotEncoder\n",
    "from sklearn.feature_selection import VarianceThreshold\n",
    "from sklearn.metrics import confusion_matrix, classification_report\n",
    "from sklearn.model_selection import learning_curve\n",
    "from sklearn.metrics import accuracy_score\n",
    "from sklearn.metrics import matthews_corrcoef\n",
    "from sklearn.metrics import f1_score\n",
    "from sklearn.metrics import precision_recall_curve\n",
    "from sklearn.neural_network import MLPClassifier\n",
    "from sklearn.linear_model import LogisticRegression\n",
    "from sklearn.tree import DecisionTreeClassifier\n",
    "from sklearn.ensemble import RandomForestClassifier\n",
    "from xgboost import XGBClassifier\n",
    "from sklearn.svm import SVC\n",
    "from sklearn.neighbors import KNeighborsClassifier\n",
    "from sklearn.ensemble import StackingClassifier\n",
    "from sklearn.model_selection import train_test_split\n",
    "from sklearn.metrics import auc, roc_curve, roc_auc_score\n",
    "from sklearn.metrics import jaccard_score\n",
    "from sklearn.model_selection import cross_val_score\n",
    "from sklearn.model_selection import StratifiedKFold\n",
    "from sklearn.preprocessing import StandardScaler,MinMaxScaler,RobustScaler\n",
    "from sklearn.pipeline import Pipeline\n",
    "from sklearn.model_selection import GridSearchCV\n",
    "\n",
    "import tensorflow as tf\n",
    "tf.random.set_seed(42)\n",
    "from tensorflow import keras\n",
    "from tensorflow.keras import regularizers\n",
    "from tensorflow.keras.models import Model\n",
    "from tensorflow.keras import models\n",
    "from tensorflow.keras.layers import Input\n",
    "from tensorflow.keras.layers import Dense, Dropout, Flatten\n",
    "from tensorflow.keras import regularizers\n",
    "from tensorflow.keras.models import Sequential, load_model\n",
    "from tensorflow.keras.utils import to_categorical\n",
    "from tensorflow.keras.utils import Sequence\n",
    "from tensorflow.keras.utils import plot_model\n",
    "from tensorflow.keras.optimizers import RMSprop, Adam\n",
    "from tensorflow.keras.callbacks import ReduceLROnPlateau\n",
    "from tensorflow.keras.layers import LeakyReLU\n",
    "from tensorflow.keras.layers import BatchNormalization\n",
    "from tensorflow.keras.layers import Activation\n",
    "from tensorflow.keras import backend as K\n",
    "from tensorflow.keras.callbacks import EarlyStopping\n",
    "from tensorflow.keras.wrappers.scikit_learn import KerasClassifier\n",
    "\n",
    "print('imb_learn version', imblearn.__version__)\n",
    "print('Python Version:',python_version())\n",
    "print('tensorflow version',tf.__version__)\n",
    "print('keras version',keras.__version__)"
   ]
  },
  {
   "cell_type": "markdown",
   "id": "bfe2815d",
   "metadata": {},
   "source": [
    "## Data\n",
    "**The dataset used in this project is the Cleveland Heart Disease dataset available from the UCI repository and Kaggle**\n",
    "### Dataset Features\n",
    "\n",
    "* **age:** The person’s age in years (Numeric)\n",
    "* **sex:** Gender of patient (1 = male, 0 = female) (Nominal)\n",
    "* **cp:** chest pain type — Value 0: asymptomatic — Value 1: atypical angina — Value 2: non-anginal pain — Value 3: typical angina (Nominal)\n",
    "* **trestbps:** The person’s resting blood pressure (mm Hg on admission to the hospital) (Numeric)\n",
    "* **chol:** The person’s cholesterol measurement in mg/dl (Numeric)\n",
    "* **fbs:** The person’s fasting blood sugar (> 120 mg/dl, 1 = true; 0 = false) (Nominal)\n",
    "* **restecg:** resting electrocardiographic results — Value 0: showing probable or definite left ventricular hypertrophy by Estes’ criteria — Value 1: normal — Value 2: having ST-T wave abnormality (T wave inversions and/or ST elevation or depression of > 0.05 mV) (Nominal)\n",
    "* **thalach:** The person’s maximum heart rate achieved (Numeric)\n",
    "* **exang:** Exercise induced angina (1 = yes; 0 = no) (Nominal)\n",
    "* **oldpeak:** ST depression induced by exercise relative to rest (‘ST’ relates to positions on the ECG plot. See more here) (Numeric)\n",
    "* **slope:** the slope of the peak exercise ST segment — 0: downsloping; 1: flat; 2: upsloping 0: downsloping; 1: flat; 2: upsloping (Nominal)\n",
    "* **ca:** The number of major vessels (0–3) (Numeric)\n",
    "* **thal:** A blood disorder called thalassemia Value 0: NULL (dropped from the dataset previously. Value 1: fixed defect (no blood flow in some part of the heart) Value 2: normal blood flow. Value 3: reversible defect (a blood flow is observed but it is not normal) (Nominal)\n",
    "* **target:** Heart disease (0 = no, 1 = yes)\n"
   ]
  },
  {
   "cell_type": "markdown",
   "id": "86b2b575",
   "metadata": {},
   "source": [
    "### Download Data"
   ]
  },
  {
   "cell_type": "code",
   "execution_count": 3,
   "id": "3391954d",
   "metadata": {
    "scrolled": true
   },
   "outputs": [
    {
     "name": "stdout",
     "output_type": "stream",
     "text": [
      "Shape (1190, 12)\n"
     ]
    },
    {
     "data": {
      "text/html": [
       "<div>\n",
       "<style scoped>\n",
       "    .dataframe tbody tr th:only-of-type {\n",
       "        vertical-align: middle;\n",
       "    }\n",
       "\n",
       "    .dataframe tbody tr th {\n",
       "        vertical-align: top;\n",
       "    }\n",
       "\n",
       "    .dataframe thead th {\n",
       "        text-align: right;\n",
       "    }\n",
       "</style>\n",
       "<table border=\"1\" class=\"dataframe\">\n",
       "  <thead>\n",
       "    <tr style=\"text-align: right;\">\n",
       "      <th></th>\n",
       "      <th>age</th>\n",
       "      <th>sex</th>\n",
       "      <th>chest pain type</th>\n",
       "      <th>resting bp s</th>\n",
       "      <th>cholesterol</th>\n",
       "      <th>fasting blood sugar</th>\n",
       "      <th>resting ecg</th>\n",
       "      <th>max heart rate</th>\n",
       "      <th>exercise angina</th>\n",
       "      <th>oldpeak</th>\n",
       "      <th>ST slope</th>\n",
       "      <th>target</th>\n",
       "    </tr>\n",
       "  </thead>\n",
       "  <tbody>\n",
       "    <tr>\n",
       "      <th>0</th>\n",
       "      <td>40</td>\n",
       "      <td>1</td>\n",
       "      <td>2</td>\n",
       "      <td>140</td>\n",
       "      <td>289</td>\n",
       "      <td>0</td>\n",
       "      <td>0</td>\n",
       "      <td>172</td>\n",
       "      <td>0</td>\n",
       "      <td>0.0</td>\n",
       "      <td>1</td>\n",
       "      <td>0</td>\n",
       "    </tr>\n",
       "    <tr>\n",
       "      <th>1</th>\n",
       "      <td>49</td>\n",
       "      <td>0</td>\n",
       "      <td>3</td>\n",
       "      <td>160</td>\n",
       "      <td>180</td>\n",
       "      <td>0</td>\n",
       "      <td>0</td>\n",
       "      <td>156</td>\n",
       "      <td>0</td>\n",
       "      <td>1.0</td>\n",
       "      <td>2</td>\n",
       "      <td>1</td>\n",
       "    </tr>\n",
       "    <tr>\n",
       "      <th>2</th>\n",
       "      <td>37</td>\n",
       "      <td>1</td>\n",
       "      <td>2</td>\n",
       "      <td>130</td>\n",
       "      <td>283</td>\n",
       "      <td>0</td>\n",
       "      <td>1</td>\n",
       "      <td>98</td>\n",
       "      <td>0</td>\n",
       "      <td>0.0</td>\n",
       "      <td>1</td>\n",
       "      <td>0</td>\n",
       "    </tr>\n",
       "    <tr>\n",
       "      <th>3</th>\n",
       "      <td>48</td>\n",
       "      <td>0</td>\n",
       "      <td>4</td>\n",
       "      <td>138</td>\n",
       "      <td>214</td>\n",
       "      <td>0</td>\n",
       "      <td>0</td>\n",
       "      <td>108</td>\n",
       "      <td>1</td>\n",
       "      <td>1.5</td>\n",
       "      <td>2</td>\n",
       "      <td>1</td>\n",
       "    </tr>\n",
       "    <tr>\n",
       "      <th>4</th>\n",
       "      <td>54</td>\n",
       "      <td>1</td>\n",
       "      <td>3</td>\n",
       "      <td>150</td>\n",
       "      <td>195</td>\n",
       "      <td>0</td>\n",
       "      <td>0</td>\n",
       "      <td>122</td>\n",
       "      <td>0</td>\n",
       "      <td>0.0</td>\n",
       "      <td>1</td>\n",
       "      <td>0</td>\n",
       "    </tr>\n",
       "    <tr>\n",
       "      <th>...</th>\n",
       "      <td>...</td>\n",
       "      <td>...</td>\n",
       "      <td>...</td>\n",
       "      <td>...</td>\n",
       "      <td>...</td>\n",
       "      <td>...</td>\n",
       "      <td>...</td>\n",
       "      <td>...</td>\n",
       "      <td>...</td>\n",
       "      <td>...</td>\n",
       "      <td>...</td>\n",
       "      <td>...</td>\n",
       "    </tr>\n",
       "    <tr>\n",
       "      <th>1185</th>\n",
       "      <td>45</td>\n",
       "      <td>1</td>\n",
       "      <td>1</td>\n",
       "      <td>110</td>\n",
       "      <td>264</td>\n",
       "      <td>0</td>\n",
       "      <td>0</td>\n",
       "      <td>132</td>\n",
       "      <td>0</td>\n",
       "      <td>1.2</td>\n",
       "      <td>2</td>\n",
       "      <td>1</td>\n",
       "    </tr>\n",
       "    <tr>\n",
       "      <th>1186</th>\n",
       "      <td>68</td>\n",
       "      <td>1</td>\n",
       "      <td>4</td>\n",
       "      <td>144</td>\n",
       "      <td>193</td>\n",
       "      <td>1</td>\n",
       "      <td>0</td>\n",
       "      <td>141</td>\n",
       "      <td>0</td>\n",
       "      <td>3.4</td>\n",
       "      <td>2</td>\n",
       "      <td>1</td>\n",
       "    </tr>\n",
       "    <tr>\n",
       "      <th>1187</th>\n",
       "      <td>57</td>\n",
       "      <td>1</td>\n",
       "      <td>4</td>\n",
       "      <td>130</td>\n",
       "      <td>131</td>\n",
       "      <td>0</td>\n",
       "      <td>0</td>\n",
       "      <td>115</td>\n",
       "      <td>1</td>\n",
       "      <td>1.2</td>\n",
       "      <td>2</td>\n",
       "      <td>1</td>\n",
       "    </tr>\n",
       "    <tr>\n",
       "      <th>1188</th>\n",
       "      <td>57</td>\n",
       "      <td>0</td>\n",
       "      <td>2</td>\n",
       "      <td>130</td>\n",
       "      <td>236</td>\n",
       "      <td>0</td>\n",
       "      <td>2</td>\n",
       "      <td>174</td>\n",
       "      <td>0</td>\n",
       "      <td>0.0</td>\n",
       "      <td>2</td>\n",
       "      <td>1</td>\n",
       "    </tr>\n",
       "    <tr>\n",
       "      <th>1189</th>\n",
       "      <td>38</td>\n",
       "      <td>1</td>\n",
       "      <td>3</td>\n",
       "      <td>138</td>\n",
       "      <td>175</td>\n",
       "      <td>0</td>\n",
       "      <td>0</td>\n",
       "      <td>173</td>\n",
       "      <td>0</td>\n",
       "      <td>0.0</td>\n",
       "      <td>1</td>\n",
       "      <td>0</td>\n",
       "    </tr>\n",
       "  </tbody>\n",
       "</table>\n",
       "<p>1190 rows × 12 columns</p>\n",
       "</div>"
      ],
      "text/plain": [
       "      age  sex  chest pain type  resting bp s  cholesterol  \\\n",
       "0      40    1                2           140          289   \n",
       "1      49    0                3           160          180   \n",
       "2      37    1                2           130          283   \n",
       "3      48    0                4           138          214   \n",
       "4      54    1                3           150          195   \n",
       "...   ...  ...              ...           ...          ...   \n",
       "1185   45    1                1           110          264   \n",
       "1186   68    1                4           144          193   \n",
       "1187   57    1                4           130          131   \n",
       "1188   57    0                2           130          236   \n",
       "1189   38    1                3           138          175   \n",
       "\n",
       "      fasting blood sugar  resting ecg  max heart rate  exercise angina  \\\n",
       "0                       0            0             172                0   \n",
       "1                       0            0             156                0   \n",
       "2                       0            1              98                0   \n",
       "3                       0            0             108                1   \n",
       "4                       0            0             122                0   \n",
       "...                   ...          ...             ...              ...   \n",
       "1185                    0            0             132                0   \n",
       "1186                    1            0             141                0   \n",
       "1187                    0            0             115                1   \n",
       "1188                    0            2             174                0   \n",
       "1189                    0            0             173                0   \n",
       "\n",
       "      oldpeak  ST slope  target  \n",
       "0         0.0         1       0  \n",
       "1         1.0         2       1  \n",
       "2         0.0         1       0  \n",
       "3         1.5         2       1  \n",
       "4         0.0         1       0  \n",
       "...       ...       ...     ...  \n",
       "1185      1.2         2       1  \n",
       "1186      3.4         2       1  \n",
       "1187      1.2         2       1  \n",
       "1188      0.0         2       1  \n",
       "1189      0.0         1       0  \n",
       "\n",
       "[1190 rows x 12 columns]"
      ]
     },
     "execution_count": 3,
     "metadata": {},
     "output_type": "execute_result"
    }
   ],
   "source": [
    "# Larger sample set\n",
    "\n",
    "data=pd.read_csv('./Desktop/Hrt_Dis_Pred/heart_statlog_cleveland_hungary_final.csv')\n",
    "print('Shape',data.shape)\n",
    "data"
   ]
  },
  {
   "cell_type": "code",
   "execution_count": 3,
   "id": "eca09684",
   "metadata": {},
   "outputs": [
    {
     "data": {
      "image/png": "[encoded data removed]",
      "text/plain": [
       "<Figure size 864x864 with 12 Axes>"
      ]
     },
     "metadata": {
      "needs_background": "light"
     },
     "output_type": "display_data"
    }
   ],
   "source": [
    "# A General overview of the dataset\n",
    "\n",
    "data.hist(bins=12, figsize=(12,12),density=True)\n",
    "plt.show()"
   ]
  },
  {
   "cell_type": "markdown",
   "id": "96be2f20",
   "metadata": {},
   "source": [
    "### Check for Types and Missing Values"
   ]
  },
  {
   "cell_type": "code",
   "execution_count": 4,
   "id": "6b40c65c",
   "metadata": {
    "scrolled": false
   },
   "outputs": [
    {
     "name": "stdout",
     "output_type": "stream",
     "text": [
      "Missing values: 0\n",
      "\n",
      "<class 'pandas.core.frame.DataFrame'>\n",
      "RangeIndex: 1190 entries, 0 to 1189\n",
      "Data columns (total 12 columns):\n",
      " #   Column               Non-Null Count  Dtype  \n",
      "---  ------               --------------  -----  \n",
      " 0   age                  1190 non-null   int64  \n",
      " 1   sex                  1190 non-null   int64  \n",
      " 2   chest pain type      1190 non-null   int64  \n",
      " 3   resting bp s         1190 non-null   int64  \n",
      " 4   cholesterol          1190 non-null   int64  \n",
      " 5   fasting blood sugar  1190 non-null   int64  \n",
      " 6   resting ecg          1190 non-null   int64  \n",
      " 7   max heart rate       1190 non-null   int64  \n",
      " 8   exercise angina      1190 non-null   int64  \n",
      " 9   oldpeak              1190 non-null   float64\n",
      " 10  ST slope             1190 non-null   int64  \n",
      " 11  target               1190 non-null   int64  \n",
      "dtypes: float64(1), int64(11)\n",
      "memory usage: 111.7 KB\n"
     ]
    }
   ],
   "source": [
    "# Types and missing values\n",
    "print(\"Missing values:\",data.isna().sum().sum())\n",
    "print()\n",
    "data.info()"
   ]
  },
  {
   "cell_type": "markdown",
   "id": "0bb94567",
   "metadata": {},
   "source": [
    "### Unique Values"
   ]
  },
  {
   "cell_type": "code",
   "execution_count": 4,
   "id": "146535b6",
   "metadata": {},
   "outputs": [
    {
     "data": {
      "text/plain": [
       "{'age': 50,\n",
       " 'sex': 2,\n",
       " 'chest pain type': 4,\n",
       " 'resting bp s': 67,\n",
       " 'cholesterol': 222,\n",
       " 'fasting blood sugar': 2,\n",
       " 'resting ecg': 3,\n",
       " 'max heart rate': 119,\n",
       " 'exercise angina': 2,\n",
       " 'oldpeak': 53,\n",
       " 'ST slope': 4,\n",
       " 'target': 2}"
      ]
     },
     "execution_count": 4,
     "metadata": {},
     "output_type": "execute_result"
    }
   ],
   "source": [
    "# Distinct values dictionary to map column names to unique values\n",
    "# This can help with encoding downstream. For example, no need to one-hot encode binary nominal features \n",
    "\n",
    "{column: len(data[column].unique())for column in data.columns}"
   ]
  },
  {
   "cell_type": "markdown",
   "id": "41a43dfa",
   "metadata": {},
   "source": [
    "# Feature selection"
   ]
  },
  {
   "cell_type": "markdown",
   "id": "64dafd7d",
   "metadata": {},
   "source": [
    "### Split dataset"
   ]
  },
  {
   "cell_type": "code",
   "execution_count": 4,
   "id": "9fbff726",
   "metadata": {},
   "outputs": [],
   "source": [
    " # Split df into X and y\n",
    "y = data['target'].copy()\n",
    "X = data.drop('target', axis=1).copy()"
   ]
  },
  {
   "cell_type": "code",
   "execution_count": 5,
   "id": "0966b8fe",
   "metadata": {},
   "outputs": [
    {
     "name": "stdout",
     "output_type": "stream",
     "text": [
      "X shape (1190, 11)\n"
     ]
    }
   ],
   "source": [
    "columns = X.columns\n",
    "print('X shape',X.shape)"
   ]
  },
  {
   "cell_type": "code",
   "execution_count": 6,
   "id": "00cf3fa9",
   "metadata": {},
   "outputs": [
    {
     "data": {
      "text/plain": [
       "0       0\n",
       "1       1\n",
       "2       0\n",
       "3       1\n",
       "4       0\n",
       "       ..\n",
       "1185    1\n",
       "1186    1\n",
       "1187    1\n",
       "1188    1\n",
       "1189    0\n",
       "Name: target, Length: 1190, dtype: int64"
      ]
     },
     "execution_count": 6,
     "metadata": {},
     "output_type": "execute_result"
    }
   ],
   "source": [
    "y"
   ]
  },
  {
   "cell_type": "markdown",
   "id": "750d581b",
   "metadata": {},
   "source": [
    "### Low Variance Filtering"
   ]
  },
  {
   "cell_type": "code",
   "execution_count": 7,
   "id": "8d4f05aa",
   "metadata": {},
   "outputs": [
    {
     "name": "stdout",
     "output_type": "stream",
     "text": [
      "Varience\n",
      "\n",
      "age                       87.575960\n",
      "sex                        0.180527\n",
      "chest pain type            0.875124\n",
      "resting bp s             337.413674\n",
      "cholesterol            10286.115598\n",
      "fasting blood sugar        0.168028\n",
      "resting ecg                0.757525\n",
      "max heart rate           651.149724\n",
      "exercise angina            0.237520\n",
      "oldpeak                    1.180129\n",
      "ST slope                   0.372660\n",
      "dtype: float64\n",
      "\n"
     ]
    },
    {
     "data": {
      "text/plain": [
       "[<matplotlib.lines.Line2D at 0x19560d2ad60>]"
      ]
     },
     "execution_count": 7,
     "metadata": {},
     "output_type": "execute_result"
    },
    {
     "data": {
      "image/png": "[encoded data removed]",
      "text/plain": [
       "<Figure size 1080x288 with 1 Axes>"
      ]
     },
     "metadata": {
      "needs_background": "light"
     },
     "output_type": "display_data"
    }
   ],
   "source": [
    "# Dataset variences\n",
    "\n",
    "variance = X.var()\n",
    "\n",
    "print('Varience')\n",
    "print()\n",
    "print(X.var())\n",
    "\n",
    "print()\n",
    "\n",
    "plt.figure(figsize= (15,4))\n",
    "plt.xlabel('Variables')\n",
    "plt.ylabel('Varience')\n",
    "plt.plot(variance)      "
   ]
  },
  {
   "cell_type": "markdown",
   "id": "561b391c",
   "metadata": {},
   "source": [
    "###  Variables with variance more than the threshold value"
   ]
  },
  {
   "cell_type": "code",
   "execution_count": 8,
   "id": "3b4d455f",
   "metadata": {},
   "outputs": [
    {
     "data": {
      "text/plain": [
       "['age',\n",
       " 'sex',\n",
       " 'chest pain type',\n",
       " 'resting bp s',\n",
       " 'cholesterol',\n",
       " 'fasting blood sugar',\n",
       " 'resting ecg',\n",
       " 'max heart rate',\n",
       " 'exercise angina',\n",
       " 'oldpeak',\n",
       " 'ST slope']"
      ]
     },
     "execution_count": 8,
     "metadata": {},
     "output_type": "execute_result"
    }
   ],
   "source": [
    "# Saving the names of variables having variance more than a threshold value\n",
    "# In this case all original variable are retained\n",
    "\n",
    "variable = [ ]\n",
    "\n",
    "for i in range(0,len(variance)):\n",
    "    if variance[i]>=0.006: #setting the threshold\n",
    "        variable.append(columns[i])\n",
    "        \n",
    "variable"
   ]
  },
  {
   "cell_type": "markdown",
   "id": "6390feeb",
   "metadata": {},
   "source": [
    "### New dataframe using the above variables"
   ]
  },
  {
   "cell_type": "code",
   "execution_count": 9,
   "id": "58c7625e",
   "metadata": {
    "scrolled": true
   },
   "outputs": [
    {
     "name": "stdout",
     "output_type": "stream",
     "text": [
      "new_data shape (1190, 11)\n"
     ]
    },
    {
     "data": {
      "text/html": [
       "<div>\n",
       "<style scoped>\n",
       "    .dataframe tbody tr th:only-of-type {\n",
       "        vertical-align: middle;\n",
       "    }\n",
       "\n",
       "    .dataframe tbody tr th {\n",
       "        vertical-align: top;\n",
       "    }\n",
       "\n",
       "    .dataframe thead th {\n",
       "        text-align: right;\n",
       "    }\n",
       "</style>\n",
       "<table border=\"1\" class=\"dataframe\">\n",
       "  <thead>\n",
       "    <tr style=\"text-align: right;\">\n",
       "      <th></th>\n",
       "      <th>age</th>\n",
       "      <th>sex</th>\n",
       "      <th>chest pain type</th>\n",
       "      <th>resting bp s</th>\n",
       "      <th>cholesterol</th>\n",
       "      <th>fasting blood sugar</th>\n",
       "      <th>resting ecg</th>\n",
       "      <th>max heart rate</th>\n",
       "      <th>exercise angina</th>\n",
       "      <th>oldpeak</th>\n",
       "      <th>ST slope</th>\n",
       "    </tr>\n",
       "  </thead>\n",
       "  <tbody>\n",
       "    <tr>\n",
       "      <th>0</th>\n",
       "      <td>40</td>\n",
       "      <td>1</td>\n",
       "      <td>2</td>\n",
       "      <td>140</td>\n",
       "      <td>289</td>\n",
       "      <td>0</td>\n",
       "      <td>0</td>\n",
       "      <td>172</td>\n",
       "      <td>0</td>\n",
       "      <td>0.0</td>\n",
       "      <td>1</td>\n",
       "    </tr>\n",
       "    <tr>\n",
       "      <th>1</th>\n",
       "      <td>49</td>\n",
       "      <td>0</td>\n",
       "      <td>3</td>\n",
       "      <td>160</td>\n",
       "      <td>180</td>\n",
       "      <td>0</td>\n",
       "      <td>0</td>\n",
       "      <td>156</td>\n",
       "      <td>0</td>\n",
       "      <td>1.0</td>\n",
       "      <td>2</td>\n",
       "    </tr>\n",
       "    <tr>\n",
       "      <th>2</th>\n",
       "      <td>37</td>\n",
       "      <td>1</td>\n",
       "      <td>2</td>\n",
       "      <td>130</td>\n",
       "      <td>283</td>\n",
       "      <td>0</td>\n",
       "      <td>1</td>\n",
       "      <td>98</td>\n",
       "      <td>0</td>\n",
       "      <td>0.0</td>\n",
       "      <td>1</td>\n",
       "    </tr>\n",
       "    <tr>\n",
       "      <th>3</th>\n",
       "      <td>48</td>\n",
       "      <td>0</td>\n",
       "      <td>4</td>\n",
       "      <td>138</td>\n",
       "      <td>214</td>\n",
       "      <td>0</td>\n",
       "      <td>0</td>\n",
       "      <td>108</td>\n",
       "      <td>1</td>\n",
       "      <td>1.5</td>\n",
       "      <td>2</td>\n",
       "    </tr>\n",
       "    <tr>\n",
       "      <th>4</th>\n",
       "      <td>54</td>\n",
       "      <td>1</td>\n",
       "      <td>3</td>\n",
       "      <td>150</td>\n",
       "      <td>195</td>\n",
       "      <td>0</td>\n",
       "      <td>0</td>\n",
       "      <td>122</td>\n",
       "      <td>0</td>\n",
       "      <td>0.0</td>\n",
       "      <td>1</td>\n",
       "    </tr>\n",
       "  </tbody>\n",
       "</table>\n",
       "</div>"
      ],
      "text/plain": [
       "   age  sex  chest pain type  resting bp s  cholesterol  fasting blood sugar  \\\n",
       "0   40    1                2           140          289                    0   \n",
       "1   49    0                3           160          180                    0   \n",
       "2   37    1                2           130          283                    0   \n",
       "3   48    0                4           138          214                    0   \n",
       "4   54    1                3           150          195                    0   \n",
       "\n",
       "   resting ecg  max heart rate  exercise angina  oldpeak  ST slope  \n",
       "0            0             172                0      0.0         1  \n",
       "1            0             156                0      1.0         2  \n",
       "2            1              98                0      0.0         1  \n",
       "3            0             108                1      1.5         2  \n",
       "4            0             122                0      0.0         1  "
      ]
     },
     "execution_count": 9,
     "metadata": {},
     "output_type": "execute_result"
    }
   ],
   "source": [
    "# creating a new dataframe using the above variables\n",
    "\n",
    "new_data = X[variable]\n",
    "print('new_data shape',new_data.shape)\n",
    "new_data.head()"
   ]
  },
  {
   "cell_type": "code",
   "execution_count": 10,
   "id": "8deae909",
   "metadata": {
    "scrolled": true
   },
   "outputs": [
    {
     "name": "stdout",
     "output_type": "stream",
     "text": [
      "age                       87.575960\n",
      "sex                        0.180527\n",
      "chest pain type            0.875124\n",
      "resting bp s             337.413674\n",
      "cholesterol            10286.115598\n",
      "fasting blood sugar        0.168028\n",
      "resting ecg                0.757525\n",
      "max heart rate           651.149724\n",
      "exercise angina            0.237520\n",
      "oldpeak                    1.180129\n",
      "ST slope                   0.372660\n",
      "dtype: float64\n",
      "\n"
     ]
    },
    {
     "data": {
      "text/plain": [
       "[<matplotlib.lines.Line2D at 0x19566864a00>]"
      ]
     },
     "execution_count": 10,
     "metadata": {},
     "output_type": "execute_result"
    },
    {
     "data": {
      "image/png": "[encoded data removed]",
      "text/plain": [
       "<Figure size 1080x288 with 1 Axes>"
      ]
     },
     "metadata": {
      "needs_background": "light"
     },
     "output_type": "display_data"
    }
   ],
   "source": [
    "# Data variences\n",
    "\n",
    "new_data_var = new_data.var()\n",
    "print(new_data_var)\n",
    "\n",
    "print()\n",
    "\n",
    "plt.figure(figsize= (15,4))\n",
    "plt.xlabel('Variables')\n",
    "plt.ylabel('Varience')\n",
    "plt.plot(new_data_var)"
   ]
  },
  {
   "cell_type": "markdown",
   "id": "330b4161",
   "metadata": {},
   "source": [
    "No change from the original dataset. All variables are within the threshold"
   ]
  },
  {
   "cell_type": "markdown",
   "id": "92eeba5a",
   "metadata": {},
   "source": [
    "## Variable encoding"
   ]
  },
  {
   "cell_type": "code",
   "execution_count": 11,
   "id": "317780b5",
   "metadata": {},
   "outputs": [],
   "source": [
    "# One Hot Encoding\n",
    "# Use for larger dataset\n",
    "\n",
    "def onehot_encode(X, column_dict):\n",
    "    X = new_data.copy()\n",
    "    for column, prefix in column_dict.items():\n",
    "        dummies = pd.get_dummies(X[column], prefix=prefix)\n",
    "        X = pd.concat([X, dummies], axis=1)\n",
    "        X = X.drop(column, axis=1)\n",
    "        \n",
    "    return X\n",
    "\n",
    "\n",
    "# Encoding\n",
    "\n",
    "def preprocess_inputs(X): #, scaler\n",
    "    X = new_data.copy()\n",
    "    \n",
    "    # One-hot encode the nominal features\n",
    "    \n",
    "    nominal_features = ['chest pain type','resting ecg','ST slope']\n",
    "    X = onehot_encode(X, dict(zip(nominal_features, ['CPType','ECG','SLP'])))\n",
    "    \n",
    "       \n",
    "    return X\n"
   ]
  },
  {
   "cell_type": "code",
   "execution_count": 12,
   "id": "189a969d",
   "metadata": {
    "scrolled": true
   },
   "outputs": [
    {
     "name": "stdout",
     "output_type": "stream",
     "text": [
      "(1190, 19)\n"
     ]
    },
    {
     "data": {
      "text/html": [
       "<div>\n",
       "<style scoped>\n",
       "    .dataframe tbody tr th:only-of-type {\n",
       "        vertical-align: middle;\n",
       "    }\n",
       "\n",
       "    .dataframe tbody tr th {\n",
       "        vertical-align: top;\n",
       "    }\n",
       "\n",
       "    .dataframe thead th {\n",
       "        text-align: right;\n",
       "    }\n",
       "</style>\n",
       "<table border=\"1\" class=\"dataframe\">\n",
       "  <thead>\n",
       "    <tr style=\"text-align: right;\">\n",
       "      <th></th>\n",
       "      <th>age</th>\n",
       "      <th>sex</th>\n",
       "      <th>resting bp s</th>\n",
       "      <th>cholesterol</th>\n",
       "      <th>fasting blood sugar</th>\n",
       "      <th>max heart rate</th>\n",
       "      <th>exercise angina</th>\n",
       "      <th>oldpeak</th>\n",
       "      <th>CPType_1</th>\n",
       "      <th>CPType_2</th>\n",
       "      <th>CPType_3</th>\n",
       "      <th>CPType_4</th>\n",
       "      <th>ECG_0</th>\n",
       "      <th>ECG_1</th>\n",
       "      <th>ECG_2</th>\n",
       "      <th>SLP_0</th>\n",
       "      <th>SLP_1</th>\n",
       "      <th>SLP_2</th>\n",
       "      <th>SLP_3</th>\n",
       "    </tr>\n",
       "  </thead>\n",
       "  <tbody>\n",
       "    <tr>\n",
       "      <th>0</th>\n",
       "      <td>40</td>\n",
       "      <td>1</td>\n",
       "      <td>140</td>\n",
       "      <td>289</td>\n",
       "      <td>0</td>\n",
       "      <td>172</td>\n",
       "      <td>0</td>\n",
       "      <td>0.0</td>\n",
       "      <td>0</td>\n",
       "      <td>1</td>\n",
       "      <td>0</td>\n",
       "      <td>0</td>\n",
       "      <td>1</td>\n",
       "      <td>0</td>\n",
       "      <td>0</td>\n",
       "      <td>0</td>\n",
       "      <td>1</td>\n",
       "      <td>0</td>\n",
       "      <td>0</td>\n",
       "    </tr>\n",
       "    <tr>\n",
       "      <th>1</th>\n",
       "      <td>49</td>\n",
       "      <td>0</td>\n",
       "      <td>160</td>\n",
       "      <td>180</td>\n",
       "      <td>0</td>\n",
       "      <td>156</td>\n",
       "      <td>0</td>\n",
       "      <td>1.0</td>\n",
       "      <td>0</td>\n",
       "      <td>0</td>\n",
       "      <td>1</td>\n",
       "      <td>0</td>\n",
       "      <td>1</td>\n",
       "      <td>0</td>\n",
       "      <td>0</td>\n",
       "      <td>0</td>\n",
       "      <td>0</td>\n",
       "      <td>1</td>\n",
       "      <td>0</td>\n",
       "    </tr>\n",
       "    <tr>\n",
       "      <th>2</th>\n",
       "      <td>37</td>\n",
       "      <td>1</td>\n",
       "      <td>130</td>\n",
       "      <td>283</td>\n",
       "      <td>0</td>\n",
       "      <td>98</td>\n",
       "      <td>0</td>\n",
       "      <td>0.0</td>\n",
       "      <td>0</td>\n",
       "      <td>1</td>\n",
       "      <td>0</td>\n",
       "      <td>0</td>\n",
       "      <td>0</td>\n",
       "      <td>1</td>\n",
       "      <td>0</td>\n",
       "      <td>0</td>\n",
       "      <td>1</td>\n",
       "      <td>0</td>\n",
       "      <td>0</td>\n",
       "    </tr>\n",
       "    <tr>\n",
       "      <th>3</th>\n",
       "      <td>48</td>\n",
       "      <td>0</td>\n",
       "      <td>138</td>\n",
       "      <td>214</td>\n",
       "      <td>0</td>\n",
       "      <td>108</td>\n",
       "      <td>1</td>\n",
       "      <td>1.5</td>\n",
       "      <td>0</td>\n",
       "      <td>0</td>\n",
       "      <td>0</td>\n",
       "      <td>1</td>\n",
       "      <td>1</td>\n",
       "      <td>0</td>\n",
       "      <td>0</td>\n",
       "      <td>0</td>\n",
       "      <td>0</td>\n",
       "      <td>1</td>\n",
       "      <td>0</td>\n",
       "    </tr>\n",
       "    <tr>\n",
       "      <th>4</th>\n",
       "      <td>54</td>\n",
       "      <td>1</td>\n",
       "      <td>150</td>\n",
       "      <td>195</td>\n",
       "      <td>0</td>\n",
       "      <td>122</td>\n",
       "      <td>0</td>\n",
       "      <td>0.0</td>\n",
       "      <td>0</td>\n",
       "      <td>0</td>\n",
       "      <td>1</td>\n",
       "      <td>0</td>\n",
       "      <td>1</td>\n",
       "      <td>0</td>\n",
       "      <td>0</td>\n",
       "      <td>0</td>\n",
       "      <td>1</td>\n",
       "      <td>0</td>\n",
       "      <td>0</td>\n",
       "    </tr>\n",
       "    <tr>\n",
       "      <th>...</th>\n",
       "      <td>...</td>\n",
       "      <td>...</td>\n",
       "      <td>...</td>\n",
       "      <td>...</td>\n",
       "      <td>...</td>\n",
       "      <td>...</td>\n",
       "      <td>...</td>\n",
       "      <td>...</td>\n",
       "      <td>...</td>\n",
       "      <td>...</td>\n",
       "      <td>...</td>\n",
       "      <td>...</td>\n",
       "      <td>...</td>\n",
       "      <td>...</td>\n",
       "      <td>...</td>\n",
       "      <td>...</td>\n",
       "      <td>...</td>\n",
       "      <td>...</td>\n",
       "      <td>...</td>\n",
       "    </tr>\n",
       "    <tr>\n",
       "      <th>1185</th>\n",
       "      <td>45</td>\n",
       "      <td>1</td>\n",
       "      <td>110</td>\n",
       "      <td>264</td>\n",
       "      <td>0</td>\n",
       "      <td>132</td>\n",
       "      <td>0</td>\n",
       "      <td>1.2</td>\n",
       "      <td>1</td>\n",
       "      <td>0</td>\n",
       "      <td>0</td>\n",
       "      <td>0</td>\n",
       "      <td>1</td>\n",
       "      <td>0</td>\n",
       "      <td>0</td>\n",
       "      <td>0</td>\n",
       "      <td>0</td>\n",
       "      <td>1</td>\n",
       "      <td>0</td>\n",
       "    </tr>\n",
       "    <tr>\n",
       "      <th>1186</th>\n",
       "      <td>68</td>\n",
       "      <td>1</td>\n",
       "      <td>144</td>\n",
       "      <td>193</td>\n",
       "      <td>1</td>\n",
       "      <td>141</td>\n",
       "      <td>0</td>\n",
       "      <td>3.4</td>\n",
       "      <td>0</td>\n",
       "      <td>0</td>\n",
       "      <td>0</td>\n",
       "      <td>1</td>\n",
       "      <td>1</td>\n",
       "      <td>0</td>\n",
       "      <td>0</td>\n",
       "      <td>0</td>\n",
       "      <td>0</td>\n",
       "      <td>1</td>\n",
       "      <td>0</td>\n",
       "    </tr>\n",
       "    <tr>\n",
       "      <th>1187</th>\n",
       "      <td>57</td>\n",
       "      <td>1</td>\n",
       "      <td>130</td>\n",
       "      <td>131</td>\n",
       "      <td>0</td>\n",
       "      <td>115</td>\n",
       "      <td>1</td>\n",
       "      <td>1.2</td>\n",
       "      <td>0</td>\n",
       "      <td>0</td>\n",
       "      <td>0</td>\n",
       "      <td>1</td>\n",
       "      <td>1</td>\n",
       "      <td>0</td>\n",
       "      <td>0</td>\n",
       "      <td>0</td>\n",
       "      <td>0</td>\n",
       "      <td>1</td>\n",
       "      <td>0</td>\n",
       "    </tr>\n",
       "    <tr>\n",
       "      <th>1188</th>\n",
       "      <td>57</td>\n",
       "      <td>0</td>\n",
       "      <td>130</td>\n",
       "      <td>236</td>\n",
       "      <td>0</td>\n",
       "      <td>174</td>\n",
       "      <td>0</td>\n",
       "      <td>0.0</td>\n",
       "      <td>0</td>\n",
       "      <td>1</td>\n",
       "      <td>0</td>\n",
       "      <td>0</td>\n",
       "      <td>0</td>\n",
       "      <td>0</td>\n",
       "      <td>1</td>\n",
       "      <td>0</td>\n",
       "      <td>0</td>\n",
       "      <td>1</td>\n",
       "      <td>0</td>\n",
       "    </tr>\n",
       "    <tr>\n",
       "      <th>1189</th>\n",
       "      <td>38</td>\n",
       "      <td>1</td>\n",
       "      <td>138</td>\n",
       "      <td>175</td>\n",
       "      <td>0</td>\n",
       "      <td>173</td>\n",
       "      <td>0</td>\n",
       "      <td>0.0</td>\n",
       "      <td>0</td>\n",
       "      <td>0</td>\n",
       "      <td>1</td>\n",
       "      <td>0</td>\n",
       "      <td>1</td>\n",
       "      <td>0</td>\n",
       "      <td>0</td>\n",
       "      <td>0</td>\n",
       "      <td>1</td>\n",
       "      <td>0</td>\n",
       "      <td>0</td>\n",
       "    </tr>\n",
       "  </tbody>\n",
       "</table>\n",
       "<p>1190 rows × 19 columns</p>\n",
       "</div>"
      ],
      "text/plain": [
       "      age  sex  resting bp s  cholesterol  fasting blood sugar  \\\n",
       "0      40    1           140          289                    0   \n",
       "1      49    0           160          180                    0   \n",
       "2      37    1           130          283                    0   \n",
       "3      48    0           138          214                    0   \n",
       "4      54    1           150          195                    0   \n",
       "...   ...  ...           ...          ...                  ...   \n",
       "1185   45    1           110          264                    0   \n",
       "1186   68    1           144          193                    1   \n",
       "1187   57    1           130          131                    0   \n",
       "1188   57    0           130          236                    0   \n",
       "1189   38    1           138          175                    0   \n",
       "\n",
       "      max heart rate  exercise angina  oldpeak  CPType_1  CPType_2  CPType_3  \\\n",
       "0                172                0      0.0         0         1         0   \n",
       "1                156                0      1.0         0         0         1   \n",
       "2                 98                0      0.0         0         1         0   \n",
       "3                108                1      1.5         0         0         0   \n",
       "4                122                0      0.0         0         0         1   \n",
       "...              ...              ...      ...       ...       ...       ...   \n",
       "1185             132                0      1.2         1         0         0   \n",
       "1186             141                0      3.4         0         0         0   \n",
       "1187             115                1      1.2         0         0         0   \n",
       "1188             174                0      0.0         0         1         0   \n",
       "1189             173                0      0.0         0         0         1   \n",
       "\n",
       "      CPType_4  ECG_0  ECG_1  ECG_2  SLP_0  SLP_1  SLP_2  SLP_3  \n",
       "0            0      1      0      0      0      1      0      0  \n",
       "1            0      1      0      0      0      0      1      0  \n",
       "2            0      0      1      0      0      1      0      0  \n",
       "3            1      1      0      0      0      0      1      0  \n",
       "4            0      1      0      0      0      1      0      0  \n",
       "...        ...    ...    ...    ...    ...    ...    ...    ...  \n",
       "1185         0      1      0      0      0      0      1      0  \n",
       "1186         1      1      0      0      0      0      1      0  \n",
       "1187         1      1      0      0      0      0      1      0  \n",
       "1188         0      0      0      1      0      0      1      0  \n",
       "1189         0      1      0      0      0      1      0      0  \n",
       "\n",
       "[1190 rows x 19 columns]"
      ]
     },
     "execution_count": 12,
     "metadata": {},
     "output_type": "execute_result"
    }
   ],
   "source": [
    "# Check Encoded feature \n",
    "\n",
    "X = preprocess_inputs(new_data)\n",
    "print(X.shape)\n",
    "X"
   ]
  },
  {
   "cell_type": "code",
   "execution_count": 12,
   "id": "b5cfd91d",
   "metadata": {
    "scrolled": true
   },
   "outputs": [
    {
     "data": {
      "text/plain": [
       "0       0\n",
       "1       1\n",
       "2       0\n",
       "3       1\n",
       "4       0\n",
       "       ..\n",
       "1185    1\n",
       "1186    1\n",
       "1187    1\n",
       "1188    1\n",
       "1189    0\n",
       "Name: target, Length: 1190, dtype: int64"
      ]
     },
     "execution_count": 12,
     "metadata": {},
     "output_type": "execute_result"
    }
   ],
   "source": [
    "y"
   ]
  },
  {
   "cell_type": "markdown",
   "id": "c64a42f9",
   "metadata": {},
   "source": [
    "### Class distributions"
   ]
  },
  {
   "cell_type": "code",
   "execution_count": 13,
   "id": "a1f1755e",
   "metadata": {},
   "outputs": [
    {
     "name": "stdout",
     "output_type": "stream",
     "text": [
      "Class=0, n=561 (47.143%)\n",
      "Class=1, n=629 (52.857%)\n"
     ]
    }
   ],
   "source": [
    "#Class distributions\n",
    "\n",
    "# label encode the target variable\n",
    "y = LabelEncoder().fit_transform(y)\n",
    "\n",
    "# summarize distribution\n",
    "counter = Counter(y)\n",
    "for k,v in counter.items():\n",
    "    per = v / len(y) * 100\n",
    "    print('Class=%d, n=%d (%.3f%%)' % (k, v, per))"
   ]
  },
  {
   "cell_type": "markdown",
   "id": "50009786",
   "metadata": {},
   "source": [
    "### Synthetic Minority Oversampling Technique\n",
    "Optional: classes are fairly well distributed"
   ]
  },
  {
   "cell_type": "code",
   "execution_count": null,
   "id": "9a3aacdf",
   "metadata": {},
   "outputs": [],
   "source": [
    "#SMOTE\n",
    "\n",
    "# label encode the target variable\n",
    "#y = LabelEncoder().fit_transform(y)\n",
    "\n",
    "# transform the dataset\n",
    "oversample = SMOTE()\n",
    "X, y = oversample.fit_resample(X, y)\n",
    "\n",
    "# summarize distribution\n",
    "counter = Counter(y)\n",
    "for k,v in counter.items():\n",
    "    per = v / len(y) * 100\n",
    "    print('Class=%d, n=%d (%.3f%%)' % (k, v, per))"
   ]
  },
  {
   "cell_type": "markdown",
   "id": "e876c88a",
   "metadata": {},
   "source": [
    "## Model Definition and Training"
   ]
  },
  {
   "cell_type": "code",
   "execution_count": 14,
   "id": "f89e17ad",
   "metadata": {},
   "outputs": [],
   "source": [
    "# Class label mapping\n",
    "\n",
    "class_label = {\n",
    "    0: 'No Heart Disease',\n",
    "    1: 'Heart Disease'\n",
    "}"
   ]
  },
  {
   "cell_type": "markdown",
   "id": "ed511ca8",
   "metadata": {},
   "source": [
    "### Train Test Split"
   ]
  },
  {
   "cell_type": "code",
   "execution_count": 15,
   "id": "500bdcbe",
   "metadata": {},
   "outputs": [],
   "source": [
    "# Using 90% for training and 10% for testing\n",
    "X_train,X_test,y_train,y_test = train_test_split(X,y,train_size=0.9,random_state=42)"
   ]
  },
  {
   "cell_type": "code",
   "execution_count": 16,
   "id": "1b7ad4f5",
   "metadata": {},
   "outputs": [
    {
     "data": {
      "text/plain": [
       "(1071, 19)"
      ]
     },
     "execution_count": 16,
     "metadata": {},
     "output_type": "execute_result"
    }
   ],
   "source": [
    "X_train.shape"
   ]
  },
  {
   "cell_type": "code",
   "execution_count": 17,
   "id": "a4f181f8",
   "metadata": {},
   "outputs": [
    {
     "data": {
      "text/plain": [
       "(119, 19)"
      ]
     },
     "execution_count": 17,
     "metadata": {},
     "output_type": "execute_result"
    }
   ],
   "source": [
    "X_test.shape"
   ]
  },
  {
   "cell_type": "markdown",
   "id": "99903880",
   "metadata": {},
   "source": [
    "## Scaling"
   ]
  },
  {
   "cell_type": "code",
   "execution_count": 18,
   "id": "e1fdb0e9",
   "metadata": {},
   "outputs": [],
   "source": [
    "#StandardScaler, MinMaxScaler, RobustScaler\n",
    "#from sklearn.preprocessing import StandardScaler\n",
    "\n",
    "#scaler = StandardScaler()\n",
    "scaler = MinMaxScaler()\n",
    "#scaler = RobustScaler()\n",
    "\n",
    "\n",
    "# Fit on training set only.\n",
    "scaler.fit(X_train)\n",
    "\n",
    "# Apply transform to both the training set and the test set.\n",
    "X_train = scaler.transform(X_train)\n",
    "X_test = scaler.transform(X_test)"
   ]
  },
  {
   "cell_type": "markdown",
   "id": "26f43581",
   "metadata": {},
   "source": [
    "## Dummy Classifier"
   ]
  },
  {
   "cell_type": "code",
   "execution_count": 19,
   "id": "bce409e4",
   "metadata": {},
   "outputs": [
    {
     "name": "stdout",
     "output_type": "stream",
     "text": [
      "MCC on train: 0.012\n",
      "MCC on test: 0.023\n",
      "\n",
      "F1 on train 0.506\n",
      "F1 on test 0.51\n",
      "\n",
      "Accuracy on train: 0.507\n",
      "Accuracy on test: 0.521\n",
      "\n",
      "Confusion Matrix:\n",
      "[[22 25]\n",
      " [32 40]]\n",
      "\n"
     ]
    },
    {
     "data": {
      "text/plain": [
       "{'constant': None, 'random_state': 42, 'strategy': 'stratified'}"
      ]
     },
     "execution_count": 19,
     "metadata": {},
     "output_type": "execute_result"
    }
   ],
   "source": [
    "# Dummy Classifier for baseline \n",
    "from sklearn.dummy import DummyClassifier\n",
    "\n",
    "dummy= DummyClassifier(strategy='stratified',random_state=42)\n",
    "dummy.fit(X_train,y_train)\n",
    " \n",
    "pred_dum= dummy.predict(X_test)\n",
    "pred2_dum= dummy.predict(X_train)\n",
    "\n",
    "# Matthews correlation, f1 score and accuracy\n",
    "\n",
    "dummy_mcc_train = matthews_corrcoef(y_train, pred2_dum)\n",
    "print('MCC on train:',dummy_mcc_train.round(3))\n",
    "dummy_mcc_test = matthews_corrcoef(y_test,pred_dum)\n",
    "print('MCC on test:',dummy_mcc_test.round(3))\n",
    "\n",
    "print()\n",
    "dummy_f1_train = f1_score(y_train,pred2_dum,average='macro')\n",
    "print('F1 on train',dummy_f1_train.round(3))\n",
    "dummy_f1_test = f1_score(y_test, pred_dum, average='macro')\n",
    "print('F1 on test',dummy_f1_test.round(3))\n",
    "\n",
    "print()\n",
    "\n",
    "dum_acc_train = accuracy_score(y_train, pred2_dum)\n",
    "dum_acc_test = accuracy_score(y_test,pred_dum)\n",
    "\n",
    "print('Accuracy on train:',dum_acc_train.round(3))\n",
    "print('Accuracy on test:',dum_acc_test.round(3))\n",
    "\n",
    "\n",
    "#print('Accuracy on train:',dummy.score(X_train,y_train).round(3))\n",
    "#print('Accuracy on test:',dummy.score(X_test,y_test).round(3))\n",
    "print()\n",
    "print('Confusion Matrix:\\n{}'.format(confusion_matrix(y_test,pred_dum).round(3)))\n",
    "print()\n",
    "dummy.get_params()"
   ]
  },
  {
   "cell_type": "code",
   "execution_count": 20,
   "id": "766d6861",
   "metadata": {},
   "outputs": [
    {
     "name": "stdout",
     "output_type": "stream",
     "text": [
      "50.98% accuracy with a standard deviation of 3.54%\n"
     ]
    }
   ],
   "source": [
    "# Cross Validation\n",
    "\n",
    "scores=cross_val_score(dummy,X_train,y_train,cv=10,n_jobs=-1)\n",
    "print(\"%0.2f%% accuracy with a standard deviation of %0.2f%%\" % (scores.mean()*100, scores.std()*100))"
   ]
  },
  {
   "cell_type": "code",
   "execution_count": 21,
   "id": "c3c7d9cb",
   "metadata": {
    "scrolled": true
   },
   "outputs": [
    {
     "name": "stdout",
     "output_type": "stream",
     "text": [
      "dummy:               precision    recall  f1-score   support\n",
      "\n",
      "           0       0.41      0.47      0.44        47\n",
      "           1       0.62      0.56      0.58        72\n",
      "\n",
      "    accuracy                           0.52       119\n",
      "   macro avg       0.51      0.51      0.51       119\n",
      "weighted avg       0.53      0.52      0.53       119\n",
      "\n"
     ]
    }
   ],
   "source": [
    "print(\"dummy:\",classification_report(y_test, pred_dum))"
   ]
  },
  {
   "cell_type": "code",
   "execution_count": 22,
   "id": "2b053ac2",
   "metadata": {},
   "outputs": [
    {
     "data": {
      "text/plain": [
       "Text(0.5, 16.0, 'Predicted Class')"
      ]
     },
     "execution_count": 22,
     "metadata": {},
     "output_type": "execute_result"
    },
    {
     "data": {
      "image/png": "[encoded data removed]",
      "text/plain": [
       "<Figure size 432x288 with 2 Axes>"
      ]
     },
     "metadata": {
      "needs_background": "light"
     },
     "output_type": "display_data"
    }
   ],
   "source": [
    "cm = confusion_matrix(y_test,pred_dum)\n",
    "\n",
    "#plt.figure(figsize=(10, 10))\n",
    "sns.heatmap(cm, annot=True, fmt='g', vmin=0, cbar=True, cmap='icefire')\n",
    "plt.ylabel('True Class')\n",
    "plt.xlabel('Predicted Class')"
   ]
  },
  {
   "cell_type": "markdown",
   "id": "2ad90a08",
   "metadata": {},
   "source": [
    "### Performance Metrics"
   ]
  },
  {
   "cell_type": "code",
   "execution_count": 23,
   "id": "1fa9fca9",
   "metadata": {
    "scrolled": false
   },
   "outputs": [
    {
     "name": "stdout",
     "output_type": "stream",
     "text": [
      "Class: {0: 'No Heart Disease', 1: 'Heart Disease'}\n",
      "Specificity: [0.55555556 0.46808511]\n",
      "Specificity Mean: 0.5118203309692672\n",
      "Class: {0: 'No Heart Disease', 1: 'Heart Disease'}\n",
      "Recall/Sensitivity: [0.46808511 0.55555556]\n",
      "Recall/Sensitivity Mean: 0.5118203309692672\n",
      "Class: {0: 'No Heart Disease', 1: 'Heart Disease'}\n",
      "Precision: [0.40740741 0.61538462]\n",
      "Precision Mean: 0.5113960113960114\n",
      "Class: {0: 'No Heart Disease', 1: 'Heart Disease'}\n",
      "False Positive Rate: [0.44444444 0.53191489]\n",
      "False Positive Rate Mean: 0.48817966903073284\n",
      "Class: {0: 'No Heart Disease', 1: 'Heart Disease'}\n",
      "False Negative Rate: [0.53191489 0.44444444]\n",
      "False Negative Rate Mean: 0.48817966903073284\n",
      "Class: {0: 'No Heart Disease', 1: 'Heart Disease'}\n",
      "False Discovery Rate: [0.59259259 0.38461538]\n",
      "False Discovery Rate Mean: 0.48860398860398857\n"
     ]
    }
   ],
   "source": [
    "#Performance metrics from confusion matrix \n",
    "\n",
    "FP = cm.sum(axis=0) - np.diag(cm) \n",
    "FN = cm.sum(axis=1) - np.diag(cm)\n",
    "TP = np.diag(cm)\n",
    "TN = cm.sum() - (FP + FN + TP)\n",
    "\n",
    "FP = FP.astype(float)\n",
    "FN = FN.astype(float)\n",
    "TP = TP.astype(float)\n",
    "TN = TN.astype(float)\n",
    "\n",
    "# Sensitivity, hit rate, Recall, or true positive rate\n",
    "TPR = TP/(TP+FN)\n",
    "\n",
    "# Specificity or true negative rate\n",
    "TNR = TN/(TN+FP) \n",
    "\n",
    "# Precision or positive predictive value\n",
    "PPV = TP/(TP+FP)\n",
    "\n",
    "# Negative predictive value\n",
    "NPV = TN/(TN+FN)\n",
    "\n",
    "# Fall out or false positive rate\n",
    "FPR = FP/(FP+TN)\n",
    "\n",
    "# False negative rate\n",
    "FNR = FN/(TP+FN)\n",
    "\n",
    "# False discovery rate\n",
    "FDR = FP/(TP+FP)\n",
    "\n",
    "\n",
    "print('Class:',class_label)\n",
    "\n",
    "print('Specificity:',TNR)\n",
    "print('Specificity Mean:',TNR.mean())\n",
    "\n",
    "print('Class:',class_label)\n",
    "\n",
    "print('Recall/Sensitivity:',TPR)\n",
    "print('Recall/Sensitivity Mean:',TPR.mean())\n",
    "\n",
    "print('Class:',class_label)\n",
    "\n",
    "print('Precision:',PPV)\n",
    "print('Precision Mean:',PPV.mean())\n",
    "\n",
    "print('Class:',class_label)\n",
    "\n",
    "print('False Positive Rate:',FPR)\n",
    "print('False Positive Rate Mean:',FPR.mean())\n",
    "\n",
    "print('Class:',class_label)\n",
    "\n",
    "print('False Negative Rate:',FNR)\n",
    "print('False Negative Rate Mean:',FNR.mean())\n",
    "\n",
    "print('Class:',class_label)\n",
    "\n",
    "print('False Discovery Rate:',FDR)\n",
    "print('False Discovery Rate Mean:',FDR.mean())"
   ]
  },
  {
   "cell_type": "markdown",
   "id": "368e5b58",
   "metadata": {},
   "source": [
    "### ROC Plot"
   ]
  },
  {
   "cell_type": "code",
   "execution_count": 24,
   "id": "aea3139b",
   "metadata": {
    "scrolled": false
   },
   "outputs": [
    {
     "name": "stderr",
     "output_type": "stream",
     "text": [
      "No handles with labels found to put in legend.\n"
     ]
    },
    {
     "data": {
      "text/plain": [
       "<matplotlib.legend.Legend at 0x19566a4efd0>"
      ]
     },
     "execution_count": 24,
     "metadata": {},
     "output_type": "execute_result"
    },
    {
     "data": {
      "image/png": "[encoded data removed]",
      "text/plain": [
       "<Figure size 576x432 with 1 Axes>"
      ]
     },
     "metadata": {
      "needs_background": "light"
     },
     "output_type": "display_data"
    }
   ],
   "source": [
    "#ROC Plot\n",
    "#from sklearn.multiclass import OneVsRestClassifier\n",
    "from sklearn.metrics import roc_curve\n",
    "from sklearn.metrics import roc_auc_score\n",
    "\n",
    "prediction_cplx = dummy.predict_proba(X_test)\n",
    "\n",
    "# roc curve for classes\n",
    "fpr = {}\n",
    "tpr = {}\n",
    "thresh ={}\n",
    "\n",
    "n_class = 2\n",
    "\n",
    "for i in range(n_class):    \n",
    "    fpr[i], tpr[i], thresh[i] = roc_curve(y_test, prediction_cplx[:,i], pos_label=i)\n",
    "\n",
    "#y_score = classifier.fit(X_train, y_train).decision_function(X_test)\n",
    "# Compute micro-average ROC curve and ROC area\n",
    "#fpr[\"micro\"], tpr[\"micro\"], _ = roc_curve(y_test.ravel(), y_score.ravel())\n",
    "#roc_auc[\"micro\"] = auc(fpr[\"micro\"], tpr[\"micro\"])  \n",
    "\n",
    "\n",
    "\n",
    "    \n",
    "# plotting\n",
    "plt.figure(figsize=(8, 6))\n",
    "plt.plot(fpr[0], tpr[0], linestyle='--',color='steelblue')#, label='No Heart Disease 0'\n",
    "plt.plot(fpr[1], tpr[1], linestyle='--',color='red')#, label='Heart Disease 1'\n",
    "plt.plot([0,1],[0,1],color=\"black\",linestyle=\"--\")\n",
    "#plt.plot(fpr[2], tpr[2], linestyle='--',color='blue', label='Class 2 vs Rest')\n",
    "#plt.plot(fpr[3], tpr[3], linestyle='--',color='red', label='Class 3 vs Rest')\n",
    "#plt.plot(fpr[4], tpr[4], linestyle='--',color='black', label='Class 4 vs Rest')\n",
    "#plt.plot(fpr[5], tpr[5], linestyle='--',color='purple', label='Class 5 vs Rest')\n",
    "#plt.plot(fpr[6], tpr[6], linestyle='--',color='yellow', label='Class 6 vs Rest')\n",
    "plt.title('ROC: Dummy Clssifier')\n",
    "plt.text(0.6,0.5,\"Baseline\")\n",
    "plt.xlabel('False Positive Rate')\n",
    "plt.ylabel('True Positive rate')\n",
    "plt.legend(loc='best')\n",
    "#plt.savefig('Dummy ROC',dpi=300); "
   ]
  },
  {
   "cell_type": "markdown",
   "id": "0dd44900",
   "metadata": {},
   "source": [
    "### AUC Score"
   ]
  },
  {
   "cell_type": "code",
   "execution_count": 25,
   "id": "83af5788",
   "metadata": {},
   "outputs": [
    {
     "name": "stdout",
     "output_type": "stream",
     "text": [
      "Dummy AUC Score: 0.5118\n"
     ]
    }
   ],
   "source": [
    "# AUC score\n",
    "\n",
    "#from sklearn.metrics import roc_auc_score\n",
    "dummy_auc_score = roc_auc_score(y_test, prediction_cplx[:,i]).round(4)\n",
    "\n",
    "print('Dummy AUC Score:',dummy_auc_score)"
   ]
  },
  {
   "cell_type": "markdown",
   "id": "30045717",
   "metadata": {},
   "source": [
    "## Logistic Regression"
   ]
  },
  {
   "cell_type": "code",
   "execution_count": 26,
   "id": "b6d6151d",
   "metadata": {
    "scrolled": false
   },
   "outputs": [
    {
     "name": "stdout",
     "output_type": "stream",
     "text": [
      "MCC on train: 0.669\n",
      "MCC on test: 0.826\n",
      "\n",
      "F1 on train: 0.834\n",
      "F1 on test: 0.913\n",
      "\n",
      "Accuracy on train: 0.835\n",
      "Accuracy on test: 0.916\n",
      "\n",
      "Confusion Matrix:\n",
      "[[43  4]\n",
      " [ 6 66]]\n",
      "\n",
      "Logistic Regression Model Parameters\n"
     ]
    },
    {
     "data": {
      "text/plain": [
       "{'C': 1.0,\n",
       " 'class_weight': None,\n",
       " 'dual': False,\n",
       " 'fit_intercept': True,\n",
       " 'intercept_scaling': 1,\n",
       " 'l1_ratio': None,\n",
       " 'max_iter': 100,\n",
       " 'multi_class': 'auto',\n",
       " 'n_jobs': -1,\n",
       " 'penalty': 'l2',\n",
       " 'random_state': 42,\n",
       " 'solver': 'lbfgs',\n",
       " 'tol': 0.0001,\n",
       " 'verbose': 0,\n",
       " 'warm_start': False}"
      ]
     },
     "execution_count": 26,
     "metadata": {},
     "output_type": "execute_result"
    }
   ],
   "source": [
    "\n",
    "from sklearn.linear_model import LogisticRegression\n",
    "from sklearn.metrics import accuracy_score,f1_score\n",
    "\n",
    "lr = LogisticRegression(n_jobs=-1, solver='lbfgs',random_state=42,multi_class='auto').fit(X_train,y_train)\n",
    "\n",
    "pred_lr= lr.predict(X_test)\n",
    "pred2_lr= lr.predict(X_train)\n",
    "\n",
    "# Matthews correlation, f1 score and accuracy\n",
    "\n",
    "lr_mcc_train = matthews_corrcoef(y_train, pred2_lr)\n",
    "print('MCC on train:',lr_mcc_train.round(3))\n",
    "lr_mcc_test = matthews_corrcoef(y_test,pred_lr)\n",
    "print('MCC on test:',lr_mcc_test.round(3))\n",
    "\n",
    "print()\n",
    "lr_f1_train = f1_score(y_train,pred2_lr,average='macro')\n",
    "print('F1 on train:',lr_f1_train.round(3))\n",
    "lr_f1_test = f1_score(y_test, pred_lr, average='macro')\n",
    "print('F1 on test:',lr_f1_test.round(3))\n",
    "\n",
    "print()\n",
    "\n",
    "lr_acc_train = accuracy_score(y_train, pred2_lr)\n",
    "lr_acc_test = accuracy_score(y_test,pred_lr)\n",
    "\n",
    "print('Accuracy on train:',lr_acc_train.round(3))\n",
    "print('Accuracy on test:',lr_acc_test.round(3))\n",
    "\n",
    "#print(\"Accuracy on train: {:.3f}\".format(accuracy_score(y_train,pred2_lr)))\n",
    "#print(\"Accuracy on test: {:.3f}\".format(accuracy_score(y_test,pred_lr)))\n",
    "print()\n",
    "print('Confusion Matrix:\\n{}'.format(confusion_matrix(y_test,pred_lr)))\n",
    "print()\n",
    "print('Logistic Regression Model Parameters')\n",
    "lr.get_params()"
   ]
  },
  {
   "cell_type": "code",
   "execution_count": 27,
   "id": "c97d1f35",
   "metadata": {},
   "outputs": [
    {
     "name": "stdout",
     "output_type": "stream",
     "text": [
      "83.38% accuracy with a standard deviation of 3.20%\n"
     ]
    }
   ],
   "source": [
    "# Cross Validation\n",
    "\n",
    "scores=cross_val_score(lr,X_train,y_train,cv=10,n_jobs=-1)\n",
    "print(\"%0.2f%% accuracy with a standard deviation of %0.2f%%\" % (scores.mean()*100, scores.std()*100))"
   ]
  },
  {
   "cell_type": "code",
   "execution_count": 28,
   "id": "9666f890",
   "metadata": {},
   "outputs": [
    {
     "name": "stdout",
     "output_type": "stream",
     "text": [
      "lr:               precision    recall  f1-score   support\n",
      "\n",
      "           0       0.88      0.91      0.90        47\n",
      "           1       0.94      0.92      0.93        72\n",
      "\n",
      "    accuracy                           0.92       119\n",
      "   macro avg       0.91      0.92      0.91       119\n",
      "weighted avg       0.92      0.92      0.92       119\n",
      "\n"
     ]
    }
   ],
   "source": [
    "print(\"lr:\",classification_report(y_test, pred_lr))"
   ]
  },
  {
   "cell_type": "code",
   "execution_count": 29,
   "id": "f5072e62",
   "metadata": {
    "scrolled": false
   },
   "outputs": [
    {
     "data": {
      "text/plain": [
       "Text(0.5, 16.0, 'Predicted Class')"
      ]
     },
     "execution_count": 29,
     "metadata": {},
     "output_type": "execute_result"
    },
    {
     "data": {
      "image/png": "[encoded data removed]",
      "text/plain": [
       "<Figure size 432x288 with 2 Axes>"
      ]
     },
     "metadata": {
      "needs_background": "light"
     },
     "output_type": "display_data"
    }
   ],
   "source": [
    "cm = confusion_matrix(y_test,pred_lr)\n",
    "#sns.heatmap(cm, annot=True)\n",
    "sns.heatmap(cm, annot=True, fmt='g', vmin=0, cbar=True, cmap='icefire') #removed 'crest_r'\n",
    "plt.ylabel('True Class')\n",
    "plt.xlabel('Predicted Class')"
   ]
  },
  {
   "cell_type": "markdown",
   "id": "082ebf03",
   "metadata": {},
   "source": [
    "### Performance Metrics"
   ]
  },
  {
   "cell_type": "code",
   "execution_count": 30,
   "id": "e0538938",
   "metadata": {
    "scrolled": false
   },
   "outputs": [
    {
     "name": "stdout",
     "output_type": "stream",
     "text": [
      "Class: {0: 'No Heart Disease', 1: 'Heart Disease'}\n",
      "Specificity: [0.91666667 0.91489362]\n",
      "Specificity Mean: 0.9157801418439716\n",
      "\n",
      "Class: {0: 'No Heart Disease', 1: 'Heart Disease'}\n",
      "Recall/Sensitivity: [0.91489362 0.91666667]\n",
      "Recall/Sensitivity Mean: 0.9157801418439716\n",
      "\n",
      "Class: {0: 'No Heart Disease', 1: 'Heart Disease'}\n",
      "Precision: [0.87755102 0.94285714]\n",
      "Precision Mean: 0.9102040816326531\n",
      "\n",
      "Class: {0: 'No Heart Disease', 1: 'Heart Disease'}\n",
      "False Positive Rate: [0.08333333 0.08510638]\n",
      "False Positive Rate Mean: 0.08421985815602837\n",
      "\n",
      "Class: {0: 'No Heart Disease', 1: 'Heart Disease'}\n",
      "False Negative Rate: [0.08510638 0.08333333]\n",
      "False Negative Rate Mean: 0.08421985815602837\n",
      "\n",
      "Class: {0: 'No Heart Disease', 1: 'Heart Disease'}\n",
      "False Discovery Rate: [0.12244898 0.05714286]\n",
      "False Discovery Rate Mean: 0.08979591836734693\n"
     ]
    }
   ],
   "source": [
    "#Performance metrics from confusion matrix \n",
    "\n",
    "FP = cm.sum(axis=0) - np.diag(cm) \n",
    "FN = cm.sum(axis=1) - np.diag(cm)\n",
    "TP = np.diag(cm)\n",
    "TN = cm.sum() - (FP + FN + TP)\n",
    "\n",
    "FP = FP.astype(float)\n",
    "FN = FN.astype(float)\n",
    "TP = TP.astype(float)\n",
    "TN = TN.astype(float)\n",
    "\n",
    "# Sensitivity, hit rate, Recall, or true positive rate\n",
    "TPR = TP/(TP+FN)\n",
    "\n",
    "# Specificity or true negative rate\n",
    "TNR = TN/(TN+FP) \n",
    "\n",
    "# Precision or positive predictive value\n",
    "PPV = TP/(TP+FP)\n",
    "\n",
    "# Negative predictive value\n",
    "NPV = TN/(TN+FN)\n",
    "\n",
    "# Fall out or false positive rate\n",
    "FPR = FP/(FP+TN)\n",
    "\n",
    "# False negative rate\n",
    "FNR = FN/(TP+FN)\n",
    "\n",
    "# False discovery rate\n",
    "FDR = FP/(TP+FP)\n",
    "\n",
    "\n",
    "print('Class:',class_label)\n",
    "\n",
    "print('Specificity:',TNR)\n",
    "print('Specificity Mean:',TNR.mean())\n",
    "\n",
    "print()\n",
    "\n",
    "print('Class:',class_label)\n",
    "\n",
    "print('Recall/Sensitivity:',TPR)\n",
    "print('Recall/Sensitivity Mean:',TPR.mean())\n",
    "\n",
    "print()\n",
    "\n",
    "print('Class:',class_label)\n",
    "\n",
    "print('Precision:',PPV)\n",
    "print('Precision Mean:',PPV.mean())\n",
    "\n",
    "print()\n",
    "\n",
    "print('Class:',class_label)\n",
    "\n",
    "print('False Positive Rate:',FPR)\n",
    "print('False Positive Rate Mean:',FPR.mean())\n",
    "\n",
    "print()\n",
    "\n",
    "print('Class:',class_label)\n",
    "\n",
    "print('False Negative Rate:',FNR)\n",
    "print('False Negative Rate Mean:',FNR.mean())\n",
    "\n",
    "print()\n",
    "\n",
    "print('Class:',class_label)\n",
    "\n",
    "print('False Discovery Rate:',FDR)\n",
    "print('False Discovery Rate Mean:',FDR.mean())"
   ]
  },
  {
   "cell_type": "markdown",
   "id": "9665f297",
   "metadata": {},
   "source": [
    "### ROC Plot"
   ]
  },
  {
   "cell_type": "code",
   "execution_count": 31,
   "id": "d0479ea6",
   "metadata": {
    "scrolled": false
   },
   "outputs": [
    {
     "data": {
      "text/plain": [
       "<matplotlib.legend.Legend at 0x19566b39c70>"
      ]
     },
     "execution_count": 31,
     "metadata": {},
     "output_type": "execute_result"
    },
    {
     "data": {
      "image/png": "[encoded data removed]",
      "text/plain": [
       "<Figure size 576x432 with 1 Axes>"
      ]
     },
     "metadata": {
      "needs_background": "light"
     },
     "output_type": "display_data"
    }
   ],
   "source": [
    "#ROC Plot\n",
    "#from sklearn.multiclass import OneVsRestClassifier\n",
    "from sklearn.metrics import roc_curve\n",
    "from sklearn.metrics import roc_auc_score\n",
    "\n",
    "prediction_cplx = lr.predict_proba(X_test)\n",
    "\n",
    "# roc curve for classes\n",
    "fpr = {}\n",
    "tpr = {}\n",
    "thresh ={}\n",
    "\n",
    "n_class = 2\n",
    "\n",
    "for i in range(n_class):    \n",
    "    fpr[i], tpr[i], thresh[i] = roc_curve(y_test, prediction_cplx[:,i], pos_label=i)\n",
    "\n",
    "#y_score = classifier.fit(X_train, y_train).decision_function(X_test)\n",
    "# Compute micro-average ROC curve and ROC area\n",
    "#fpr[\"micro\"], tpr[\"micro\"], _ = roc_curve(y_test.ravel(), y_score.ravel())\n",
    "#roc_auc[\"micro\"] = auc(fpr[\"micro\"], tpr[\"micro\"])  \n",
    "\n",
    "\n",
    "\n",
    "    \n",
    "# plotting\n",
    "plt.figure(figsize=(8, 6))\n",
    "plt.plot(fpr[0], tpr[0], linestyle='--',color='steelblue', label='No Heart Disease 0')\n",
    "plt.plot(fpr[1], tpr[1], linestyle='--',color='red', label='Heart Disease 1')\n",
    "plt.plot([0,1],[0,1],color=\"black\",linestyle=\"--\")\n",
    "#plt.plot(fpr[2], tpr[2], linestyle='--',color='blue', label='Class 2 vs Rest')\n",
    "#plt.plot(fpr[3], tpr[3], linestyle='--',color='red', label='Class 3 vs Rest')\n",
    "#plt.plot(fpr[4], tpr[4], linestyle='--',color='black', label='Class 4 vs Rest')\n",
    "#plt.plot(fpr[5], tpr[5], linestyle='--',color='purple', label='Class 5 vs Rest')\n",
    "#plt.plot(fpr[6], tpr[6], linestyle='--',color='yellow', label='Class 6 vs Rest')\n",
    "plt.title('ROC: Logistic Regression')\n",
    "plt.text(0.6,0.5,\"Baseline\")\n",
    "plt.xlabel('False Positive Rate')\n",
    "plt.ylabel('True Positive rate')\n",
    "plt.legend(loc='best')\n",
    "#plt.savefig('LR ROC',dpi=300); "
   ]
  },
  {
   "cell_type": "markdown",
   "id": "95c08b4d",
   "metadata": {},
   "source": [
    "### AUC Score"
   ]
  },
  {
   "cell_type": "code",
   "execution_count": 32,
   "id": "c121ceb7",
   "metadata": {},
   "outputs": [
    {
     "name": "stdout",
     "output_type": "stream",
     "text": [
      "Logistic Regression AUC Score: 0.9471\n"
     ]
    }
   ],
   "source": [
    "# AUC score\n",
    "\n",
    "#from sklearn.metrics import roc_auc_score\n",
    "lr_auc_score = roc_auc_score(y_test, prediction_cplx[:,i]).round(4)\n",
    "\n",
    "print('Logistic Regression AUC Score:',lr_auc_score)"
   ]
  },
  {
   "cell_type": "markdown",
   "id": "54ddfa60",
   "metadata": {},
   "source": [
    "## Predictions and Confidence Interval \n",
    "\n",
    "### Index of  incorrect predictions"
   ]
  },
  {
   "cell_type": "code",
   "execution_count": 33,
   "id": "7a983e4c",
   "metadata": {},
   "outputs": [
    {
     "data": {
      "text/plain": [
       "(array([ 11,  18,  26,  40,  42,  60,  63,  76,  97, 101], dtype=int64),)"
      ]
     },
     "execution_count": 33,
     "metadata": {},
     "output_type": "execute_result"
    }
   ],
   "source": [
    "# Incorrect predictions\n",
    "\n",
    "prediction_cplx = lr.predict(X_test)\n",
    "\n",
    "incorrects = np.nonzero(prediction_cplx.reshape((-1,)) != y_test)\n",
    "incorrects"
   ]
  },
  {
   "cell_type": "markdown",
   "id": "79de3251",
   "metadata": {},
   "source": [
    "### Classes and probabilities "
   ]
  },
  {
   "cell_type": "code",
   "execution_count": 34,
   "id": "7366aefe",
   "metadata": {
    "scrolled": true
   },
   "outputs": [
    {
     "data": {
      "text/html": [
       "<div>\n",
       "<style scoped>\n",
       "    .dataframe tbody tr th:only-of-type {\n",
       "        vertical-align: middle;\n",
       "    }\n",
       "\n",
       "    .dataframe tbody tr th {\n",
       "        vertical-align: top;\n",
       "    }\n",
       "\n",
       "    .dataframe thead th {\n",
       "        text-align: right;\n",
       "    }\n",
       "</style>\n",
       "<table border=\"1\" class=\"dataframe\">\n",
       "  <thead>\n",
       "    <tr style=\"text-align: right;\">\n",
       "      <th></th>\n",
       "      <th>No heart disease</th>\n",
       "      <th>Heart disease</th>\n",
       "      <th>Predicted class</th>\n",
       "    </tr>\n",
       "  </thead>\n",
       "  <tbody>\n",
       "    <tr>\n",
       "      <th>0</th>\n",
       "      <td>0.042</td>\n",
       "      <td>0.958</td>\n",
       "      <td>1</td>\n",
       "    </tr>\n",
       "    <tr>\n",
       "      <th>1</th>\n",
       "      <td>0.293</td>\n",
       "      <td>0.707</td>\n",
       "      <td>1</td>\n",
       "    </tr>\n",
       "    <tr>\n",
       "      <th>2</th>\n",
       "      <td>0.985</td>\n",
       "      <td>0.015</td>\n",
       "      <td>0</td>\n",
       "    </tr>\n",
       "    <tr>\n",
       "      <th>3</th>\n",
       "      <td>0.028</td>\n",
       "      <td>0.972</td>\n",
       "      <td>1</td>\n",
       "    </tr>\n",
       "    <tr>\n",
       "      <th>4</th>\n",
       "      <td>0.317</td>\n",
       "      <td>0.683</td>\n",
       "      <td>1</td>\n",
       "    </tr>\n",
       "    <tr>\n",
       "      <th>...</th>\n",
       "      <td>...</td>\n",
       "      <td>...</td>\n",
       "      <td>...</td>\n",
       "    </tr>\n",
       "    <tr>\n",
       "      <th>114</th>\n",
       "      <td>0.026</td>\n",
       "      <td>0.974</td>\n",
       "      <td>1</td>\n",
       "    </tr>\n",
       "    <tr>\n",
       "      <th>115</th>\n",
       "      <td>0.113</td>\n",
       "      <td>0.887</td>\n",
       "      <td>1</td>\n",
       "    </tr>\n",
       "    <tr>\n",
       "      <th>116</th>\n",
       "      <td>0.027</td>\n",
       "      <td>0.973</td>\n",
       "      <td>1</td>\n",
       "    </tr>\n",
       "    <tr>\n",
       "      <th>117</th>\n",
       "      <td>0.930</td>\n",
       "      <td>0.070</td>\n",
       "      <td>0</td>\n",
       "    </tr>\n",
       "    <tr>\n",
       "      <th>118</th>\n",
       "      <td>0.188</td>\n",
       "      <td>0.812</td>\n",
       "      <td>1</td>\n",
       "    </tr>\n",
       "  </tbody>\n",
       "</table>\n",
       "<p>119 rows × 3 columns</p>\n",
       "</div>"
      ],
      "text/plain": [
       "     No heart disease  Heart disease  Predicted class\n",
       "0               0.042          0.958                1\n",
       "1               0.293          0.707                1\n",
       "2               0.985          0.015                0\n",
       "3               0.028          0.972                1\n",
       "4               0.317          0.683                1\n",
       "..                ...            ...              ...\n",
       "114             0.026          0.974                1\n",
       "115             0.113          0.887                1\n",
       "116             0.027          0.973                1\n",
       "117             0.930          0.070                0\n",
       "118             0.188          0.812                1\n",
       "\n",
       "[119 rows x 3 columns]"
      ]
     },
     "execution_count": 34,
     "metadata": {},
     "output_type": "execute_result"
    }
   ],
   "source": [
    "# Classes and Probabilities\n",
    "\n",
    "prediction_probability = lr.predict_proba(X_test)\n",
    "prediction_cplx = lr.predict(X_test)\n",
    "\n",
    "class_df = pd.DataFrame(prediction_cplx.round(3),columns=['Predicted class'])\n",
    "proba_df = pd.DataFrame(prediction_probability.round(3),columns=['No heart disease','Heart disease'])\n",
    "\n",
    "\n",
    "predictions_df = pd.concat([proba_df,class_df ], axis=1)\n",
    "predictions_df"
   ]
  },
  {
   "cell_type": "markdown",
   "id": "a642e962",
   "metadata": {},
   "source": [
    "### Jaccard similarity coefficient"
   ]
  },
  {
   "cell_type": "code",
   "execution_count": 35,
   "id": "e9b4a880",
   "metadata": {},
   "outputs": [
    {
     "data": {
      "text/html": [
       "<div>\n",
       "<style scoped>\n",
       "    .dataframe tbody tr th:only-of-type {\n",
       "        vertical-align: middle;\n",
       "    }\n",
       "\n",
       "    .dataframe tbody tr th {\n",
       "        vertical-align: top;\n",
       "    }\n",
       "\n",
       "    .dataframe thead th {\n",
       "        text-align: right;\n",
       "    }\n",
       "</style>\n",
       "<table border=\"1\" class=\"dataframe\">\n",
       "  <thead>\n",
       "    <tr style=\"text-align: right;\">\n",
       "      <th></th>\n",
       "      <th>Jaccard score</th>\n",
       "    </tr>\n",
       "  </thead>\n",
       "  <tbody>\n",
       "    <tr>\n",
       "      <th>0</th>\n",
       "      <td>0.811321</td>\n",
       "    </tr>\n",
       "    <tr>\n",
       "      <th>1</th>\n",
       "      <td>0.868421</td>\n",
       "    </tr>\n",
       "  </tbody>\n",
       "</table>\n",
       "</div>"
      ],
      "text/plain": [
       "   Jaccard score\n",
       "0       0.811321\n",
       "1       0.868421"
      ]
     },
     "execution_count": 35,
     "metadata": {},
     "output_type": "execute_result"
    }
   ],
   "source": [
    "# Jaccard similarity coefficient\n",
    "# Predicted class compared with actual class\n",
    "\n",
    "\n",
    "jaccard = jaccard_score(y_test, prediction_cplx, average = None)\n",
    "\n",
    "jaccard_df = pd.DataFrame(jaccard,columns=['Jaccard score'])\n",
    "jaccard_df"
   ]
  },
  {
   "cell_type": "markdown",
   "id": "68cf8fd3",
   "metadata": {},
   "source": [
    "### Confidence interval\n",
    "\n",
    "The confidence interval is a likelihood over a range. The true model skill may lie outside of this range.\n",
    " \n",
    "**Commonly used number of standard deviations from the Gaussian distribution and their corresponding significance level are as follows:**\n",
    "\n",
    "* 1.64 (90%)\n",
    "* 1.96 (95%)\n",
    "* 2.33 (98%)\n",
    "* 2.58 (99%)\n",
    "\n",
    "#### Using model error"
   ]
  },
  {
   "cell_type": "code",
   "execution_count": 37,
   "id": "4a463f5e",
   "metadata": {},
   "outputs": [
    {
     "data": {
      "text/plain": [
       "(119, 19)"
      ]
     },
     "execution_count": 37,
     "metadata": {},
     "output_type": "execute_result"
    }
   ],
   "source": [
    "X_test.shape"
   ]
  },
  {
   "cell_type": "code",
   "execution_count": 43,
   "id": "7d705b21",
   "metadata": {},
   "outputs": [
    {
     "name": "stdout",
     "output_type": "stream",
     "text": [
      "Confidence interval radius:0.049\n"
     ]
    }
   ],
   "source": [
    "# 95% confidence interval (z = 1.96) See above\n",
    "\n",
    "# calculated radius of the confidence interval (error)\n",
    "\n",
    "# where: interval = z * sqrt( (error * (1 - error)) / n)\n",
    "\n",
    "interval = 1.96 * sqrt( (0.08 * (1 - 0.08)) / 119)\n",
    "print('Confidence interval radius:%.3f' % interval)"
   ]
  },
  {
   "cell_type": "markdown",
   "id": "7330ac81",
   "metadata": {},
   "source": [
    "* **The classification error of the model is 8%, +/- 5%**\n",
    "* **The true classification error of the model is likely between 3% and 13%**.\n",
    "\n",
    "* **The true model skill may lie outside of this range**.\n"
   ]
  },
  {
   "cell_type": "markdown",
   "id": "994e1668",
   "metadata": {},
   "source": [
    "### Upper and lower bounds of model classification accuracy"
   ]
  },
  {
   "cell_type": "code",
   "execution_count": 44,
   "id": "75bdaa18",
   "metadata": {},
   "outputs": [
    {
     "name": "stdout",
     "output_type": "stream",
     "text": [
      "Lower Bounds of Accuracy:0.866 \n",
      "Upper Bounds of Accuracy:0.966 \n"
     ]
    }
   ],
   "source": [
    "# Upper and lower bounds of model accuracy (95% confidence) using 53 correct predictions,\n",
    "# out of a dataset of 61 instances and 95% conficence interval\n",
    "\n",
    "# from statsmodels.stats.proportion import proportion_confint\n",
    "\n",
    "lower, upper = proportion_confint(109,119,0.05)\n",
    "\n",
    "print('Lower Bounds of Accuracy:%.3f ' % lower)\n",
    "print('Upper Bounds of Accuracy:%.3f ' %upper)"
   ]
  },
  {
   "cell_type": "markdown",
   "id": "fb0223a3",
   "metadata": {},
   "source": [
    "* **Using 95% confidence interval**\n",
    "* **The true classification accuracy of the logistic regression model is likely between 87% and 97%** \n"
   ]
  },
  {
   "cell_type": "markdown",
   "id": "de9e3fc7",
   "metadata": {},
   "source": [
    "## Decision Tree"
   ]
  },
  {
   "cell_type": "code",
   "execution_count": 38,
   "id": "8c4e104e",
   "metadata": {
    "scrolled": false
   },
   "outputs": [
    {
     "name": "stdout",
     "output_type": "stream",
     "text": [
      "MCC on train 0.817\n",
      "MCC on test 0.748\n",
      "\n",
      "F1 on train 0.908\n",
      "F1 on test 0.871\n",
      "\n",
      "Accuracy on train: 0.908\n",
      "Accuracy on test: 0.874\n",
      "\n",
      "Confusion Matrix:\n",
      "[[43  4]\n",
      " [11 61]]\n",
      "\n",
      "Decision Tree Model Parameters\n"
     ]
    },
    {
     "data": {
      "text/plain": [
       "{'ccp_alpha': 0.0,\n",
       " 'class_weight': None,\n",
       " 'criterion': 'gini',\n",
       " 'max_depth': 6,\n",
       " 'max_features': None,\n",
       " 'max_leaf_nodes': None,\n",
       " 'min_impurity_decrease': 0.0,\n",
       " 'min_impurity_split': None,\n",
       " 'min_samples_leaf': 1,\n",
       " 'min_samples_split': 2,\n",
       " 'min_weight_fraction_leaf': 0.0,\n",
       " 'random_state': 42,\n",
       " 'splitter': 'best'}"
      ]
     },
     "execution_count": 38,
     "metadata": {},
     "output_type": "execute_result"
    }
   ],
   "source": [
    "# Decision tree\n",
    "\n",
    "dt = DecisionTreeClassifier(max_depth=6,random_state=42).fit(X_train,y_train)\n",
    "pred_dt = dt.predict(X_test)\n",
    "pred2_dt = dt.predict(X_train)\n",
    "\n",
    "# Matthews correlation, f1 score and accuracy\n",
    "dt_mcc_train = matthews_corrcoef(y_train, pred2_dt)\n",
    "print('MCC on train',dt_mcc_train.round(3))\n",
    "dt_mcc_test = matthews_corrcoef(y_test,pred_dt)\n",
    "print('MCC on test',dt_mcc_test.round(3))\n",
    "\n",
    "print()\n",
    "\n",
    "dt_f1_train = f1_score(y_train,pred2_dt,average='macro')\n",
    "print('F1 on train',dt_f1_train.round(3))\n",
    "dt_f1_test = f1_score(y_test, pred_dt, average='macro')\n",
    "print('F1 on test',dt_f1_test.round(3))\n",
    "print()\n",
    "\n",
    "dt_acc_train = accuracy_score(y_train, pred2_dt)\n",
    "dt_acc_test = accuracy_score(y_test,pred_dt)\n",
    "\n",
    "print('Accuracy on train:',dt_acc_train.round(3))\n",
    "print('Accuracy on test:',dt_acc_test.round(3))\n",
    "\n",
    "\n",
    "#print(\"Accuracy on train: {:.3f}\".format(accuracy_score(y_train,pred2_dt)))\n",
    "#print(\"Accuracy on test: {:.3f}\".format(accuracy_score(y_test,pred_dt)))\n",
    "print()\n",
    "print('Confusion Matrix:\\n{}'.format(confusion_matrix(y_test,pred_dt)))\n",
    "print()\n",
    "print('Decision Tree Model Parameters')\n",
    "dt.get_params()"
   ]
  },
  {
   "cell_type": "code",
   "execution_count": 39,
   "id": "d6b96d6c",
   "metadata": {},
   "outputs": [
    {
     "name": "stdout",
     "output_type": "stream",
     "text": [
      "84.27% accuracy with a standard deviation of 2.53%\n"
     ]
    }
   ],
   "source": [
    "# Cross Validation\n",
    "\n",
    "scores=cross_val_score(dt,X_train,y_train,cv=10,n_jobs=-1,scoring='f1')\n",
    "print(\"%0.2f%% accuracy with a standard deviation of %0.2f%%\" % (scores.mean()*100, scores.std()*100))"
   ]
  },
  {
   "cell_type": "code",
   "execution_count": 40,
   "id": "d059805c",
   "metadata": {},
   "outputs": [
    {
     "name": "stdout",
     "output_type": "stream",
     "text": [
      "dt:               precision    recall  f1-score   support\n",
      "\n",
      "           0       0.80      0.91      0.85        47\n",
      "           1       0.94      0.85      0.89        72\n",
      "\n",
      "    accuracy                           0.87       119\n",
      "   macro avg       0.87      0.88      0.87       119\n",
      "weighted avg       0.88      0.87      0.88       119\n",
      "\n"
     ]
    }
   ],
   "source": [
    "print(\"dt:\",classification_report(y_test, pred_dt))"
   ]
  },
  {
   "cell_type": "code",
   "execution_count": 41,
   "id": "da849eff",
   "metadata": {
    "scrolled": true
   },
   "outputs": [
    {
     "data": {
      "text/plain": [
       "Text(0.5, 16.0, 'Predicted Class')"
      ]
     },
     "execution_count": 41,
     "metadata": {},
     "output_type": "execute_result"
    },
    {
     "data": {
      "image/png": "[encoded data removed]",
      "text/plain": [
       "<Figure size 432x288 with 2 Axes>"
      ]
     },
     "metadata": {
      "needs_background": "light"
     },
     "output_type": "display_data"
    }
   ],
   "source": [
    "cm = confusion_matrix(y_test,pred_dt)\n",
    "#sns.heatmap(cm, annot=True)\n",
    "sns.heatmap(cm, annot=True, fmt='g', vmin=0, cbar=True, cmap='twilight_r')\n",
    "plt.ylabel('True Class')\n",
    "plt.xlabel('Predicted Class')"
   ]
  },
  {
   "cell_type": "markdown",
   "id": "d6c8a88d",
   "metadata": {},
   "source": [
    "### Performance Metrics"
   ]
  },
  {
   "cell_type": "code",
   "execution_count": 42,
   "id": "019cd909",
   "metadata": {
    "scrolled": false
   },
   "outputs": [
    {
     "name": "stdout",
     "output_type": "stream",
     "text": [
      "Class: {0: 'No Heart Disease', 1: 'Heart Disease'}\n",
      "Specificity: [0.84722222 0.91489362]\n",
      "Specificity Mean: 0.8810579196217494\n",
      "\n",
      "Class: {0: 'No Heart Disease', 1: 'Heart Disease'}\n",
      "Recall/Sensitivity: [0.91489362 0.84722222]\n",
      "Recall/Sensitivity Mean: 0.8810579196217494\n",
      "\n",
      "Class: {0: 'No Heart Disease', 1: 'Heart Disease'}\n",
      "Precision: [0.7962963  0.93846154]\n",
      "Precision Mean: 0.8673789173789174\n",
      "\n",
      "Class: {0: 'No Heart Disease', 1: 'Heart Disease'}\n",
      "False Positive Rate: [0.15277778 0.08510638]\n",
      "False Positive Rate Mean: 0.1189420803782506\n",
      "\n",
      "Class: {0: 'No Heart Disease', 1: 'Heart Disease'}\n",
      "False Negative Rate: [0.08510638 0.15277778]\n",
      "False Negative Rate Mean: 0.1189420803782506\n",
      "\n",
      "Class: {0: 'No Heart Disease', 1: 'Heart Disease'}\n",
      "False Discovery Rate: [0.2037037  0.06153846]\n",
      "False Discovery Rate Mean: 0.13262108262108263\n"
     ]
    }
   ],
   "source": [
    "#Performance metrics from confusion matrix \n",
    "\n",
    "FP = cm.sum(axis=0) - np.diag(cm) \n",
    "FN = cm.sum(axis=1) - np.diag(cm)\n",
    "TP = np.diag(cm)\n",
    "TN = cm.sum() - (FP + FN + TP)\n",
    "\n",
    "FP = FP.astype(float)\n",
    "FN = FN.astype(float)\n",
    "TP = TP.astype(float)\n",
    "TN = TN.astype(float)\n",
    "\n",
    "# Sensitivity, hit rate, Recall, or true positive rate\n",
    "TPR = TP/(TP+FN)\n",
    "\n",
    "# Specificity or true negative rate\n",
    "TNR = TN/(TN+FP) \n",
    "\n",
    "# Precision or positive predictive value\n",
    "PPV = TP/(TP+FP)\n",
    "\n",
    "# Negative predictive value\n",
    "NPV = TN/(TN+FN)\n",
    "\n",
    "# Fall out or false positive rate\n",
    "FPR = FP/(FP+TN)\n",
    "\n",
    "# False negative rate\n",
    "FNR = FN/(TP+FN)\n",
    "\n",
    "# False discovery rate\n",
    "FDR = FP/(TP+FP)\n",
    "\n",
    "\n",
    "print('Class:',class_label)\n",
    "\n",
    "print('Specificity:',TNR)\n",
    "print('Specificity Mean:',TNR.mean())\n",
    "\n",
    "print()\n",
    "\n",
    "print('Class:',class_label)\n",
    "\n",
    "print('Recall/Sensitivity:',TPR)\n",
    "print('Recall/Sensitivity Mean:',TPR.mean())\n",
    "\n",
    "print()\n",
    "\n",
    "print('Class:',class_label)\n",
    "\n",
    "print('Precision:',PPV)\n",
    "print('Precision Mean:',PPV.mean())\n",
    "\n",
    "print()\n",
    "\n",
    "print('Class:',class_label)\n",
    "\n",
    "print('False Positive Rate:',FPR)\n",
    "print('False Positive Rate Mean:',FPR.mean())\n",
    "\n",
    "print()\n",
    "\n",
    "print('Class:',class_label)\n",
    "\n",
    "print('False Negative Rate:',FNR)\n",
    "print('False Negative Rate Mean:',FNR.mean())\n",
    "\n",
    "print()\n",
    "\n",
    "print('Class:',class_label)\n",
    "\n",
    "print('False Discovery Rate:',FDR)\n",
    "print('False Discovery Rate Mean:',FDR.mean())"
   ]
  },
  {
   "cell_type": "markdown",
   "id": "23d3fa01",
   "metadata": {},
   "source": [
    "### ROC Plot"
   ]
  },
  {
   "cell_type": "code",
   "execution_count": 43,
   "id": "58aebd24",
   "metadata": {},
   "outputs": [
    {
     "data": {
      "text/plain": [
       "<matplotlib.legend.Legend at 0x19567c3fe20>"
      ]
     },
     "execution_count": 43,
     "metadata": {},
     "output_type": "execute_result"
    },
    {
     "data": {
      "image/png": "[encoded data removed]",
      "text/plain": [
       "<Figure size 576x432 with 1 Axes>"
      ]
     },
     "metadata": {
      "needs_background": "light"
     },
     "output_type": "display_data"
    }
   ],
   "source": [
    "#ROC Plot\n",
    "#from sklearn.multiclass import OneVsRestClassifier\n",
    "from sklearn.metrics import roc_curve\n",
    "from sklearn.metrics import roc_auc_score\n",
    "\n",
    "prediction_cplx = dt.predict_proba(X_test)\n",
    "\n",
    "# roc curve for classes\n",
    "fpr = {}\n",
    "tpr = {}\n",
    "thresh ={}\n",
    "\n",
    "n_class = 2\n",
    "\n",
    "for i in range(n_class):    \n",
    "    fpr[i], tpr[i], thresh[i] = roc_curve(y_test, prediction_cplx[:,i], pos_label=i)\n",
    "\n",
    "#y_score = classifier.fit(X_train, y_train).decision_function(X_test)\n",
    "# Compute micro-average ROC curve and ROC area\n",
    "#fpr[\"micro\"], tpr[\"micro\"], _ = roc_curve(y_test.ravel(), y_score.ravel())\n",
    "#roc_auc[\"micro\"] = auc(fpr[\"micro\"], tpr[\"micro\"])  \n",
    "\n",
    "\n",
    "\n",
    "    \n",
    "# plotting\n",
    "plt.figure(figsize=(8, 6))\n",
    "plt.plot(fpr[0], tpr[0], linestyle='--',color='steelblue', label='No Heart Disease 0')\n",
    "plt.plot(fpr[1], tpr[1], linestyle='--',color='red', label='Heart Disease 1')\n",
    "plt.plot([0,1],[0,1],color=\"black\",linestyle=\"--\")\n",
    "#plt.plot(fpr[2], tpr[2], linestyle='--',color='blue', label='Class 2 vs Rest')\n",
    "#plt.plot(fpr[3], tpr[3], linestyle='--',color='red', label='Class 3 vs Rest')\n",
    "#plt.plot(fpr[4], tpr[4], linestyle='--',color='black', label='Class 4 vs Rest')\n",
    "#plt.plot(fpr[5], tpr[5], linestyle='--',color='purple', label='Class 5 vs Rest')\n",
    "#plt.plot(fpr[6], tpr[6], linestyle='--',color='yellow', label='Class 6 vs Rest')\n",
    "plt.title('ROC: Decision Tree')\n",
    "plt.text(0.6,0.5,\"Baseline\")\n",
    "plt.xlabel('False Positive Rate')\n",
    "plt.ylabel('True Positive rate')\n",
    "plt.legend(loc='best')\n",
    "#plt.savefig('DT ROC',dpi=300); "
   ]
  },
  {
   "cell_type": "markdown",
   "id": "6c314df8",
   "metadata": {},
   "source": [
    "###  AUC Score"
   ]
  },
  {
   "cell_type": "code",
   "execution_count": 44,
   "id": "b9346cc1",
   "metadata": {},
   "outputs": [
    {
     "name": "stdout",
     "output_type": "stream",
     "text": [
      "Logistic Regression AUC Score: 0.9332\n"
     ]
    }
   ],
   "source": [
    "# AUC score\n",
    "\n",
    "#from sklearn.metrics import roc_auc_score\n",
    "dt_auc_score = roc_auc_score(y_test, prediction_cplx[:,i]).round(4)\n",
    "\n",
    "print('Logistic Regression AUC Score:',dt_auc_score)"
   ]
  },
  {
   "cell_type": "markdown",
   "id": "218005a9",
   "metadata": {},
   "source": [
    "## Predictions and Confidence Interval "
   ]
  },
  {
   "cell_type": "markdown",
   "id": "6aa9c64e",
   "metadata": {},
   "source": [
    "### Index of  incorrect predictions"
   ]
  },
  {
   "cell_type": "code",
   "execution_count": 45,
   "id": "9674e977",
   "metadata": {},
   "outputs": [
    {
     "data": {
      "text/plain": [
       "(array([  1,   7,  11,  17,  18,  22,  31,  60,  64,  76,  97,  99, 101,\n",
       "        104, 106], dtype=int64),)"
      ]
     },
     "execution_count": 45,
     "metadata": {},
     "output_type": "execute_result"
    }
   ],
   "source": [
    "# Incorrect predictions\n",
    "\n",
    "prediction_cplx = dt.predict(X_test)\n",
    "\n",
    "incorrects = np.nonzero(prediction_cplx.reshape((-1,)) != y_test)\n",
    "incorrects"
   ]
  },
  {
   "cell_type": "markdown",
   "id": "8d176bb3",
   "metadata": {},
   "source": [
    "### Classes and probabilities "
   ]
  },
  {
   "cell_type": "code",
   "execution_count": 46,
   "id": "b8d18b7a",
   "metadata": {
    "scrolled": true
   },
   "outputs": [
    {
     "data": {
      "text/html": [
       "<div>\n",
       "<style scoped>\n",
       "    .dataframe tbody tr th:only-of-type {\n",
       "        vertical-align: middle;\n",
       "    }\n",
       "\n",
       "    .dataframe tbody tr th {\n",
       "        vertical-align: top;\n",
       "    }\n",
       "\n",
       "    .dataframe thead th {\n",
       "        text-align: right;\n",
       "    }\n",
       "</style>\n",
       "<table border=\"1\" class=\"dataframe\">\n",
       "  <thead>\n",
       "    <tr style=\"text-align: right;\">\n",
       "      <th></th>\n",
       "      <th>No heart disease</th>\n",
       "      <th>Heart disease</th>\n",
       "      <th>Predicted class</th>\n",
       "    </tr>\n",
       "  </thead>\n",
       "  <tbody>\n",
       "    <tr>\n",
       "      <th>0</th>\n",
       "      <td>0.042</td>\n",
       "      <td>0.958</td>\n",
       "      <td>1</td>\n",
       "    </tr>\n",
       "    <tr>\n",
       "      <th>1</th>\n",
       "      <td>0.543</td>\n",
       "      <td>0.457</td>\n",
       "      <td>0</td>\n",
       "    </tr>\n",
       "    <tr>\n",
       "      <th>2</th>\n",
       "      <td>1.000</td>\n",
       "      <td>0.000</td>\n",
       "      <td>0</td>\n",
       "    </tr>\n",
       "    <tr>\n",
       "      <th>3</th>\n",
       "      <td>0.000</td>\n",
       "      <td>1.000</td>\n",
       "      <td>1</td>\n",
       "    </tr>\n",
       "    <tr>\n",
       "      <th>4</th>\n",
       "      <td>0.000</td>\n",
       "      <td>1.000</td>\n",
       "      <td>1</td>\n",
       "    </tr>\n",
       "    <tr>\n",
       "      <th>...</th>\n",
       "      <td>...</td>\n",
       "      <td>...</td>\n",
       "      <td>...</td>\n",
       "    </tr>\n",
       "    <tr>\n",
       "      <th>114</th>\n",
       "      <td>0.042</td>\n",
       "      <td>0.958</td>\n",
       "      <td>1</td>\n",
       "    </tr>\n",
       "    <tr>\n",
       "      <th>115</th>\n",
       "      <td>0.042</td>\n",
       "      <td>0.958</td>\n",
       "      <td>1</td>\n",
       "    </tr>\n",
       "    <tr>\n",
       "      <th>116</th>\n",
       "      <td>0.042</td>\n",
       "      <td>0.958</td>\n",
       "      <td>1</td>\n",
       "    </tr>\n",
       "    <tr>\n",
       "      <th>117</th>\n",
       "      <td>1.000</td>\n",
       "      <td>0.000</td>\n",
       "      <td>0</td>\n",
       "    </tr>\n",
       "    <tr>\n",
       "      <th>118</th>\n",
       "      <td>0.105</td>\n",
       "      <td>0.895</td>\n",
       "      <td>1</td>\n",
       "    </tr>\n",
       "  </tbody>\n",
       "</table>\n",
       "<p>119 rows × 3 columns</p>\n",
       "</div>"
      ],
      "text/plain": [
       "     No heart disease  Heart disease  Predicted class\n",
       "0               0.042          0.958                1\n",
       "1               0.543          0.457                0\n",
       "2               1.000          0.000                0\n",
       "3               0.000          1.000                1\n",
       "4               0.000          1.000                1\n",
       "..                ...            ...              ...\n",
       "114             0.042          0.958                1\n",
       "115             0.042          0.958                1\n",
       "116             0.042          0.958                1\n",
       "117             1.000          0.000                0\n",
       "118             0.105          0.895                1\n",
       "\n",
       "[119 rows x 3 columns]"
      ]
     },
     "execution_count": 46,
     "metadata": {},
     "output_type": "execute_result"
    }
   ],
   "source": [
    "# Classes and Probabilities\n",
    "\n",
    "prediction_probability = dt.predict_proba(X_test)\n",
    "prediction_cplx = dt.predict(X_test)\n",
    "\n",
    "class_df = pd.DataFrame(prediction_cplx.round(3),columns=['Predicted class'])\n",
    "proba_df = pd.DataFrame(prediction_probability.round(3),columns=['No heart disease','Heart disease'])\n",
    "\n",
    "\n",
    "predictions_df = pd.concat([proba_df,class_df ], axis=1)\n",
    "predictions_df"
   ]
  },
  {
   "cell_type": "markdown",
   "id": "93ed7b59",
   "metadata": {},
   "source": [
    "### Jaccard similarity coefficient"
   ]
  },
  {
   "cell_type": "code",
   "execution_count": 47,
   "id": "046cec79",
   "metadata": {},
   "outputs": [
    {
     "data": {
      "text/html": [
       "<div>\n",
       "<style scoped>\n",
       "    .dataframe tbody tr th:only-of-type {\n",
       "        vertical-align: middle;\n",
       "    }\n",
       "\n",
       "    .dataframe tbody tr th {\n",
       "        vertical-align: top;\n",
       "    }\n",
       "\n",
       "    .dataframe thead th {\n",
       "        text-align: right;\n",
       "    }\n",
       "</style>\n",
       "<table border=\"1\" class=\"dataframe\">\n",
       "  <thead>\n",
       "    <tr style=\"text-align: right;\">\n",
       "      <th></th>\n",
       "      <th>Jaccard score</th>\n",
       "    </tr>\n",
       "  </thead>\n",
       "  <tbody>\n",
       "    <tr>\n",
       "      <th>0</th>\n",
       "      <td>0.741379</td>\n",
       "    </tr>\n",
       "    <tr>\n",
       "      <th>1</th>\n",
       "      <td>0.802632</td>\n",
       "    </tr>\n",
       "  </tbody>\n",
       "</table>\n",
       "</div>"
      ],
      "text/plain": [
       "   Jaccard score\n",
       "0       0.741379\n",
       "1       0.802632"
      ]
     },
     "execution_count": 47,
     "metadata": {},
     "output_type": "execute_result"
    }
   ],
   "source": [
    "# Jaccard similarity coefficient\n",
    "# Predicted class compared with actual class\n",
    "\n",
    "\n",
    "jaccard = jaccard_score(y_test, prediction_cplx, average = None)\n",
    "\n",
    "jaccard_df = pd.DataFrame(jaccard,columns=['Jaccard score'])\n",
    "jaccard_df"
   ]
  },
  {
   "cell_type": "markdown",
   "id": "1bab0815",
   "metadata": {},
   "source": [
    "### Confidence interval\n",
    "\n",
    "The confidence interval is a likelihood over a range. The true model skill may lie outside of this range.\n",
    " \n",
    "**Commonly used number of standard deviations from the Gaussian distribution and their corresponding significance level are as follows:**\n",
    "\n",
    "* 1.64 (90%)\n",
    "* 1.96 (95%)\n",
    "* 2.33 (98%)\n",
    "* 2.58 (99%)\n",
    "\n",
    "#### Using model error"
   ]
  },
  {
   "cell_type": "code",
   "execution_count": 55,
   "id": "7d13d53a",
   "metadata": {},
   "outputs": [
    {
     "name": "stdout",
     "output_type": "stream",
     "text": [
      "Confidence interval radius:0.060\n"
     ]
    }
   ],
   "source": [
    "# 95% confidence interval (z = 1.96) See above\n",
    "\n",
    "# calculated radius of the confidence interval (error)\n",
    "\n",
    "# where: interval = z * sqrt( (error * (1 - error)) / n)\n",
    "\n",
    "interval = 1.96 * sqrt( (0.13 * (1 - 0.13)) / 119)\n",
    "print('Confidence interval radius:%.3f' % interval)"
   ]
  },
  {
   "cell_type": "markdown",
   "id": "197f7661",
   "metadata": {},
   "source": [
    "* **The classification error of the model is 13%, +/- 6%**\n",
    "* **The true classification error of the model is likely between 7% and 19%**. \n",
    "\n",
    "* **True model skill may lie outside of this range**."
   ]
  },
  {
   "cell_type": "markdown",
   "id": "278b19f8",
   "metadata": {},
   "source": [
    "### Upper and lower bounds of model classification accuracy"
   ]
  },
  {
   "cell_type": "code",
   "execution_count": 56,
   "id": "ab6f63f2",
   "metadata": {},
   "outputs": [
    {
     "name": "stdout",
     "output_type": "stream",
     "text": [
      "Lower Bounds of Accuracy:0.814 \n",
      "Upper Bounds of Accuracy:0.934 \n"
     ]
    }
   ],
   "source": [
    "# Upper and lower bounds of model accuracy (95% confidence) using 26 correct predictions,\n",
    "# out of a dataset of 33 instances and 95% conficence interval\n",
    "\n",
    "# from statsmodels.stats.proportion import proportion_confint\n",
    "\n",
    "lower, upper = proportion_confint(104, 119, 0.05)\n",
    "\n",
    "print('Lower Bounds of Accuracy:%.3f ' % lower)\n",
    "print('Upper Bounds of Accuracy:%.3f ' %upper)"
   ]
  },
  {
   "cell_type": "markdown",
   "id": "7951613d",
   "metadata": {},
   "source": [
    " \n",
    "  \n",
    "* **The true classification accuracy of the model is likely between 81% and 93%**.\n",
    "\n",
    "* **True model skill may lie outside of this range**. "
   ]
  },
  {
   "cell_type": "markdown",
   "id": "d0c9d6c1",
   "metadata": {},
   "source": [
    "## Feature Importances"
   ]
  },
  {
   "cell_type": "code",
   "execution_count": 48,
   "id": "f4003385",
   "metadata": {},
   "outputs": [
    {
     "data": {
      "text/html": [
       "<div>\n",
       "<style scoped>\n",
       "    .dataframe tbody tr th:only-of-type {\n",
       "        vertical-align: middle;\n",
       "    }\n",
       "\n",
       "    .dataframe tbody tr th {\n",
       "        vertical-align: top;\n",
       "    }\n",
       "\n",
       "    .dataframe thead th {\n",
       "        text-align: right;\n",
       "    }\n",
       "</style>\n",
       "<table border=\"1\" class=\"dataframe\">\n",
       "  <thead>\n",
       "    <tr style=\"text-align: right;\">\n",
       "      <th></th>\n",
       "      <th>Features</th>\n",
       "      <th>Importances</th>\n",
       "    </tr>\n",
       "  </thead>\n",
       "  <tbody>\n",
       "    <tr>\n",
       "      <th>16</th>\n",
       "      <td>SLP_1</td>\n",
       "      <td>0.426752</td>\n",
       "    </tr>\n",
       "    <tr>\n",
       "      <th>11</th>\n",
       "      <td>CPType_4</td>\n",
       "      <td>0.164137</td>\n",
       "    </tr>\n",
       "    <tr>\n",
       "      <th>7</th>\n",
       "      <td>oldpeak</td>\n",
       "      <td>0.091958</td>\n",
       "    </tr>\n",
       "    <tr>\n",
       "      <th>5</th>\n",
       "      <td>max heart rate</td>\n",
       "      <td>0.089470</td>\n",
       "    </tr>\n",
       "    <tr>\n",
       "      <th>1</th>\n",
       "      <td>sex</td>\n",
       "      <td>0.065971</td>\n",
       "    </tr>\n",
       "    <tr>\n",
       "      <th>3</th>\n",
       "      <td>cholesterol</td>\n",
       "      <td>0.041038</td>\n",
       "    </tr>\n",
       "    <tr>\n",
       "      <th>2</th>\n",
       "      <td>resting bp s</td>\n",
       "      <td>0.037458</td>\n",
       "    </tr>\n",
       "    <tr>\n",
       "      <th>0</th>\n",
       "      <td>age</td>\n",
       "      <td>0.036541</td>\n",
       "    </tr>\n",
       "    <tr>\n",
       "      <th>4</th>\n",
       "      <td>fasting blood sugar</td>\n",
       "      <td>0.016754</td>\n",
       "    </tr>\n",
       "    <tr>\n",
       "      <th>18</th>\n",
       "      <td>SLP_3</td>\n",
       "      <td>0.012051</td>\n",
       "    </tr>\n",
       "    <tr>\n",
       "      <th>14</th>\n",
       "      <td>ECG_2</td>\n",
       "      <td>0.011853</td>\n",
       "    </tr>\n",
       "    <tr>\n",
       "      <th>8</th>\n",
       "      <td>CPType_1</td>\n",
       "      <td>0.004066</td>\n",
       "    </tr>\n",
       "    <tr>\n",
       "      <th>13</th>\n",
       "      <td>ECG_1</td>\n",
       "      <td>0.001949</td>\n",
       "    </tr>\n",
       "    <tr>\n",
       "      <th>10</th>\n",
       "      <td>CPType_3</td>\n",
       "      <td>0.000000</td>\n",
       "    </tr>\n",
       "    <tr>\n",
       "      <th>12</th>\n",
       "      <td>ECG_0</td>\n",
       "      <td>0.000000</td>\n",
       "    </tr>\n",
       "    <tr>\n",
       "      <th>15</th>\n",
       "      <td>SLP_0</td>\n",
       "      <td>0.000000</td>\n",
       "    </tr>\n",
       "    <tr>\n",
       "      <th>6</th>\n",
       "      <td>exercise angina</td>\n",
       "      <td>0.000000</td>\n",
       "    </tr>\n",
       "    <tr>\n",
       "      <th>17</th>\n",
       "      <td>SLP_2</td>\n",
       "      <td>0.000000</td>\n",
       "    </tr>\n",
       "    <tr>\n",
       "      <th>9</th>\n",
       "      <td>CPType_2</td>\n",
       "      <td>0.000000</td>\n",
       "    </tr>\n",
       "  </tbody>\n",
       "</table>\n",
       "</div>"
      ],
      "text/plain": [
       "               Features  Importances\n",
       "16                SLP_1     0.426752\n",
       "11             CPType_4     0.164137\n",
       "7               oldpeak     0.091958\n",
       "5        max heart rate     0.089470\n",
       "1                   sex     0.065971\n",
       "3           cholesterol     0.041038\n",
       "2          resting bp s     0.037458\n",
       "0                   age     0.036541\n",
       "4   fasting blood sugar     0.016754\n",
       "18                SLP_3     0.012051\n",
       "14                ECG_2     0.011853\n",
       "8              CPType_1     0.004066\n",
       "13                ECG_1     0.001949\n",
       "10             CPType_3     0.000000\n",
       "12                ECG_0     0.000000\n",
       "15                SLP_0     0.000000\n",
       "6       exercise angina     0.000000\n",
       "17                SLP_2     0.000000\n",
       "9              CPType_2     0.000000"
      ]
     },
     "execution_count": 48,
     "metadata": {},
     "output_type": "execute_result"
    }
   ],
   "source": [
    "ft_1=pd.DataFrame({'Features':X.columns,'Importances':dt.feature_importances_})\n",
    "ft_1=ft_1.sort_values(by='Importances',ascending=False)\n",
    "ft_1"
   ]
  },
  {
   "cell_type": "code",
   "execution_count": 49,
   "id": "40fb10ba",
   "metadata": {},
   "outputs": [
    {
     "data": {
      "image/png": "[encoded data removed]",
      "text/plain": [
       "<Figure size 1152x288 with 1 Axes>"
      ]
     },
     "metadata": {
      "needs_background": "light"
     },
     "output_type": "display_data"
    },
    {
     "name": "stdout",
     "output_type": "stream",
     "text": [
      "               Features  Importances\n",
      "16                SLP_1     0.426752\n",
      "11             CPType_4     0.164137\n",
      "7               oldpeak     0.091958\n",
      "5        max heart rate     0.089470\n",
      "1                   sex     0.065971\n",
      "3           cholesterol     0.041038\n",
      "2          resting bp s     0.037458\n",
      "0                   age     0.036541\n",
      "4   fasting blood sugar     0.016754\n",
      "18                SLP_3     0.012051\n",
      "14                ECG_2     0.011853\n",
      "8              CPType_1     0.004066\n",
      "13                ECG_1     0.001949\n",
      "10             CPType_3     0.000000\n",
      "12                ECG_0     0.000000\n",
      "15                SLP_0     0.000000\n",
      "6       exercise angina     0.000000\n",
      "17                SLP_2     0.000000\n",
      "9              CPType_2     0.000000\n"
     ]
    }
   ],
   "source": [
    "# Features Plot and list\n",
    "ft_1=pd.DataFrame({'Features':X.columns,'Importances':dt.feature_importances_})\n",
    "ft_1=ft_1.sort_values(by='Importances',ascending=False)\n",
    "\n",
    "# Features plot\n",
    "\n",
    "plt.figure(figsize=(16,4))\n",
    "plt.bar(ft_1['Features'],ft_1['Importances'])\n",
    "plt.show()\n",
    "print(ft_1)"
   ]
  },
  {
   "cell_type": "code",
   "execution_count": 59,
   "id": "a7cc3aba",
   "metadata": {},
   "outputs": [
    {
     "data": {
      "image/png": "[encoded data removed]",
      "text/plain": [
       "<Figure size 1440x576 with 1 Axes>"
      ]
     },
     "metadata": {
      "needs_background": "light"
     },
     "output_type": "display_data"
    }
   ],
   "source": [
    "# Tree plot\n",
    "\n",
    "from sklearn import tree\n",
    "plt.figure(figsize=(20,8))\n",
    "tree.plot_tree(dt)\n",
    "#plt.savefig('dt.png')\n",
    "plt.show()"
   ]
  },
  {
   "cell_type": "markdown",
   "id": "5f4c544e",
   "metadata": {},
   "source": [
    "## Random Forest Classifier"
   ]
  },
  {
   "cell_type": "code",
   "execution_count": 50,
   "id": "666ae86f",
   "metadata": {
    "scrolled": true
   },
   "outputs": [
    {
     "name": "stdout",
     "output_type": "stream",
     "text": [
      "MCC on train 0.993\n",
      "MCC on test 0.882\n",
      "\n",
      "F1 on train 0.996\n",
      "F1 on test 0.939\n",
      "\n",
      "Accuracy on train: 0.996\n",
      "Accuracy on test: 0.941\n",
      "\n",
      "Confusion Matrix:\n",
      "[[46  1]\n",
      " [ 6 66]]\n",
      "\n",
      "Random Forest Model Parameters\n"
     ]
    },
    {
     "data": {
      "text/plain": [
       "{'bootstrap': True,\n",
       " 'ccp_alpha': 0.0,\n",
       " 'class_weight': None,\n",
       " 'criterion': 'entropy',\n",
       " 'max_depth': None,\n",
       " 'max_features': 'auto',\n",
       " 'max_leaf_nodes': None,\n",
       " 'max_samples': None,\n",
       " 'min_impurity_decrease': 0.0,\n",
       " 'min_impurity_split': None,\n",
       " 'min_samples_leaf': 1,\n",
       " 'min_samples_split': 2,\n",
       " 'min_weight_fraction_leaf': 0.0,\n",
       " 'n_estimators': 10,\n",
       " 'n_jobs': -1,\n",
       " 'oob_score': False,\n",
       " 'random_state': 42,\n",
       " 'verbose': 0,\n",
       " 'warm_start': False}"
      ]
     },
     "execution_count": 50,
     "metadata": {},
     "output_type": "execute_result"
    }
   ],
   "source": [
    "# Random forest\n",
    "\n",
    "rf = RandomForestClassifier(n_estimators=10,n_jobs=-1,criterion='entropy',random_state=42)# removed , oob_score=True for too few estimators\n",
    "rf.fit(X_train,y_train)\n",
    "pred_rf= rf.predict(X_test)\n",
    "pred2_rf= rf.predict(X_train)\n",
    "\n",
    "# Matthews correlation, f1 score and accuracy\n",
    "\n",
    "rf_mcc_train = matthews_corrcoef(y_train, pred2_rf)\n",
    "print('MCC on train',rf_mcc_train.round(3))\n",
    "rf_mcc_test = matthews_corrcoef(y_test,pred_rf)\n",
    "print('MCC on test',rf_mcc_test.round(3)) \n",
    "\n",
    "print()\n",
    "\n",
    "rf_f1_train = f1_score(y_train,pred2_rf,average='macro')\n",
    "print('F1 on train',rf_f1_train.round(3))\n",
    "rf_f1_test = f1_score(y_test, pred_rf, average='macro')\n",
    "print('F1 on test',rf_f1_test.round(3))\n",
    "\n",
    "print()\n",
    "\n",
    "rf_acc_train = accuracy_score(y_train, pred2_rf)\n",
    "rf_acc_test = accuracy_score(y_test,pred_rf)\n",
    "\n",
    "print('Accuracy on train:',rf_acc_train.round(3))\n",
    "print('Accuracy on test:',rf_acc_test.round(3))\n",
    "\n",
    "\n",
    "#print(\"Accuracy on train: {:.3f}\".format(accuracy_score(y_train,pred2_rf)))\n",
    "#print(\"Accuracy on test: {:.3f}\".format(accuracy_score(y_test,pred_rf)))\n",
    "print()\n",
    "print('Confusion Matrix:\\n{}'.format(confusion_matrix(y_test,pred_rf)))\n",
    "print()\n",
    "print('Random Forest Model Parameters')\n",
    "rf.get_params()"
   ]
  },
  {
   "cell_type": "markdown",
   "id": "d79bacbb",
   "metadata": {},
   "source": [
    "### Cross validation"
   ]
  },
  {
   "cell_type": "code",
   "execution_count": 51,
   "id": "3023ab6a",
   "metadata": {},
   "outputs": [
    {
     "name": "stdout",
     "output_type": "stream",
     "text": [
      "92.40% accuracy with a standard deviation of 1.73%\n"
     ]
    }
   ],
   "source": [
    "# Cross Validation\n",
    "\n",
    "scores=cross_val_score(rf,X_train,y_train,cv=10,n_jobs=-1,scoring='f1')\n",
    "print(\"%0.2f%% accuracy with a standard deviation of %0.2f%%\" % (scores.mean()*100, scores.std()*100))"
   ]
  },
  {
   "cell_type": "markdown",
   "id": "c71a9194",
   "metadata": {},
   "source": [
    "### Classification report"
   ]
  },
  {
   "cell_type": "code",
   "execution_count": 52,
   "id": "cef653d1",
   "metadata": {},
   "outputs": [
    {
     "name": "stdout",
     "output_type": "stream",
     "text": [
      "rf:               precision    recall  f1-score   support\n",
      "\n",
      "           0       0.88      0.98      0.93        47\n",
      "           1       0.99      0.92      0.95        72\n",
      "\n",
      "    accuracy                           0.94       119\n",
      "   macro avg       0.93      0.95      0.94       119\n",
      "weighted avg       0.95      0.94      0.94       119\n",
      "\n"
     ]
    }
   ],
   "source": [
    "print(\"rf:\",classification_report(y_test, pred_rf))"
   ]
  },
  {
   "cell_type": "markdown",
   "id": "ddcaefbc",
   "metadata": {},
   "source": [
    "### Confusion matrix"
   ]
  },
  {
   "cell_type": "code",
   "execution_count": 53,
   "id": "0891a2af",
   "metadata": {
    "scrolled": true
   },
   "outputs": [
    {
     "data": {
      "text/plain": [
       "Text(0.5, 16.0, 'Predicted Class')"
      ]
     },
     "execution_count": 53,
     "metadata": {},
     "output_type": "execute_result"
    },
    {
     "data": {
      "image/png": "[encoded data removed]",
      "text/plain": [
       "<Figure size 432x288 with 2 Axes>"
      ]
     },
     "metadata": {
      "needs_background": "light"
     },
     "output_type": "display_data"
    }
   ],
   "source": [
    "cm = confusion_matrix(y_test,pred_rf)\n",
    "#sns.heatmap(cm, annot=True)\n",
    "sns.heatmap(cm, annot=True, fmt='g', vmin=0, cbar=True, cmap='icefire')\n",
    "plt.ylabel('True Class')\n",
    "plt.xlabel('Predicted Class')"
   ]
  },
  {
   "cell_type": "markdown",
   "id": "dbbf5081",
   "metadata": {},
   "source": [
    "### Performance Metrics"
   ]
  },
  {
   "cell_type": "code",
   "execution_count": 54,
   "id": "ab762daa",
   "metadata": {
    "scrolled": false
   },
   "outputs": [
    {
     "name": "stdout",
     "output_type": "stream",
     "text": [
      "Class: {0: 'No Heart Disease', 1: 'Heart Disease'}\n",
      "Specificity: [0.91666667 0.9787234 ]\n",
      "Specificity Mean: 0.9476950354609929\n",
      "\n",
      "Class: {0: 'No Heart Disease', 1: 'Heart Disease'}\n",
      "Recall/Sensitivity: [0.9787234  0.91666667]\n",
      "Recall/Sensitivity Mean: 0.9476950354609929\n",
      "\n",
      "Class: {0: 'No Heart Disease', 1: 'Heart Disease'}\n",
      "Precision: [0.88461538 0.98507463]\n",
      "Precision Mean: 0.9348450057405281\n",
      "\n",
      "Class: {0: 'No Heart Disease', 1: 'Heart Disease'}\n",
      "False Positive Rate: [0.08333333 0.0212766 ]\n",
      "False Positive Rate Mean: 0.05230496453900709\n",
      "\n",
      "Class: {0: 'No Heart Disease', 1: 'Heart Disease'}\n",
      "False Negative Rate: [0.0212766  0.08333333]\n",
      "False Negative Rate Mean: 0.05230496453900709\n",
      "\n",
      "Class: {0: 'No Heart Disease', 1: 'Heart Disease'}\n",
      "False Discovery Rate: [0.11538462 0.01492537]\n",
      "False Discovery Rate Mean: 0.06515499425947187\n"
     ]
    }
   ],
   "source": [
    "#Performance metrics from confusion matrix \n",
    "\n",
    "FP = cm.sum(axis=0) - np.diag(cm) \n",
    "FN = cm.sum(axis=1) - np.diag(cm)\n",
    "TP = np.diag(cm)\n",
    "TN = cm.sum() - (FP + FN + TP)\n",
    "\n",
    "FP = FP.astype(float)\n",
    "FN = FN.astype(float)\n",
    "TP = TP.astype(float)\n",
    "TN = TN.astype(float)\n",
    "\n",
    "# Sensitivity, hit rate, Recall, or true positive rate\n",
    "TPR = TP/(TP+FN)\n",
    "\n",
    "# Specificity or true negative rate\n",
    "TNR = TN/(TN+FP) \n",
    "\n",
    "# Precision or positive predictive value\n",
    "PPV = TP/(TP+FP)\n",
    "\n",
    "# Negative predictive value\n",
    "NPV = TN/(TN+FN)\n",
    "\n",
    "# Fall out or false positive rate\n",
    "FPR = FP/(FP+TN)\n",
    "\n",
    "# False negative rate\n",
    "FNR = FN/(TP+FN)\n",
    "\n",
    "# False discovery rate\n",
    "FDR = FP/(TP+FP)\n",
    "\n",
    "\n",
    "print('Class:',class_label)\n",
    "\n",
    "print('Specificity:',TNR)\n",
    "print('Specificity Mean:',TNR.mean())\n",
    "\n",
    "print()\n",
    "\n",
    "print('Class:',class_label)\n",
    "\n",
    "print('Recall/Sensitivity:',TPR)\n",
    "print('Recall/Sensitivity Mean:',TPR.mean())\n",
    "\n",
    "print()\n",
    "\n",
    "print('Class:',class_label)\n",
    "\n",
    "print('Precision:',PPV)\n",
    "print('Precision Mean:',PPV.mean())\n",
    "\n",
    "print()\n",
    "\n",
    "print('Class:',class_label)\n",
    "\n",
    "print('False Positive Rate:',FPR)\n",
    "print('False Positive Rate Mean:',FPR.mean())\n",
    "\n",
    "print()\n",
    "\n",
    "print('Class:',class_label)\n",
    "\n",
    "print('False Negative Rate:',FNR)\n",
    "print('False Negative Rate Mean:',FNR.mean())\n",
    "\n",
    "print()\n",
    "\n",
    "print('Class:',class_label)\n",
    "\n",
    "print('False Discovery Rate:',FDR)\n",
    "print('False Discovery Rate Mean:',FDR.mean())"
   ]
  },
  {
   "cell_type": "markdown",
   "id": "eeeaa782",
   "metadata": {},
   "source": [
    "### ROC Plot"
   ]
  },
  {
   "cell_type": "code",
   "execution_count": 55,
   "id": "a545b2eb",
   "metadata": {
    "scrolled": false
   },
   "outputs": [
    {
     "data": {
      "text/plain": [
       "<matplotlib.legend.Legend at 0x19567dc4df0>"
      ]
     },
     "execution_count": 55,
     "metadata": {},
     "output_type": "execute_result"
    },
    {
     "data": {
      "image/png": "[encoded data removed]",
      "text/plain": [
       "<Figure size 576x432 with 1 Axes>"
      ]
     },
     "metadata": {
      "needs_background": "light"
     },
     "output_type": "display_data"
    }
   ],
   "source": [
    "#ROC Plot\n",
    "from sklearn.multiclass import OneVsRestClassifier\n",
    "from sklearn.metrics import roc_curve\n",
    "from sklearn.metrics import roc_auc_score\n",
    "\n",
    "prediction_cplx = rf.predict_proba(X_test)\n",
    "\n",
    "# roc curve for classes\n",
    "fpr = {}\n",
    "tpr = {}\n",
    "thresh ={}\n",
    "\n",
    "n_class = 2\n",
    "\n",
    "for i in range(n_class):    \n",
    "    fpr[i], tpr[i], thresh[i] = roc_curve(y_test, prediction_cplx[:,i], pos_label=i)\n",
    "\n",
    "#y_score = classifier.fit(X_train, y_train).decision_function(X_test)\n",
    "# Compute micro-average ROC curve and ROC area\n",
    "#fpr[\"micro\"], tpr[\"micro\"], _ = roc_curve(y_test.ravel(), y_score.ravel())\n",
    "#roc_auc[\"micro\"] = auc(fpr[\"micro\"], tpr[\"micro\"])  \n",
    "\n",
    "\n",
    "\n",
    "    \n",
    "# plotting\n",
    "plt.figure(figsize=(8, 6))\n",
    "plt.plot(fpr[0], tpr[0], linestyle='--',color='steelblue', label='No Heart Disease 0')\n",
    "plt.plot(fpr[1], tpr[1], linestyle='--',color='red', label='Heart Disease 1')\n",
    "plt.plot([0,1],[0,1],color=\"black\",linestyle=\"--\")\n",
    "#plt.plot(fpr[2], tpr[2], linestyle='--',color='blue', label='Class 2 vs Rest')\n",
    "#plt.plot(fpr[3], tpr[3], linestyle='--',color='red', label='Class 3 vs Rest')\n",
    "#plt.plot(fpr[4], tpr[4], linestyle='--',color='black', label='Class 4 vs Rest')\n",
    "#plt.plot(fpr[5], tpr[5], linestyle='--',color='purple', label='Class 5 vs Rest')\n",
    "#plt.plot(fpr[6], tpr[6], linestyle='--',color='yellow', label='Class 6 vs Rest')\n",
    "plt.title('ROC: Random Forest')\n",
    "plt.text(0.6,0.5,\"Baseline\")\n",
    "plt.xlabel('False Positive Rate')\n",
    "plt.ylabel('True Positive rate')\n",
    "plt.legend(loc='best')\n",
    "#plt.savefig('RF ROC',dpi=300); "
   ]
  },
  {
   "cell_type": "markdown",
   "id": "785bc5ab",
   "metadata": {},
   "source": [
    "### AUC Score"
   ]
  },
  {
   "cell_type": "code",
   "execution_count": 56,
   "id": "ade09c76",
   "metadata": {},
   "outputs": [
    {
     "name": "stdout",
     "output_type": "stream",
     "text": [
      "Random Forest AUC Score: 0.975177304964539\n"
     ]
    }
   ],
   "source": [
    "# AUC score\n",
    "\n",
    "#from sklearn.metrics import roc_auc_score\n",
    "rf_auc_score = roc_auc_score(y_test, prediction_cplx[:,i])\n",
    "\n",
    "print('Random Forest AUC Score:',rf_auc_score)"
   ]
  },
  {
   "cell_type": "markdown",
   "id": "12d63bb7",
   "metadata": {},
   "source": [
    "## Predictions and Confidences\n",
    " **Classes and Probabilities**"
   ]
  },
  {
   "cell_type": "code",
   "execution_count": 57,
   "id": "1cc23d00",
   "metadata": {},
   "outputs": [
    {
     "data": {
      "text/html": [
       "<div>\n",
       "<style scoped>\n",
       "    .dataframe tbody tr th:only-of-type {\n",
       "        vertical-align: middle;\n",
       "    }\n",
       "\n",
       "    .dataframe tbody tr th {\n",
       "        vertical-align: top;\n",
       "    }\n",
       "\n",
       "    .dataframe thead th {\n",
       "        text-align: right;\n",
       "    }\n",
       "</style>\n",
       "<table border=\"1\" class=\"dataframe\">\n",
       "  <thead>\n",
       "    <tr style=\"text-align: right;\">\n",
       "      <th></th>\n",
       "      <th>No heart disease</th>\n",
       "      <th>Heart disease</th>\n",
       "      <th>Predicted class</th>\n",
       "    </tr>\n",
       "  </thead>\n",
       "  <tbody>\n",
       "    <tr>\n",
       "      <th>0</th>\n",
       "      <td>0.0</td>\n",
       "      <td>1.0</td>\n",
       "      <td>1</td>\n",
       "    </tr>\n",
       "    <tr>\n",
       "      <th>1</th>\n",
       "      <td>0.5</td>\n",
       "      <td>0.5</td>\n",
       "      <td>0</td>\n",
       "    </tr>\n",
       "    <tr>\n",
       "      <th>2</th>\n",
       "      <td>1.0</td>\n",
       "      <td>0.0</td>\n",
       "      <td>0</td>\n",
       "    </tr>\n",
       "    <tr>\n",
       "      <th>3</th>\n",
       "      <td>0.1</td>\n",
       "      <td>0.9</td>\n",
       "      <td>1</td>\n",
       "    </tr>\n",
       "    <tr>\n",
       "      <th>4</th>\n",
       "      <td>0.1</td>\n",
       "      <td>0.9</td>\n",
       "      <td>1</td>\n",
       "    </tr>\n",
       "    <tr>\n",
       "      <th>...</th>\n",
       "      <td>...</td>\n",
       "      <td>...</td>\n",
       "      <td>...</td>\n",
       "    </tr>\n",
       "    <tr>\n",
       "      <th>114</th>\n",
       "      <td>0.0</td>\n",
       "      <td>1.0</td>\n",
       "      <td>1</td>\n",
       "    </tr>\n",
       "    <tr>\n",
       "      <th>115</th>\n",
       "      <td>0.0</td>\n",
       "      <td>1.0</td>\n",
       "      <td>1</td>\n",
       "    </tr>\n",
       "    <tr>\n",
       "      <th>116</th>\n",
       "      <td>0.0</td>\n",
       "      <td>1.0</td>\n",
       "      <td>1</td>\n",
       "    </tr>\n",
       "    <tr>\n",
       "      <th>117</th>\n",
       "      <td>0.8</td>\n",
       "      <td>0.2</td>\n",
       "      <td>0</td>\n",
       "    </tr>\n",
       "    <tr>\n",
       "      <th>118</th>\n",
       "      <td>0.1</td>\n",
       "      <td>0.9</td>\n",
       "      <td>1</td>\n",
       "    </tr>\n",
       "  </tbody>\n",
       "</table>\n",
       "<p>119 rows × 3 columns</p>\n",
       "</div>"
      ],
      "text/plain": [
       "     No heart disease  Heart disease  Predicted class\n",
       "0                 0.0            1.0                1\n",
       "1                 0.5            0.5                0\n",
       "2                 1.0            0.0                0\n",
       "3                 0.1            0.9                1\n",
       "4                 0.1            0.9                1\n",
       "..                ...            ...              ...\n",
       "114               0.0            1.0                1\n",
       "115               0.0            1.0                1\n",
       "116               0.0            1.0                1\n",
       "117               0.8            0.2                0\n",
       "118               0.1            0.9                1\n",
       "\n",
       "[119 rows x 3 columns]"
      ]
     },
     "execution_count": 57,
     "metadata": {},
     "output_type": "execute_result"
    }
   ],
   "source": [
    "# Classes and Probabilities\n",
    "\n",
    "prediction_probability = rf.predict_proba(X_test)\n",
    "prediction_cplx = rf.predict(X_test)\n",
    "\n",
    "class_df = pd.DataFrame(prediction_cplx.round(3),columns=['Predicted class'])\n",
    "proba_df = pd.DataFrame(prediction_probability.round(3),columns=['No heart disease','Heart disease'])\n",
    "\n",
    "#pred_list = pd.concat(['frame','target_rs'],axis= 1)\n",
    "\n",
    "\n",
    "predictions_df = pd.concat([proba_df,class_df ], axis=1)\n",
    "predictions_df"
   ]
  },
  {
   "cell_type": "code",
   "execution_count": 58,
   "id": "e0111c59",
   "metadata": {},
   "outputs": [
    {
     "data": {
      "text/plain": [
       "(array([  1,  18,  40,  55,  60,  97, 104], dtype=int64),)"
      ]
     },
     "execution_count": 58,
     "metadata": {},
     "output_type": "execute_result"
    }
   ],
   "source": [
    "# Incorrect predictions\n",
    "\n",
    "prediction_cplx = rf.predict(X_test)\n",
    "\n",
    "incorrects = np.nonzero(prediction_cplx.reshape((-1,)) != y_test)\n",
    "incorrects"
   ]
  },
  {
   "cell_type": "markdown",
   "id": "6db48c0a",
   "metadata": {},
   "source": [
    "### Jaccard similarity coefficient"
   ]
  },
  {
   "cell_type": "code",
   "execution_count": 59,
   "id": "f6a127f9",
   "metadata": {},
   "outputs": [
    {
     "data": {
      "text/html": [
       "<div>\n",
       "<style scoped>\n",
       "    .dataframe tbody tr th:only-of-type {\n",
       "        vertical-align: middle;\n",
       "    }\n",
       "\n",
       "    .dataframe tbody tr th {\n",
       "        vertical-align: top;\n",
       "    }\n",
       "\n",
       "    .dataframe thead th {\n",
       "        text-align: right;\n",
       "    }\n",
       "</style>\n",
       "<table border=\"1\" class=\"dataframe\">\n",
       "  <thead>\n",
       "    <tr style=\"text-align: right;\">\n",
       "      <th></th>\n",
       "      <th>Jaccard score</th>\n",
       "    </tr>\n",
       "  </thead>\n",
       "  <tbody>\n",
       "    <tr>\n",
       "      <th>0</th>\n",
       "      <td>0.867925</td>\n",
       "    </tr>\n",
       "    <tr>\n",
       "      <th>1</th>\n",
       "      <td>0.904110</td>\n",
       "    </tr>\n",
       "  </tbody>\n",
       "</table>\n",
       "</div>"
      ],
      "text/plain": [
       "   Jaccard score\n",
       "0       0.867925\n",
       "1       0.904110"
      ]
     },
     "execution_count": 59,
     "metadata": {},
     "output_type": "execute_result"
    }
   ],
   "source": [
    "# Jaccard similarity coefficient\n",
    "# Predicted class compared with actual class\n",
    "\n",
    "\n",
    "jaccard = jaccard_score(y_test, prediction_cplx, average = None) #prediction_probability\n",
    "\n",
    "jaccard_df = pd.DataFrame(jaccard,columns=['Jaccard score'])\n",
    "jaccard_df"
   ]
  },
  {
   "cell_type": "markdown",
   "id": "1b4f5df4",
   "metadata": {},
   "source": [
    "## Confidence interval\n",
    "\n",
    "The confidence interval is a likelihood over a range. The true model skill may lie outside of this range.\n",
    " \n",
    "**Commonly used number of standard deviations from the Gaussian distribution and their corresponding significance level are as follows:**\n",
    "\n",
    "* 1.64 (90%)\n",
    "* 1.96 (95%)\n",
    "* 2.33 (98%)\n",
    "* 2.58 (99%)\n",
    "\n",
    "### Using model error"
   ]
  },
  {
   "cell_type": "code",
   "execution_count": 70,
   "id": "6f978741",
   "metadata": {},
   "outputs": [
    {
     "name": "stdout",
     "output_type": "stream",
     "text": [
      "Classification error interval: 0.043\n"
     ]
    }
   ],
   "source": [
    "# 95% confidence interval\n",
    "# Calculated radius of the confidence interval using model error\n",
    "\n",
    "# where: interval = z * sqrt( (error * (1 - error)) / n)\n",
    "\n",
    "interval = 1.96 * sqrt( (0.06 * (1 - .06)) / 119)\n",
    "print('Classification error interval: %.3f' % interval)"
   ]
  },
  {
   "cell_type": "markdown",
   "id": "c26bd032",
   "metadata": {},
   "source": [
    "* The classification error of the model is 6% +/- 4%\n",
    "* The true classification error of the model on unseen data is likely between 2% and 10%.\n",
    " \n",
    " **The true model skill may lie outside of this range.**"
   ]
  },
  {
   "cell_type": "markdown",
   "id": "196a90a5",
   "metadata": {},
   "source": [
    "### Upper and lower bounds of model classification accuracy"
   ]
  },
  {
   "cell_type": "code",
   "execution_count": 71,
   "id": "fa0d42e9",
   "metadata": {},
   "outputs": [
    {
     "name": "stdout",
     "output_type": "stream",
     "text": [
      "Lower Bounds of Accuracy:0.899 \n",
      "Upper Bounds of Accuracy:0.983 \n"
     ]
    }
   ],
   "source": [
    "# Upper and lower bounds of model accuracy\n",
    "\n",
    "# 218 correct predictions of 238 instances and with 95% confidence interval,\n",
    "# (provided to the function as a significance of 0.05)\n",
    "\n",
    "lower, upper = proportion_confint(112, 119, 0.05)\n",
    "\n",
    "print('Lower Bounds of Accuracy:%.3f ' % lower)\n",
    "print('Upper Bounds of Accuracy:%.3f ' %upper)"
   ]
  },
  {
   "cell_type": "markdown",
   "id": "c095ebd7",
   "metadata": {},
   "source": [
    " **The true classification accuracy of the model on unseen data is likely between 90% and 98%**.\n",
    "\n",
    " **True model skill may lie outside of this range.**"
   ]
  },
  {
   "cell_type": "markdown",
   "id": "720f00e4",
   "metadata": {},
   "source": [
    "### Feature Importances"
   ]
  },
  {
   "cell_type": "code",
   "execution_count": 60,
   "id": "a3942c63",
   "metadata": {},
   "outputs": [
    {
     "data": {
      "image/png": "[encoded data removed]",
      "text/plain": [
       "<Figure size 1152x288 with 1 Axes>"
      ]
     },
     "metadata": {
      "needs_background": "light"
     },
     "output_type": "display_data"
    },
    {
     "name": "stdout",
     "output_type": "stream",
     "text": [
      "               Features  Importances\n",
      "5        max heart rate     0.140760\n",
      "3           cholesterol     0.109832\n",
      "7               oldpeak     0.108866\n",
      "17                SLP_2     0.093635\n",
      "2          resting bp s     0.089783\n",
      "0                   age     0.088409\n",
      "11             CPType_4     0.071646\n",
      "6       exercise angina     0.071068\n",
      "16                SLP_1     0.059085\n",
      "1                   sex     0.039650\n",
      "9              CPType_2     0.027139\n",
      "4   fasting blood sugar     0.025922\n",
      "14                ECG_2     0.020556\n",
      "10             CPType_3     0.017527\n",
      "12                ECG_0     0.014400\n",
      "8              CPType_1     0.010830\n",
      "13                ECG_1     0.006531\n",
      "18                SLP_3     0.003338\n",
      "15                SLP_0     0.001023\n"
     ]
    }
   ],
   "source": [
    "# Features Plot and list\n",
    "ft_1=pd.DataFrame({'Features':X.columns,'Importances':rf.feature_importances_})\n",
    "ft_1=ft_1.sort_values(by='Importances',ascending=False)\n",
    "\n",
    "# Features plot\n",
    "\n",
    "plt.figure(figsize=(16,4))\n",
    "plt.bar(ft_1['Features'],ft_1['Importances'])\n",
    "plt.show()\n",
    "print(ft_1)"
   ]
  },
  {
   "cell_type": "markdown",
   "id": "7a11cf82",
   "metadata": {},
   "source": [
    "## XGBoost"
   ]
  },
  {
   "cell_type": "code",
   "execution_count": 168,
   "id": "8a0bec2a",
   "metadata": {
    "scrolled": true
   },
   "outputs": [
    {
     "name": "stdout",
     "output_type": "stream",
     "text": [
      "MCC on train 1.0\n",
      "MCC on test 0.931\n",
      "\n",
      "F1 on train 1.0\n",
      "F1 on test 0.965\n",
      "\n",
      "Accuracy on train: 1.0\n",
      "Accuracy on test: 0.966\n",
      "\n",
      "[[46  1]\n",
      " [ 3 69]]\n",
      "\n",
      "XGBoost model parameters\n"
     ]
    },
    {
     "data": {
      "text/plain": [
       "{'objective': 'binary:logistic',\n",
       " 'use_label_encoder': True,\n",
       " 'base_score': 0.5,\n",
       " 'booster': 'gbtree',\n",
       " 'colsample_bylevel': 1,\n",
       " 'colsample_bynode': 1,\n",
       " 'colsample_bytree': 1,\n",
       " 'enable_categorical': False,\n",
       " 'gamma': 0,\n",
       " 'gpu_id': -1,\n",
       " 'importance_type': None,\n",
       " 'interaction_constraints': '',\n",
       " 'learning_rate': 0.300000012,\n",
       " 'max_delta_step': 0,\n",
       " 'max_depth': 10,\n",
       " 'min_child_weight': 1,\n",
       " 'missing': nan,\n",
       " 'monotone_constraints': '()',\n",
       " 'n_estimators': 100,\n",
       " 'n_jobs': -1,\n",
       " 'num_parallel_tree': 1,\n",
       " 'predictor': 'auto',\n",
       " 'random_state': 0,\n",
       " 'reg_alpha': 0,\n",
       " 'reg_lambda': 1,\n",
       " 'scale_pos_weight': 1,\n",
       " 'subsample': 1,\n",
       " 'tree_method': 'exact',\n",
       " 'validate_parameters': 1,\n",
       " 'verbosity': None,\n",
       " 'eval_metric': ['logloss', 'error']}"
      ]
     },
     "execution_count": 168,
     "metadata": {},
     "output_type": "execute_result"
    }
   ],
   "source": [
    "#XGBoost\n",
    "\n",
    "evalset=[(X_train, y_train),(X_test,y_test)]#( \n",
    "\n",
    "xgb = XGBClassifier(max_depth=10,n_jobs=-1,booster = \"gbtree\",\n",
    "                    eval_metric =[\"logloss\",'error'],objective =\"binary:logistic\")#remove-,num_class = 2 for 'binary:logistic'\n",
    "\n",
    "xgb.fit(X_train, y_train,eval_set=evalset,verbose=False)\n",
    "pred_xgb = xgb.predict(X_test)\n",
    "pred2_xgb = xgb.predict(X_train)\n",
    "\n",
    "# Matthews correlation, f1 score and accuracy\n",
    "\n",
    "xgb_mcc_train = matthews_corrcoef(y_train, pred2_xgb)\n",
    "print('MCC on train',xgb_mcc_train.round(3))\n",
    "xgb_mcc_test = matthews_corrcoef(y_test,pred_xgb)\n",
    "print('MCC on test',xgb_mcc_test.round(3)) \n",
    "\n",
    "print()\n",
    "\n",
    "xgb_f1_train = f1_score(y_train,pred2_xgb,average='macro')\n",
    "print('F1 on train',xgb_f1_train.round(3))\n",
    "xgb_f1_test = f1_score(y_test, pred_xgb, average='macro')\n",
    "print('F1 on test',xgb_f1_test.round(3))\n",
    "\n",
    "print()\n",
    "\n",
    "xgb_acc_train = accuracy_score(y_train, pred2_xgb)\n",
    "xgb_acc_test = accuracy_score(y_test,pred_xgb)\n",
    "\n",
    "print('Accuracy on train:',xgb_acc_train.round(3))\n",
    "print('Accuracy on test:',xgb_acc_test.round(3))\n",
    "\n",
    "#print(\"Accuracy on train: {:.3f}\".format(accuracy_score(y_train,pred2_xgb)))\n",
    "#print(\"Accuracy on test: {:.3f}\".format(accuracy_score(y_test,pred_xgb)))\n",
    "print('\\n{}'.format(confusion_matrix(y_test,pred_xgb)))\n",
    "print()\n",
    "print('XGBoost model parameters')\n",
    "xgb.get_params()"
   ]
  },
  {
   "cell_type": "markdown",
   "id": "b0fe535a",
   "metadata": {},
   "source": [
    "### Learning curves"
   ]
  },
  {
   "cell_type": "code",
   "execution_count": 169,
   "id": "ddc17873",
   "metadata": {},
   "outputs": [
    {
     "data": {
      "image/png": "[encoded data removed]",
      "text/plain": [
       "<Figure size 432x288 with 1 Axes>"
      ]
     },
     "metadata": {
      "needs_background": "light"
     },
     "output_type": "display_data"
    }
   ],
   "source": [
    "# retrieve performance metrics\n",
    "results = xgb.evals_result()\n",
    "\n",
    "# plot learning curves\n",
    "plt.plot(results['validation_0']['logloss'], label='train')\n",
    "plt.plot(results['validation_1']['logloss'], label='test')\n",
    "plt.ylabel('Logloss')\n",
    "plt.xlabel('Estimators')\n",
    "plt.legend()\n",
    "plt.show()"
   ]
  },
  {
   "cell_type": "markdown",
   "id": "6f5a4208",
   "metadata": {},
   "source": [
    "### Cross validation"
   ]
  },
  {
   "cell_type": "code",
   "execution_count": 155,
   "id": "af2af609",
   "metadata": {},
   "outputs": [
    {
     "name": "stdout",
     "output_type": "stream",
     "text": [
      "92.65% accuracy with a standard deviation of 2.02%\n"
     ]
    }
   ],
   "source": [
    "# Cross Validation\n",
    "\n",
    "scores=cross_val_score(xgb,X_train,y_train,cv=10,n_jobs=-1,scoring='f1')\n",
    "print(\"%0.2f%% accuracy with a standard deviation of %0.2f%%\" % (scores.mean()*100, scores.std()*100))"
   ]
  },
  {
   "cell_type": "markdown",
   "id": "37e45c16",
   "metadata": {},
   "source": [
    "### Classification report"
   ]
  },
  {
   "cell_type": "code",
   "execution_count": 154,
   "id": "4f3b7b04",
   "metadata": {},
   "outputs": [
    {
     "name": "stdout",
     "output_type": "stream",
     "text": [
      "xgb:               precision    recall  f1-score   support\n",
      "\n",
      "           0       0.94      0.98      0.96        47\n",
      "           1       0.99      0.96      0.97        72\n",
      "\n",
      "    accuracy                           0.97       119\n",
      "   macro avg       0.96      0.97      0.97       119\n",
      "weighted avg       0.97      0.97      0.97       119\n",
      "\n"
     ]
    }
   ],
   "source": [
    "print(\"xgb:\",classification_report(y_test, pred_xgb))"
   ]
  },
  {
   "cell_type": "markdown",
   "id": "6be4f935",
   "metadata": {},
   "source": [
    "### Confusion matrix"
   ]
  },
  {
   "cell_type": "code",
   "execution_count": 156,
   "id": "51644f40",
   "metadata": {
    "scrolled": true
   },
   "outputs": [
    {
     "data": {
      "text/plain": [
       "Text(0.5, 16.0, 'Predicted Class')"
      ]
     },
     "execution_count": 156,
     "metadata": {},
     "output_type": "execute_result"
    },
    {
     "data": {
      "image/png": "[encoded data removed]",
      "text/plain": [
       "<Figure size 432x288 with 2 Axes>"
      ]
     },
     "metadata": {
      "needs_background": "light"
     },
     "output_type": "display_data"
    }
   ],
   "source": [
    "cm = confusion_matrix(y_test,pred_xgb)\n",
    "#sns.heatmap(cm, annot=True)\n",
    "sns.heatmap(cm, annot=True, fmt='g', vmin=0, cbar=True, cmap='Greys')\n",
    "plt.title('Confusion Matrix')\n",
    "plt.ylabel('True Class')\n",
    "plt.xlabel('Predicted Class')"
   ]
  },
  {
   "cell_type": "markdown",
   "id": "4bbdcab5",
   "metadata": {},
   "source": [
    "### Performance Metrics"
   ]
  },
  {
   "cell_type": "code",
   "execution_count": 65,
   "id": "289109b7",
   "metadata": {
    "scrolled": false
   },
   "outputs": [
    {
     "name": "stdout",
     "output_type": "stream",
     "text": [
      "Class: {0: 'No Heart Disease', 1: 'Heart Disease'}\n",
      "Specificity: [0.95833333 0.9787234 ]\n",
      "Specificity Mean: 0.9685283687943262\n",
      "\n",
      "Class: {0: 'No Heart Disease', 1: 'Heart Disease'}\n",
      "Recall/Sensitivity: [0.9787234  0.95833333]\n",
      "Recall/Sensitivity Mean: 0.9685283687943262\n",
      "\n",
      "Class: {0: 'No Heart Disease', 1: 'Heart Disease'}\n",
      "Precision: [0.93877551 0.98571429]\n",
      "Precision Mean: 0.9622448979591838\n",
      "\n",
      "Class: {0: 'No Heart Disease', 1: 'Heart Disease'}\n",
      "False Positive Rate: [0.04166667 0.0212766 ]\n",
      "False Positive Rate Mean: 0.031471631205673756\n",
      "\n",
      "Class: {0: 'No Heart Disease', 1: 'Heart Disease'}\n",
      "False Negative Rate: [0.0212766  0.04166667]\n",
      "False Negative Rate Mean: 0.031471631205673756\n",
      "\n",
      "Class: {0: 'No Heart Disease', 1: 'Heart Disease'}\n",
      "False Discovery Rate: [0.06122449 0.01428571]\n",
      "False Discovery Rate Mean: 0.03775510204081633\n"
     ]
    }
   ],
   "source": [
    "#Performance metrics from confusion matrix \n",
    "\n",
    "FP = cm.sum(axis=0) - np.diag(cm) \n",
    "FN = cm.sum(axis=1) - np.diag(cm)\n",
    "TP = np.diag(cm)\n",
    "TN = cm.sum() - (FP + FN + TP)\n",
    "\n",
    "FP = FP.astype(float)\n",
    "FN = FN.astype(float)\n",
    "TP = TP.astype(float)\n",
    "TN = TN.astype(float)\n",
    "\n",
    "# Sensitivity, hit rate, Recall, or true positive rate\n",
    "TPR = TP/(TP+FN)\n",
    "\n",
    "# Specificity or true negative rate\n",
    "TNR = TN/(TN+FP) \n",
    "\n",
    "# Precision or positive predictive value\n",
    "PPV = TP/(TP+FP)\n",
    "\n",
    "# Negative predictive value\n",
    "NPV = TN/(TN+FN)\n",
    "\n",
    "# Fall out or false positive rate\n",
    "FPR = FP/(FP+TN)\n",
    "\n",
    "# False negative rate\n",
    "FNR = FN/(TP+FN)\n",
    "\n",
    "# False discovery rate\n",
    "FDR = FP/(TP+FP)\n",
    "\n",
    "\n",
    "print('Class:',class_label)\n",
    "\n",
    "print('Specificity:',TNR)\n",
    "print('Specificity Mean:',TNR.mean())\n",
    "\n",
    "print()\n",
    "\n",
    "print('Class:',class_label)\n",
    "\n",
    "print('Recall/Sensitivity:',TPR)\n",
    "print('Recall/Sensitivity Mean:',TPR.mean())\n",
    "\n",
    "print()\n",
    "\n",
    "print('Class:',class_label)\n",
    "\n",
    "print('Precision:',PPV)\n",
    "print('Precision Mean:',PPV.mean())\n",
    "\n",
    "print()\n",
    "\n",
    "print('Class:',class_label)\n",
    "\n",
    "print('False Positive Rate:',FPR)\n",
    "print('False Positive Rate Mean:',FPR.mean())\n",
    "\n",
    "print()\n",
    "\n",
    "print('Class:',class_label)\n",
    "\n",
    "print('False Negative Rate:',FNR)\n",
    "print('False Negative Rate Mean:',FNR.mean())\n",
    "\n",
    "print()\n",
    "\n",
    "print('Class:',class_label)\n",
    "\n",
    "print('False Discovery Rate:',FDR)\n",
    "print('False Discovery Rate Mean:',FDR.mean())"
   ]
  },
  {
   "cell_type": "markdown",
   "id": "331338ae",
   "metadata": {},
   "source": [
    "### ROC Plot"
   ]
  },
  {
   "cell_type": "code",
   "execution_count": 66,
   "id": "ee52971c",
   "metadata": {
    "scrolled": false
   },
   "outputs": [
    {
     "data": {
      "text/plain": [
       "<matplotlib.legend.Legend at 0x1955b0c53d0>"
      ]
     },
     "execution_count": 66,
     "metadata": {},
     "output_type": "execute_result"
    },
    {
     "data": {
      "image/png": "[encoded data removed]",
      "text/plain": [
       "<Figure size 576x432 with 1 Axes>"
      ]
     },
     "metadata": {
      "needs_background": "light"
     },
     "output_type": "display_data"
    }
   ],
   "source": [
    "#ROC Plot\n",
    "from sklearn.multiclass import OneVsRestClassifier\n",
    "from sklearn.metrics import roc_curve\n",
    "from sklearn.metrics import roc_auc_score\n",
    "\n",
    "prediction_cplx = xgb.predict_proba(X_test)\n",
    "\n",
    "# roc curve for classes\n",
    "fpr = {}\n",
    "tpr = {}\n",
    "thresh ={}\n",
    "\n",
    "n_class = 2\n",
    "\n",
    "for i in range(n_class):    \n",
    "    fpr[i], tpr[i], thresh[i] = roc_curve(y_test, prediction_cplx[:,i], pos_label=i)\n",
    "\n",
    "#y_score = classifier.fit(X_train, y_train).decision_function(X_test)\n",
    "# Compute micro-average ROC curve and ROC area\n",
    "#fpr[\"micro\"], tpr[\"micro\"], _ = roc_curve(y_test.ravel(), y_score.ravel())\n",
    "#roc_auc[\"micro\"] = auc(fpr[\"micro\"], tpr[\"micro\"])  \n",
    "\n",
    "\n",
    "\n",
    "    \n",
    "# plotting\n",
    "plt.figure(figsize=(8, 6))\n",
    "plt.plot(fpr[0], tpr[0], linestyle='--',color='steelblue', label='No Heart Disease 0')\n",
    "plt.plot(fpr[1], tpr[1], linestyle='--',color='red', label='Heart Disease 1')\n",
    "plt.plot([0,1],[0,1],color=\"black\",linestyle=\"--\")\n",
    "#plt.plot(fpr[2], tpr[2], linestyle='--',color='blue', label='Class 2 vs Rest')\n",
    "#plt.plot(fpr[3], tpr[3], linestyle='--',color='red', label='Class 3 vs Rest')\n",
    "#plt.plot(fpr[4], tpr[4], linestyle='--',color='black', label='Class 4 vs Rest')\n",
    "#plt.plot(fpr[5], tpr[5], linestyle='--',color='purple', label='Class 5 vs Rest')\n",
    "#plt.plot(fpr[6], tpr[6], linestyle='--',color='yellow', label='Class 6 vs Rest')\n",
    "plt.title('ROC: XGBoost')\n",
    "plt.text(0.6,0.5,\"Baseline\")\n",
    "plt.xlabel('False Positive Rate')\n",
    "plt.ylabel('True Positive rate')\n",
    "plt.legend(loc='best')\n",
    "#plt.savefig('XGB ROC',dpi=300); "
   ]
  },
  {
   "cell_type": "markdown",
   "id": "50447a1b",
   "metadata": {},
   "source": [
    "### ROC AUC Score"
   ]
  },
  {
   "cell_type": "code",
   "execution_count": 67,
   "id": "15fc9dd6",
   "metadata": {},
   "outputs": [
    {
     "name": "stdout",
     "output_type": "stream",
     "text": [
      "XGB AUC Score: 0.986\n"
     ]
    }
   ],
   "source": [
    "# AUC score\n",
    "\n",
    "#from sklearn.metrics import roc_auc_score\n",
    "xgb_auc_score = roc_auc_score(y_test, prediction_cplx[:,i])\n",
    "\n",
    "print('XGB AUC Score:',xgb_auc_score.round(3))"
   ]
  },
  {
   "cell_type": "markdown",
   "id": "d20ec51a",
   "metadata": {},
   "source": [
    "## Predictions and Confidences\n",
    " ### Classes and Probabilities"
   ]
  },
  {
   "cell_type": "code",
   "execution_count": 68,
   "id": "c6b1acbe",
   "metadata": {},
   "outputs": [
    {
     "data": {
      "text/html": [
       "<div>\n",
       "<style scoped>\n",
       "    .dataframe tbody tr th:only-of-type {\n",
       "        vertical-align: middle;\n",
       "    }\n",
       "\n",
       "    .dataframe tbody tr th {\n",
       "        vertical-align: top;\n",
       "    }\n",
       "\n",
       "    .dataframe thead th {\n",
       "        text-align: right;\n",
       "    }\n",
       "</style>\n",
       "<table border=\"1\" class=\"dataframe\">\n",
       "  <thead>\n",
       "    <tr style=\"text-align: right;\">\n",
       "      <th></th>\n",
       "      <th>No heart disease</th>\n",
       "      <th>Heart disease</th>\n",
       "      <th>Predicted class</th>\n",
       "    </tr>\n",
       "  </thead>\n",
       "  <tbody>\n",
       "    <tr>\n",
       "      <th>0</th>\n",
       "      <td>0.001</td>\n",
       "      <td>0.999</td>\n",
       "      <td>1</td>\n",
       "    </tr>\n",
       "    <tr>\n",
       "      <th>1</th>\n",
       "      <td>0.770</td>\n",
       "      <td>0.230</td>\n",
       "      <td>0</td>\n",
       "    </tr>\n",
       "    <tr>\n",
       "      <th>2</th>\n",
       "      <td>1.000</td>\n",
       "      <td>0.000</td>\n",
       "      <td>0</td>\n",
       "    </tr>\n",
       "    <tr>\n",
       "      <th>3</th>\n",
       "      <td>0.005</td>\n",
       "      <td>0.995</td>\n",
       "      <td>1</td>\n",
       "    </tr>\n",
       "    <tr>\n",
       "      <th>4</th>\n",
       "      <td>0.002</td>\n",
       "      <td>0.998</td>\n",
       "      <td>1</td>\n",
       "    </tr>\n",
       "  </tbody>\n",
       "</table>\n",
       "</div>"
      ],
      "text/plain": [
       "   No heart disease  Heart disease  Predicted class\n",
       "0             0.001          0.999                1\n",
       "1             0.770          0.230                0\n",
       "2             1.000          0.000                0\n",
       "3             0.005          0.995                1\n",
       "4             0.002          0.998                1"
      ]
     },
     "execution_count": 68,
     "metadata": {},
     "output_type": "execute_result"
    }
   ],
   "source": [
    "# Classes and Probabilities\n",
    "\n",
    "prediction_probability = xgb.predict_proba(X_test)\n",
    "prediction_cplx = xgb.predict(X_test)\n",
    "\n",
    "class_df = pd.DataFrame(prediction_cplx.round(3),columns=['Predicted class'])\n",
    "proba_df = pd.DataFrame(prediction_probability.round(3),columns=['No heart disease','Heart disease'])\n",
    "\n",
    "#pred_list = pd.concat(['frame','target_rs'],axis= 1)\n",
    "\n",
    "\n",
    "predictions_df = pd.concat([proba_df,class_df ], axis=1)\n",
    "predictions_df.head()"
   ]
  },
  {
   "cell_type": "markdown",
   "id": "3dd68516",
   "metadata": {},
   "source": [
    "### Index of  incorrect predictions"
   ]
  },
  {
   "cell_type": "code",
   "execution_count": 69,
   "id": "82bcc33c",
   "metadata": {},
   "outputs": [
    {
     "data": {
      "text/plain": [
       "(array([ 1, 18, 60, 97], dtype=int64),)"
      ]
     },
     "execution_count": 69,
     "metadata": {},
     "output_type": "execute_result"
    }
   ],
   "source": [
    "# Incorrect predictions\n",
    "\n",
    "incorrects = np.nonzero(prediction_cplx.reshape((-1,)) != y_test)\n",
    "incorrects"
   ]
  },
  {
   "cell_type": "markdown",
   "id": "0ddadc7c",
   "metadata": {},
   "source": [
    "### Jaccard similarity coefficient"
   ]
  },
  {
   "cell_type": "code",
   "execution_count": 70,
   "id": "98851949",
   "metadata": {},
   "outputs": [
    {
     "data": {
      "text/html": [
       "<div>\n",
       "<style scoped>\n",
       "    .dataframe tbody tr th:only-of-type {\n",
       "        vertical-align: middle;\n",
       "    }\n",
       "\n",
       "    .dataframe tbody tr th {\n",
       "        vertical-align: top;\n",
       "    }\n",
       "\n",
       "    .dataframe thead th {\n",
       "        text-align: right;\n",
       "    }\n",
       "</style>\n",
       "<table border=\"1\" class=\"dataframe\">\n",
       "  <thead>\n",
       "    <tr style=\"text-align: right;\">\n",
       "      <th></th>\n",
       "      <th>Jaccard score</th>\n",
       "    </tr>\n",
       "  </thead>\n",
       "  <tbody>\n",
       "    <tr>\n",
       "      <th>0</th>\n",
       "      <td>0.920000</td>\n",
       "    </tr>\n",
       "    <tr>\n",
       "      <th>1</th>\n",
       "      <td>0.945205</td>\n",
       "    </tr>\n",
       "  </tbody>\n",
       "</table>\n",
       "</div>"
      ],
      "text/plain": [
       "   Jaccard score\n",
       "0       0.920000\n",
       "1       0.945205"
      ]
     },
     "execution_count": 70,
     "metadata": {},
     "output_type": "execute_result"
    }
   ],
   "source": [
    "# Jaccard similarity coefficient\n",
    "# Predicted class compared with actual class\n",
    "\n",
    "jaccard = jaccard_score(y_test, prediction_cplx, average = None)#prediction_probability\n",
    "\n",
    "jaccard_df = pd.DataFrame(jaccard,columns=['Jaccard score'])\n",
    "jaccard_df"
   ]
  },
  {
   "cell_type": "markdown",
   "id": "e5095906",
   "metadata": {},
   "source": [
    "## Confidence interval\n",
    "\n",
    "The confidence interval is a likelihood over a range. The true model skill may lie outside of this range.\n",
    " \n",
    "**Commonly used number of standard deviations from the Gaussian distribution and their corresponding significance level are as follows:**\n",
    "\n",
    "* 1.64 (90%)\n",
    "* 1.96 (95%)\n",
    "* 2.33 (98%)\n",
    "* 2.58 (99%)\n",
    "\n",
    "### Using model error"
   ]
  },
  {
   "cell_type": "code",
   "execution_count": 71,
   "id": "50d4c20f",
   "metadata": {},
   "outputs": [
    {
     "name": "stdout",
     "output_type": "stream",
     "text": [
      "Classification error interval: 0.031\n"
     ]
    }
   ],
   "source": [
    "# 95% confidence interval\n",
    "# Calculated radius of the confidence interval using model error\n",
    "\n",
    "# where: interval = z * sqrt( (error * (1 - error)) / n)\n",
    "\n",
    "interval = 1.96 * sqrt( (0.03 * (1 - .03)) / 119)\n",
    "print('Classification error interval: %.3f' % interval)"
   ]
  },
  {
   "cell_type": "markdown",
   "id": "7c304403",
   "metadata": {},
   "source": [
    "* The classification error of the model is 3% +/- 3%\n",
    "* The true classification error of the model on unseen data is likely between 0% and 6%.\n",
    " \n",
    " **The true model skill may lie outside of this range.**"
   ]
  },
  {
   "cell_type": "markdown",
   "id": "e6d03efa",
   "metadata": {},
   "source": [
    "### Upper and lower bounds of model classification accuracy"
   ]
  },
  {
   "cell_type": "code",
   "execution_count": 85,
   "id": "e2c5a44d",
   "metadata": {},
   "outputs": [
    {
     "name": "stdout",
     "output_type": "stream",
     "text": [
      "Lower Bounds of Accuracy:0.934 \n",
      "Upper Bounds of Accuracy:0.999 \n"
     ]
    }
   ],
   "source": [
    "# Upper and lower bounds of model accuracy\n",
    "\n",
    "# 218 correct predictions of 238 instances and with 95% confidence interval,\n",
    "# (provided to the function as a significance of 0.05)\n",
    "\n",
    "lower, upper = proportion_confint(115, 119, 0.05)\n",
    "\n",
    "print('Lower Bounds of Accuracy:%.3f ' % lower)\n",
    "print('Upper Bounds of Accuracy:%.3f ' %upper)"
   ]
  },
  {
   "cell_type": "markdown",
   "id": "18cfa0bb",
   "metadata": {},
   "source": [
    " **The true classification accuracy of the model on unseen data is likely between 93% and 99.9%**.\n",
    "\n",
    " **True model skill may lie outside of this range.**"
   ]
  },
  {
   "cell_type": "markdown",
   "id": "aab5deb5",
   "metadata": {},
   "source": [
    "### Feature Importances"
   ]
  },
  {
   "cell_type": "code",
   "execution_count": 72,
   "id": "f63003f2",
   "metadata": {
    "scrolled": false
   },
   "outputs": [
    {
     "data": {
      "image/png": "[encoded data removed]",
      "text/plain": [
       "<Figure size 1152x288 with 1 Axes>"
      ]
     },
     "metadata": {
      "needs_background": "light"
     },
     "output_type": "display_data"
    },
    {
     "name": "stdout",
     "output_type": "stream",
     "text": [
      "               Features  Importances\n",
      "16                SLP_1     0.621367\n",
      "11             CPType_4     0.094792\n",
      "1                   sex     0.041265\n",
      "18                SLP_3     0.028170\n",
      "6       exercise angina     0.022367\n",
      "4   fasting blood sugar     0.021721\n",
      "10             CPType_3     0.021450\n",
      "7               oldpeak     0.019285\n",
      "9              CPType_2     0.018965\n",
      "14                ECG_2     0.018645\n",
      "5        max heart rate     0.016475\n",
      "3           cholesterol     0.012516\n",
      "13                ECG_1     0.012484\n",
      "17                SLP_2     0.012206\n",
      "2          resting bp s     0.011808\n",
      "0                   age     0.010233\n",
      "12                ECG_0     0.008149\n",
      "8              CPType_1     0.008101\n",
      "15                SLP_0     0.000000\n"
     ]
    }
   ],
   "source": [
    "# Features Plot and list\n",
    "ft_1=pd.DataFrame({'Features':X.columns,'Importances':xgb.feature_importances_})\n",
    "ft_1=ft_1.sort_values(by='Importances',ascending=False)\n",
    "\n",
    "# Features plot\n",
    "\n",
    "plt.figure(figsize=(16,4))\n",
    "plt.bar(ft_1['Features'],ft_1['Importances'])\n",
    "plt.show()\n",
    "print(ft_1)"
   ]
  },
  {
   "cell_type": "markdown",
   "id": "8ccf3c8c",
   "metadata": {},
   "source": [
    "## SVM"
   ]
  },
  {
   "cell_type": "code",
   "execution_count": 73,
   "id": "40bfc40e",
   "metadata": {
    "scrolled": true
   },
   "outputs": [
    {
     "name": "stdout",
     "output_type": "stream",
     "text": [
      "svm_mcc_train 0.763\n",
      "svm_mcc_test 0.829\n",
      "\n",
      "svm_f1_train 0.881\n",
      "svm_f1_test 0.913\n",
      "\n",
      "Accuracy on train: 0.881\n",
      "Accuracy on test: 0.916\n",
      "\n",
      "Confusion Matrix:\n",
      "[[44  3]\n",
      " [ 7 65]]\n",
      "\n",
      "SVM Model Parameters\n"
     ]
    },
    {
     "data": {
      "text/plain": [
       "{'C': 1.0,\n",
       " 'break_ties': False,\n",
       " 'cache_size': 200,\n",
       " 'class_weight': None,\n",
       " 'coef0': 0.0,\n",
       " 'decision_function_shape': 'ovr',\n",
       " 'degree': 3,\n",
       " 'gamma': 'scale',\n",
       " 'kernel': 'poly',\n",
       " 'max_iter': -1,\n",
       " 'probability': True,\n",
       " 'random_state': 42,\n",
       " 'shrinking': True,\n",
       " 'tol': 0.001,\n",
       " 'verbose': False}"
      ]
     },
     "execution_count": 73,
     "metadata": {},
     "output_type": "execute_result"
    }
   ],
   "source": [
    "# SVM \n",
    "\n",
    "svm = SVC(C=1.0,kernel='poly',decision_function_shape='ovr',probability=True,degree=3,random_state=42)#kernel='linear','rbf','poly','sigmoid'\n",
    "svm.fit(X_train,y_train)\n",
    "\n",
    "pred_svm = svm.predict(X_test)\n",
    "pred2_svm = svm.predict(X_train)\n",
    "\n",
    "# Matthews correlation, f1 score and accuracy\n",
    "\n",
    "svm_mcc_train = matthews_corrcoef(y_train, pred2_svm)\n",
    "print('svm_mcc_train',svm_mcc_train.round(3))\n",
    "svm_mcc_test = matthews_corrcoef(y_test,pred_svm)\n",
    "print('svm_mcc_test',svm_mcc_test.round(3))\n",
    "\n",
    "print()\n",
    "\n",
    "svm_f1_train = f1_score(y_train,pred2_svm,average='macro')\n",
    "print('svm_f1_train',svm_f1_train.round(3))\n",
    "svm_f1_test = f1_score(y_test, pred_svm, average='macro')\n",
    "print('svm_f1_test',svm_f1_test.round(3))\n",
    "\n",
    "print()\n",
    "\n",
    "svm_acc_train = accuracy_score(y_train, pred2_svm)#variable for downstream results list\n",
    "svm_acc_test = accuracy_score(y_test,pred_svm)#variable for downstream results list\n",
    "\n",
    "\n",
    "print(\"Accuracy on train: {:.3f}\".format(accuracy_score(y_train,pred2_svm)))\n",
    "print(\"Accuracy on test: {:.3f}\".format(accuracy_score(y_test,pred_svm)))\n",
    "print()\n",
    "print('Confusion Matrix:\\n{}'.format(confusion_matrix(y_test,pred_svm)))\n",
    "print()\n",
    "print('SVM Model Parameters')\n",
    "svm.get_params()"
   ]
  },
  {
   "cell_type": "markdown",
   "id": "e8dfcc8d",
   "metadata": {},
   "source": [
    "### Cross validation"
   ]
  },
  {
   "cell_type": "code",
   "execution_count": 74,
   "id": "c3076d4d",
   "metadata": {},
   "outputs": [
    {
     "name": "stdout",
     "output_type": "stream",
     "text": [
      "85.37% accuracy with a standard deviation of 3.40%\n"
     ]
    }
   ],
   "source": [
    "# Cross Validation\n",
    "\n",
    "scores=cross_val_score(svm,X_train,y_train,cv=10,n_jobs=-1,scoring='f1')\n",
    "print(\"%0.2f%% accuracy with a standard deviation of %0.2f%%\" % (scores.mean()*100, scores.std()*100))"
   ]
  },
  {
   "cell_type": "markdown",
   "id": "3da7097d",
   "metadata": {},
   "source": [
    "### Classification report"
   ]
  },
  {
   "cell_type": "code",
   "execution_count": 75,
   "id": "c0d7d3ee",
   "metadata": {},
   "outputs": [
    {
     "name": "stdout",
     "output_type": "stream",
     "text": [
      "svm:               precision    recall  f1-score   support\n",
      "\n",
      "           0       0.86      0.94      0.90        47\n",
      "           1       0.96      0.90      0.93        72\n",
      "\n",
      "    accuracy                           0.92       119\n",
      "   macro avg       0.91      0.92      0.91       119\n",
      "weighted avg       0.92      0.92      0.92       119\n",
      "\n"
     ]
    }
   ],
   "source": [
    "# Classification report\n",
    "print(\"svm:\",classification_report(y_test, pred_svm))"
   ]
  },
  {
   "cell_type": "markdown",
   "id": "65e51daf",
   "metadata": {},
   "source": [
    "### Confusion matrix"
   ]
  },
  {
   "cell_type": "code",
   "execution_count": 76,
   "id": "aab288a8",
   "metadata": {},
   "outputs": [
    {
     "data": {
      "text/plain": [
       "Text(0.5, 16.0, 'Predicted Class')"
      ]
     },
     "execution_count": 76,
     "metadata": {},
     "output_type": "execute_result"
    },
    {
     "data": {
      "image/png": "[encoded data removed]",
      "text/plain": [
       "<Figure size 432x288 with 2 Axes>"
      ]
     },
     "metadata": {
      "needs_background": "light"
     },
     "output_type": "display_data"
    }
   ],
   "source": [
    "#Confusion matrix\n",
    "cm = confusion_matrix(y_test,pred_svm)\n",
    "#sns.heatmap(cm, annot=True)\n",
    "sns.heatmap(cm, annot=True, fmt='g', vmin=0, cbar=True, cmap='Greys')\n",
    "plt.title('Confusion Matrix')\n",
    "plt.ylabel('True Class')\n",
    "plt.xlabel('Predicted Class')"
   ]
  },
  {
   "cell_type": "markdown",
   "id": "e87d9f7d",
   "metadata": {},
   "source": [
    "### Performance Metrics"
   ]
  },
  {
   "cell_type": "code",
   "execution_count": 77,
   "id": "b4db4e1d",
   "metadata": {},
   "outputs": [
    {
     "name": "stdout",
     "output_type": "stream",
     "text": [
      "Class: {0: 'No Heart Disease', 1: 'Heart Disease'}\n",
      "Specificity: [0.90277778 0.93617021]\n",
      "Specificity Mean: 0.9194739952718676\n",
      "\n",
      "Class: {0: 'No Heart Disease', 1: 'Heart Disease'}\n",
      "Recall/Sensitivity: [0.93617021 0.90277778]\n",
      "Recall/Sensitivity Mean: 0.9194739952718676\n",
      "\n",
      "Class: {0: 'No Heart Disease', 1: 'Heart Disease'}\n",
      "Precision: [0.8627451  0.95588235]\n",
      "Precision Mean: 0.9093137254901962\n",
      "\n",
      "Class: {0: 'No Heart Disease', 1: 'Heart Disease'}\n",
      "False Positive Rate: [0.09722222 0.06382979]\n",
      "False Positive Rate Mean: 0.08052600472813239\n",
      "\n",
      "Class: {0: 'No Heart Disease', 1: 'Heart Disease'}\n",
      "False Negative Rate: [0.06382979 0.09722222]\n",
      "False Negative Rate Mean: 0.08052600472813239\n",
      "\n",
      "Class: {0: 'No Heart Disease', 1: 'Heart Disease'}\n",
      "False Discovery Rate: [0.1372549  0.04411765]\n",
      "False Discovery Rate Mean: 0.09068627450980393\n"
     ]
    }
   ],
   "source": [
    "#Performance metrics from confusion matrix \n",
    "\n",
    "FP = cm.sum(axis=0) - np.diag(cm) \n",
    "FN = cm.sum(axis=1) - np.diag(cm)\n",
    "TP = np.diag(cm)\n",
    "TN = cm.sum() - (FP + FN + TP)\n",
    "\n",
    "FP = FP.astype(float)\n",
    "FN = FN.astype(float)\n",
    "TP = TP.astype(float)\n",
    "TN = TN.astype(float)\n",
    "\n",
    "# Sensitivity, hit rate, Recall, or true positive rate\n",
    "TPR = TP/(TP+FN)\n",
    "\n",
    "# Specificity or true negative rate\n",
    "TNR = TN/(TN+FP) \n",
    "\n",
    "# Precision or positive predictive value\n",
    "PPV = TP/(TP+FP)\n",
    "\n",
    "# Negative predictive value\n",
    "NPV = TN/(TN+FN)\n",
    "\n",
    "# Fall out or false positive rate\n",
    "FPR = FP/(FP+TN)\n",
    "\n",
    "# False negative rate\n",
    "FNR = FN/(TP+FN)\n",
    "\n",
    "# False discovery rate\n",
    "FDR = FP/(TP+FP)\n",
    "\n",
    "\n",
    "print('Class:',class_label)\n",
    "\n",
    "print('Specificity:',TNR)\n",
    "print('Specificity Mean:',TNR.mean())\n",
    "\n",
    "print()\n",
    "\n",
    "print('Class:',class_label)\n",
    "\n",
    "print('Recall/Sensitivity:',TPR)\n",
    "print('Recall/Sensitivity Mean:',TPR.mean())\n",
    "\n",
    "print()\n",
    "\n",
    "print('Class:',class_label)\n",
    "\n",
    "print('Precision:',PPV)\n",
    "print('Precision Mean:',PPV.mean())\n",
    "\n",
    "print()\n",
    "\n",
    "print('Class:',class_label)\n",
    "\n",
    "print('False Positive Rate:',FPR)\n",
    "print('False Positive Rate Mean:',FPR.mean())\n",
    "\n",
    "print()\n",
    "\n",
    "print('Class:',class_label)\n",
    "\n",
    "print('False Negative Rate:',FNR)\n",
    "print('False Negative Rate Mean:',FNR.mean())\n",
    "\n",
    "print()\n",
    "\n",
    "print('Class:',class_label)\n",
    "\n",
    "print('False Discovery Rate:',FDR)\n",
    "print('False Discovery Rate Mean:',FDR.mean())"
   ]
  },
  {
   "cell_type": "markdown",
   "id": "09687c92",
   "metadata": {},
   "source": [
    "### ROC Plot"
   ]
  },
  {
   "cell_type": "code",
   "execution_count": 78,
   "id": "842fdcad",
   "metadata": {},
   "outputs": [
    {
     "data": {
      "text/plain": [
       "<matplotlib.legend.Legend at 0x1956914ed30>"
      ]
     },
     "execution_count": 78,
     "metadata": {},
     "output_type": "execute_result"
    },
    {
     "data": {
      "image/png": "[encoded data removed]",
      "text/plain": [
       "<Figure size 576x432 with 1 Axes>"
      ]
     },
     "metadata": {
      "needs_background": "light"
     },
     "output_type": "display_data"
    }
   ],
   "source": [
    "#ROC Plot\n",
    "from sklearn.multiclass import OneVsRestClassifier\n",
    "from sklearn.metrics import roc_curve\n",
    "from sklearn.metrics import roc_auc_score\n",
    "\n",
    "prediction_cplx = svm.predict_proba(X_test)\n",
    "\n",
    "# roc curve for classes\n",
    "fpr = {}\n",
    "tpr = {}\n",
    "thresh ={}\n",
    "\n",
    "n_class = 2\n",
    "\n",
    "for i in range(n_class):    \n",
    "    fpr[i], tpr[i], thresh[i] = roc_curve(y_test, prediction_cplx[:,i], pos_label=i)\n",
    "\n",
    "#y_score = classifier.fit(X_train, y_train).decision_function(X_test)\n",
    "# Compute micro-average ROC curve and ROC area\n",
    "#fpr[\"micro\"], tpr[\"micro\"], _ = roc_curve(y_test.ravel(), y_score.ravel())\n",
    "#roc_auc[\"micro\"] = auc(fpr[\"micro\"], tpr[\"micro\"])  \n",
    "\n",
    "\n",
    "\n",
    "    \n",
    "# plotting\n",
    "plt.figure(figsize=(8, 6))\n",
    "plt.plot(fpr[0], tpr[0], linestyle='--',color='steelblue', label='No Heart Disease 0')\n",
    "plt.plot(fpr[1], tpr[1], linestyle='--',color='red', label='Heart Disease 1')\n",
    "plt.plot([0,1],[0,1],color=\"black\",linestyle=\"--\")\n",
    "#plt.plot(fpr[2], tpr[2], linestyle='--',color='blue', label='Class 2 vs Rest')\n",
    "#plt.plot(fpr[3], tpr[3], linestyle='--',color='red', label='Class 3 vs Rest')\n",
    "#plt.plot(fpr[4], tpr[4], linestyle='--',color='black', label='Class 4 vs Rest')\n",
    "#plt.plot(fpr[5], tpr[5], linestyle='--',color='purple', label='Class 5 vs Rest')\n",
    "#plt.plot(fpr[6], tpr[6], linestyle='--',color='yellow', label='Class 6 vs Rest')\n",
    "plt.title('ROC: SVM')\n",
    "plt.text(0.6,0.5,\"Baseline\")\n",
    "plt.xlabel('False Positive Rate')\n",
    "plt.ylabel('True Positive rate')\n",
    "plt.legend(loc='best')\n",
    "#plt.savefig('SVM ROC',dpi=300); "
   ]
  },
  {
   "cell_type": "markdown",
   "id": "937c3fda",
   "metadata": {},
   "source": [
    "### ROC AUC Score"
   ]
  },
  {
   "cell_type": "code",
   "execution_count": 79,
   "id": "fb829609",
   "metadata": {},
   "outputs": [
    {
     "name": "stdout",
     "output_type": "stream",
     "text": [
      "SVM AUC Score: 0.9474\n"
     ]
    }
   ],
   "source": [
    "# AUC score\n",
    "\n",
    "#from sklearn.metrics import roc_auc_score\n",
    "svm_auc_score = roc_auc_score(y_test, prediction_cplx[:,i]).round(4)\n",
    "\n",
    "print('SVM AUC Score:',svm_auc_score)"
   ]
  },
  {
   "cell_type": "markdown",
   "id": "08d36ce7",
   "metadata": {},
   "source": [
    "## Predictions and Confidences\n",
    " ### Classes and Probabilities"
   ]
  },
  {
   "cell_type": "code",
   "execution_count": 80,
   "id": "f5e90f3f",
   "metadata": {},
   "outputs": [
    {
     "data": {
      "text/html": [
       "<div>\n",
       "<style scoped>\n",
       "    .dataframe tbody tr th:only-of-type {\n",
       "        vertical-align: middle;\n",
       "    }\n",
       "\n",
       "    .dataframe tbody tr th {\n",
       "        vertical-align: top;\n",
       "    }\n",
       "\n",
       "    .dataframe thead th {\n",
       "        text-align: right;\n",
       "    }\n",
       "</style>\n",
       "<table border=\"1\" class=\"dataframe\">\n",
       "  <thead>\n",
       "    <tr style=\"text-align: right;\">\n",
       "      <th></th>\n",
       "      <th>No heart disease</th>\n",
       "      <th>Heart disease</th>\n",
       "      <th>Predicted class</th>\n",
       "    </tr>\n",
       "  </thead>\n",
       "  <tbody>\n",
       "    <tr>\n",
       "      <th>0</th>\n",
       "      <td>0.017</td>\n",
       "      <td>0.983</td>\n",
       "      <td>1</td>\n",
       "    </tr>\n",
       "    <tr>\n",
       "      <th>1</th>\n",
       "      <td>0.272</td>\n",
       "      <td>0.728</td>\n",
       "      <td>1</td>\n",
       "    </tr>\n",
       "    <tr>\n",
       "      <th>2</th>\n",
       "      <td>0.945</td>\n",
       "      <td>0.055</td>\n",
       "      <td>0</td>\n",
       "    </tr>\n",
       "    <tr>\n",
       "      <th>3</th>\n",
       "      <td>0.043</td>\n",
       "      <td>0.957</td>\n",
       "      <td>1</td>\n",
       "    </tr>\n",
       "    <tr>\n",
       "      <th>4</th>\n",
       "      <td>0.780</td>\n",
       "      <td>0.220</td>\n",
       "      <td>0</td>\n",
       "    </tr>\n",
       "  </tbody>\n",
       "</table>\n",
       "</div>"
      ],
      "text/plain": [
       "   No heart disease  Heart disease  Predicted class\n",
       "0             0.017          0.983                1\n",
       "1             0.272          0.728                1\n",
       "2             0.945          0.055                0\n",
       "3             0.043          0.957                1\n",
       "4             0.780          0.220                0"
      ]
     },
     "execution_count": 80,
     "metadata": {},
     "output_type": "execute_result"
    }
   ],
   "source": [
    "# Classes and Probabilities\n",
    "\n",
    "prediction_probability = svm.predict_proba(X_test)\n",
    "prediction_cplx = svm.predict(X_test)\n",
    "\n",
    "class_df = pd.DataFrame(prediction_cplx.round(3),columns=['Predicted class'])\n",
    "proba_df = pd.DataFrame(prediction_probability.round(3),columns=['No heart disease','Heart disease'])\n",
    "\n",
    "#pred_list = pd.concat(['frame','target_rs'],axis= 1)\n",
    "\n",
    "\n",
    "predictions_df = pd.concat([proba_df,class_df ], axis=1)\n",
    "predictions_df.head()"
   ]
  },
  {
   "cell_type": "markdown",
   "id": "e5053c17",
   "metadata": {},
   "source": [
    "### Index of  incorrect predictions"
   ]
  },
  {
   "cell_type": "code",
   "execution_count": 81,
   "id": "c4653c93",
   "metadata": {},
   "outputs": [
    {
     "data": {
      "text/plain": [
       "(array([  4,  18,  23,  40,  60,  63,  69,  76,  97, 101], dtype=int64),)"
      ]
     },
     "execution_count": 81,
     "metadata": {},
     "output_type": "execute_result"
    }
   ],
   "source": [
    "# Incorrect predictions\n",
    "\n",
    "incorrects = np.nonzero(prediction_cplx.reshape((-1,)) != y_test)\n",
    "incorrects"
   ]
  },
  {
   "cell_type": "markdown",
   "id": "c19552ca",
   "metadata": {},
   "source": [
    "### Jaccard similarity coefficient"
   ]
  },
  {
   "cell_type": "code",
   "execution_count": 82,
   "id": "09419132",
   "metadata": {},
   "outputs": [
    {
     "data": {
      "text/html": [
       "<div>\n",
       "<style scoped>\n",
       "    .dataframe tbody tr th:only-of-type {\n",
       "        vertical-align: middle;\n",
       "    }\n",
       "\n",
       "    .dataframe tbody tr th {\n",
       "        vertical-align: top;\n",
       "    }\n",
       "\n",
       "    .dataframe thead th {\n",
       "        text-align: right;\n",
       "    }\n",
       "</style>\n",
       "<table border=\"1\" class=\"dataframe\">\n",
       "  <thead>\n",
       "    <tr style=\"text-align: right;\">\n",
       "      <th></th>\n",
       "      <th>Jaccard score</th>\n",
       "    </tr>\n",
       "  </thead>\n",
       "  <tbody>\n",
       "    <tr>\n",
       "      <th>0</th>\n",
       "      <td>0.814815</td>\n",
       "    </tr>\n",
       "    <tr>\n",
       "      <th>1</th>\n",
       "      <td>0.866667</td>\n",
       "    </tr>\n",
       "  </tbody>\n",
       "</table>\n",
       "</div>"
      ],
      "text/plain": [
       "   Jaccard score\n",
       "0       0.814815\n",
       "1       0.866667"
      ]
     },
     "execution_count": 82,
     "metadata": {},
     "output_type": "execute_result"
    }
   ],
   "source": [
    "# Jaccard similarity coefficient\n",
    "# Predicted class compared with actual class\n",
    "\n",
    "jaccard = jaccard_score(y_test, prediction_cplx, average = None)#prediction_probability\n",
    "\n",
    "jaccard_df = pd.DataFrame(jaccard,columns=['Jaccard score'])\n",
    "jaccard_df"
   ]
  },
  {
   "cell_type": "markdown",
   "id": "87b33476",
   "metadata": {},
   "source": [
    "## Confidence interval\n",
    "\n",
    "The confidence interval is a likelihood over a range. The true model skill may lie outside of this range.\n",
    " \n",
    "**Commonly used number of standard deviations from the Gaussian distribution and their corresponding significance level are as follows:**\n",
    "\n",
    "* 1.64 (90%)\n",
    "* 1.96 (95%)\n",
    "* 2.33 (98%)\n",
    "* 2.58 (99%)\n",
    "\n",
    "### Using model error"
   ]
  },
  {
   "cell_type": "code",
   "execution_count": 97,
   "id": "6b98ff71",
   "metadata": {},
   "outputs": [
    {
     "name": "stdout",
     "output_type": "stream",
     "text": [
      "Classification error interval: 0.049\n"
     ]
    }
   ],
   "source": [
    "# 95% confidence interval\n",
    "# Calculated radius of the confidence interval using model error\n",
    "\n",
    "# where: interval = z * sqrt( (error * (1 - error)) / n)\n",
    "\n",
    "interval = 1.96 * sqrt( (0.08 * (1 - .08)) / 119)\n",
    "print('Classification error interval: %.3f' % interval)"
   ]
  },
  {
   "cell_type": "markdown",
   "id": "2ea761fb",
   "metadata": {},
   "source": [
    "* The classification error of the model is 8% +/- 5%\n",
    "* The true classification error of the model on unseen data is likely between 3% and 13%.\n",
    " \n",
    " **The true model skill may lie outside of this range.**"
   ]
  },
  {
   "cell_type": "markdown",
   "id": "28581fe0",
   "metadata": {},
   "source": [
    "### Upper and lower bounds of model classification accuracy"
   ]
  },
  {
   "cell_type": "code",
   "execution_count": 98,
   "id": "c3f52005",
   "metadata": {},
   "outputs": [
    {
     "name": "stdout",
     "output_type": "stream",
     "text": [
      "Lower Bounds of Accuracy:0.866 \n",
      "Upper Bounds of Accuracy:0.966 \n"
     ]
    }
   ],
   "source": [
    "# Upper and lower bounds of model accuracy\n",
    "\n",
    "# 218 correct predictions of 238 instances and with 95% confidence interval,\n",
    "# (provided to the function as a significance of 0.05)\n",
    "\n",
    "lower, upper = proportion_confint(109, 119, 0.05)\n",
    "\n",
    "print('Lower Bounds of Accuracy:%.3f ' % lower)\n",
    "print('Upper Bounds of Accuracy:%.3f ' %upper)"
   ]
  },
  {
   "cell_type": "markdown",
   "id": "509f31c0",
   "metadata": {},
   "source": [
    " **The true classification accuracy of the model on unseen data is likely between 87% and 97%**.\n",
    "\n",
    " **True model skill may lie outside of this range.**"
   ]
  },
  {
   "cell_type": "markdown",
   "id": "dec110c8",
   "metadata": {},
   "source": [
    "### KNN"
   ]
  },
  {
   "cell_type": "code",
   "execution_count": 83,
   "id": "3ad34649",
   "metadata": {
    "scrolled": true
   },
   "outputs": [
    {
     "name": "stdout",
     "output_type": "stream",
     "text": [
      "knn_mcc_train 0.862\n",
      "knn_mcc_test 0.679\n",
      "\n",
      "knn_f1_train 0.931\n",
      "knn_f1_test 0.837\n",
      "\n",
      "knn_Acc on train: 0.931\n",
      "knn_Acc on test: 0.840\n",
      "\n",
      "Confusion Matrix:\n",
      "[[41  6]\n",
      " [13 59]]\n",
      "\n",
      "KNN Model Parameters\n"
     ]
    },
    {
     "data": {
      "text/plain": [
       "{'algorithm': 'auto',\n",
       " 'leaf_size': 30,\n",
       " 'metric': 'minkowski',\n",
       " 'metric_params': None,\n",
       " 'n_jobs': -1,\n",
       " 'n_neighbors': 3,\n",
       " 'p': 2,\n",
       " 'weights': 'uniform'}"
      ]
     },
     "execution_count": 83,
     "metadata": {},
     "output_type": "execute_result"
    }
   ],
   "source": [
    "#KNN\n",
    "\n",
    "\n",
    "knn= KNeighborsClassifier(n_neighbors=3, n_jobs=-1).fit(X_train,y_train)\n",
    "\n",
    "pred_knn = knn.predict(X_test)\n",
    "pred2_knn = knn.predict(X_train)\n",
    "\n",
    "# Matthews correlation, f1 score and accuracy\n",
    "\n",
    "knn_mcc_train = matthews_corrcoef(y_train, pred2_knn)\n",
    "print('knn_mcc_train',knn_mcc_train.round(3))\n",
    "knn_mcc_test = matthews_corrcoef(y_test,pred_knn)\n",
    "print('knn_mcc_test',knn_mcc_test.round(3))\n",
    "\n",
    "print()\n",
    "knn_f1_train = f1_score(y_train,pred2_knn,average='macro')\n",
    "print('knn_f1_train',knn_f1_train.round(3))\n",
    "knn_f1_test = f1_score(y_test, pred_knn, average='macro')\n",
    "print('knn_f1_test',knn_f1_test.round(3))\n",
    "\n",
    "knn_acc_train = accuracy_score(y_train, pred2_knn) #variable for downstream results list\n",
    "knn_acc_test = accuracy_score(y_test,pred_knn) #variable for downstream results list\n",
    "\n",
    "print()\n",
    "\n",
    "#print('knn acc on train',knn_acc_train.round(3)) \n",
    "\n",
    "print(\"knn_Acc on train: {:.3f}\".format(accuracy_score(y_train, pred2_knn)))\n",
    "print(\"knn_Acc on test: {:.3f}\".format(accuracy_score(y_test, pred_knn)))\n",
    "print()\n",
    "print('Confusion Matrix:\\n{}'.format(confusion_matrix(y_test,pred_knn))) \n",
    "print()\n",
    "print('KNN Model Parameters')\n",
    "knn.get_params()"
   ]
  },
  {
   "cell_type": "markdown",
   "id": "862b6208",
   "metadata": {},
   "source": [
    "### Cross validation"
   ]
  },
  {
   "cell_type": "code",
   "execution_count": 84,
   "id": "d122fc90",
   "metadata": {},
   "outputs": [
    {
     "name": "stdout",
     "output_type": "stream",
     "text": [
      "83.96% accuracy with a standard deviation of 3.40%\n"
     ]
    }
   ],
   "source": [
    "# Cross Validation\n",
    "\n",
    "scores=cross_val_score(knn,X_train,y_train,cv=10,n_jobs=-1,scoring='f1')\n",
    "print(\"%0.2f%% accuracy with a standard deviation of %0.2f%%\" % (scores.mean()*100, scores.std()*100))"
   ]
  },
  {
   "cell_type": "markdown",
   "id": "e5d0fb04",
   "metadata": {},
   "source": [
    "### Classification report"
   ]
  },
  {
   "cell_type": "code",
   "execution_count": 85,
   "id": "ff99e80e",
   "metadata": {
    "scrolled": true
   },
   "outputs": [
    {
     "name": "stdout",
     "output_type": "stream",
     "text": [
      "knn:               precision    recall  f1-score   support\n",
      "\n",
      "           0       0.76      0.87      0.81        47\n",
      "           1       0.91      0.82      0.86        72\n",
      "\n",
      "    accuracy                           0.84       119\n",
      "   macro avg       0.83      0.85      0.84       119\n",
      "weighted avg       0.85      0.84      0.84       119\n",
      "\n"
     ]
    }
   ],
   "source": [
    "# Classification report\n",
    "print('knn:',classification_report(y_test, pred_knn))"
   ]
  },
  {
   "cell_type": "markdown",
   "id": "8c266601",
   "metadata": {},
   "source": [
    "### Confusion matrix"
   ]
  },
  {
   "cell_type": "code",
   "execution_count": 86,
   "id": "dd0722da",
   "metadata": {},
   "outputs": [
    {
     "data": {
      "text/plain": [
       "Text(0.5, 16.0, 'Predicted Class')"
      ]
     },
     "execution_count": 86,
     "metadata": {},
     "output_type": "execute_result"
    },
    {
     "data": {
      "image/png": "[encoded data removed]",
      "text/plain": [
       "<Figure size 432x288 with 2 Axes>"
      ]
     },
     "metadata": {
      "needs_background": "light"
     },
     "output_type": "display_data"
    }
   ],
   "source": [
    "#Confusion matrix\n",
    "cm = confusion_matrix(y_test,pred_knn)\n",
    "#sns.heatmap(cm, annot=True)\n",
    "sns.heatmap(cm, annot=True, fmt='g', vmin=0, cbar=True, cmap='Greys')\n",
    "plt.title('Confusion Matrix')\n",
    "plt.ylabel('True Class')\n",
    "plt.xlabel('Predicted Class')"
   ]
  },
  {
   "cell_type": "markdown",
   "id": "95d71d0b",
   "metadata": {},
   "source": [
    "### Performance Metrics"
   ]
  },
  {
   "cell_type": "code",
   "execution_count": 87,
   "id": "c82375f1",
   "metadata": {},
   "outputs": [
    {
     "name": "stdout",
     "output_type": "stream",
     "text": [
      "Class: {0: 'No Heart Disease', 1: 'Heart Disease'}\n",
      "Specificity: [0.81944444 0.87234043]\n",
      "Specificity Mean: 0.8458924349881797\n",
      "\n",
      "Class: {0: 'No Heart Disease', 1: 'Heart Disease'}\n",
      "Recall/Sensitivity: [0.87234043 0.81944444]\n",
      "Recall/Sensitivity Mean: 0.8458924349881797\n",
      "\n",
      "Class: {0: 'No Heart Disease', 1: 'Heart Disease'}\n",
      "Precision: [0.75925926 0.90769231]\n",
      "Precision Mean: 0.8334757834757835\n",
      "\n",
      "Class: {0: 'No Heart Disease', 1: 'Heart Disease'}\n",
      "False Positive Rate: [0.18055556 0.12765957]\n",
      "False Positive Rate Mean: 0.15410756501182032\n",
      "\n",
      "Class: {0: 'No Heart Disease', 1: 'Heart Disease'}\n",
      "False Negative Rate: [0.12765957 0.18055556]\n",
      "False Negative Rate Mean: 0.15410756501182032\n",
      "\n",
      "Class: {0: 'No Heart Disease', 1: 'Heart Disease'}\n",
      "False Discovery Rate: [0.24074074 0.09230769]\n",
      "False Discovery Rate Mean: 0.1665242165242165\n"
     ]
    }
   ],
   "source": [
    "#Performance metrics from confusion matrix \n",
    "\n",
    "FP = cm.sum(axis=0) - np.diag(cm) \n",
    "FN = cm.sum(axis=1) - np.diag(cm)\n",
    "TP = np.diag(cm)\n",
    "TN = cm.sum() - (FP + FN + TP)\n",
    "\n",
    "FP = FP.astype(float)\n",
    "FN = FN.astype(float)\n",
    "TP = TP.astype(float)\n",
    "TN = TN.astype(float)\n",
    "\n",
    "# Sensitivity, hit rate, Recall, or true positive rate\n",
    "TPR = TP/(TP+FN)\n",
    "\n",
    "# Specificity or true negative rate\n",
    "TNR = TN/(TN+FP) \n",
    "\n",
    "# Precision or positive predictive value\n",
    "PPV = TP/(TP+FP)\n",
    "\n",
    "# Negative predictive value\n",
    "NPV = TN/(TN+FN)\n",
    "\n",
    "# Fall out or false positive rate\n",
    "FPR = FP/(FP+TN)\n",
    "\n",
    "# False negative rate\n",
    "FNR = FN/(TP+FN)\n",
    "\n",
    "# False discovery rate\n",
    "FDR = FP/(TP+FP)\n",
    "\n",
    "\n",
    "print('Class:',class_label)\n",
    "\n",
    "print('Specificity:',TNR)\n",
    "print('Specificity Mean:',TNR.mean())\n",
    "\n",
    "print()\n",
    "\n",
    "print('Class:',class_label)\n",
    "\n",
    "print('Recall/Sensitivity:',TPR)\n",
    "print('Recall/Sensitivity Mean:',TPR.mean())\n",
    "\n",
    "print()\n",
    "\n",
    "print('Class:',class_label)\n",
    "\n",
    "print('Precision:',PPV)\n",
    "print('Precision Mean:',PPV.mean())\n",
    "\n",
    "print()\n",
    "\n",
    "print('Class:',class_label)\n",
    "\n",
    "print('False Positive Rate:',FPR)\n",
    "print('False Positive Rate Mean:',FPR.mean())\n",
    "\n",
    "print()\n",
    "\n",
    "print('Class:',class_label)\n",
    "\n",
    "print('False Negative Rate:',FNR)\n",
    "print('False Negative Rate Mean:',FNR.mean())\n",
    "\n",
    "print()\n",
    "\n",
    "print('Class:',class_label)\n",
    "\n",
    "print('False Discovery Rate:',FDR)\n",
    "print('False Discovery Rate Mean:',FDR.mean())"
   ]
  },
  {
   "cell_type": "markdown",
   "id": "a053f06f",
   "metadata": {},
   "source": [
    "### ROC Plot"
   ]
  },
  {
   "cell_type": "code",
   "execution_count": 88,
   "id": "9c243781",
   "metadata": {
    "scrolled": false
   },
   "outputs": [
    {
     "data": {
      "text/plain": [
       "<matplotlib.legend.Legend at 0x19569986640>"
      ]
     },
     "execution_count": 88,
     "metadata": {},
     "output_type": "execute_result"
    },
    {
     "data": {
      "image/png": "[encoded data removed]",
      "text/plain": [
       "<Figure size 576x432 with 1 Axes>"
      ]
     },
     "metadata": {
      "needs_background": "light"
     },
     "output_type": "display_data"
    }
   ],
   "source": [
    "#ROC Plot\n",
    "from sklearn.multiclass import OneVsRestClassifier\n",
    "from sklearn.metrics import roc_curve\n",
    "from sklearn.metrics import roc_auc_score\n",
    "\n",
    "prediction_cplx = knn.predict_proba(X_test)\n",
    "\n",
    "# roc curve for classes\n",
    "fpr = {}\n",
    "tpr = {}\n",
    "thresh ={}\n",
    "\n",
    "n_class = 2\n",
    "\n",
    "for i in range(n_class):    \n",
    "    fpr[i], tpr[i], thresh[i] = roc_curve(y_test, prediction_cplx[:,i], pos_label=i)\n",
    "\n",
    "#y_score = classifier.fit(X_train, y_train).decision_function(X_test)\n",
    "# Compute micro-average ROC curve and ROC area\n",
    "#fpr[\"micro\"], tpr[\"micro\"], _ = roc_curve(y_test.ravel(), y_score.ravel())\n",
    "#roc_auc[\"micro\"] = auc(fpr[\"micro\"], tpr[\"micro\"])  \n",
    "\n",
    "\n",
    "\n",
    "    \n",
    "# plotting\n",
    "plt.figure(figsize=(8, 6))\n",
    "plt.plot(fpr[0], tpr[0], linestyle='--',color='steelblue', label='No Heart Disease 0')\n",
    "plt.plot(fpr[1], tpr[1], linestyle='--',color='red', label='Heart Disease 1')\n",
    "plt.plot([0,1],[0,1],color=\"black\",linestyle=\"--\")\n",
    "#plt.plot(fpr[2], tpr[2], linestyle='--',color='blue', label='Class 2 vs Rest')\n",
    "#plt.plot(fpr[3], tpr[3], linestyle='--',color='red', label='Class 3 vs Rest')\n",
    "#plt.plot(fpr[4], tpr[4], linestyle='--',color='black', label='Class 4 vs Rest')\n",
    "#plt.plot(fpr[5], tpr[5], linestyle='--',color='purple', label='Class 5 vs Rest')\n",
    "#plt.plot(fpr[6], tpr[6], linestyle='--',color='yellow', label='Class 6 vs Rest')\n",
    "plt.title('ROC: KNN')\n",
    "plt.text(0.6,0.5,\"Baseline\")\n",
    "plt.xlabel('False Positive Rate')\n",
    "plt.ylabel('True Positive rate')\n",
    "plt.legend(loc='best')\n",
    "#plt.savefig('KNN ROC',dpi=300); "
   ]
  },
  {
   "cell_type": "markdown",
   "id": "8ec1f1f7",
   "metadata": {},
   "source": [
    "### AUC Score"
   ]
  },
  {
   "cell_type": "code",
   "execution_count": 89,
   "id": "569e016c",
   "metadata": {},
   "outputs": [
    {
     "name": "stdout",
     "output_type": "stream",
     "text": [
      "KNN AUC Score: 0.9473\n"
     ]
    }
   ],
   "source": [
    "# AUC score\n",
    "\n",
    "#from sklearn.metrics import roc_auc_score\n",
    "knn_auc_score = roc_auc_score(y_test, prediction_cplx[:,i]).round(4)\n",
    "\n",
    "print('KNN AUC Score:',knn_auc_score)"
   ]
  },
  {
   "cell_type": "markdown",
   "id": "0e56c2c5",
   "metadata": {},
   "source": [
    "## Predictions and Confidences\n",
    " ### Classes and Probabilities"
   ]
  },
  {
   "cell_type": "code",
   "execution_count": 90,
   "id": "0829e074",
   "metadata": {},
   "outputs": [
    {
     "data": {
      "text/html": [
       "<div>\n",
       "<style scoped>\n",
       "    .dataframe tbody tr th:only-of-type {\n",
       "        vertical-align: middle;\n",
       "    }\n",
       "\n",
       "    .dataframe tbody tr th {\n",
       "        vertical-align: top;\n",
       "    }\n",
       "\n",
       "    .dataframe thead th {\n",
       "        text-align: right;\n",
       "    }\n",
       "</style>\n",
       "<table border=\"1\" class=\"dataframe\">\n",
       "  <thead>\n",
       "    <tr style=\"text-align: right;\">\n",
       "      <th></th>\n",
       "      <th>No heart disease</th>\n",
       "      <th>Heart disease</th>\n",
       "      <th>Predicted class</th>\n",
       "    </tr>\n",
       "  </thead>\n",
       "  <tbody>\n",
       "    <tr>\n",
       "      <th>0</th>\n",
       "      <td>0.000</td>\n",
       "      <td>1.000</td>\n",
       "      <td>1</td>\n",
       "    </tr>\n",
       "    <tr>\n",
       "      <th>1</th>\n",
       "      <td>1.000</td>\n",
       "      <td>0.000</td>\n",
       "      <td>0</td>\n",
       "    </tr>\n",
       "    <tr>\n",
       "      <th>2</th>\n",
       "      <td>1.000</td>\n",
       "      <td>0.000</td>\n",
       "      <td>0</td>\n",
       "    </tr>\n",
       "    <tr>\n",
       "      <th>3</th>\n",
       "      <td>0.000</td>\n",
       "      <td>1.000</td>\n",
       "      <td>1</td>\n",
       "    </tr>\n",
       "    <tr>\n",
       "      <th>4</th>\n",
       "      <td>0.667</td>\n",
       "      <td>0.333</td>\n",
       "      <td>0</td>\n",
       "    </tr>\n",
       "  </tbody>\n",
       "</table>\n",
       "</div>"
      ],
      "text/plain": [
       "   No heart disease  Heart disease  Predicted class\n",
       "0             0.000          1.000                1\n",
       "1             1.000          0.000                0\n",
       "2             1.000          0.000                0\n",
       "3             0.000          1.000                1\n",
       "4             0.667          0.333                0"
      ]
     },
     "execution_count": 90,
     "metadata": {},
     "output_type": "execute_result"
    }
   ],
   "source": [
    "# Classes and Probabilities\n",
    "\n",
    "prediction_probability = knn.predict_proba(X_test)\n",
    "prediction_cplx = knn.predict(X_test)\n",
    "\n",
    "class_df = pd.DataFrame(prediction_cplx.round(3),columns=['Predicted class'])\n",
    "proba_df = pd.DataFrame(prediction_probability.round(3),columns=['No heart disease','Heart disease'])\n",
    "\n",
    "#pred_list = pd.concat(['frame','target_rs'],axis= 1)\n",
    "\n",
    "\n",
    "predictions_df = pd.concat([proba_df,class_df ], axis=1)\n",
    "predictions_df.head()"
   ]
  },
  {
   "cell_type": "markdown",
   "id": "49aa230c",
   "metadata": {},
   "source": [
    "### Index of  incorrect predictions"
   ]
  },
  {
   "cell_type": "code",
   "execution_count": 91,
   "id": "ec372cd2",
   "metadata": {},
   "outputs": [
    {
     "data": {
      "text/plain": [
       "(array([  1,   4,  18,  24,  29,  30,  40,  55,  56,  60,  63,  65,  75,\n",
       "         76,  81,  97, 101, 104, 109], dtype=int64),)"
      ]
     },
     "execution_count": 91,
     "metadata": {},
     "output_type": "execute_result"
    }
   ],
   "source": [
    "# Incorrect predictions\n",
    "\n",
    "incorrects = np.nonzero(prediction_cplx.reshape((-1,)) != y_test)\n",
    "incorrects"
   ]
  },
  {
   "cell_type": "markdown",
   "id": "e7396bf4",
   "metadata": {},
   "source": [
    "### Jaccard similarity coefficient"
   ]
  },
  {
   "cell_type": "code",
   "execution_count": 92,
   "id": "4284ca78",
   "metadata": {},
   "outputs": [
    {
     "data": {
      "text/html": [
       "<div>\n",
       "<style scoped>\n",
       "    .dataframe tbody tr th:only-of-type {\n",
       "        vertical-align: middle;\n",
       "    }\n",
       "\n",
       "    .dataframe tbody tr th {\n",
       "        vertical-align: top;\n",
       "    }\n",
       "\n",
       "    .dataframe thead th {\n",
       "        text-align: right;\n",
       "    }\n",
       "</style>\n",
       "<table border=\"1\" class=\"dataframe\">\n",
       "  <thead>\n",
       "    <tr style=\"text-align: right;\">\n",
       "      <th></th>\n",
       "      <th>Jaccard score</th>\n",
       "    </tr>\n",
       "  </thead>\n",
       "  <tbody>\n",
       "    <tr>\n",
       "      <th>0</th>\n",
       "      <td>0.683333</td>\n",
       "    </tr>\n",
       "    <tr>\n",
       "      <th>1</th>\n",
       "      <td>0.756410</td>\n",
       "    </tr>\n",
       "  </tbody>\n",
       "</table>\n",
       "</div>"
      ],
      "text/plain": [
       "   Jaccard score\n",
       "0       0.683333\n",
       "1       0.756410"
      ]
     },
     "execution_count": 92,
     "metadata": {},
     "output_type": "execute_result"
    }
   ],
   "source": [
    "# Jaccard similarity coefficient\n",
    "# Predicted class compared with actual class\n",
    "\n",
    "jaccard = jaccard_score(y_test, prediction_cplx, average = None)#prediction_probability\n",
    "\n",
    "jaccard_df = pd.DataFrame(jaccard,columns=['Jaccard score'])\n",
    "jaccard_df"
   ]
  },
  {
   "cell_type": "markdown",
   "id": "760d1f25",
   "metadata": {},
   "source": [
    "## Confidence interval\n",
    "\n",
    "The confidence interval is a likelihood over a range. The true model skill may lie outside of this range.\n",
    " \n",
    "**Commonly used number of standard deviations from the Gaussian distribution and their corresponding significance level are as follows:**\n",
    "\n",
    "* 1.64 (90%)\n",
    "* 1.96 (95%)\n",
    "* 2.33 (98%)\n",
    "* 2.58 (99%)\n",
    "\n",
    "### Using model error"
   ]
  },
  {
   "cell_type": "code",
   "execution_count": 109,
   "id": "bb6a966d",
   "metadata": {},
   "outputs": [
    {
     "name": "stdout",
     "output_type": "stream",
     "text": [
      "Classification error interval: 0.066\n"
     ]
    }
   ],
   "source": [
    "# 95% confidence interval\n",
    "# Calculated radius of the confidence interval using model error\n",
    "\n",
    "# where: interval = z * sqrt( (error * (1 - error)) / n)\n",
    "\n",
    "interval = 1.96 * sqrt( (0.16 * (1 - .16)) / 119)\n",
    "print('Classification error interval: %.3f' % interval)"
   ]
  },
  {
   "cell_type": "markdown",
   "id": "7adc4e0f",
   "metadata": {},
   "source": [
    "* The classification error of the model is 16% +/- 7%\n",
    "* The true classification error of the model on unseen data is likely between 9% and 23%.\n",
    " \n",
    " **The true model skill may lie outside of this range.**"
   ]
  },
  {
   "cell_type": "markdown",
   "id": "f080250e",
   "metadata": {},
   "source": [
    "### Upper and lower bounds of model classification accuracy"
   ]
  },
  {
   "cell_type": "code",
   "execution_count": 110,
   "id": "d000bfd0",
   "metadata": {},
   "outputs": [
    {
     "name": "stdout",
     "output_type": "stream",
     "text": [
      "Lower Bounds of Accuracy:0.775 \n",
      "Upper Bounds of Accuracy:0.906 \n"
     ]
    }
   ],
   "source": [
    "# Upper and lower bounds of model accuracy\n",
    "\n",
    "# 218 correct predictions of 238 instances and with 95% confidence interval,\n",
    "# (provided to the function as a significance of 0.05)\n",
    "\n",
    "lower, upper = proportion_confint(100, 119, 0.05)\n",
    "\n",
    "print('Lower Bounds of Accuracy:%.3f ' % lower)\n",
    "print('Upper Bounds of Accuracy:%.3f ' %upper)"
   ]
  },
  {
   "cell_type": "markdown",
   "id": "557170e3",
   "metadata": {},
   "source": [
    " **The true classification accuracy of the model on unseen data is likely between 78% and 91%**.\n",
    "\n",
    " **True model skill may lie outside of this range.**"
   ]
  },
  {
   "cell_type": "markdown",
   "id": "909dcc16",
   "metadata": {},
   "source": [
    "# Stacking the Models"
   ]
  },
  {
   "cell_type": "code",
   "execution_count": 94,
   "id": "b25491d5",
   "metadata": {
    "scrolled": true
   },
   "outputs": [
    {
     "name": "stdout",
     "output_type": "stream",
     "text": [
      "\n",
      "Model performance for Training set\n",
      "\n",
      "- Accuracy: 1.0\n",
      "- MCC: 1.0\n",
      "- F1 score: 1.0\n",
      "\n",
      "----------------------------------\n",
      "\n",
      "Model performance for Test set\n",
      "\n",
      "- Accuracy: 0.957983193277311\n",
      "- MCC: 0.9142949068105586\n",
      "- F1 score: 0.9581859504056064\n",
      "\n",
      "Stack Model Parameters\n"
     ]
    },
    {
     "data": {
      "text/plain": [
       "{'cv': 10,\n",
       " 'estimators': [('lr', LogisticRegression(n_jobs=-1, random_state=42)),\n",
       "  ('dt', DecisionTreeClassifier(max_depth=6, random_state=42)),\n",
       "  ('rf',\n",
       "   RandomForestClassifier(criterion='entropy', n_estimators=10, n_jobs=-1,\n",
       "                          random_state=42)),\n",
       "  ('xgb',\n",
       "   XGBClassifier(base_score=0.5, booster='gbtree', colsample_bylevel=1,\n",
       "                 colsample_bynode=1, colsample_bytree=1, enable_categorical=False,\n",
       "                 eval_metric=['logloss', 'error'], gamma=0, gpu_id=-1,\n",
       "                 importance_type=None, interaction_constraints='',\n",
       "                 learning_rate=0.300000012, max_delta_step=0, max_depth=10,\n",
       "                 min_child_weight=1, missing=nan, monotone_constraints='()',\n",
       "                 n_estimators=100, n_jobs=-1, num_parallel_tree=1,\n",
       "                 predictor='auto', random_state=0, reg_alpha=0, reg_lambda=1,\n",
       "                 scale_pos_weight=1, subsample=1, tree_method='exact',\n",
       "                 validate_parameters=1, verbosity=None)),\n",
       "  ('svm', SVC(kernel='poly', probability=True, random_state=42)),\n",
       "  ('knn', KNeighborsClassifier(n_jobs=-1, n_neighbors=3))],\n",
       " 'final_estimator__activation': 'relu',\n",
       " 'final_estimator__alpha': 0.0001,\n",
       " 'final_estimator__batch_size': 'auto',\n",
       " 'final_estimator__beta_1': 0.9,\n",
       " 'final_estimator__beta_2': 0.999,\n",
       " 'final_estimator__early_stopping': False,\n",
       " 'final_estimator__epsilon': 1e-08,\n",
       " 'final_estimator__hidden_layer_sizes': (100,),\n",
       " 'final_estimator__learning_rate': 'constant',\n",
       " 'final_estimator__learning_rate_init': 0.001,\n",
       " 'final_estimator__max_fun': 15000,\n",
       " 'final_estimator__max_iter': 200,\n",
       " 'final_estimator__momentum': 0.9,\n",
       " 'final_estimator__n_iter_no_change': 10,\n",
       " 'final_estimator__nesterovs_momentum': True,\n",
       " 'final_estimator__power_t': 0.5,\n",
       " 'final_estimator__random_state': 1,\n",
       " 'final_estimator__shuffle': True,\n",
       " 'final_estimator__solver': 'adam',\n",
       " 'final_estimator__tol': 0.0001,\n",
       " 'final_estimator__validation_fraction': 0.1,\n",
       " 'final_estimator__verbose': False,\n",
       " 'final_estimator__warm_start': False,\n",
       " 'final_estimator': MLPClassifier(random_state=1),\n",
       " 'n_jobs': None,\n",
       " 'passthrough': False,\n",
       " 'stack_method': 'auto',\n",
       " 'verbose': 0,\n",
       " 'lr': LogisticRegression(n_jobs=-1, random_state=42),\n",
       " 'dt': DecisionTreeClassifier(max_depth=6, random_state=42),\n",
       " 'rf': RandomForestClassifier(criterion='entropy', n_estimators=10, n_jobs=-1,\n",
       "                        random_state=42),\n",
       " 'xgb': XGBClassifier(base_score=0.5, booster='gbtree', colsample_bylevel=1,\n",
       "               colsample_bynode=1, colsample_bytree=1, enable_categorical=False,\n",
       "               eval_metric=['logloss', 'error'], gamma=0, gpu_id=-1,\n",
       "               importance_type=None, interaction_constraints='',\n",
       "               learning_rate=0.300000012, max_delta_step=0, max_depth=10,\n",
       "               min_child_weight=1, missing=nan, monotone_constraints='()',\n",
       "               n_estimators=100, n_jobs=-1, num_parallel_tree=1,\n",
       "               predictor='auto', random_state=0, reg_alpha=0, reg_lambda=1,\n",
       "               scale_pos_weight=1, subsample=1, tree_method='exact',\n",
       "               validate_parameters=1, verbosity=None),\n",
       " 'svm': SVC(kernel='poly', probability=True, random_state=42),\n",
       " 'knn': KNeighborsClassifier(n_jobs=-1, n_neighbors=3),\n",
       " 'lr__C': 1.0,\n",
       " 'lr__class_weight': None,\n",
       " 'lr__dual': False,\n",
       " 'lr__fit_intercept': True,\n",
       " 'lr__intercept_scaling': 1,\n",
       " 'lr__l1_ratio': None,\n",
       " 'lr__max_iter': 100,\n",
       " 'lr__multi_class': 'auto',\n",
       " 'lr__n_jobs': -1,\n",
       " 'lr__penalty': 'l2',\n",
       " 'lr__random_state': 42,\n",
       " 'lr__solver': 'lbfgs',\n",
       " 'lr__tol': 0.0001,\n",
       " 'lr__verbose': 0,\n",
       " 'lr__warm_start': False,\n",
       " 'dt__ccp_alpha': 0.0,\n",
       " 'dt__class_weight': None,\n",
       " 'dt__criterion': 'gini',\n",
       " 'dt__max_depth': 6,\n",
       " 'dt__max_features': None,\n",
       " 'dt__max_leaf_nodes': None,\n",
       " 'dt__min_impurity_decrease': 0.0,\n",
       " 'dt__min_impurity_split': None,\n",
       " 'dt__min_samples_leaf': 1,\n",
       " 'dt__min_samples_split': 2,\n",
       " 'dt__min_weight_fraction_leaf': 0.0,\n",
       " 'dt__random_state': 42,\n",
       " 'dt__splitter': 'best',\n",
       " 'rf__bootstrap': True,\n",
       " 'rf__ccp_alpha': 0.0,\n",
       " 'rf__class_weight': None,\n",
       " 'rf__criterion': 'entropy',\n",
       " 'rf__max_depth': None,\n",
       " 'rf__max_features': 'auto',\n",
       " 'rf__max_leaf_nodes': None,\n",
       " 'rf__max_samples': None,\n",
       " 'rf__min_impurity_decrease': 0.0,\n",
       " 'rf__min_impurity_split': None,\n",
       " 'rf__min_samples_leaf': 1,\n",
       " 'rf__min_samples_split': 2,\n",
       " 'rf__min_weight_fraction_leaf': 0.0,\n",
       " 'rf__n_estimators': 10,\n",
       " 'rf__n_jobs': -1,\n",
       " 'rf__oob_score': False,\n",
       " 'rf__random_state': 42,\n",
       " 'rf__verbose': 0,\n",
       " 'rf__warm_start': False,\n",
       " 'xgb__objective': 'binary:logistic',\n",
       " 'xgb__use_label_encoder': True,\n",
       " 'xgb__base_score': 0.5,\n",
       " 'xgb__booster': 'gbtree',\n",
       " 'xgb__colsample_bylevel': 1,\n",
       " 'xgb__colsample_bynode': 1,\n",
       " 'xgb__colsample_bytree': 1,\n",
       " 'xgb__enable_categorical': False,\n",
       " 'xgb__gamma': 0,\n",
       " 'xgb__gpu_id': -1,\n",
       " 'xgb__importance_type': None,\n",
       " 'xgb__interaction_constraints': '',\n",
       " 'xgb__learning_rate': 0.300000012,\n",
       " 'xgb__max_delta_step': 0,\n",
       " 'xgb__max_depth': 10,\n",
       " 'xgb__min_child_weight': 1,\n",
       " 'xgb__missing': nan,\n",
       " 'xgb__monotone_constraints': '()',\n",
       " 'xgb__n_estimators': 100,\n",
       " 'xgb__n_jobs': -1,\n",
       " 'xgb__num_parallel_tree': 1,\n",
       " 'xgb__predictor': 'auto',\n",
       " 'xgb__random_state': 0,\n",
       " 'xgb__reg_alpha': 0,\n",
       " 'xgb__reg_lambda': 1,\n",
       " 'xgb__scale_pos_weight': 1,\n",
       " 'xgb__subsample': 1,\n",
       " 'xgb__tree_method': 'exact',\n",
       " 'xgb__validate_parameters': 1,\n",
       " 'xgb__verbosity': None,\n",
       " 'xgb__eval_metric': ['logloss', 'error'],\n",
       " 'svm__C': 1.0,\n",
       " 'svm__break_ties': False,\n",
       " 'svm__cache_size': 200,\n",
       " 'svm__class_weight': None,\n",
       " 'svm__coef0': 0.0,\n",
       " 'svm__decision_function_shape': 'ovr',\n",
       " 'svm__degree': 3,\n",
       " 'svm__gamma': 'scale',\n",
       " 'svm__kernel': 'poly',\n",
       " 'svm__max_iter': -1,\n",
       " 'svm__probability': True,\n",
       " 'svm__random_state': 42,\n",
       " 'svm__shrinking': True,\n",
       " 'svm__tol': 0.001,\n",
       " 'svm__verbose': False,\n",
       " 'knn__algorithm': 'auto',\n",
       " 'knn__leaf_size': 30,\n",
       " 'knn__metric': 'minkowski',\n",
       " 'knn__metric_params': None,\n",
       " 'knn__n_jobs': -1,\n",
       " 'knn__n_neighbors': 3,\n",
       " 'knn__p': 2,\n",
       " 'knn__weights': 'uniform'}"
      ]
     },
     "execution_count": 94,
     "metadata": {},
     "output_type": "execute_result"
    }
   ],
   "source": [
    "# Stacking classifier\n",
    "\n",
    "base_models= [('lr',lr),\n",
    "              ('dt',dt),\n",
    "              ('rf',rf),\n",
    "              ('xgb',xgb),\n",
    "              ('svm',svm),\n",
    "              ('knn',knn)]\n",
    "\n",
    "# Initialize Stacking Classifier with the Meta Learner\n",
    "\n",
    "stack = StackingClassifier(estimators=base_models,\n",
    "                           final_estimator= MLPClassifier(random_state=1, max_iter=200),cv=10)\n",
    "\n",
    "\n",
    "# Train stacked model\n",
    "\n",
    "stack.fit(X_train, y_train)\n",
    "\n",
    "# Make predictions\n",
    "stack_train_pred = stack.predict(X_train)\n",
    "stack_test_pred = stack.predict(X_test)\n",
    "\n",
    "# Training set model performance\n",
    "stack_train_accuracy = accuracy_score(y_train, stack_train_pred) # Calculate Accuracy\n",
    "stack_train_mcc = matthews_corrcoef(y_train, stack_train_pred) # Calculate MCC\n",
    "stack_train_f1 = f1_score(y_train, stack_train_pred, average='weighted') # Calculate F1-score\n",
    "\n",
    "# Test set model performance\n",
    "stack_test_accuracy = accuracy_score(y_test, stack_test_pred) # Calculate Accuracy\n",
    "stack_test_mcc = matthews_corrcoef(y_test, stack_test_pred) # Calculate MCC\n",
    "stack_test_f1 = f1_score(y_test, stack_test_pred, average='weighted') # Calculate F1-score\n",
    "\n",
    "\n",
    "print()\n",
    "print('Model performance for Training set')\n",
    "print()\n",
    "print('- Accuracy: %s' % stack_train_accuracy)\n",
    "print('- MCC: %s' % stack_train_mcc)\n",
    "print('- F1 score: %s' % stack_train_f1)\n",
    "print()\n",
    "print('----------------------------------')\n",
    "print()\n",
    "print('Model performance for Test set')\n",
    "print()\n",
    "print('- Accuracy: %s' % stack_test_accuracy)\n",
    "print('- MCC: %s' % stack_test_mcc)\n",
    "print('- F1 score: %s' % stack_test_f1)\n",
    "\n",
    "print()\n",
    "print('Stack Model Parameters')\n",
    "stack.get_params()"
   ]
  },
  {
   "cell_type": "markdown",
   "id": "7e3af579",
   "metadata": {},
   "source": [
    "### Classification report"
   ]
  },
  {
   "cell_type": "code",
   "execution_count": 95,
   "id": "5a17d1db",
   "metadata": {
    "scrolled": true
   },
   "outputs": [
    {
     "name": "stdout",
     "output_type": "stream",
     "text": [
      "stacked:               precision    recall  f1-score   support\n",
      "\n",
      "           0       0.92      0.98      0.95        47\n",
      "           1       0.99      0.94      0.96        72\n",
      "\n",
      "    accuracy                           0.96       119\n",
      "   macro avg       0.95      0.96      0.96       119\n",
      "weighted avg       0.96      0.96      0.96       119\n",
      "\n"
     ]
    }
   ],
   "source": [
    "# Classification report\n",
    "print(\"stacked:\",classification_report(y_test, stack_test_pred))"
   ]
  },
  {
   "cell_type": "markdown",
   "id": "1617636f",
   "metadata": {},
   "source": [
    "### Confusion matrix"
   ]
  },
  {
   "cell_type": "code",
   "execution_count": 96,
   "id": "02d55734",
   "metadata": {},
   "outputs": [
    {
     "data": {
      "text/plain": [
       "Text(0.5, 16.0, 'Predicted Class')"
      ]
     },
     "execution_count": 96,
     "metadata": {},
     "output_type": "execute_result"
    },
    {
     "data": {
      "image/png": "[encoded data removed]",
      "text/plain": [
       "<Figure size 432x288 with 2 Axes>"
      ]
     },
     "metadata": {
      "needs_background": "light"
     },
     "output_type": "display_data"
    }
   ],
   "source": [
    "#Confusion matrix\n",
    "cm = confusion_matrix(y_test,stack_test_pred)\n",
    "#sns.heatmap(cm, annot=True)\n",
    "sns.heatmap(cm, annot=True, fmt='g', vmin=0, cbar=True, cmap='Greys')\n",
    "plt.title('Confusion Matrix')\n",
    "plt.ylabel('True Class')\n",
    "plt.xlabel('Predicted Class')"
   ]
  },
  {
   "cell_type": "markdown",
   "id": "a2f23247",
   "metadata": {},
   "source": [
    "### Performance Metrics"
   ]
  },
  {
   "cell_type": "code",
   "execution_count": 97,
   "id": "a8e4478e",
   "metadata": {
    "scrolled": false
   },
   "outputs": [
    {
     "name": "stdout",
     "output_type": "stream",
     "text": [
      "Class: {0: 'No Heart Disease', 1: 'Heart Disease'}\n",
      "Specificity: [0.94444444 0.9787234 ]\n",
      "Specificity Mean: 0.9615839243498818\n",
      "\n",
      "Class: {0: 'No Heart Disease', 1: 'Heart Disease'}\n",
      "Recall/Sensitivity: [0.9787234  0.94444444]\n",
      "Recall/Sensitivity Mean: 0.9615839243498818\n",
      "\n",
      "Class: {0: 'No Heart Disease', 1: 'Heart Disease'}\n",
      "Precision: [0.92       0.98550725]\n",
      "Precision Mean: 0.9527536231884058\n",
      "\n",
      "Class: {0: 'No Heart Disease', 1: 'Heart Disease'}\n",
      "False Positive Rate: [0.05555556 0.0212766 ]\n",
      "False Positive Rate Mean: 0.0384160756501182\n",
      "\n",
      "Class: {0: 'No Heart Disease', 1: 'Heart Disease'}\n",
      "False Negative Rate: [0.0212766  0.05555556]\n",
      "False Negative Rate Mean: 0.0384160756501182\n",
      "\n",
      "Class: {0: 'No Heart Disease', 1: 'Heart Disease'}\n",
      "False Discovery Rate: [0.08       0.01449275]\n",
      "False Discovery Rate Mean: 0.0472463768115942\n"
     ]
    }
   ],
   "source": [
    "#Performance metrics from confusion matrix \n",
    "\n",
    "FP = cm.sum(axis=0) - np.diag(cm) \n",
    "FN = cm.sum(axis=1) - np.diag(cm)\n",
    "TP = np.diag(cm)\n",
    "TN = cm.sum() - (FP + FN + TP)\n",
    "\n",
    "FP = FP.astype(float)\n",
    "FN = FN.astype(float)\n",
    "TP = TP.astype(float)\n",
    "TN = TN.astype(float)\n",
    "\n",
    "# Sensitivity, hit rate, Recall, or true positive rate\n",
    "TPR = TP/(TP+FN)\n",
    "\n",
    "# Specificity or true negative rate\n",
    "TNR = TN/(TN+FP) \n",
    "\n",
    "# Precision or positive predictive value\n",
    "PPV = TP/(TP+FP)\n",
    "\n",
    "# Negative predictive value\n",
    "NPV = TN/(TN+FN)\n",
    "\n",
    "# Fall out or false positive rate\n",
    "FPR = FP/(FP+TN)\n",
    "\n",
    "# False negative rate\n",
    "FNR = FN/(TP+FN)\n",
    "\n",
    "# False discovery rate\n",
    "FDR = FP/(TP+FP)\n",
    "\n",
    "\n",
    "print('Class:',class_label)\n",
    "\n",
    "print('Specificity:',TNR)\n",
    "print('Specificity Mean:',TNR.mean())\n",
    "\n",
    "print()\n",
    "\n",
    "print('Class:',class_label)\n",
    "\n",
    "print('Recall/Sensitivity:',TPR)\n",
    "print('Recall/Sensitivity Mean:',TPR.mean())\n",
    "\n",
    "print()\n",
    "\n",
    "print('Class:',class_label)\n",
    "\n",
    "print('Precision:',PPV)\n",
    "print('Precision Mean:',PPV.mean())\n",
    "\n",
    "print()\n",
    "\n",
    "print('Class:',class_label)\n",
    "\n",
    "print('False Positive Rate:',FPR)\n",
    "print('False Positive Rate Mean:',FPR.mean())\n",
    "\n",
    "print()\n",
    "\n",
    "print('Class:',class_label)\n",
    "\n",
    "print('False Negative Rate:',FNR)\n",
    "print('False Negative Rate Mean:',FNR.mean())\n",
    "\n",
    "print()\n",
    "\n",
    "print('Class:',class_label)\n",
    "\n",
    "print('False Discovery Rate:',FDR)\n",
    "print('False Discovery Rate Mean:',FDR.mean())"
   ]
  },
  {
   "cell_type": "markdown",
   "id": "8e75d520",
   "metadata": {},
   "source": [
    "### ROC plot"
   ]
  },
  {
   "cell_type": "code",
   "execution_count": 98,
   "id": "bbc9e01a",
   "metadata": {},
   "outputs": [
    {
     "data": {
      "text/plain": [
       "<matplotlib.legend.Legend at 0x19569ac5e20>"
      ]
     },
     "execution_count": 98,
     "metadata": {},
     "output_type": "execute_result"
    },
    {
     "data": {
      "image/png": "[encoded data removed]",
      "text/plain": [
       "<Figure size 576x432 with 1 Axes>"
      ]
     },
     "metadata": {
      "needs_background": "light"
     },
     "output_type": "display_data"
    }
   ],
   "source": [
    "#ROC Plot\n",
    "from sklearn.multiclass import OneVsRestClassifier\n",
    "from sklearn.metrics import roc_curve\n",
    "from sklearn.metrics import roc_auc_score\n",
    "\n",
    "prediction_cplx = stack.predict_proba(X_test)\n",
    "\n",
    "# roc curve for classes\n",
    "fpr = {}\n",
    "tpr = {}\n",
    "thresh ={}\n",
    "\n",
    "n_class = 2\n",
    "\n",
    "for i in range(n_class):    \n",
    "    fpr[i], tpr[i], thresh[i] = roc_curve(y_test, prediction_cplx[:,i], pos_label=i)\n",
    "\n",
    "#y_score = classifier.fit(X_train, y_train).decision_function(X_test)\n",
    "# Compute micro-average ROC curve and ROC area\n",
    "#fpr[\"micro\"], tpr[\"micro\"], _ = roc_curve(y_test.ravel(), y_score.ravel())\n",
    "#roc_auc[\"micro\"] = auc(fpr[\"micro\"], tpr[\"micro\"])  \n",
    "\n",
    "\n",
    "\n",
    "    \n",
    "# plotting\n",
    "plt.figure(figsize=(8, 6))\n",
    "plt.plot(fpr[0], tpr[0], linestyle='--',color='steelblue', label='No Heart Disease 0')\n",
    "plt.plot(fpr[1], tpr[1], linestyle='--',color='red', label='Heart Disease 1')\n",
    "plt.plot([0,1],[0,1],color=\"black\",linestyle=\"--\")\n",
    "#plt.plot(fpr[2], tpr[2], linestyle='--',color='blue', label='Class 2 vs Rest')\n",
    "#plt.plot(fpr[3], tpr[3], linestyle='--',color='red', label='Class 3 vs Rest')\n",
    "#plt.plot(fpr[4], tpr[4], linestyle='--',color='black', label='Class 4 vs Rest')\n",
    "#plt.plot(fpr[5], tpr[5], linestyle='--',color='purple', label='Class 5 vs Rest')\n",
    "#plt.plot(fpr[6], tpr[6], linestyle='--',color='yellow', label='Class 6 vs Rest')\n",
    "plt.title('ROC: Stack Model')\n",
    "plt.text(0.6,0.5,\"Baseline\")\n",
    "plt.xlabel('False Positive Rate')\n",
    "plt.ylabel('True Positive rate')\n",
    "plt.legend(loc='best')\n",
    "#plt.savefig('ROC',dpi=300); "
   ]
  },
  {
   "cell_type": "markdown",
   "id": "bc939f96",
   "metadata": {},
   "source": [
    "### AUC SCORE"
   ]
  },
  {
   "cell_type": "code",
   "execution_count": 99,
   "id": "a43c74cc",
   "metadata": {},
   "outputs": [
    {
     "name": "stdout",
     "output_type": "stream",
     "text": [
      "Stack AUC Score: 0.9826\n"
     ]
    }
   ],
   "source": [
    "# AUC score\n",
    "\n",
    "#from sklearn.metrics import roc_auc_score\n",
    "stack_auc_score = roc_auc_score(y_test, prediction_cplx[:,i]).round(4)\n",
    "\n",
    "print('Stack AUC Score:',stack_auc_score)"
   ]
  },
  {
   "cell_type": "markdown",
   "id": "24a186dd",
   "metadata": {},
   "source": [
    "## Predictions and Confidences\n",
    " ### Classes and Probabilities"
   ]
  },
  {
   "cell_type": "code",
   "execution_count": 100,
   "id": "ca5a46ff",
   "metadata": {},
   "outputs": [
    {
     "data": {
      "text/html": [
       "<div>\n",
       "<style scoped>\n",
       "    .dataframe tbody tr th:only-of-type {\n",
       "        vertical-align: middle;\n",
       "    }\n",
       "\n",
       "    .dataframe tbody tr th {\n",
       "        vertical-align: top;\n",
       "    }\n",
       "\n",
       "    .dataframe thead th {\n",
       "        text-align: right;\n",
       "    }\n",
       "</style>\n",
       "<table border=\"1\" class=\"dataframe\">\n",
       "  <thead>\n",
       "    <tr style=\"text-align: right;\">\n",
       "      <th></th>\n",
       "      <th>No heart disease</th>\n",
       "      <th>Heart disease</th>\n",
       "      <th>Predicted class</th>\n",
       "    </tr>\n",
       "  </thead>\n",
       "  <tbody>\n",
       "    <tr>\n",
       "      <th>0</th>\n",
       "      <td>0.027</td>\n",
       "      <td>0.973</td>\n",
       "      <td>1</td>\n",
       "    </tr>\n",
       "    <tr>\n",
       "      <th>1</th>\n",
       "      <td>0.758</td>\n",
       "      <td>0.242</td>\n",
       "      <td>0</td>\n",
       "    </tr>\n",
       "    <tr>\n",
       "      <th>2</th>\n",
       "      <td>0.982</td>\n",
       "      <td>0.018</td>\n",
       "      <td>0</td>\n",
       "    </tr>\n",
       "    <tr>\n",
       "      <th>3</th>\n",
       "      <td>0.041</td>\n",
       "      <td>0.959</td>\n",
       "      <td>1</td>\n",
       "    </tr>\n",
       "    <tr>\n",
       "      <th>4</th>\n",
       "      <td>0.034</td>\n",
       "      <td>0.966</td>\n",
       "      <td>1</td>\n",
       "    </tr>\n",
       "  </tbody>\n",
       "</table>\n",
       "</div>"
      ],
      "text/plain": [
       "   No heart disease  Heart disease  Predicted class\n",
       "0             0.027          0.973                1\n",
       "1             0.758          0.242                0\n",
       "2             0.982          0.018                0\n",
       "3             0.041          0.959                1\n",
       "4             0.034          0.966                1"
      ]
     },
     "execution_count": 100,
     "metadata": {},
     "output_type": "execute_result"
    }
   ],
   "source": [
    "# Classes and Probabilities\n",
    "\n",
    "prediction_probability = stack.predict_proba(X_test)\n",
    "prediction_cplx = stack.predict(X_test)\n",
    "\n",
    "class_df = pd.DataFrame(prediction_cplx.round(3),columns=['Predicted class'])\n",
    "proba_df = pd.DataFrame(prediction_probability.round(3),columns=['No heart disease','Heart disease'])\n",
    "\n",
    "#pred_list = pd.concat(['frame','target_rs'],axis= 1)\n",
    "\n",
    "\n",
    "predictions_df = pd.concat([proba_df,class_df ], axis=1)\n",
    "predictions_df.head()"
   ]
  },
  {
   "cell_type": "markdown",
   "id": "05e58c4c",
   "metadata": {},
   "source": [
    "### Index of  incorrect predictions"
   ]
  },
  {
   "cell_type": "code",
   "execution_count": 101,
   "id": "fa96dc1c",
   "metadata": {},
   "outputs": [
    {
     "data": {
      "text/plain": [
       "(array([  1,  18,  60,  97, 104], dtype=int64),)"
      ]
     },
     "execution_count": 101,
     "metadata": {},
     "output_type": "execute_result"
    }
   ],
   "source": [
    "# Incorrect predictions\n",
    "\n",
    "incorrects = np.nonzero(prediction_cplx.reshape((-1,)) != y_test)\n",
    "incorrects"
   ]
  },
  {
   "cell_type": "markdown",
   "id": "882248dd",
   "metadata": {},
   "source": [
    "### Jaccard similarity coefficient"
   ]
  },
  {
   "cell_type": "code",
   "execution_count": 93,
   "id": "dc815e33",
   "metadata": {},
   "outputs": [
    {
     "data": {
      "text/html": [
       "<div>\n",
       "<style scoped>\n",
       "    .dataframe tbody tr th:only-of-type {\n",
       "        vertical-align: middle;\n",
       "    }\n",
       "\n",
       "    .dataframe tbody tr th {\n",
       "        vertical-align: top;\n",
       "    }\n",
       "\n",
       "    .dataframe thead th {\n",
       "        text-align: right;\n",
       "    }\n",
       "</style>\n",
       "<table border=\"1\" class=\"dataframe\">\n",
       "  <thead>\n",
       "    <tr style=\"text-align: right;\">\n",
       "      <th></th>\n",
       "      <th>Jaccard score</th>\n",
       "    </tr>\n",
       "  </thead>\n",
       "  <tbody>\n",
       "    <tr>\n",
       "      <th>0</th>\n",
       "      <td>0.683333</td>\n",
       "    </tr>\n",
       "    <tr>\n",
       "      <th>1</th>\n",
       "      <td>0.756410</td>\n",
       "    </tr>\n",
       "  </tbody>\n",
       "</table>\n",
       "</div>"
      ],
      "text/plain": [
       "   Jaccard score\n",
       "0       0.683333\n",
       "1       0.756410"
      ]
     },
     "execution_count": 93,
     "metadata": {},
     "output_type": "execute_result"
    }
   ],
   "source": [
    "# Jaccard similarity coefficient\n",
    "# Predicted class compared with actual class\n",
    "\n",
    "jaccard = jaccard_score(y_test, prediction_cplx, average = None)#prediction_probability\n",
    "\n",
    "jaccard_df = pd.DataFrame(jaccard,columns=['Jaccard score'])\n",
    "jaccard_df"
   ]
  },
  {
   "cell_type": "markdown",
   "id": "65d2c1af",
   "metadata": {},
   "source": [
    "## Confidence interval\n",
    "\n",
    "The confidence interval is a likelihood over a range. The true model skill may lie outside of this range.\n",
    " \n",
    "**Commonly used number of standard deviations from the Gaussian distribution and their corresponding significance level are as follows:**\n",
    "\n",
    "* 1.64 (90%)\n",
    "* 1.96 (95%)\n",
    "* 2.33 (98%)\n",
    "* 2.58 (99%)\n",
    "\n",
    "### Using model error"
   ]
  },
  {
   "cell_type": "code",
   "execution_count": 104,
   "id": "5d4b2840",
   "metadata": {},
   "outputs": [
    {
     "name": "stdout",
     "output_type": "stream",
     "text": [
      "Classification error interval: 0.035\n"
     ]
    }
   ],
   "source": [
    "# 95% confidence interval\n",
    "# Calculated radius of the confidence interval using model error\n",
    "\n",
    "# where: interval = z * sqrt( (error * (1 - error)) / n)\n",
    "\n",
    "interval = 1.96 * sqrt( (0.04 * (1 - .04)) / 119)\n",
    "print('Classification error interval: %.3f' % interval)"
   ]
  },
  {
   "cell_type": "markdown",
   "id": "366958f5",
   "metadata": {},
   "source": [
    "* The classification error of the model is 4% +/- 4%\n",
    "* The true classification error of the model on unseen data is likely between 0% (0.005) and 8%.\n",
    " \n",
    " **The true model skill may lie outside of this range.**"
   ]
  },
  {
   "cell_type": "markdown",
   "id": "12649dbd",
   "metadata": {},
   "source": [
    "### Upper and lower bounds of model classification accuracy"
   ]
  },
  {
   "cell_type": "code",
   "execution_count": 105,
   "id": "a4e87fc2",
   "metadata": {},
   "outputs": [
    {
     "name": "stdout",
     "output_type": "stream",
     "text": [
      "Lower Bounds of Accuracy:0.922 \n",
      "Upper Bounds of Accuracy:0.994 \n"
     ]
    }
   ],
   "source": [
    "# Upper and lower bounds of model accuracy\n",
    "\n",
    "# 218 correct predictions of 238 instances and with 95% confidence interval,\n",
    "# (provided to the function as a significance of 0.05)\n",
    "\n",
    "lower, upper = proportion_confint(114, 119, 0.05)\n",
    "\n",
    "print('Lower Bounds of Accuracy:%.3f ' % lower)\n",
    "print('Upper Bounds of Accuracy:%.3f ' %upper)"
   ]
  },
  {
   "cell_type": "markdown",
   "id": "876a953a",
   "metadata": {},
   "source": [
    " **The true classification accuracy of the model on unseen data is likely between 92% and 99%**.\n",
    "\n",
    " **True model skill may lie outside of this range.**"
   ]
  },
  {
   "cell_type": "markdown",
   "id": "6f55de23",
   "metadata": {},
   "source": [
    "# All Models Train and Test Results"
   ]
  },
  {
   "cell_type": "code",
   "execution_count": 106,
   "id": "5482d6ec",
   "metadata": {},
   "outputs": [],
   "source": [
    "# Train set results lists\n",
    "\n",
    "acc_train_list = {'knn':knn_acc_train,\n",
    "'svm': svm_acc_train,\n",
    "'dt': dt_acc_train,\n",
    "'rf': rf_acc_train,\n",
    "'lr': lr_acc_train,\n",
    "'xgb': xgb_acc_train,\n",
    "'stack': stack_train_accuracy}\n",
    "\n",
    "mcc_train_list = {'knn':knn_mcc_train,\n",
    "'svm': svm_mcc_train,\n",
    "'dt': dt_mcc_train,\n",
    "'rf': rf_mcc_train,\n",
    "'lr': lr_mcc_train,\n",
    "'xgb': xgb_mcc_train,\n",
    "'stack': stack_train_mcc}\n",
    "\n",
    "f1_train_list = {'knn':knn_f1_train,\n",
    "'svm': svm_f1_train,\n",
    "'dt': dt_f1_train,\n",
    "'rf': rf_f1_train,\n",
    "'lr': lr_f1_train,\n",
    "'xgb': xgb_f1_train,\n",
    "'stack': stack_train_f1}\n",
    "\n",
    "# Test results lists\n",
    "\n",
    "acc_test_list = {'knn':knn_acc_test,\n",
    "'svm': svm_acc_test,\n",
    "'dt': dt_acc_test,\n",
    "'rf': rf_acc_test,\n",
    "'lr': lr_acc_test,\n",
    "'xgb': xgb_acc_test,\n",
    "'stack': stack_test_accuracy}\n",
    "\n",
    "mcc_test_list = {'knn':knn_mcc_test,\n",
    "'svm': svm_mcc_test,\n",
    "'dt': dt_mcc_test,\n",
    "'rf': rf_mcc_test,\n",
    "'lr': lr_mcc_test,\n",
    "'xgb': xgb_mcc_test,\n",
    "'stack': stack_test_mcc}\n",
    "\n",
    "f1_test_list = {'knn':knn_f1_test,\n",
    "'svm': svm_f1_test,\n",
    "'dt': dt_f1_test,\n",
    "'rf': rf_f1_test,\n",
    "'lr': lr_f1_test,\n",
    "'xgb': xgb_f1_test,\n",
    "'stack': stack_test_f1}\n",
    "\n",
    "auc_list = {'knn':knn_auc_score,\n",
    "'svm':svm_auc_score,\n",
    "'dt':dt_auc_score,\n",
    "'rf':rf_auc_score,\n",
    "'lr':lr_auc_score,\n",
    "'xgb':xgb_auc_score,\n",
    "'stack':stack_auc_score}\n"
   ]
  },
  {
   "cell_type": "markdown",
   "id": "9e223740",
   "metadata": {},
   "source": [
    "# All Models Training Results"
   ]
  },
  {
   "cell_type": "code",
   "execution_count": 107,
   "id": "d2683c05",
   "metadata": {},
   "outputs": [
    {
     "name": "stdout",
     "output_type": "stream",
     "text": [
      "All Models Training Results\n"
     ]
    },
    {
     "data": {
      "text/html": [
       "<div>\n",
       "<style scoped>\n",
       "    .dataframe tbody tr th:only-of-type {\n",
       "        vertical-align: middle;\n",
       "    }\n",
       "\n",
       "    .dataframe tbody tr th {\n",
       "        vertical-align: top;\n",
       "    }\n",
       "\n",
       "    .dataframe thead th {\n",
       "        text-align: right;\n",
       "    }\n",
       "</style>\n",
       "<table border=\"1\" class=\"dataframe\">\n",
       "  <thead>\n",
       "    <tr style=\"text-align: right;\">\n",
       "      <th></th>\n",
       "      <th>Accuracy</th>\n",
       "      <th>MCC</th>\n",
       "      <th>F1</th>\n",
       "    </tr>\n",
       "  </thead>\n",
       "  <tbody>\n",
       "    <tr>\n",
       "      <th>knn</th>\n",
       "      <td>0.930906</td>\n",
       "      <td>0.861571</td>\n",
       "      <td>0.930772</td>\n",
       "    </tr>\n",
       "    <tr>\n",
       "      <th>svm</th>\n",
       "      <td>0.881419</td>\n",
       "      <td>0.762753</td>\n",
       "      <td>0.880967</td>\n",
       "    </tr>\n",
       "    <tr>\n",
       "      <th>dt</th>\n",
       "      <td>0.908497</td>\n",
       "      <td>0.816698</td>\n",
       "      <td>0.908349</td>\n",
       "    </tr>\n",
       "    <tr>\n",
       "      <th>rf</th>\n",
       "      <td>0.996265</td>\n",
       "      <td>0.992524</td>\n",
       "      <td>0.996259</td>\n",
       "    </tr>\n",
       "    <tr>\n",
       "      <th>lr</th>\n",
       "      <td>0.834734</td>\n",
       "      <td>0.668929</td>\n",
       "      <td>0.834142</td>\n",
       "    </tr>\n",
       "    <tr>\n",
       "      <th>xgb</th>\n",
       "      <td>1.000000</td>\n",
       "      <td>1.000000</td>\n",
       "      <td>1.000000</td>\n",
       "    </tr>\n",
       "    <tr>\n",
       "      <th>stack</th>\n",
       "      <td>1.000000</td>\n",
       "      <td>1.000000</td>\n",
       "      <td>1.000000</td>\n",
       "    </tr>\n",
       "  </tbody>\n",
       "</table>\n",
       "</div>"
      ],
      "text/plain": [
       "       Accuracy       MCC        F1\n",
       "knn    0.930906  0.861571  0.930772\n",
       "svm    0.881419  0.762753  0.880967\n",
       "dt     0.908497  0.816698  0.908349\n",
       "rf     0.996265  0.992524  0.996259\n",
       "lr     0.834734  0.668929  0.834142\n",
       "xgb    1.000000  1.000000  1.000000\n",
       "stack  1.000000  1.000000  1.000000"
      ]
     },
     "execution_count": 107,
     "metadata": {},
     "output_type": "execute_result"
    }
   ],
   "source": [
    "# Training results dataframe\n",
    "\n",
    "acc_df = pd.DataFrame.from_dict(acc_train_list, orient='index', columns=['Accuracy'])\n",
    "mcc_df = pd.DataFrame.from_dict(mcc_train_list, orient='index', columns=['MCC'])\n",
    "f1_df = pd.DataFrame.from_dict(f1_train_list, orient='index', columns=['F1'])\n",
    "\n",
    "print('All Models Training Results')\n",
    "\n",
    "train_results_df = pd.concat([acc_df, mcc_df,f1_df], axis=1)\n",
    "train_results_df\n",
    "\n"
   ]
  },
  {
   "cell_type": "markdown",
   "id": "8ef66194",
   "metadata": {},
   "source": [
    "# All Models Test Results "
   ]
  },
  {
   "cell_type": "code",
   "execution_count": 108,
   "id": "84885fe2",
   "metadata": {
    "scrolled": true
   },
   "outputs": [
    {
     "name": "stdout",
     "output_type": "stream",
     "text": [
      "All Models Test Results\n"
     ]
    },
    {
     "data": {
      "text/html": [
       "<div>\n",
       "<style scoped>\n",
       "    .dataframe tbody tr th:only-of-type {\n",
       "        vertical-align: middle;\n",
       "    }\n",
       "\n",
       "    .dataframe tbody tr th {\n",
       "        vertical-align: top;\n",
       "    }\n",
       "\n",
       "    .dataframe thead th {\n",
       "        text-align: right;\n",
       "    }\n",
       "</style>\n",
       "<table border=\"1\" class=\"dataframe\">\n",
       "  <thead>\n",
       "    <tr style=\"text-align: right;\">\n",
       "      <th></th>\n",
       "      <th>Accuracy</th>\n",
       "      <th>MCC</th>\n",
       "      <th>F1</th>\n",
       "      <th>AUC</th>\n",
       "    </tr>\n",
       "  </thead>\n",
       "  <tbody>\n",
       "    <tr>\n",
       "      <th>knn</th>\n",
       "      <td>0.840336</td>\n",
       "      <td>0.679255</td>\n",
       "      <td>0.836598</td>\n",
       "      <td>0.947300</td>\n",
       "    </tr>\n",
       "    <tr>\n",
       "      <th>svm</th>\n",
       "      <td>0.915966</td>\n",
       "      <td>0.828725</td>\n",
       "      <td>0.913265</td>\n",
       "      <td>0.947400</td>\n",
       "    </tr>\n",
       "    <tr>\n",
       "      <th>dt</th>\n",
       "      <td>0.873950</td>\n",
       "      <td>0.748312</td>\n",
       "      <td>0.870998</td>\n",
       "      <td>0.933200</td>\n",
       "    </tr>\n",
       "    <tr>\n",
       "      <th>rf</th>\n",
       "      <td>0.941176</td>\n",
       "      <td>0.882446</td>\n",
       "      <td>0.939467</td>\n",
       "      <td>0.975177</td>\n",
       "    </tr>\n",
       "    <tr>\n",
       "      <th>lr</th>\n",
       "      <td>0.915966</td>\n",
       "      <td>0.825965</td>\n",
       "      <td>0.912705</td>\n",
       "      <td>0.947100</td>\n",
       "    </tr>\n",
       "    <tr>\n",
       "      <th>xgb</th>\n",
       "      <td>0.966387</td>\n",
       "      <td>0.930752</td>\n",
       "      <td>0.965082</td>\n",
       "      <td>0.986111</td>\n",
       "    </tr>\n",
       "    <tr>\n",
       "      <th>stack</th>\n",
       "      <td>0.957983</td>\n",
       "      <td>0.914295</td>\n",
       "      <td>0.958186</td>\n",
       "      <td>0.982600</td>\n",
       "    </tr>\n",
       "  </tbody>\n",
       "</table>\n",
       "</div>"
      ],
      "text/plain": [
       "       Accuracy       MCC        F1       AUC\n",
       "knn    0.840336  0.679255  0.836598  0.947300\n",
       "svm    0.915966  0.828725  0.913265  0.947400\n",
       "dt     0.873950  0.748312  0.870998  0.933200\n",
       "rf     0.941176  0.882446  0.939467  0.975177\n",
       "lr     0.915966  0.825965  0.912705  0.947100\n",
       "xgb    0.966387  0.930752  0.965082  0.986111\n",
       "stack  0.957983  0.914295  0.958186  0.982600"
      ]
     },
     "execution_count": 108,
     "metadata": {},
     "output_type": "execute_result"
    }
   ],
   "source": [
    "# Test results dataframe\n",
    "\n",
    "test_acc_df = pd.DataFrame.from_dict(acc_test_list, orient='index', columns=['Accuracy'])\n",
    "test_mcc_df = pd.DataFrame.from_dict(mcc_test_list, orient='index', columns=['MCC'])\n",
    "test_f1_df = pd.DataFrame.from_dict(f1_test_list, orient='index', columns=['F1'])\n",
    "auc_df = pd.DataFrame.from_dict(auc_list, orient='index',columns=['AUC'])\n",
    "\n",
    "print('All Models Test Results')\n",
    "\n",
    "\n",
    "test_results_df = pd.concat([test_acc_df, test_mcc_df, test_f1_df,auc_df], axis=1)\n",
    "test_results_df"
   ]
  },
  {
   "cell_type": "markdown",
   "id": "37ca4a93",
   "metadata": {},
   "source": [
    "*_____*"
   ]
  },
  {
   "cell_type": "markdown",
   "id": "689d9070",
   "metadata": {},
   "source": [
    "## Stacking the Best Performers"
   ]
  },
  {
   "cell_type": "code",
   "execution_count": 109,
   "id": "1a66b593",
   "metadata": {
    "scrolled": true
   },
   "outputs": [
    {
     "name": "stdout",
     "output_type": "stream",
     "text": [
      "\n",
      "Model performance for Training set\n",
      "\n",
      "- Accuracy: 1.0\n",
      "- MCC: 1.0\n",
      "- F1 score: 1.0\n",
      "\n",
      "----------------------------------\n",
      "\n",
      "Model performance for Test set\n",
      "\n",
      "- Accuracy: 0.957983193277311\n",
      "- MCC: 0.9142949068105586\n",
      "- F1 score: 0.9581859504056064\n",
      "\n",
      "Stack Model Parameters\n"
     ]
    },
    {
     "data": {
      "text/plain": [
       "{'cv': 10,\n",
       " 'estimators': [('rf',\n",
       "   RandomForestClassifier(criterion='entropy', n_estimators=10, n_jobs=-1,\n",
       "                          random_state=42)),\n",
       "  ('xgb',\n",
       "   XGBClassifier(base_score=0.5, booster='gbtree', colsample_bylevel=1,\n",
       "                 colsample_bynode=1, colsample_bytree=1, enable_categorical=False,\n",
       "                 eval_metric=['logloss', 'error'], gamma=0, gpu_id=-1,\n",
       "                 importance_type=None, interaction_constraints='',\n",
       "                 learning_rate=0.300000012, max_delta_step=0, max_depth=10,\n",
       "                 min_child_weight=1, missing=nan, monotone_constraints='()',\n",
       "                 n_estimators=100, n_jobs=-1, num_parallel_tree=1,\n",
       "                 predictor='auto', random_state=0, reg_alpha=0, reg_lambda=1,\n",
       "                 scale_pos_weight=1, subsample=1, tree_method='exact',\n",
       "                 validate_parameters=1, verbosity=None))],\n",
       " 'final_estimator__activation': 'relu',\n",
       " 'final_estimator__alpha': 0.0001,\n",
       " 'final_estimator__batch_size': 'auto',\n",
       " 'final_estimator__beta_1': 0.9,\n",
       " 'final_estimator__beta_2': 0.999,\n",
       " 'final_estimator__early_stopping': False,\n",
       " 'final_estimator__epsilon': 1e-08,\n",
       " 'final_estimator__hidden_layer_sizes': (100,),\n",
       " 'final_estimator__learning_rate': 'constant',\n",
       " 'final_estimator__learning_rate_init': 0.001,\n",
       " 'final_estimator__max_fun': 15000,\n",
       " 'final_estimator__max_iter': 200,\n",
       " 'final_estimator__momentum': 0.9,\n",
       " 'final_estimator__n_iter_no_change': 10,\n",
       " 'final_estimator__nesterovs_momentum': True,\n",
       " 'final_estimator__power_t': 0.5,\n",
       " 'final_estimator__random_state': 1,\n",
       " 'final_estimator__shuffle': True,\n",
       " 'final_estimator__solver': 'adam',\n",
       " 'final_estimator__tol': 0.0001,\n",
       " 'final_estimator__validation_fraction': 0.1,\n",
       " 'final_estimator__verbose': False,\n",
       " 'final_estimator__warm_start': False,\n",
       " 'final_estimator': MLPClassifier(random_state=1),\n",
       " 'n_jobs': None,\n",
       " 'passthrough': False,\n",
       " 'stack_method': 'auto',\n",
       " 'verbose': 0,\n",
       " 'rf': RandomForestClassifier(criterion='entropy', n_estimators=10, n_jobs=-1,\n",
       "                        random_state=42),\n",
       " 'xgb': XGBClassifier(base_score=0.5, booster='gbtree', colsample_bylevel=1,\n",
       "               colsample_bynode=1, colsample_bytree=1, enable_categorical=False,\n",
       "               eval_metric=['logloss', 'error'], gamma=0, gpu_id=-1,\n",
       "               importance_type=None, interaction_constraints='',\n",
       "               learning_rate=0.300000012, max_delta_step=0, max_depth=10,\n",
       "               min_child_weight=1, missing=nan, monotone_constraints='()',\n",
       "               n_estimators=100, n_jobs=-1, num_parallel_tree=1,\n",
       "               predictor='auto', random_state=0, reg_alpha=0, reg_lambda=1,\n",
       "               scale_pos_weight=1, subsample=1, tree_method='exact',\n",
       "               validate_parameters=1, verbosity=None),\n",
       " 'rf__bootstrap': True,\n",
       " 'rf__ccp_alpha': 0.0,\n",
       " 'rf__class_weight': None,\n",
       " 'rf__criterion': 'entropy',\n",
       " 'rf__max_depth': None,\n",
       " 'rf__max_features': 'auto',\n",
       " 'rf__max_leaf_nodes': None,\n",
       " 'rf__max_samples': None,\n",
       " 'rf__min_impurity_decrease': 0.0,\n",
       " 'rf__min_impurity_split': None,\n",
       " 'rf__min_samples_leaf': 1,\n",
       " 'rf__min_samples_split': 2,\n",
       " 'rf__min_weight_fraction_leaf': 0.0,\n",
       " 'rf__n_estimators': 10,\n",
       " 'rf__n_jobs': -1,\n",
       " 'rf__oob_score': False,\n",
       " 'rf__random_state': 42,\n",
       " 'rf__verbose': 0,\n",
       " 'rf__warm_start': False,\n",
       " 'xgb__objective': 'binary:logistic',\n",
       " 'xgb__use_label_encoder': True,\n",
       " 'xgb__base_score': 0.5,\n",
       " 'xgb__booster': 'gbtree',\n",
       " 'xgb__colsample_bylevel': 1,\n",
       " 'xgb__colsample_bynode': 1,\n",
       " 'xgb__colsample_bytree': 1,\n",
       " 'xgb__enable_categorical': False,\n",
       " 'xgb__gamma': 0,\n",
       " 'xgb__gpu_id': -1,\n",
       " 'xgb__importance_type': None,\n",
       " 'xgb__interaction_constraints': '',\n",
       " 'xgb__learning_rate': 0.300000012,\n",
       " 'xgb__max_delta_step': 0,\n",
       " 'xgb__max_depth': 10,\n",
       " 'xgb__min_child_weight': 1,\n",
       " 'xgb__missing': nan,\n",
       " 'xgb__monotone_constraints': '()',\n",
       " 'xgb__n_estimators': 100,\n",
       " 'xgb__n_jobs': -1,\n",
       " 'xgb__num_parallel_tree': 1,\n",
       " 'xgb__predictor': 'auto',\n",
       " 'xgb__random_state': 0,\n",
       " 'xgb__reg_alpha': 0,\n",
       " 'xgb__reg_lambda': 1,\n",
       " 'xgb__scale_pos_weight': 1,\n",
       " 'xgb__subsample': 1,\n",
       " 'xgb__tree_method': 'exact',\n",
       " 'xgb__validate_parameters': 1,\n",
       " 'xgb__verbosity': None,\n",
       " 'xgb__eval_metric': ['logloss', 'error']}"
      ]
     },
     "execution_count": 109,
     "metadata": {},
     "output_type": "execute_result"
    }
   ],
   "source": [
    "# Stacking classifier of the best performing models: random forest and xgboost\n",
    "\n",
    "base_models= [('rf',rf),\n",
    "              ('xgb',xgb)]\n",
    "\n",
    "# Initialize Stacking Classifier with the Meta Learner\n",
    "\n",
    "stack = StackingClassifier(estimators=base_models,\n",
    "                           final_estimator= MLPClassifier(random_state=1, max_iter=200),cv=10)\n",
    "\n",
    "\n",
    "# Train stacked model\n",
    "\n",
    "stack.fit(X_train, y_train)\n",
    "\n",
    "# Make predictions\n",
    "stack_train_pred = stack.predict(X_train)\n",
    "stack_test_pred = stack.predict(X_test)\n",
    "\n",
    "# Training set model performance\n",
    "stack_train_accuracy = accuracy_score(y_train, stack_train_pred) # Calculate Accuracy\n",
    "stack_train_mcc = matthews_corrcoef(y_train, stack_train_pred) # Calculate MCC\n",
    "stack_train_f1 = f1_score(y_train, stack_train_pred, average='weighted') # Calculate F1-score\n",
    "\n",
    "# Test set model performance\n",
    "stack_test_accuracy = accuracy_score(y_test, stack_test_pred) # Calculate Accuracy\n",
    "stack_test_mcc = matthews_corrcoef(y_test, stack_test_pred) # Calculate MCC\n",
    "stack_test_f1 = f1_score(y_test, stack_test_pred, average='weighted') # Calculate F1-score\n",
    "\n",
    "\n",
    "print()\n",
    "print('Model performance for Training set')\n",
    "print()\n",
    "print('- Accuracy: %s' % stack_train_accuracy)\n",
    "print('- MCC: %s' % stack_train_mcc)\n",
    "print('- F1 score: %s' % stack_train_f1)\n",
    "print()\n",
    "print('----------------------------------')\n",
    "print()\n",
    "print('Model performance for Test set')\n",
    "print()\n",
    "print('- Accuracy: %s' % stack_test_accuracy)\n",
    "print('- MCC: %s' % stack_test_mcc)\n",
    "print('- F1 score: %s' % stack_test_f1)\n",
    "\n",
    "print()\n",
    "print('Stack Model Parameters')\n",
    "stack.get_params()"
   ]
  },
  {
   "cell_type": "markdown",
   "id": "f2a9618d",
   "metadata": {},
   "source": [
    "### Classification report"
   ]
  },
  {
   "cell_type": "code",
   "execution_count": 110,
   "id": "eeff0920",
   "metadata": {},
   "outputs": [
    {
     "name": "stdout",
     "output_type": "stream",
     "text": [
      "stacked best performers:               precision    recall  f1-score   support\n",
      "\n",
      "           0       0.92      0.98      0.95        47\n",
      "           1       0.99      0.94      0.96        72\n",
      "\n",
      "    accuracy                           0.96       119\n",
      "   macro avg       0.95      0.96      0.96       119\n",
      "weighted avg       0.96      0.96      0.96       119\n",
      "\n"
     ]
    }
   ],
   "source": [
    "# Classification report\n",
    "print(\"stacked best performers:\",classification_report(y_test, stack_test_pred))"
   ]
  },
  {
   "cell_type": "markdown",
   "id": "6e30b534",
   "metadata": {},
   "source": [
    "### Confusion matrix"
   ]
  },
  {
   "cell_type": "code",
   "execution_count": 111,
   "id": "9b128cde",
   "metadata": {},
   "outputs": [
    {
     "data": {
      "text/plain": [
       "Text(0.5, 16.0, 'Predicted Class')"
      ]
     },
     "execution_count": 111,
     "metadata": {},
     "output_type": "execute_result"
    },
    {
     "data": {
      "image/png": "[encoded data removed]",
      "text/plain": [
       "<Figure size 432x288 with 2 Axes>"
      ]
     },
     "metadata": {
      "needs_background": "light"
     },
     "output_type": "display_data"
    }
   ],
   "source": [
    "#Confusion matrix\n",
    "cm = confusion_matrix(y_test,stack_test_pred)\n",
    "#sns.heatmap(cm, annot=True)\n",
    "sns.heatmap(cm, annot=True, fmt='g', vmin=0, cbar=True, cmap='Greys')\n",
    "plt.title('Confusion Matrix')\n",
    "plt.ylabel('True Class')\n",
    "plt.xlabel('Predicted Class')"
   ]
  },
  {
   "cell_type": "markdown",
   "id": "bd325916",
   "metadata": {},
   "source": [
    "### Performance metrics"
   ]
  },
  {
   "cell_type": "code",
   "execution_count": 112,
   "id": "48c7769d",
   "metadata": {},
   "outputs": [
    {
     "name": "stdout",
     "output_type": "stream",
     "text": [
      "Class: {0: 'No Heart Disease', 1: 'Heart Disease'}\n",
      "Specificity: [0.94444444 0.9787234 ]\n",
      "Specificity Mean: 0.9615839243498818\n",
      "\n",
      "Class: {0: 'No Heart Disease', 1: 'Heart Disease'}\n",
      "Recall/Sensitivity: [0.9787234  0.94444444]\n",
      "Recall/Sensitivity Mean: 0.9615839243498818\n",
      "\n",
      "Class: {0: 'No Heart Disease', 1: 'Heart Disease'}\n",
      "Precision: [0.92       0.98550725]\n",
      "Precision Mean: 0.9527536231884058\n",
      "\n",
      "Class: {0: 'No Heart Disease', 1: 'Heart Disease'}\n",
      "False Positive Rate: [0.05555556 0.0212766 ]\n",
      "False Positive Rate Mean: 0.0384160756501182\n",
      "\n",
      "Class: {0: 'No Heart Disease', 1: 'Heart Disease'}\n",
      "False Negative Rate: [0.0212766  0.05555556]\n",
      "False Negative Rate Mean: 0.0384160756501182\n",
      "\n",
      "Class: {0: 'No Heart Disease', 1: 'Heart Disease'}\n",
      "False Discovery Rate: [0.08       0.01449275]\n",
      "False Discovery Rate Mean: 0.0472463768115942\n"
     ]
    }
   ],
   "source": [
    "#Performance metrics from confusion matrix \n",
    "\n",
    "FP = cm.sum(axis=0) - np.diag(cm) \n",
    "FN = cm.sum(axis=1) - np.diag(cm)\n",
    "TP = np.diag(cm)\n",
    "TN = cm.sum() - (FP + FN + TP)\n",
    "\n",
    "FP = FP.astype(float)\n",
    "FN = FN.astype(float)\n",
    "TP = TP.astype(float)\n",
    "TN = TN.astype(float)\n",
    "\n",
    "# Sensitivity, hit rate, Recall, or true positive rate\n",
    "TPR = TP/(TP+FN)\n",
    "\n",
    "# Specificity or true negative rate\n",
    "TNR = TN/(TN+FP) \n",
    "\n",
    "# Precision or positive predictive value\n",
    "PPV = TP/(TP+FP)\n",
    "\n",
    "# Negative predictive value\n",
    "NPV = TN/(TN+FN)\n",
    "\n",
    "# Fall out or false positive rate\n",
    "FPR = FP/(FP+TN)\n",
    "\n",
    "# False negative rate\n",
    "FNR = FN/(TP+FN)\n",
    "\n",
    "# False discovery rate\n",
    "FDR = FP/(TP+FP)\n",
    "\n",
    "\n",
    "print('Class:',class_label)\n",
    "\n",
    "print('Specificity:',TNR)\n",
    "print('Specificity Mean:',TNR.mean())\n",
    "\n",
    "print()\n",
    "\n",
    "print('Class:',class_label)\n",
    "\n",
    "print('Recall/Sensitivity:',TPR)\n",
    "print('Recall/Sensitivity Mean:',TPR.mean())\n",
    "\n",
    "print()\n",
    "\n",
    "print('Class:',class_label)\n",
    "\n",
    "print('Precision:',PPV)\n",
    "print('Precision Mean:',PPV.mean())\n",
    "\n",
    "print()\n",
    "\n",
    "print('Class:',class_label)\n",
    "\n",
    "print('False Positive Rate:',FPR)\n",
    "print('False Positive Rate Mean:',FPR.mean())\n",
    "\n",
    "print()\n",
    "\n",
    "print('Class:',class_label)\n",
    "\n",
    "print('False Negative Rate:',FNR)\n",
    "print('False Negative Rate Mean:',FNR.mean())\n",
    "\n",
    "print()\n",
    "\n",
    "print('Class:',class_label)\n",
    "\n",
    "print('False Discovery Rate:',FDR)\n",
    "print('False Discovery Rate Mean:',FDR.mean())"
   ]
  },
  {
   "cell_type": "markdown",
   "id": "df895068",
   "metadata": {},
   "source": [
    "### ROC plot"
   ]
  },
  {
   "cell_type": "code",
   "execution_count": 115,
   "id": "21bdf052",
   "metadata": {},
   "outputs": [
    {
     "data": {
      "text/plain": [
       "<matplotlib.legend.Legend at 0x19560d28970>"
      ]
     },
     "execution_count": 115,
     "metadata": {},
     "output_type": "execute_result"
    },
    {
     "data": {
      "image/png": "[encoded data removed]",
      "text/plain": [
       "<Figure size 576x432 with 1 Axes>"
      ]
     },
     "metadata": {
      "needs_background": "light"
     },
     "output_type": "display_data"
    }
   ],
   "source": [
    "#ROC Plot\n",
    "from sklearn.multiclass import OneVsRestClassifier\n",
    "from sklearn.metrics import roc_curve\n",
    "from sklearn.metrics import roc_auc_score\n",
    "\n",
    "prediction_cplx = stack.predict_proba(X_test)\n",
    "\n",
    "# roc curve for classes\n",
    "fpr = {}\n",
    "tpr = {}\n",
    "thresh ={}\n",
    "\n",
    "n_class = 2\n",
    "\n",
    "for i in range(n_class):    \n",
    "    fpr[i], tpr[i], thresh[i] = roc_curve(y_test, prediction_cplx[:,i], pos_label=i)\n",
    "\n",
    "#y_score = classifier.fit(X_train, y_train).decision_function(X_test)\n",
    "# Compute micro-average ROC curve and ROC area\n",
    "#fpr[\"micro\"], tpr[\"micro\"], _ = roc_curve(y_test.ravel(), y_score.ravel())\n",
    "#roc_auc[\"micro\"] = auc(fpr[\"micro\"], tpr[\"micro\"])  \n",
    "\n",
    "\n",
    "\n",
    "    \n",
    "# plotting\n",
    "plt.figure(figsize=(8, 6))\n",
    "#plt.plot(fpr[0], tpr[0], linestyle='--',color='steelblue', label='No Heart Disease 0')\n",
    "plt.plot(fpr[1], tpr[1], linestyle='--',color='red', label='Heart Disease 1')\n",
    "plt.plot([0,1],[0,1],color=\"black\",linestyle=\"--\")\n",
    "#plt.plot(fpr[2], tpr[2], linestyle='--',color='blue', label='Class 2 vs Rest')\n",
    "#plt.plot(fpr[3], tpr[3], linestyle='--',color='red', label='Class 3 vs Rest')\n",
    "#plt.plot(fpr[4], tpr[4], linestyle='--',color='black', label='Class 4 vs Rest')\n",
    "#plt.plot(fpr[5], tpr[5], linestyle='--',color='purple', label='Class 5 vs Rest')\n",
    "#plt.plot(fpr[6], tpr[6], linestyle='--',color='yellow', label='Class 6 vs Rest')\n",
    "plt.title('ROC: Stack Model')\n",
    "plt.text(0.6,0.5,\"Baseline\")\n",
    "plt.xlabel('False Positive Rate')\n",
    "plt.ylabel('True Positive rate')\n",
    "plt.legend(loc='best')\n",
    "#plt.savefig('ROC',dpi=300); "
   ]
  },
  {
   "cell_type": "markdown",
   "id": "b9e2870b",
   "metadata": {},
   "source": [
    "### AUC score"
   ]
  },
  {
   "cell_type": "code",
   "execution_count": 116,
   "id": "15ee1f17",
   "metadata": {},
   "outputs": [
    {
     "name": "stdout",
     "output_type": "stream",
     "text": [
      "Stack AUC Score: 0.9837\n"
     ]
    }
   ],
   "source": [
    "# AUC score\n",
    "\n",
    "#from sklearn.metrics import roc_auc_score\n",
    "stack_auc_score = roc_auc_score(y_test, prediction_cplx[:,i]).round(4)\n",
    "\n",
    "print('Stack AUC Score:',stack_auc_score)"
   ]
  },
  {
   "cell_type": "markdown",
   "id": "65e327b7",
   "metadata": {},
   "source": [
    "## Predictions and Confidences\n",
    " ### Classes and Probabilities"
   ]
  },
  {
   "cell_type": "code",
   "execution_count": 117,
   "id": "7db11f86",
   "metadata": {},
   "outputs": [
    {
     "data": {
      "text/html": [
       "<div>\n",
       "<style scoped>\n",
       "    .dataframe tbody tr th:only-of-type {\n",
       "        vertical-align: middle;\n",
       "    }\n",
       "\n",
       "    .dataframe tbody tr th {\n",
       "        vertical-align: top;\n",
       "    }\n",
       "\n",
       "    .dataframe thead th {\n",
       "        text-align: right;\n",
       "    }\n",
       "</style>\n",
       "<table border=\"1\" class=\"dataframe\">\n",
       "  <thead>\n",
       "    <tr style=\"text-align: right;\">\n",
       "      <th></th>\n",
       "      <th>No heart disease</th>\n",
       "      <th>Heart disease</th>\n",
       "      <th>Predicted class</th>\n",
       "    </tr>\n",
       "  </thead>\n",
       "  <tbody>\n",
       "    <tr>\n",
       "      <th>0</th>\n",
       "      <td>0.030</td>\n",
       "      <td>0.970</td>\n",
       "      <td>1</td>\n",
       "    </tr>\n",
       "    <tr>\n",
       "      <th>1</th>\n",
       "      <td>0.719</td>\n",
       "      <td>0.281</td>\n",
       "      <td>0</td>\n",
       "    </tr>\n",
       "    <tr>\n",
       "      <th>2</th>\n",
       "      <td>0.977</td>\n",
       "      <td>0.023</td>\n",
       "      <td>0</td>\n",
       "    </tr>\n",
       "    <tr>\n",
       "      <th>3</th>\n",
       "      <td>0.041</td>\n",
       "      <td>0.959</td>\n",
       "      <td>1</td>\n",
       "    </tr>\n",
       "    <tr>\n",
       "      <th>4</th>\n",
       "      <td>0.041</td>\n",
       "      <td>0.959</td>\n",
       "      <td>1</td>\n",
       "    </tr>\n",
       "  </tbody>\n",
       "</table>\n",
       "</div>"
      ],
      "text/plain": [
       "   No heart disease  Heart disease  Predicted class\n",
       "0             0.030          0.970                1\n",
       "1             0.719          0.281                0\n",
       "2             0.977          0.023                0\n",
       "3             0.041          0.959                1\n",
       "4             0.041          0.959                1"
      ]
     },
     "execution_count": 117,
     "metadata": {},
     "output_type": "execute_result"
    }
   ],
   "source": [
    "# Classes and Probabilities\n",
    "\n",
    "prediction_probability = stack.predict_proba(X_test)\n",
    "prediction_cplx = stack.predict(X_test)\n",
    "\n",
    "class_df = pd.DataFrame(prediction_cplx.round(3),columns=['Predicted class'])\n",
    "proba_df = pd.DataFrame(prediction_probability.round(3),columns=['No heart disease','Heart disease'])\n",
    "\n",
    "#pred_list = pd.concat(['frame','target_rs'],axis= 1)\n",
    "\n",
    "\n",
    "predictions_df = pd.concat([proba_df,class_df ], axis=1)\n",
    "predictions_df.head()"
   ]
  },
  {
   "cell_type": "markdown",
   "id": "88e8d473",
   "metadata": {},
   "source": [
    "### Index of incorrect predictions"
   ]
  },
  {
   "cell_type": "code",
   "execution_count": 118,
   "id": "b6af4933",
   "metadata": {},
   "outputs": [
    {
     "data": {
      "text/plain": [
       "(array([  1,  18,  60,  97, 104], dtype=int64),)"
      ]
     },
     "execution_count": 118,
     "metadata": {},
     "output_type": "execute_result"
    }
   ],
   "source": [
    "# Incorrect predictions\n",
    "\n",
    "incorrects = np.nonzero(prediction_cplx.reshape((-1,)) != y_test)\n",
    "incorrects"
   ]
  },
  {
   "cell_type": "markdown",
   "id": "70479546",
   "metadata": {},
   "source": [
    "### Jaccard similarity coefficient"
   ]
  },
  {
   "cell_type": "code",
   "execution_count": 119,
   "id": "9b7a24ef",
   "metadata": {},
   "outputs": [
    {
     "data": {
      "text/html": [
       "<div>\n",
       "<style scoped>\n",
       "    .dataframe tbody tr th:only-of-type {\n",
       "        vertical-align: middle;\n",
       "    }\n",
       "\n",
       "    .dataframe tbody tr th {\n",
       "        vertical-align: top;\n",
       "    }\n",
       "\n",
       "    .dataframe thead th {\n",
       "        text-align: right;\n",
       "    }\n",
       "</style>\n",
       "<table border=\"1\" class=\"dataframe\">\n",
       "  <thead>\n",
       "    <tr style=\"text-align: right;\">\n",
       "      <th></th>\n",
       "      <th>Jaccard score</th>\n",
       "    </tr>\n",
       "  </thead>\n",
       "  <tbody>\n",
       "    <tr>\n",
       "      <th>0</th>\n",
       "      <td>0.901961</td>\n",
       "    </tr>\n",
       "    <tr>\n",
       "      <th>1</th>\n",
       "      <td>0.931507</td>\n",
       "    </tr>\n",
       "  </tbody>\n",
       "</table>\n",
       "</div>"
      ],
      "text/plain": [
       "   Jaccard score\n",
       "0       0.901961\n",
       "1       0.931507"
      ]
     },
     "execution_count": 119,
     "metadata": {},
     "output_type": "execute_result"
    }
   ],
   "source": [
    "# Jaccard similarity coefficient\n",
    "# Predicted class compared with actual class\n",
    "\n",
    "jaccard = jaccard_score(y_test, prediction_cplx, average = None)#prediction_probability\n",
    "\n",
    "jaccard_df = pd.DataFrame(jaccard,columns=['Jaccard score'])\n",
    "jaccard_df"
   ]
  },
  {
   "cell_type": "markdown",
   "id": "8fba2f7b",
   "metadata": {},
   "source": [
    "## Confidence interval\n",
    "\n",
    "The confidence interval is a likelihood over a range. The true model skill may lie outside of this range.\n",
    " \n",
    "**Commonly used number of standard deviations from the Gaussian distribution and their corresponding significance level are as follows:**\n",
    "\n",
    "* 1.64 (90%)\n",
    "* 1.96 (95%)\n",
    "* 2.33 (98%)\n",
    "* 2.58 (99%)\n",
    "\n",
    "### Using model error"
   ]
  },
  {
   "cell_type": "code",
   "execution_count": 30,
   "id": "ae138975",
   "metadata": {},
   "outputs": [
    {
     "name": "stdout",
     "output_type": "stream",
     "text": [
      "Classification error interval: 0.035\n"
     ]
    }
   ],
   "source": [
    "# 95% confidence interval\n",
    "# Calculated radius of the confidence interval using model error\n",
    "\n",
    "# where: interval = z * sqrt( (error * (1 - error)) / n)\n",
    "\n",
    "interval = 1.96 * sqrt( (0.04 * (1 - .04)) / 119)\n",
    "print('Classification error interval: %.3f' % interval)"
   ]
  },
  {
   "cell_type": "markdown",
   "id": "26c5e5a9",
   "metadata": {},
   "source": [
    "**The classification error of the model is 4% +/- 4%**\n",
    "\n",
    "**The true classification error of the model on unseen data is likely between 0% and 8%.**\n",
    " \n",
    "**The true model skill may lie outside of this range.**"
   ]
  },
  {
   "cell_type": "markdown",
   "id": "e858f8e4",
   "metadata": {},
   "source": [
    "### Upper and lower bounds of model accuracy"
   ]
  },
  {
   "cell_type": "code",
   "execution_count": 31,
   "id": "8695834e",
   "metadata": {},
   "outputs": [
    {
     "name": "stdout",
     "output_type": "stream",
     "text": [
      "Lower Bounds of Accuracy:0.922 \n",
      "Upper Bounds of Accuracy:0.994 \n"
     ]
    }
   ],
   "source": [
    "# Upper and lower bounds of model accuracy\n",
    "\n",
    "# 218 correct predictions of 238 instances and with 95% confidence interval,\n",
    "# (provided to the function as a significance of 0.05)\n",
    "\n",
    "lower, upper = proportion_confint(114, 119, 0.05)\n",
    "\n",
    "print('Lower Bounds of Accuracy:%.3f ' % lower)\n",
    "print('Upper Bounds of Accuracy:%.3f ' %upper)"
   ]
  },
  {
   "cell_type": "markdown",
   "id": "670ac0c6",
   "metadata": {},
   "source": [
    " **The true classification accuracy of the model on unseen data is likely between 92% and 99%**.\n",
    "\n",
    " **True model skill may lie outside of this range.**"
   ]
  },
  {
   "cell_type": "markdown",
   "id": "19d6fc5a",
   "metadata": {},
   "source": [
    "**________________**"
   ]
  },
  {
   "cell_type": "markdown",
   "id": "96544286",
   "metadata": {},
   "source": [
    "### Save the best model\n",
    "#### Joblib"
   ]
  },
  {
   "cell_type": "code",
   "execution_count": 47,
   "id": "45fe0299",
   "metadata": {},
   "outputs": [
    {
     "name": "stdout",
     "output_type": "stream",
     "text": [
      "ERROR! Session/line number was not unique in database. History logging moved to new session 3191\n"
     ]
    },
    {
     "data": {
      "text/plain": [
       "['./Heart_Dis_stacked_best_119_19.joblib']"
      ]
     },
     "execution_count": 47,
     "metadata": {},
     "output_type": "execute_result"
    }
   ],
   "source": [
    "# Best performer, stacked random forest and xgboost models\n",
    "\n",
    "joblib.dump(stack,'./Heart_Dis_stacked_best_119_19.joblib')"
   ]
  },
  {
   "cell_type": "markdown",
   "id": "a27a9a7b",
   "metadata": {},
   "source": [
    "### Test saved model"
   ]
  },
  {
   "cell_type": "code",
   "execution_count": 94,
   "id": "f88dd65c",
   "metadata": {
    "scrolled": true
   },
   "outputs": [
    {
     "name": "stdout",
     "output_type": "stream",
     "text": [
      "Class: {0: 'No Heart Disease', 1: 'Heart Disease'}\n",
      "\n",
      "The class probabilites are: [[0.03029869 0.96970131]]\n",
      "\n",
      "The sample prediction is class: [1]\n",
      "\n"
     ]
    },
    {
     "data": {
      "text/html": [
       "<div>\n",
       "<style scoped>\n",
       "    .dataframe tbody tr th:only-of-type {\n",
       "        vertical-align: middle;\n",
       "    }\n",
       "\n",
       "    .dataframe tbody tr th {\n",
       "        vertical-align: top;\n",
       "    }\n",
       "\n",
       "    .dataframe thead th {\n",
       "        text-align: right;\n",
       "    }\n",
       "</style>\n",
       "<table border=\"1\" class=\"dataframe\">\n",
       "  <thead>\n",
       "    <tr style=\"text-align: right;\">\n",
       "      <th></th>\n",
       "      <th>No heart disease</th>\n",
       "      <th>Heart disease</th>\n",
       "      <th>Predicted class</th>\n",
       "    </tr>\n",
       "  </thead>\n",
       "  <tbody>\n",
       "    <tr>\n",
       "      <th>0</th>\n",
       "      <td>0.030</td>\n",
       "      <td>0.970</td>\n",
       "      <td>1</td>\n",
       "    </tr>\n",
       "    <tr>\n",
       "      <th>1</th>\n",
       "      <td>0.719</td>\n",
       "      <td>0.281</td>\n",
       "      <td>0</td>\n",
       "    </tr>\n",
       "    <tr>\n",
       "      <th>2</th>\n",
       "      <td>0.977</td>\n",
       "      <td>0.023</td>\n",
       "      <td>0</td>\n",
       "    </tr>\n",
       "    <tr>\n",
       "      <th>3</th>\n",
       "      <td>0.041</td>\n",
       "      <td>0.959</td>\n",
       "      <td>1</td>\n",
       "    </tr>\n",
       "    <tr>\n",
       "      <th>4</th>\n",
       "      <td>0.041</td>\n",
       "      <td>0.959</td>\n",
       "      <td>1</td>\n",
       "    </tr>\n",
       "  </tbody>\n",
       "</table>\n",
       "</div>"
      ],
      "text/plain": [
       "   No heart disease  Heart disease  Predicted class\n",
       "0             0.030          0.970                1\n",
       "1             0.719          0.281                0\n",
       "2             0.977          0.023                0\n",
       "3             0.041          0.959                1\n",
       "4             0.041          0.959                1"
      ]
     },
     "execution_count": 94,
     "metadata": {},
     "output_type": "execute_result"
    }
   ],
   "source": [
    "# Sanity Check\n",
    "# Load the model\n",
    "stack=joblib.load('./Heart_Dis_stacked_best_119_19.joblib')\n",
    "\n",
    "# Make a prediction\n",
    "print('Class:',class_label)\n",
    "print()\n",
    "print('The class probabilites are:', stack.predict_proba(X_test[0:1]))\n",
    "print()\n",
    "print('The sample prediction is class:',stack.predict(X_test[0:1]))\n",
    "print()\n",
    "predictions_df.head()"
   ]
  },
  {
   "cell_type": "code",
   "execution_count": 100,
   "id": "64fe5455",
   "metadata": {},
   "outputs": [
    {
     "data": {
      "text/plain": [
       "(array([  1,  18,  60,  97, 104], dtype=int64),)"
      ]
     },
     "execution_count": 100,
     "metadata": {},
     "output_type": "execute_result"
    }
   ],
   "source": [
    "# Incorrect predictions\n",
    "\n",
    "incorrects = np.nonzero(prediction_cplx.reshape((-1,)) != y_test)\n",
    "incorrects"
   ]
  },
  {
   "cell_type": "markdown",
   "id": "2b2f3dcb",
   "metadata": {},
   "source": [
    "**________________________________________**"
   ]
  },
  {
   "cell_type": "markdown",
   "id": "41452e18",
   "metadata": {},
   "source": [
    "### Save the best model\n",
    "#### Pickle"
   ]
  },
  {
   "cell_type": "code",
   "execution_count": 45,
   "id": "3044b309",
   "metadata": {},
   "outputs": [
    {
     "name": "stdout",
     "output_type": "stream",
     "text": [
      "ERROR! Session/line number was not unique in database. History logging moved to new session 3187\n"
     ]
    }
   ],
   "source": [
    "# Best performer, stacked random forest and xgboost models\n",
    "\n",
    "filename = 'Heart_Dis_stacked.pkl'\n",
    "pickle.dump(stack, open(filename,'wb'))"
   ]
  },
  {
   "cell_type": "markdown",
   "id": "7d08ba75",
   "metadata": {},
   "source": [
    "### Test saved model"
   ]
  },
  {
   "cell_type": "code",
   "execution_count": 128,
   "id": "307ad54d",
   "metadata": {},
   "outputs": [
    {
     "name": "stdout",
     "output_type": "stream",
     "text": [
      "Class: {0: 'No Heart Disease', 1: 'Heart Disease'}\n",
      "\n",
      "The class probabilites are: [[0.97723165 0.02276835]]\n",
      "\n",
      "The sample prediction is class: [0]\n"
     ]
    },
    {
     "data": {
      "text/html": [
       "<div>\n",
       "<style scoped>\n",
       "    .dataframe tbody tr th:only-of-type {\n",
       "        vertical-align: middle;\n",
       "    }\n",
       "\n",
       "    .dataframe tbody tr th {\n",
       "        vertical-align: top;\n",
       "    }\n",
       "\n",
       "    .dataframe thead th {\n",
       "        text-align: right;\n",
       "    }\n",
       "</style>\n",
       "<table border=\"1\" class=\"dataframe\">\n",
       "  <thead>\n",
       "    <tr style=\"text-align: right;\">\n",
       "      <th></th>\n",
       "      <th>No heart disease</th>\n",
       "      <th>Heart disease</th>\n",
       "      <th>Predicted class</th>\n",
       "    </tr>\n",
       "  </thead>\n",
       "  <tbody>\n",
       "    <tr>\n",
       "      <th>0</th>\n",
       "      <td>0.030</td>\n",
       "      <td>0.970</td>\n",
       "      <td>1</td>\n",
       "    </tr>\n",
       "    <tr>\n",
       "      <th>1</th>\n",
       "      <td>0.719</td>\n",
       "      <td>0.281</td>\n",
       "      <td>0</td>\n",
       "    </tr>\n",
       "    <tr>\n",
       "      <th>2</th>\n",
       "      <td>0.977</td>\n",
       "      <td>0.023</td>\n",
       "      <td>0</td>\n",
       "    </tr>\n",
       "    <tr>\n",
       "      <th>3</th>\n",
       "      <td>0.041</td>\n",
       "      <td>0.959</td>\n",
       "      <td>1</td>\n",
       "    </tr>\n",
       "    <tr>\n",
       "      <th>4</th>\n",
       "      <td>0.041</td>\n",
       "      <td>0.959</td>\n",
       "      <td>1</td>\n",
       "    </tr>\n",
       "  </tbody>\n",
       "</table>\n",
       "</div>"
      ],
      "text/plain": [
       "   No heart disease  Heart disease  Predicted class\n",
       "0             0.030          0.970                1\n",
       "1             0.719          0.281                0\n",
       "2             0.977          0.023                0\n",
       "3             0.041          0.959                1\n",
       "4             0.041          0.959                1"
      ]
     },
     "execution_count": 128,
     "metadata": {},
     "output_type": "execute_result"
    }
   ],
   "source": [
    "# Sanity Check\n",
    "# Load model\n",
    "Hrt_prd = pickle.load(open(filename,'rb'))\n",
    "\n",
    "# Make a prediction\n",
    "print('Class:',class_label)\n",
    "print()\n",
    "print('The class probabilites are:', Hrt_prd.predict_proba(X_test[2:3]))\n",
    "print()\n",
    "print('The sample prediction is class:', Hrt_prd.predict(X_test[2:3]))\n",
    "predictions_df.head()"
   ]
  },
  {
   "cell_type": "code",
   "execution_count": 133,
   "id": "82e76025",
   "metadata": {
    "scrolled": true
   },
   "outputs": [
    {
     "data": {
      "text/plain": [
       "(array([  1,  18,  60,  97, 104], dtype=int64),)"
      ]
     },
     "execution_count": 133,
     "metadata": {},
     "output_type": "execute_result"
    }
   ],
   "source": [
    "# Incorrect predictions\n",
    "\n",
    "incorrects = np.nonzero(prediction_cplx.reshape((-1,)) != y_test)\n",
    "incorrects"
   ]
  },
  {
   "cell_type": "markdown",
   "id": "f2a989a1",
   "metadata": {},
   "source": [
    "**________________**"
   ]
  },
  {
   "cell_type": "markdown",
   "id": "7253570f",
   "metadata": {},
   "source": [
    "# Testing a saved model on unseen data"
   ]
  },
  {
   "cell_type": "markdown",
   "id": "c0077e53",
   "metadata": {},
   "source": [
    "Use a saved model to predict on unseen data. The data is ceated using Faker, a Python package to generate fake data. \n",
    "\n",
    "Fake data can be created using pandas as well."
   ]
  },
  {
   "cell_type": "markdown",
   "id": "47a0e8fb",
   "metadata": {},
   "source": [
    "# Unseen data"
   ]
  },
  {
   "cell_type": "markdown",
   "id": "6583b3fa",
   "metadata": {},
   "source": [
    "### Data created using FAKER"
   ]
  },
  {
   "cell_type": "code",
   "execution_count": 183,
   "id": "d351b486",
   "metadata": {},
   "outputs": [],
   "source": [
    "# Can create a patient with test results in line with known target from dataset\n",
    "# For creating fake data, ie a fake patient/patients for testing a model use faker or pandas\n",
    "\n",
    "import faker\n",
    "from faker import Faker\n",
    "import csv\n",
    "\n",
    "output = open('patient.csv','w')\n",
    "fake=Faker()\n",
    "header=['age','sex','chest_pain_type','rest_bp',\n",
    "        'cholesterol','fbs', 'restecg','thalach',\n",
    "        'exang','oldpeak','slope','ca','thal']\n",
    "\n",
    "mywriter=csv.writer(output)\n",
    "mywriter.writerow(header)\n",
    "for r in range(10): \n",
    "    mywriter.writerow([fake.random_int(min=29,max=79),\n",
    "                       fake.random_int(min=0,max=1,step=1),\n",
    "                       fake.random_int(min=0,max=3),\n",
    "                       fake.random_int(min=120,max=180,step=1),\n",
    "                       fake.random_int(min=121,max=245),\n",
    "                       fake.random_int(min=0,max=1,step=1),\n",
    "                       fake.random_int(min=0,max=1,step=1),\n",
    "                       fake.random_int(min=71,max=202,step=1),\n",
    "                       fake.random_int(min=0,max=1),\n",
    "                       fake.pydecimal(left_digits=1,right_digits=1,min_value=0,max_value=6),\n",
    "                       fake.random_int(min=0,max=2,step=1),\n",
    "                       fake.random_int(min=0,max=3,step=1),\n",
    "                       fake.random_int(min=0,max=3,step=1)])\n",
    "    #output.close()\n",
    "    "
   ]
  },
  {
   "cell_type": "code",
   "execution_count": 184,
   "id": "d9566dd2",
   "metadata": {
    "scrolled": true
   },
   "outputs": [
    {
     "name": "stdout",
     "output_type": "stream",
     "text": [
      "Fake dataset shape: (10, 13)\n"
     ]
    },
    {
     "data": {
      "text/html": [
       "<div>\n",
       "<style scoped>\n",
       "    .dataframe tbody tr th:only-of-type {\n",
       "        vertical-align: middle;\n",
       "    }\n",
       "\n",
       "    .dataframe tbody tr th {\n",
       "        vertical-align: top;\n",
       "    }\n",
       "\n",
       "    .dataframe thead th {\n",
       "        text-align: right;\n",
       "    }\n",
       "</style>\n",
       "<table border=\"1\" class=\"dataframe\">\n",
       "  <thead>\n",
       "    <tr style=\"text-align: right;\">\n",
       "      <th></th>\n",
       "      <th>age</th>\n",
       "      <th>sex</th>\n",
       "      <th>chest_pain_type</th>\n",
       "      <th>rest_bp</th>\n",
       "      <th>cholesterol</th>\n",
       "      <th>fbs</th>\n",
       "      <th>restecg</th>\n",
       "      <th>thalach</th>\n",
       "      <th>exang</th>\n",
       "      <th>oldpeak</th>\n",
       "      <th>slope</th>\n",
       "      <th>ca</th>\n",
       "      <th>thal</th>\n",
       "    </tr>\n",
       "  </thead>\n",
       "  <tbody>\n",
       "    <tr>\n",
       "      <th>0</th>\n",
       "      <td>41</td>\n",
       "      <td>1</td>\n",
       "      <td>0</td>\n",
       "      <td>155</td>\n",
       "      <td>236</td>\n",
       "      <td>1</td>\n",
       "      <td>1</td>\n",
       "      <td>128</td>\n",
       "      <td>1</td>\n",
       "      <td>2.7</td>\n",
       "      <td>2</td>\n",
       "      <td>0</td>\n",
       "      <td>1</td>\n",
       "    </tr>\n",
       "    <tr>\n",
       "      <th>1</th>\n",
       "      <td>48</td>\n",
       "      <td>1</td>\n",
       "      <td>2</td>\n",
       "      <td>163</td>\n",
       "      <td>203</td>\n",
       "      <td>1</td>\n",
       "      <td>1</td>\n",
       "      <td>107</td>\n",
       "      <td>1</td>\n",
       "      <td>3.5</td>\n",
       "      <td>0</td>\n",
       "      <td>3</td>\n",
       "      <td>1</td>\n",
       "    </tr>\n",
       "    <tr>\n",
       "      <th>2</th>\n",
       "      <td>43</td>\n",
       "      <td>0</td>\n",
       "      <td>0</td>\n",
       "      <td>124</td>\n",
       "      <td>138</td>\n",
       "      <td>1</td>\n",
       "      <td>1</td>\n",
       "      <td>102</td>\n",
       "      <td>0</td>\n",
       "      <td>2.7</td>\n",
       "      <td>2</td>\n",
       "      <td>2</td>\n",
       "      <td>0</td>\n",
       "    </tr>\n",
       "    <tr>\n",
       "      <th>3</th>\n",
       "      <td>63</td>\n",
       "      <td>0</td>\n",
       "      <td>3</td>\n",
       "      <td>148</td>\n",
       "      <td>131</td>\n",
       "      <td>1</td>\n",
       "      <td>0</td>\n",
       "      <td>113</td>\n",
       "      <td>0</td>\n",
       "      <td>2.5</td>\n",
       "      <td>1</td>\n",
       "      <td>1</td>\n",
       "      <td>2</td>\n",
       "    </tr>\n",
       "    <tr>\n",
       "      <th>4</th>\n",
       "      <td>42</td>\n",
       "      <td>1</td>\n",
       "      <td>2</td>\n",
       "      <td>134</td>\n",
       "      <td>195</td>\n",
       "      <td>1</td>\n",
       "      <td>1</td>\n",
       "      <td>80</td>\n",
       "      <td>1</td>\n",
       "      <td>3.1</td>\n",
       "      <td>0</td>\n",
       "      <td>2</td>\n",
       "      <td>3</td>\n",
       "    </tr>\n",
       "    <tr>\n",
       "      <th>5</th>\n",
       "      <td>44</td>\n",
       "      <td>0</td>\n",
       "      <td>0</td>\n",
       "      <td>142</td>\n",
       "      <td>203</td>\n",
       "      <td>1</td>\n",
       "      <td>0</td>\n",
       "      <td>169</td>\n",
       "      <td>1</td>\n",
       "      <td>2.3</td>\n",
       "      <td>0</td>\n",
       "      <td>1</td>\n",
       "      <td>3</td>\n",
       "    </tr>\n",
       "    <tr>\n",
       "      <th>6</th>\n",
       "      <td>73</td>\n",
       "      <td>0</td>\n",
       "      <td>3</td>\n",
       "      <td>164</td>\n",
       "      <td>129</td>\n",
       "      <td>0</td>\n",
       "      <td>1</td>\n",
       "      <td>98</td>\n",
       "      <td>0</td>\n",
       "      <td>3.8</td>\n",
       "      <td>2</td>\n",
       "      <td>2</td>\n",
       "      <td>2</td>\n",
       "    </tr>\n",
       "    <tr>\n",
       "      <th>7</th>\n",
       "      <td>74</td>\n",
       "      <td>0</td>\n",
       "      <td>3</td>\n",
       "      <td>179</td>\n",
       "      <td>145</td>\n",
       "      <td>0</td>\n",
       "      <td>0</td>\n",
       "      <td>128</td>\n",
       "      <td>0</td>\n",
       "      <td>2.0</td>\n",
       "      <td>1</td>\n",
       "      <td>2</td>\n",
       "      <td>1</td>\n",
       "    </tr>\n",
       "    <tr>\n",
       "      <th>8</th>\n",
       "      <td>37</td>\n",
       "      <td>0</td>\n",
       "      <td>0</td>\n",
       "      <td>177</td>\n",
       "      <td>139</td>\n",
       "      <td>1</td>\n",
       "      <td>1</td>\n",
       "      <td>79</td>\n",
       "      <td>1</td>\n",
       "      <td>4.9</td>\n",
       "      <td>1</td>\n",
       "      <td>0</td>\n",
       "      <td>0</td>\n",
       "    </tr>\n",
       "    <tr>\n",
       "      <th>9</th>\n",
       "      <td>56</td>\n",
       "      <td>1</td>\n",
       "      <td>2</td>\n",
       "      <td>148</td>\n",
       "      <td>177</td>\n",
       "      <td>1</td>\n",
       "      <td>1</td>\n",
       "      <td>75</td>\n",
       "      <td>0</td>\n",
       "      <td>4.0</td>\n",
       "      <td>1</td>\n",
       "      <td>2</td>\n",
       "      <td>2</td>\n",
       "    </tr>\n",
       "  </tbody>\n",
       "</table>\n",
       "</div>"
      ],
      "text/plain": [
       "   age  sex  chest_pain_type  rest_bp  cholesterol  fbs  restecg  thalach  \\\n",
       "0   41    1                0      155          236    1        1      128   \n",
       "1   48    1                2      163          203    1        1      107   \n",
       "2   43    0                0      124          138    1        1      102   \n",
       "3   63    0                3      148          131    1        0      113   \n",
       "4   42    1                2      134          195    1        1       80   \n",
       "5   44    0                0      142          203    1        0      169   \n",
       "6   73    0                3      164          129    0        1       98   \n",
       "7   74    0                3      179          145    0        0      128   \n",
       "8   37    0                0      177          139    1        1       79   \n",
       "9   56    1                2      148          177    1        1       75   \n",
       "\n",
       "   exang  oldpeak  slope  ca  thal  \n",
       "0      1      2.7      2   0     1  \n",
       "1      1      3.5      0   3     1  \n",
       "2      0      2.7      2   2     0  \n",
       "3      0      2.5      1   1     2  \n",
       "4      1      3.1      0   2     3  \n",
       "5      1      2.3      0   1     3  \n",
       "6      0      3.8      2   2     2  \n",
       "7      0      2.0      1   2     1  \n",
       "8      1      4.9      1   0     0  \n",
       "9      0      4.0      1   2     2  "
      ]
     },
     "execution_count": 184,
     "metadata": {},
     "output_type": "execute_result"
    }
   ],
   "source": [
    "# Faker dataset\n",
    "\n",
    "new_patients = pd.read_csv('patient.csv')\n",
    "print('Fake dataset shape:',new_patients.shape)\n",
    "new_patients "
   ]
  },
  {
   "cell_type": "markdown",
   "id": "9478b309",
   "metadata": {},
   "source": [
    "### Encoding the Faker dataset"
   ]
  },
  {
   "cell_type": "code",
   "execution_count": 185,
   "id": "30f4d7e3",
   "metadata": {},
   "outputs": [],
   "source": [
    "# Encoding for Faker dataset\n",
    "\n",
    "def onehot_encode(df, column_dict):\n",
    "    df = new_patient.copy()\n",
    "    for column, prefix in column_dict.items():\n",
    "        dummies = pd.get_dummies(df[column], prefix=prefix)\n",
    "        df = pd.concat([df, dummies], axis=1)\n",
    "        df = df.drop(column, axis=1)\n",
    "        \n",
    "    return df\n",
    "\n",
    "\n",
    "# Encoding the data\n",
    "def preprocess_inputs(df): #, scaler\n",
    "    df = new_patients.copy()\n",
    "    \n",
    "    # One-hot encode the nominal features\n",
    "    nominal_features = ['chest_pain_type', 'slope','exang']\n",
    "    df = onehot_encode(df, dict(zip(nominal_features, ['CP', 'SL','EXG'])))\n",
    "    \n",
    "    return df"
   ]
  },
  {
   "cell_type": "code",
   "execution_count": 186,
   "id": "1bf5c3eb",
   "metadata": {
    "scrolled": true
   },
   "outputs": [
    {
     "name": "stdout",
     "output_type": "stream",
     "text": [
      "(10, 19)\n"
     ]
    },
    {
     "data": {
      "text/html": [
       "<div>\n",
       "<style scoped>\n",
       "    .dataframe tbody tr th:only-of-type {\n",
       "        vertical-align: middle;\n",
       "    }\n",
       "\n",
       "    .dataframe tbody tr th {\n",
       "        vertical-align: top;\n",
       "    }\n",
       "\n",
       "    .dataframe thead th {\n",
       "        text-align: right;\n",
       "    }\n",
       "</style>\n",
       "<table border=\"1\" class=\"dataframe\">\n",
       "  <thead>\n",
       "    <tr style=\"text-align: right;\">\n",
       "      <th></th>\n",
       "      <th>age</th>\n",
       "      <th>sex</th>\n",
       "      <th>rest_bp</th>\n",
       "      <th>cholesterol</th>\n",
       "      <th>fbs</th>\n",
       "      <th>restecg</th>\n",
       "      <th>thalach</th>\n",
       "      <th>oldpeak</th>\n",
       "      <th>ca</th>\n",
       "      <th>thal</th>\n",
       "      <th>CP_0</th>\n",
       "      <th>CP_1</th>\n",
       "      <th>CP_2</th>\n",
       "      <th>CP_3</th>\n",
       "      <th>SL_0</th>\n",
       "      <th>SL_1</th>\n",
       "      <th>SL_2</th>\n",
       "      <th>EXG_0</th>\n",
       "      <th>EXG_1</th>\n",
       "    </tr>\n",
       "  </thead>\n",
       "  <tbody>\n",
       "    <tr>\n",
       "      <th>0</th>\n",
       "      <td>46</td>\n",
       "      <td>1</td>\n",
       "      <td>168</td>\n",
       "      <td>163</td>\n",
       "      <td>0</td>\n",
       "      <td>0</td>\n",
       "      <td>106</td>\n",
       "      <td>4.3</td>\n",
       "      <td>3</td>\n",
       "      <td>1</td>\n",
       "      <td>0</td>\n",
       "      <td>1</td>\n",
       "      <td>0</td>\n",
       "      <td>0</td>\n",
       "      <td>0</td>\n",
       "      <td>0</td>\n",
       "      <td>1</td>\n",
       "      <td>0</td>\n",
       "      <td>1</td>\n",
       "    </tr>\n",
       "    <tr>\n",
       "      <th>1</th>\n",
       "      <td>37</td>\n",
       "      <td>1</td>\n",
       "      <td>167</td>\n",
       "      <td>231</td>\n",
       "      <td>1</td>\n",
       "      <td>1</td>\n",
       "      <td>190</td>\n",
       "      <td>4.4</td>\n",
       "      <td>1</td>\n",
       "      <td>0</td>\n",
       "      <td>1</td>\n",
       "      <td>0</td>\n",
       "      <td>0</td>\n",
       "      <td>0</td>\n",
       "      <td>1</td>\n",
       "      <td>0</td>\n",
       "      <td>0</td>\n",
       "      <td>0</td>\n",
       "      <td>1</td>\n",
       "    </tr>\n",
       "    <tr>\n",
       "      <th>2</th>\n",
       "      <td>31</td>\n",
       "      <td>1</td>\n",
       "      <td>172</td>\n",
       "      <td>123</td>\n",
       "      <td>0</td>\n",
       "      <td>0</td>\n",
       "      <td>187</td>\n",
       "      <td>0.3</td>\n",
       "      <td>0</td>\n",
       "      <td>3</td>\n",
       "      <td>0</td>\n",
       "      <td>1</td>\n",
       "      <td>0</td>\n",
       "      <td>0</td>\n",
       "      <td>0</td>\n",
       "      <td>0</td>\n",
       "      <td>1</td>\n",
       "      <td>0</td>\n",
       "      <td>1</td>\n",
       "    </tr>\n",
       "    <tr>\n",
       "      <th>3</th>\n",
       "      <td>72</td>\n",
       "      <td>0</td>\n",
       "      <td>179</td>\n",
       "      <td>231</td>\n",
       "      <td>0</td>\n",
       "      <td>0</td>\n",
       "      <td>189</td>\n",
       "      <td>0.7</td>\n",
       "      <td>3</td>\n",
       "      <td>2</td>\n",
       "      <td>0</td>\n",
       "      <td>0</td>\n",
       "      <td>1</td>\n",
       "      <td>0</td>\n",
       "      <td>0</td>\n",
       "      <td>1</td>\n",
       "      <td>0</td>\n",
       "      <td>1</td>\n",
       "      <td>0</td>\n",
       "    </tr>\n",
       "    <tr>\n",
       "      <th>4</th>\n",
       "      <td>77</td>\n",
       "      <td>0</td>\n",
       "      <td>176</td>\n",
       "      <td>150</td>\n",
       "      <td>1</td>\n",
       "      <td>1</td>\n",
       "      <td>170</td>\n",
       "      <td>2.4</td>\n",
       "      <td>1</td>\n",
       "      <td>1</td>\n",
       "      <td>1</td>\n",
       "      <td>0</td>\n",
       "      <td>0</td>\n",
       "      <td>0</td>\n",
       "      <td>0</td>\n",
       "      <td>0</td>\n",
       "      <td>1</td>\n",
       "      <td>0</td>\n",
       "      <td>1</td>\n",
       "    </tr>\n",
       "    <tr>\n",
       "      <th>5</th>\n",
       "      <td>68</td>\n",
       "      <td>0</td>\n",
       "      <td>135</td>\n",
       "      <td>161</td>\n",
       "      <td>1</td>\n",
       "      <td>0</td>\n",
       "      <td>117</td>\n",
       "      <td>5.4</td>\n",
       "      <td>0</td>\n",
       "      <td>1</td>\n",
       "      <td>0</td>\n",
       "      <td>0</td>\n",
       "      <td>1</td>\n",
       "      <td>0</td>\n",
       "      <td>0</td>\n",
       "      <td>0</td>\n",
       "      <td>1</td>\n",
       "      <td>1</td>\n",
       "      <td>0</td>\n",
       "    </tr>\n",
       "    <tr>\n",
       "      <th>6</th>\n",
       "      <td>64</td>\n",
       "      <td>1</td>\n",
       "      <td>140</td>\n",
       "      <td>223</td>\n",
       "      <td>0</td>\n",
       "      <td>0</td>\n",
       "      <td>120</td>\n",
       "      <td>5.3</td>\n",
       "      <td>0</td>\n",
       "      <td>0</td>\n",
       "      <td>0</td>\n",
       "      <td>1</td>\n",
       "      <td>0</td>\n",
       "      <td>0</td>\n",
       "      <td>0</td>\n",
       "      <td>0</td>\n",
       "      <td>1</td>\n",
       "      <td>0</td>\n",
       "      <td>1</td>\n",
       "    </tr>\n",
       "    <tr>\n",
       "      <th>7</th>\n",
       "      <td>40</td>\n",
       "      <td>1</td>\n",
       "      <td>168</td>\n",
       "      <td>162</td>\n",
       "      <td>0</td>\n",
       "      <td>1</td>\n",
       "      <td>177</td>\n",
       "      <td>2.4</td>\n",
       "      <td>3</td>\n",
       "      <td>1</td>\n",
       "      <td>0</td>\n",
       "      <td>0</td>\n",
       "      <td>1</td>\n",
       "      <td>0</td>\n",
       "      <td>1</td>\n",
       "      <td>0</td>\n",
       "      <td>0</td>\n",
       "      <td>0</td>\n",
       "      <td>1</td>\n",
       "    </tr>\n",
       "    <tr>\n",
       "      <th>8</th>\n",
       "      <td>31</td>\n",
       "      <td>1</td>\n",
       "      <td>141</td>\n",
       "      <td>159</td>\n",
       "      <td>1</td>\n",
       "      <td>1</td>\n",
       "      <td>137</td>\n",
       "      <td>0.9</td>\n",
       "      <td>2</td>\n",
       "      <td>0</td>\n",
       "      <td>0</td>\n",
       "      <td>1</td>\n",
       "      <td>0</td>\n",
       "      <td>0</td>\n",
       "      <td>0</td>\n",
       "      <td>0</td>\n",
       "      <td>1</td>\n",
       "      <td>0</td>\n",
       "      <td>1</td>\n",
       "    </tr>\n",
       "    <tr>\n",
       "      <th>9</th>\n",
       "      <td>64</td>\n",
       "      <td>0</td>\n",
       "      <td>169</td>\n",
       "      <td>160</td>\n",
       "      <td>1</td>\n",
       "      <td>0</td>\n",
       "      <td>77</td>\n",
       "      <td>0.8</td>\n",
       "      <td>0</td>\n",
       "      <td>0</td>\n",
       "      <td>0</td>\n",
       "      <td>0</td>\n",
       "      <td>0</td>\n",
       "      <td>1</td>\n",
       "      <td>1</td>\n",
       "      <td>0</td>\n",
       "      <td>0</td>\n",
       "      <td>0</td>\n",
       "      <td>1</td>\n",
       "    </tr>\n",
       "  </tbody>\n",
       "</table>\n",
       "</div>"
      ],
      "text/plain": [
       "   age  sex  rest_bp  cholesterol  fbs  restecg  thalach  oldpeak  ca  thal  \\\n",
       "0   46    1      168          163    0        0      106      4.3   3     1   \n",
       "1   37    1      167          231    1        1      190      4.4   1     0   \n",
       "2   31    1      172          123    0        0      187      0.3   0     3   \n",
       "3   72    0      179          231    0        0      189      0.7   3     2   \n",
       "4   77    0      176          150    1        1      170      2.4   1     1   \n",
       "5   68    0      135          161    1        0      117      5.4   0     1   \n",
       "6   64    1      140          223    0        0      120      5.3   0     0   \n",
       "7   40    1      168          162    0        1      177      2.4   3     1   \n",
       "8   31    1      141          159    1        1      137      0.9   2     0   \n",
       "9   64    0      169          160    1        0       77      0.8   0     0   \n",
       "\n",
       "   CP_0  CP_1  CP_2  CP_3  SL_0  SL_1  SL_2  EXG_0  EXG_1  \n",
       "0     0     1     0     0     0     0     1      0      1  \n",
       "1     1     0     0     0     1     0     0      0      1  \n",
       "2     0     1     0     0     0     0     1      0      1  \n",
       "3     0     0     1     0     0     1     0      1      0  \n",
       "4     1     0     0     0     0     0     1      0      1  \n",
       "5     0     0     1     0     0     0     1      1      0  \n",
       "6     0     1     0     0     0     0     1      0      1  \n",
       "7     0     0     1     0     1     0     0      0      1  \n",
       "8     0     1     0     0     0     0     1      0      1  \n",
       "9     0     0     0     1     1     0     0      0      1  "
      ]
     },
     "execution_count": 186,
     "metadata": {},
     "output_type": "execute_result"
    }
   ],
   "source": [
    "# Check Encoded features \n",
    "patient = preprocess_inputs(new_patient)\n",
    "print(patient.shape)\n",
    "patient"
   ]
  },
  {
   "cell_type": "markdown",
   "id": "e816ea56",
   "metadata": {},
   "source": [
    "### Classes and Probabilities"
   ]
  },
  {
   "cell_type": "code",
   "execution_count": 187,
   "id": "05dfc229",
   "metadata": {},
   "outputs": [
    {
     "data": {
      "text/html": [
       "<div>\n",
       "<style scoped>\n",
       "    .dataframe tbody tr th:only-of-type {\n",
       "        vertical-align: middle;\n",
       "    }\n",
       "\n",
       "    .dataframe tbody tr th {\n",
       "        vertical-align: top;\n",
       "    }\n",
       "\n",
       "    .dataframe thead th {\n",
       "        text-align: right;\n",
       "    }\n",
       "</style>\n",
       "<table border=\"1\" class=\"dataframe\">\n",
       "  <thead>\n",
       "    <tr style=\"text-align: right;\">\n",
       "      <th></th>\n",
       "      <th>No heart disease</th>\n",
       "      <th>Heart disease</th>\n",
       "      <th>Predicted class</th>\n",
       "    </tr>\n",
       "  </thead>\n",
       "  <tbody>\n",
       "    <tr>\n",
       "      <th>0</th>\n",
       "      <td>0.301</td>\n",
       "      <td>0.699</td>\n",
       "      <td>1</td>\n",
       "    </tr>\n",
       "    <tr>\n",
       "      <th>1</th>\n",
       "      <td>0.727</td>\n",
       "      <td>0.273</td>\n",
       "      <td>0</td>\n",
       "    </tr>\n",
       "    <tr>\n",
       "      <th>2</th>\n",
       "      <td>0.586</td>\n",
       "      <td>0.414</td>\n",
       "      <td>0</td>\n",
       "    </tr>\n",
       "    <tr>\n",
       "      <th>3</th>\n",
       "      <td>0.046</td>\n",
       "      <td>0.954</td>\n",
       "      <td>1</td>\n",
       "    </tr>\n",
       "    <tr>\n",
       "      <th>4</th>\n",
       "      <td>0.829</td>\n",
       "      <td>0.171</td>\n",
       "      <td>0</td>\n",
       "    </tr>\n",
       "  </tbody>\n",
       "</table>\n",
       "</div>"
      ],
      "text/plain": [
       "   No heart disease  Heart disease  Predicted class\n",
       "0             0.301          0.699                1\n",
       "1             0.727          0.273                0\n",
       "2             0.586          0.414                0\n",
       "3             0.046          0.954                1\n",
       "4             0.829          0.171                0"
      ]
     },
     "execution_count": 187,
     "metadata": {},
     "output_type": "execute_result"
    }
   ],
   "source": [
    "# Classes and Probabilities\n",
    "\n",
    "prediction_probability = Hrt_prd.predict_proba(patient)\n",
    "prediction_cplx = Hrt_prd.predict(patient)\n",
    "\n",
    "class_df = pd.DataFrame(prediction_cplx.round(3),columns=['Predicted class'])\n",
    "proba_df = pd.DataFrame(prediction_probability.round(3),columns=['No heart disease','Heart disease'])\n",
    "\n",
    "#pred_list = pd.concat(['frame','target_rs'],axis= 1)\n",
    "\n",
    "\n",
    "patient_df = pd.concat([proba_df,class_df ], axis=1)\n",
    "patient_df.head()"
   ]
  },
  {
   "cell_type": "markdown",
   "id": "53ce89c9",
   "metadata": {},
   "source": [
    "### Load model and test on fake data"
   ]
  },
  {
   "cell_type": "code",
   "execution_count": 188,
   "id": "3978d112",
   "metadata": {},
   "outputs": [
    {
     "name": "stdout",
     "output_type": "stream",
     "text": [
      "Class: {0: 'No Heart Disease', 1: 'Heart Disease'}\n",
      "\n",
      "The class probabilites are: [[0.72717942 0.27282058]]\n",
      "\n",
      "The sample prediction is class: [0]\n"
     ]
    },
    {
     "data": {
      "text/html": [
       "<div>\n",
       "<style scoped>\n",
       "    .dataframe tbody tr th:only-of-type {\n",
       "        vertical-align: middle;\n",
       "    }\n",
       "\n",
       "    .dataframe tbody tr th {\n",
       "        vertical-align: top;\n",
       "    }\n",
       "\n",
       "    .dataframe thead th {\n",
       "        text-align: right;\n",
       "    }\n",
       "</style>\n",
       "<table border=\"1\" class=\"dataframe\">\n",
       "  <thead>\n",
       "    <tr style=\"text-align: right;\">\n",
       "      <th></th>\n",
       "      <th>No heart disease</th>\n",
       "      <th>Heart disease</th>\n",
       "      <th>Predicted class</th>\n",
       "    </tr>\n",
       "  </thead>\n",
       "  <tbody>\n",
       "    <tr>\n",
       "      <th>0</th>\n",
       "      <td>0.301</td>\n",
       "      <td>0.699</td>\n",
       "      <td>1</td>\n",
       "    </tr>\n",
       "    <tr>\n",
       "      <th>1</th>\n",
       "      <td>0.727</td>\n",
       "      <td>0.273</td>\n",
       "      <td>0</td>\n",
       "    </tr>\n",
       "    <tr>\n",
       "      <th>2</th>\n",
       "      <td>0.586</td>\n",
       "      <td>0.414</td>\n",
       "      <td>0</td>\n",
       "    </tr>\n",
       "    <tr>\n",
       "      <th>3</th>\n",
       "      <td>0.046</td>\n",
       "      <td>0.954</td>\n",
       "      <td>1</td>\n",
       "    </tr>\n",
       "    <tr>\n",
       "      <th>4</th>\n",
       "      <td>0.829</td>\n",
       "      <td>0.171</td>\n",
       "      <td>0</td>\n",
       "    </tr>\n",
       "  </tbody>\n",
       "</table>\n",
       "</div>"
      ],
      "text/plain": [
       "   No heart disease  Heart disease  Predicted class\n",
       "0             0.301          0.699                1\n",
       "1             0.727          0.273                0\n",
       "2             0.586          0.414                0\n",
       "3             0.046          0.954                1\n",
       "4             0.829          0.171                0"
      ]
     },
     "execution_count": 188,
     "metadata": {},
     "output_type": "execute_result"
    }
   ],
   "source": [
    "# Make a prediction\n",
    "\n",
    "Hrt_prd = pickle.load(open(filename,'rb'))\n",
    "\n",
    "print('Class:',class_label)\n",
    "print()\n",
    "print('The class probabilites are:', Hrt_prd.predict_proba(patient[1:2]))\n",
    "print()\n",
    "print('The sample prediction is class:', Hrt_prd.predict(patient[1:2]))\n",
    "patient_df.head()"
   ]
  },
  {
   "cell_type": "code",
   "execution_count": null,
   "id": "552e4322",
   "metadata": {},
   "outputs": [],
   "source": []
  },
  {
   "cell_type": "code",
   "execution_count": null,
   "id": "20141085",
   "metadata": {},
   "outputs": [],
   "source": []
  }
 ],
 "metadata": {
  "kernelspec": {
   "display_name": "Python 3",
   "language": "python",
   "name": "python3"
  },
  "language_info": {
   "codemirror_mode": {
    "name": "ipython",
    "version": 3
   },
   "file_extension": ".py",
   "mimetype": "text/x-python",
   "name": "python",
   "nbconvert_exporter": "python",
   "pygments_lexer": "ipython3",
   "version": "3.8.8"
  }
 },
 "nbformat": 4,
 "nbformat_minor": 5
}
